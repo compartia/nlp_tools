{
  "nbformat": 4,
  "nbformat_minor": 0,
  "metadata": {
    "colab": {
      "name": "2 test demo no UI.ipynb",
      "version": "0.3.2",
      "provenance": [],
      "collapsed_sections": [],
      "toc_visible": true
    },
    "kernelspec": {
      "name": "python3",
      "display_name": "Python 3"
    },
    "accelerator": "GPU"
  },
  "cells": [
    {
      "metadata": {
        "id": "vXHjbkIfc8Ws",
        "colab_type": "code",
        "colab": {}
      },
      "cell_type": "code",
      "source": [
        "GLOBALS__={}"
      ],
      "execution_count": 0,
      "outputs": []
    },
    {
      "metadata": {
        "id": "zGPbyfYp6nIq",
        "colab_type": "code",
        "colab": {
          "base_uri": "https://localhost:8080/",
          "height": 34
        },
        "outputId": "0502c59c-8ff4-4ce1-f9d5-3557cbe60898"
      },
      "cell_type": "code",
      "source": [
        "#@title Настройки { run: \"auto\", vertical-output: true, display-mode: \"form\" }\n",
        "USD_to_RUB = 65 #@param {type:\"number\"}\n",
        "RUB_to_USD = 1.0/USD_to_RUB\n",
        "\n",
        "# print('USD_to_RUB=',USD_to_RUB)\n",
        "# print('RUB_to_USD=',RUB_to_USD)\n",
        "\n",
        "\n",
        "\n",
        "currency_converter = {\n",
        "  'USD': USD_to_RUB,\n",
        "  'RUB': 1.0\n",
        "}\n",
        "\n",
        "print(currency_converter)"
      ],
      "execution_count": 2,
      "outputs": [
        {
          "output_type": "stream",
          "text": [
            "{'USD': 65, 'RUB': 1.0}\n"
          ],
          "name": "stdout"
        }
      ]
    },
    {
      "metadata": {
        "id": "nwpPPXqRQs6-",
        "colab_type": "text"
      },
      "cell_type": "markdown",
      "source": [
        "#MAIN"
      ]
    },
    {
      "metadata": {
        "id": "-2Oe-BsTcCIW",
        "colab_type": "code",
        "colab": {}
      },
      "cell_type": "code",
      "source": [
        "# @title Обработка документов { output-height: 800, form-width: \"300px\", display-mode: \"form\" }\n",
        "\n",
        "\n",
        "import os\n",
        "import sys\n",
        "\n",
        "\n",
        "def interactive_upload(filetype):\n",
        "  from google.colab import files\n",
        "  import docx2txt\n",
        "\n",
        "  print(f'Please select \"{filetype}\" .docx file:')\n",
        "  uploaded = files.upload()\n",
        "  docs = []\n",
        "  for fn in uploaded.keys():\n",
        "    print('User uploaded file \"{name}\" with length {length} bytes'.format(\n",
        "      name=fn, length=len(uploaded[fn])))\n",
        "\n",
        "    with open(fn, \"wb\") as df:\n",
        "      df.write(uploaded[fn])\n",
        "      df.close()\n",
        "\n",
        "    # extract text\n",
        "\n",
        "    text = ''\n",
        "    try:\n",
        "      text = docx2txt.process(fn)\n",
        "    except:\n",
        "      print(\"Unexpected error:\", sys.exc_info())\n",
        "      os.system('antiword -w 0 \"' + fn + '\" > \"' + fn + '.txt\"')\n",
        "      with open(fn + '.txt') as f:\n",
        "        text = f.read()\n",
        "    print(\"Символов в оригинальном документе:\", len(text))\n",
        "    docs.append(text)\n",
        "    return docs\n",
        "\n",
        "\n",
        "# ====================================\n",
        "# ====================================\n",
        "_git_branch = \"protocols-2\"  # @param {type:\"string\"}\n",
        "# ====================================\n",
        "# ====================================\n",
        "\n",
        "\n",
        "# ''' AZ:-IMPORT CODE GITHUB----------------------------------------------😺------ '''\n",
        "import sys\n",
        "\n",
        "\n",
        "def _init_import_code_from_gh():\n",
        "  if 'GLOBALS__' not in globals():\n",
        "    print('adding global GLOBALS__')\n",
        "    global GLOBALS__\n",
        "    GLOBALS__ = {}\n",
        "\n",
        "  if '_init_import_code_from_gh' in GLOBALS__:\n",
        "    print('👌 code already imported from GitHub!')\n",
        "    return\n",
        "\n",
        "  import subprocess\n",
        "  def exec(x):\n",
        "    r = subprocess.check_output(x, shell=True)\n",
        "    r = r.decode('unicode-escape').encode('latin1').decode('utf8')\n",
        "    print(r)\n",
        "\n",
        "  print(f\"fetching code from GitHub.....{_git_branch}\")\n",
        "  try:\n",
        "    exec('rm -r nlp_tools')\n",
        "  except:\n",
        "    pass\n",
        "  exec(f'git clone --single-branch --branch {_git_branch} https://github.com/compartia/nlp_tools.git nlp_tools')\n",
        "\n",
        "  print('🦊 GIT revision:')\n",
        "  exec('cd nlp_tools\\ngit rev-list --reverse HEAD | awk \"{ print NR }\" | tail -n 1\\ngit branch\\ngit log -3 --pretty=%B')\n",
        "\n",
        "  sys.path.insert(0, 'nlp_tools')\n",
        "\n",
        "  # self-test\n",
        "  from text_tools import untokenize\n",
        "  print(untokenize(['code', 'imported', 'OK 👍']))\n",
        "\n",
        "  print('installing antiword...')\n",
        "  exec('sudo apt-get install antiword')\n",
        "\n",
        "  print('installing docx2txt...')\n",
        "  exec(\"pip install docx2txt\")\n",
        "\n",
        "  GLOBALS__['_init_import_code_from_gh'] = True\n",
        "\n",
        "  ''' AZ:-------------------------------------------------IMPORT CODE GITHUB-😺---'''\n",
        "  print('❤️ DONE importing Code fro GitHub')\n",
        "\n",
        "\n",
        "# AZ:-INIT ELMO-----------------------------------------------------------------------------------\n",
        "\n",
        "import tensorflow as tf\n",
        "import tensorflow_hub as hub\n",
        "\n",
        "\n",
        "def _import_elmo():\n",
        "  \"\"\"\n",
        "  ACHTUNG!! this method is called later by ElmoEmbedder\n",
        "  \"\"\"\n",
        "\n",
        "  elmo = hub.Module('https://storage.googleapis.com/az-nlp/elmo_ru-news_wmt11-16_1.5M_steps.tar.gz',\n",
        "                    trainable=False)  # news\n",
        "  #   elmo = hub.Module('https://storage.googleapis.com/az-nlp/elmo_ru-twitter_2013-01_2018-04_600k_steps.tar.gz',\n",
        "  #                     trainable=False)  # twitter\n",
        "  print('❤️ ❤️ ❤️ DONE (re)importing Tensorflow hub.Module ')\n",
        "  print('Tensorflow version is', tf.__version__)\n",
        "\n",
        "  return elmo\n",
        "\n",
        "\n",
        "# AZ:-INIT EMBEDDER-----------------------------------------------------------------------------------\n",
        "\n",
        "def _init_embedder():\n",
        "  if 'elmo_embedder' in GLOBALS__:\n",
        "    print('👌 Embedder is already created! ')\n",
        "    return\n",
        "\n",
        "  from embedding_tools import ElmoEmbedder\n",
        "  GLOBALS__['elmo_embedder'] = ElmoEmbedder(_import_elmo(), tf, 'elmo', _import_elmo)\n",
        "\n",
        "  print('❤️ DONE creating words embedding model')\n",
        "  return GLOBALS__['elmo_embedder']\n",
        "\n",
        "\n",
        "# AZ:-Init chartes context-----------------------------------------------------------------------------------\n",
        "def _init_charters():\n",
        "  if 'CharterAnlysingContext' in GLOBALS__:\n",
        "    print('👌 Charters-related tools are already inited ')\n",
        "    return\n",
        "\n",
        "  _init_embedder()  # PRECONDITION\n",
        "  from charter_patterns import CharterPatternFactory\n",
        "  from charter_parser import CharterDocumentParser\n",
        "  CPF = CharterPatternFactory(GLOBALS__['elmo_embedder'])\n",
        "  GLOBALS__['CharterAnlysingContext'] = CharterDocumentParser(CPF)\n",
        "  print('❤️ DONE initing Charters-related tools and models ')\n",
        "\n",
        "\n",
        "def _init_contracts():\n",
        "  if 'ContractAnlysingContext' in GLOBALS__:\n",
        "    print('👌 Contracts-related tools are already inited ')\n",
        "    return\n",
        "\n",
        "  from contract_parser import ContractAnlysingContext\n",
        "  GLOBALS__['ContractAnlysingContext'] = ContractAnlysingContext(GLOBALS__['elmo_embedder'], GLOBALS__['renderer'])\n",
        "  print('❤️ DONE initing Contracts-related tools and models ')\n",
        "\n",
        "\n",
        "# AZ:- THE CODE----------------------------------------------------------------------------------\n",
        "from typing import List\n",
        "\n",
        "\n",
        "def _init_the_code(reset=False):\n",
        "  if '_init_the_code' in GLOBALS__ and not reset:\n",
        "    print('👌 Code is alredy imported!')\n",
        "    return\n",
        "\n",
        "  from transaction_values import ValueConstraint\n",
        "\n",
        "  import matplotlib as mpl\n",
        "  from IPython.core.display import display, HTML\n",
        "  import matplotlib.pyplot as plt\n",
        "  \n",
        "  from renderer import AbstractRenderer, HtmlRenderer, head_types_colors\n",
        "  from renderer import to_multicolor_text, as_headline_3, as_offset\n",
        "  from renderer import as_msg, as_quote, as_c_quote\n",
        "  from renderer import as_error_html, known_subjects_dict, v_color_map\n",
        "  from transaction_values import ValueConstraint\n",
        "  from parsing import head_types_dict, head_types\n",
        "  from legal_docs import PatternSearchResults, ConstraintsSearchResult, PatternSearchResult, CharterDocument\n",
        "  \n",
        "  import numpy as np\n",
        "  \n",
        "  from charter_patterns import known_subjects\n",
        "  from patterns import AV_SOFT, AV_PREFIX\n",
        "  from structures import ContractSubject\n",
        "  from contract_parser import ContractDocument3\n",
        "\n",
        "  def _as_smaller(txt):\n",
        "    return f'<div font-size:12px\">{txt}</div>'\n",
        " \n",
        "  \n",
        "      \n",
        "  class DemoRenderer(HtmlRenderer):\n",
        "\n",
        "    def render_color_text(self, tokens, weights, colormap='coolwarm', print_debug=False, _range=None):\n",
        "      print('render_color_text')\n",
        "      html = self.to_color_text(tokens, weights, colormap, print_debug, _range)\n",
        "      display(HTML(html))\n",
        "                \n",
        "\n",
        "    def to_color_text(self, tokens, weights, colormap='coolwarm', print_debug=False, _range=None):\n",
        "      if len(tokens) == 0:\n",
        "        return \" - empty -\"\n",
        "      if len(weights) != len(tokens):\n",
        "        raise ValueError(\"number of weights differs weights={} tokens={}\".format(len(weights), len(tokens)))\n",
        "\n",
        "      #   if()\n",
        "      vmin = weights.min()\n",
        "      vmax = weights.max()\n",
        "\n",
        "      if _range is not None:\n",
        "        vmin = _range[0]\n",
        "        vmax = _range[1]\n",
        "\n",
        "      if print_debug:\n",
        "        print(vmin, vmax)\n",
        "\n",
        "      norm = mpl.colors.Normalize(vmin=vmin - 0.5, vmax=vmax)\n",
        "      html = \"\"\n",
        "      cmap = mpl.cm.get_cmap(colormap)\n",
        "\n",
        "      for d in range(0, len(weights)):\n",
        "        word = tokens[d]\n",
        "        if word == ' ':\n",
        "          word = '&nbsp;_ '\n",
        "\n",
        "        html += '<span title=\"{} {:.4f}\" style=\"background-color:{}\">{} </span>'.format(\n",
        "          d,\n",
        "          weights[d],\n",
        "          mpl.colors.to_hex(cmap(norm(weights[d]))),\n",
        "          word)\n",
        "\n",
        "        #     html+='<span style=\"background-color:' +mpl.colors.to_hex(cmap(norm(weights[d]) ))+ '\">' + str(tokens[d]) + \" </span>\"\n",
        "        if tokens[d] == '\\n':\n",
        "          html += \"<br>\"\n",
        "\n",
        "      return html\n",
        "\n",
        "    ''' AZ:-Rendering CHARITY🔥-----💸------💸-------💸------------------------------'''\n",
        "    def render_multicolor_text(self, tokens, vectors, colormap, min_color=None, _slice=None):\n",
        "      display(HTML(to_multicolor_text(tokens, vectors, colormap, min_color=min_color, _slice=_slice)))\n",
        "\n",
        "    \n",
        "\n",
        "    ''' AZ:------💸------💸-------💸----------------------END--Rendering CHARITY🔥------'''\n",
        "\n",
        "    \n",
        "\n",
        "\n",
        "\n",
        "    def render_subj(self, contract: ContractDocument3):\n",
        "      subjects: List[ProbableValue] = contract.subjects\n",
        "\n",
        "      if len(subjects) > 0:\n",
        "        sorted_ = [y for y in sorted(subjects, key=lambda x: -x.confidence)]\n",
        "        subject_kind = sorted_[0].value\n",
        "        confidence = sorted_[0].confidence\n",
        "      else:\n",
        "        subject_kind = ContractSubject.Other\n",
        "\n",
        "      if subject_kind in known_subjects_dict:\n",
        "        rendering_name = known_subjects_dict[subject_kind]\n",
        "      else:\n",
        "        rendering_name = 'прочее'\n",
        "\n",
        "      display(\n",
        "        HTML(f'Предмет договора:'\n",
        "             f'<h3 style=\"margin:0\">{rendering_name}<sup> {subject_kind}</sup> </h3> '\n",
        "             f'confidence:{confidence:20,.2f}'))\n",
        "\n",
        "\n",
        "\n",
        "    def sign_to_text(self, sign: int):\n",
        "      if sign < 0: return \" &lt; \"\n",
        "      if sign > 0: return \" &gt; \"\n",
        "      return ' = '\n",
        "\n",
        "    def probable_value_to_html(self, pv):\n",
        "      vc = pv.value\n",
        "      color = '#333333'\n",
        "      if vc.sign > 0:\n",
        "        color = '#993300'\n",
        "      elif vc.sign < 0:\n",
        "        color = '#009933'\n",
        "\n",
        "      return f'<b style=\"color:{color}\">{self.sign_to_text(vc.sign)} {vc.currency} {vc.value:20,.2f}' \\\n",
        "             f'<sup>confidence={pv.confidence:20,.2f}</sup></b> '\n",
        "\n",
        "    def render_contents(self, doc):\n",
        "      html = as_headline_3('Выявленное Содержание документа')\n",
        "      html += \"<ul>\"\n",
        "      for i in doc.structure.headline_indexes:\n",
        "        line = doc.structure.structure[i].to_string(doc.tokens_cc)\n",
        "        html += f'<li> {line} <sup>line {i}</sup></li>'\n",
        "      html += \"</ul>\"\n",
        "\n",
        "      display(HTML(html))\n",
        "\n",
        "    def render_sections(self, sections):\n",
        "      from legal_docs import HeadlineMeta\n",
        "      html = as_headline_3('Выявленное секции документа')\n",
        "      html += \"<ul>\"\n",
        "      for section_type in sections:\n",
        "        section: HeadlineMeta = sections[section_type]\n",
        "        body = section.body.untokenize_cc()[:1000]\n",
        "        headline = section.subdoc.untokenize_cc()[:500]\n",
        "        #     line = doc.structure.structure[i].to_string(doc.tokens_cc)\n",
        "        html += f'<li><h3> {headline} <sup>type: {section_type}</sup> </h3> <p>{body}</p> </li>'\n",
        "      html += \"</ul>\"\n",
        "\n",
        "      display(HTML(html))\n",
        "\n",
        "    def render_values(self, values):\n",
        "      if len(values) > 0:\n",
        "        for pv in values:\n",
        "          h = self.probable_value_to_html(pv)\n",
        "          display(HTML(h))\n",
        "      else:\n",
        "        display(HTML('сумма не найдена'))\n",
        "\n",
        "    def render_value_section_details(self, value_section_info):\n",
        "      value_section = value_section_info.body\n",
        "      headline_doc = value_section_info.subdoc\n",
        "\n",
        "      headline = headline_doc.untokenize_cc()\n",
        "\n",
        "      v_names = {\n",
        "        'value_attention_vector',\n",
        "        'novalue_attention_vector',\n",
        "\n",
        "        'novalue_attention_vector_local_contrast',\n",
        "        'value_attention_vector_tuned'}\n",
        "\n",
        "      fig = plt.figure(figsize=(20, 6))\n",
        "      ax = plt.axes()\n",
        "      for vector_name in v_names:\n",
        "        ax.plot(value_section.distances_per_pattern_dict[vector_name], label=vector_name, alpha=0.4)\n",
        "\n",
        "      ax.plot(value_section.distances_per_pattern_dict['value_attention_vector_tuned'], label='value_attention result',\n",
        "              alpha=0.9, color='black')\n",
        "      plt.legend(loc='upper right')\n",
        "\n",
        "      text = self.to_color_text(value_section.tokens_cc,\n",
        "                                value_section.distances_per_pattern_dict['value_attention_vector_tuned'], _range=(0, 1))\n",
        "      html = f'{ as_headline_3(headline)} <div style=\"margin-left:4em; font-size=90%\">{text}</div>'\n",
        "      display(HTML(html))\n",
        "\n",
        "     \n",
        "    def render_charter_parsing_results_2(self, charter):\n",
        "      display(HTML(self.charter_parsing_results_to_html(charter)))\n",
        "      \n",
        "    def render_charter_parsing_results(self, doc, org, rz, charity_constraints):\n",
        "      WARN = '\\033[1;31m======== Dear Artem, ACHTUNG! 🔞 '\n",
        "      print (WARN+f\"use {self.render_charter_parsing_results} is deprecated\")\n",
        "      txt_html = self.to_color_text(org['tokens'], org['attention_vector'], _range=[0, 1])\n",
        "\n",
        "      html = '<div style=\"background:#eeeeff; padding:0.5em\"> recognized NE(s): <br><br> org type:<h3 style=\"margin:0\">  {} </h3>org full name:<h2 style=\"margin:0\">  {} </h2> <br>quote: <div style=\"font-size:90%; background:white\">{}</div> </div>'.format(\n",
        "        org['type_name'], org['name'], txt_html)\n",
        "      # html+=txt_html\n",
        "      html += self.render_constraint_values(doc, rz, charity_constraints)\n",
        "\n",
        "      display(HTML(html))\n",
        "\n",
        " \n",
        "\n",
        "     \n",
        "\n",
        "    \n",
        " \n",
        "\n",
        "  GLOBALS__['renderer'] = DemoRenderer()\n",
        "\n",
        "  # AZ:----------PROTOCOLS RENDERER-------------------------\n",
        "\n",
        "  from legal_docs import LegalDocument\n",
        "\n",
        "  import matplotlib as mpl\n",
        "  from IPython.core.display import display, HTML\n",
        "  from renderer import as_headline_3, as_headline_4\n",
        "  from legal_docs import LegalDocument\n",
        "  from renderer import as_warning, as_headline_3, as_offset, as_smaller\n",
        "\n",
        "\n",
        "  class ProtocolRenderer(DemoRenderer):\n",
        "\n",
        "    def winning_patterns_to_html(self, _tokens, ranges, winning_patterns, _range,\n",
        "                                 colormaps=['Reds', 'Purples', 'Blues', 'Greens', 'Greys']):\n",
        "      vmin = -ranges[1]\n",
        "      vmax = -ranges[0]\n",
        "\n",
        "      #     print(\"winning_patterns_to_html _range\", _range, \"min max=\", ranges)\n",
        "\n",
        "      norm = mpl.colors.Normalize(vmax=vmax, vmin=vmin)\n",
        "\n",
        "      cmaps = []\n",
        "\n",
        "      #     print (colormaps)\n",
        "      for n in colormaps:\n",
        "        cmap = mpl.cm.get_cmap(n)\n",
        "        cmaps.append(cmap)\n",
        "\n",
        "      html = \"\"\n",
        "\n",
        "      for d in _range:\n",
        "        winning_pattern_i = winning_patterns[d][0]\n",
        "        colormap = cmaps[winning_pattern_i % len(colormaps)]\n",
        "        normed = norm(-winning_patterns[d][1])\n",
        "        color = mpl.colors.to_hex(colormap(normed))\n",
        "        html += '<span title=\"' + '{} {:.2f}'.format(d, winning_patterns[d][\n",
        "          1]) + '\" style=\"background-color:' + color + '\">' + str(\n",
        "          _tokens[d]) + \" </span>\"\n",
        "        if _tokens[d] == '\\n':\n",
        "          html += \"<br>\"\n",
        "\n",
        "      return html\n",
        "\n",
        "    def _render_doc_subject_fragments(self, doc):\n",
        "      #     print(doc.per_subject_distances)\n",
        "\n",
        "      _html = \"\"\n",
        "      if doc.per_subject_distances is not None:\n",
        "\n",
        "        type = \"Договор  благотворительного пожертвования\"\n",
        "        if doc.per_subject_distances[0] > doc.per_subject_distances[1]:\n",
        "          type = \"Договор возмездного оказания услуг\"\n",
        "\n",
        "        _html += \"<h3>\" + type + \"</h3>\"\n",
        "\n",
        "        colormaps = ['PuRd'] * 5 + ['Blues'] * 7 + ['Greys']\n",
        "\n",
        "        _html += as_headline_4('Предмет договора')\n",
        "\n",
        "        for region in [doc.subj_range]:\n",
        "          _html += self.winning_patterns_to_html(_tokens=doc.tokens, ranges=doc.subj_ranges,\n",
        "                                                 winning_patterns=doc.winning_subj_patterns, _range=region,\n",
        "                                                 colormaps=colormaps)\n",
        "\n",
        "      return _html\n",
        "\n",
        "    def render_subject(self, counter):\n",
        "      html = as_headline_3('Предмет документа (X):') + self.subject_type_weights_to_html(counter)\n",
        "      display(HTML(html))\n",
        "\n",
        "    def print_results(self, _doc: LegalDocument, results=None):\n",
        "      values = sorted(_doc.values, key=lambda item: -item.confidence)\n",
        "\n",
        "      if values is None or len(values)==0:\n",
        "        display(HTML(as_warning('сумма не найдена')))\n",
        "        return \n",
        "\n",
        "\n",
        "      cc = 0  \n",
        "      for vl in values:\n",
        "\n",
        "        h = as_headline_3(self.probable_value_to_html(vl))\n",
        "        h += as_offset(self.to_color_text(vl.value.context.tokens, vl.value.context.attention, colormap='jet'))\n",
        "        if cc > 0:\n",
        "          h = as_offset(as_smaller(h))\n",
        "\n",
        "        display(HTML(h))\n",
        "\n",
        "        cc += 1\n",
        "    \n",
        "    def subject_type_weights_to_html(self, counter):\n",
        "      dict = {\n",
        "        't_dea': 'Сделка',\n",
        "        't_cha': 'Благотворительность',\n",
        "        't_org': 'Организационные решения'\n",
        "      }\n",
        "\n",
        "      maxkey = \"None\"\n",
        "      for key in dict:\n",
        "        if counter[key] > counter[maxkey]:\n",
        "          maxkey = key\n",
        "\n",
        "      html = \"\"\n",
        "      for key in dict:\n",
        "        templ = \"<div>{}: {}</div>\"\n",
        "        if key == maxkey:\n",
        "          templ = '<b style=\"font-size:135%; color:maroon\">{}: {}</b>'\n",
        "        html += templ.format(counter[key], dict[key])\n",
        "\n",
        "      return html\n",
        "\n",
        "  GLOBALS__['ProtocolRenderer'] = ProtocolRenderer()\n",
        "\n",
        "  from demo_protocols import ProtocolAnlysingContext\n",
        "  GLOBALS__['ProtocolAnlysingContext'] = ProtocolAnlysingContext(GLOBALS__['elmo_embedder'], GLOBALS__['ProtocolRenderer'])\n",
        "  GLOBALS__['_init_the_code'] = True\n",
        "\n",
        "  # AZ:-------------------------------------------------Init Protocols context===\n",
        "\n",
        "  # AZ:-------------------------------------------------Init Charters context====\n",
        "\n",
        "  def read_doc(fn):\n",
        "    import docx2txt, sys, os\n",
        "    text = ''\n",
        "    try:\n",
        "      text = docx2txt.process(fn)\n",
        "    except:\n",
        "      print(\"Unexpected error:\", sys.exc_info())\n",
        "      os.system('antiword -w 0 \"' + fn + '\" > \"' + fn + '.txt\"')\n",
        "      with open(fn + '.txt') as f:\n",
        "        text = f.read()\n",
        "\n",
        "    return text\n",
        "\n",
        "  GLOBALS__['read_doc'] = read_doc\n",
        "\n",
        "  print(\"❤️ DONE initializing the code\")\n",
        "\n",
        "\n",
        "# AZ:-FINDING_VIOLATIONS--------------------------------------------------------\n",
        "def find_and_show_violations():\n",
        "  from IPython.core.display import display, HTML\n",
        "\n",
        "  from contract_parser import ContractAnlysingContext\n",
        "  from renderer import as_headline_2, as_error_html\n",
        "\n",
        "  print('Поиск нарушений')\n",
        "\n",
        "  charterAnlysingContext: CharterAnlysingContext = GLOBALS__['CharterAnlysingContext']\n",
        "  contractAnlysingContext: ContractAnlysingContext = GLOBALS__['ContractAnlysingContext']\n",
        "\n",
        "  contract = contractAnlysingContext.contract\n",
        "  charter = charterAnlysingContext.doc\n",
        "  charter_constraints = charterAnlysingContext.constraints  # XXX: move to doc\n",
        "\n",
        "  renderer = GLOBALS__['renderer']\n",
        "  renderer.render_subj(contract)\n",
        "\n",
        "  import copy\n",
        "\n",
        "  def convert(v):\n",
        "    v_converted = copy.copy(v)\n",
        "    if v.currency in currency_converter:\n",
        "      v_converted.value = currency_converter[v.currency] * v.value\n",
        "      v_converted.currency = 'RUB'\n",
        "      return v_converted\n",
        "    else:\n",
        "      display(HTML(as_error_html(\n",
        "        f\"мы не в настроении (пока) конвертировать {v.currency} --> RUB. Это вообще валюта какой страны? Румынии?\")))\n",
        "      return v\n",
        "\n",
        "  best_value = contractAnlysingContext.find_contract_best_value(convert)\n",
        "\n",
        "  # rendering:----------------------------\n",
        "\n",
        "  def _render_violations(ranges_by_group, best_value):\n",
        "    for group_key in ranges_by_group:\n",
        "      group = ranges_by_group[group_key]\n",
        "      display(HTML(as_headline_2(group['name'])))\n",
        "\n",
        "      for rk in group['ranges']:\n",
        "        r = group['ranges'][rk]\n",
        "        display(HTML(r.check_contract_value(best_value, convert, renderer)))\n",
        "\n",
        "  print(\"Сумма Договора:\")\n",
        "  renderer.render_values([best_value])\n",
        "  renderer.render_color_text(best_value.value.context.tokens, best_value.value.context.attention, _range=[0, 1])\n",
        "\n",
        "  _render_violations(\n",
        "    charterAnlysingContext.find_ranges_by_group(charter_constraints, convert, verbose=False),\n",
        "    best_value)\n",
        "\n",
        "#   display(HTML(renderer.render_constraint_values(charter_constraints)))\n",
        "\n",
        "\n",
        "# AZ:--------------------------------------------------------FINDING_VIOLATIONS-\n",
        "\n",
        "# AZ:- ENDO OF THE THE CODE------------------------------------------------XXXXX\n",
        "# AZ:- ENDO OF THE THE CODE------------------------------------------------XXXXX\n",
        "# AZ:- ENDO OF THE THE CODE------------------------------------------------XXXXX\n",
        "# AZ:- ENDO OF THE THE CODE------------------------------------------------XXXX"
      ],
      "execution_count": 0,
      "outputs": []
    },
    {
      "metadata": {
        "id": "YhjI5YF61cpd",
        "colab_type": "text"
      },
      "cell_type": "markdown",
      "source": [
        "# step 0. Инит всега"
      ]
    },
    {
      "metadata": {
        "id": "6BnrLv2k1iVq",
        "colab_type": "code",
        "colab": {
          "base_uri": "https://localhost:8080/",
          "height": 961
        },
        "outputId": "5c6b7301-d764-4d8c-d9e0-b6ea19eccbd2"
      },
      "cell_type": "code",
      "source": [
        "## do preparation here\n",
        "\n",
        "# 1.\n",
        "_init_import_code_from_gh()\n",
        "# 2.\n",
        "_init_embedder()\n",
        "# 3.\n",
        "_init_the_code()\n",
        "4.\n",
        "_init_charters()\n",
        "# 5.\n",
        "_init_contracts()"
      ],
      "execution_count": 4,
      "outputs": [
        {
          "output_type": "stream",
          "text": [
            "fetching code from GitHub.....protocols-2\n",
            "\n",
            "\n",
            "🦊 GIT revision:\n",
            "384\n",
            "* protocols-2\n",
            "Add found_sum property for compatibility\n",
            "\n",
            "Protocols: another way of fetching values\n",
            "\n",
            "Merge branch 'master' into protocols-2\n",
            "\n",
            "\n",
            "[nltk_data] Downloading package punkt to /root/nltk_data...\n",
            "[nltk_data]   Package punkt is already up-to-date!\n",
            "code imported OK 👍\n",
            "installing antiword...\n",
            "Reading package lists...\n",
            "Building dependency tree...\n",
            "Reading state information...\n",
            "antiword is already the newest version (0.37-11build1).\n",
            "The following package was automatically installed and is no longer required:\n",
            "  libnvidia-common-410\n",
            "Use 'sudo apt autoremove' to remove it.\n",
            "0 upgraded, 0 newly installed, 0 to remove and 6 not upgraded.\n",
            "\n",
            "installing docx2txt...\n",
            "Requirement already satisfied: docx2txt in /usr/local/lib/python3.6/dist-packages (0.7)\n",
            "\n",
            "❤️ DONE importing Code fro GitHub\n",
            "WARNING:tensorflow:From /usr/local/lib/python3.6/dist-packages/tensorflow/python/ops/control_flow_ops.py:3632: colocate_with (from tensorflow.python.framework.ops) is deprecated and will be removed in a future version.\n",
            "Instructions for updating:\n",
            "Colocations handled automatically by placer.\n"
          ],
          "name": "stdout"
        },
        {
          "output_type": "stream",
          "text": [
            "W0425 10:31:41.828069 139799184328576 deprecation.py:323] From /usr/local/lib/python3.6/dist-packages/tensorflow/python/ops/control_flow_ops.py:3632: colocate_with (from tensorflow.python.framework.ops) is deprecated and will be removed in a future version.\n",
            "Instructions for updating:\n",
            "Colocations handled automatically by placer.\n"
          ],
          "name": "stderr"
        },
        {
          "output_type": "stream",
          "text": [
            "❤️ ❤️ ❤️ DONE (re)importing Tensorflow hub.Module \n",
            "Tensorflow version is 1.13.1\n",
            "❤️ DONE creating words embedding model\n",
            "<nltk.tokenize.punkt.PunktSentenceTokenizer object at 0x7f251499b6a0>\n",
            "❤️ DONE initializing the code\n",
            "👌 Embedder is already created! \n",
            "🐌 Embedding 868 words... it takes time (☕️?)..\n",
            "INFO:tensorflow:Saver not created because there are no variables in the graph to restore\n"
          ],
          "name": "stdout"
        },
        {
          "output_type": "stream",
          "text": [
            "I0425 10:31:44.938381 139799184328576 saver.py:1483] Saver not created because there are no variables in the graph to restore\n"
          ],
          "name": "stderr"
        },
        {
          "output_type": "stream",
          "text": [
            "Embedding complete 🐌 ; the shape is (82, 20, 1024)\n",
            "❤️ DONE initing Charters-related tools and models \n",
            "🐌 Embedding 513 words... it takes time (☕️?)..\n",
            "INFO:tensorflow:Saver not created because there are no variables in the graph to restore\n"
          ],
          "name": "stdout"
        },
        {
          "output_type": "stream",
          "text": [
            "I0425 10:31:49.484154 139799184328576 saver.py:1483] Saver not created because there are no variables in the graph to restore\n"
          ],
          "name": "stderr"
        },
        {
          "output_type": "stream",
          "text": [
            "Embedding complete 🐌 ; the shape is (61, 33, 1024)\n",
            "❤️ DONE initing Contracts-related tools and models \n"
          ],
          "name": "stdout"
        }
      ]
    },
    {
      "metadata": {
        "id": "zNNi8ZkbzLwx",
        "colab_type": "text"
      },
      "cell_type": "markdown",
      "source": [
        "# step 1. Устафф"
      ]
    },
    {
      "metadata": {
        "id": "z2rA1VotgOSo",
        "colab_type": "code",
        "colab": {}
      },
      "cell_type": "code",
      "source": [
        "uploaded = interactive_upload('Устафф, он лёххх, но подумафф он осознал, что он не такой уж и Лёхх')\n",
        "\n",
        "_CTX = GLOBALS__['CharterAnlysingContext']\n",
        "_CTX.verbosity_level=2\n",
        "_CTX.analyze_charter(uploaded[0], True)\n",
        "\n",
        "\n",
        "GLOBALS__['renderer'].render_charter_parsing_results_2(_CTX.charter)\n",
        "GLOBALS__['renderer'].render_contents(_CTX.doc)\n"
      ],
      "execution_count": 0,
      "outputs": []
    },
    {
      "metadata": {
        "id": "olVwh_GqMs52",
        "colab_type": "code",
        "colab": {}
      },
      "cell_type": "code",
      "source": [
        "# GLOBALS__['renderer'].render_charter_parsing_results(_CTX.doc, _CTX.org, _CTX.constraints, _CTX.charity_constraints)\n",
        "# _CTX.charter._constraints[0].__dict__\n",
        "for c in GLOBALS__['CharterAnlysingContext'].charter._constraints:\n",
        "  print(c.__dict__)\n",
        "\n"
      ],
      "execution_count": 0,
      "outputs": []
    },
    {
      "metadata": {
        "id": "7OFOIGEs5pZC",
        "colab_type": "code",
        "colab": {}
      },
      "cell_type": "code",
      "source": [
        "## NEW\n",
        "# del(GLOBALS__['_init_the_code'] )\n",
        "_init_the_code(True)\n",
        "GLOBALS__['renderer'].render_charter_parsing_results_2(_CTX.charter)\n",
        "# GLOBALS__['renderer'].render_contents(_CTX.doc)"
      ],
      "execution_count": 0,
      "outputs": []
    },
    {
      "metadata": {
        "id": "slIYoTxBAkNN",
        "colab_type": "code",
        "colab": {}
      },
      "cell_type": "code",
      "source": [
        "GLOBALS__['renderer'].render_charter_parsing_results(_CTX.doc, _CTX.org, _CTX.constraints, _CTX.charity_constraints)\n",
        "# GLOBALS__['renderer'].render_contents(_CTX.doc)"
      ],
      "execution_count": 0,
      "outputs": []
    },
    {
      "metadata": {
        "id": "9fV5mnSXciKX",
        "colab_type": "code",
        "colab": {}
      },
      "cell_type": "code",
      "source": [
        "GLOBALS__['CharterAnlysingContext'].constraints['head.directors'][0].__dict__"
      ],
      "execution_count": 0,
      "outputs": []
    },
    {
      "metadata": {
        "id": "SnsM7Qzwci1J",
        "colab_type": "text"
      },
      "cell_type": "markdown",
      "source": [
        "### tests, experiments"
      ]
    },
    {
      "metadata": {
        "id": "ycJrZCWAFEXw",
        "colab_type": "code",
        "colab": {}
      },
      "cell_type": "code",
      "source": [
        "if False:\n",
        "  GLOBALS__['CharterAnlysingContext'].verbosity_level=2\n",
        "  org, rz = GLOBALS__['CharterAnlysingContext'].analyze_charter(text, True)\n",
        "  doc = GLOBALS__['CharterAnlysingContext'].doc\n",
        "  charity_constraints = GLOBALS__['CharterAnlysingContext'].charity_constraints\n",
        "  org = GLOBALS__['CharterAnlysingContext'].org\n",
        "\n",
        "\n",
        "  GLOBALS__['renderer'].render_contents(doc)\n",
        "  GLOBALS__['renderer'].render_charter_parsing_results(doc, org, rz)"
      ],
      "execution_count": 0,
      "outputs": []
    },
    {
      "metadata": {
        "id": "ejjvjf3I4SWj",
        "colab_type": "code",
        "colab": {}
      },
      "cell_type": "code",
      "source": [
        "str(_CTX.constraints['head.all'][0].subdoc.subject_mapping[\"subj\"])"
      ],
      "execution_count": 0,
      "outputs": []
    },
    {
      "metadata": {
        "id": "J_CqKEG514Xf",
        "colab_type": "code",
        "colab": {}
      },
      "cell_type": "code",
      "source": [
        ""
      ],
      "execution_count": 0,
      "outputs": []
    },
    {
      "metadata": {
        "id": "JVPCRaSAmYHt",
        "colab_type": "text"
      },
      "cell_type": "markdown",
      "source": [
        "## 👞 Constraint type detection"
      ]
    },
    {
      "metadata": {
        "id": "RpYvYObHBAxc",
        "colab_type": "text"
      },
      "cell_type": "markdown",
      "source": [
        "### Factory extension (careful)"
      ]
    },
    {
      "metadata": {
        "id": "ZJxb5ytdYI_-",
        "colab_type": "code",
        "colab": {}
      },
      "cell_type": "code",
      "source": [
        ""
      ],
      "execution_count": 0,
      "outputs": []
    },
    {
      "metadata": {
        "id": "1r41cS5RCxcv",
        "colab_type": "code",
        "colab": {}
      },
      "cell_type": "code",
      "source": [
        "def build_lawsuit_patterns(factory):\n",
        "  def cp(name, tuples):\n",
        "    return factory.create_pattern(name, tuples)\n",
        "\n",
        "#   cp('x_lawsuit_4', ('начало/урегулирование любых', 'судебных', \n",
        "#                 'споров, подписание мирового соглашения, признание иска, отказ от иска, а также любые другие  ',\n",
        "#                       ))\n",
        "\n",
        "#   cp('x_lawsuit_3', ('судебных споров, цена ',\n",
        "#                        'иска',\n",
        "#                        'по которым превышает'))\n",
        "  cp('x_lawsuit_6', ( 'принятие решения об осуществлении следующих действий и решений , связанных со', 'спорами', 'Общества с Органами государственной власти , на суммы '  ))\n",
        "  \n",
        "  \n",
        " \n",
        "  \n",
        "  \n",
        "build_lawsuit_patterns(GLOBALS__['CharterAnlysingContext'].pattern_factory)\n",
        "GLOBALS__['CharterAnlysingContext'].pattern_factory.embedd()"
      ],
      "execution_count": 0,
      "outputs": []
    },
    {
      "metadata": {
        "colab_type": "code",
        "id": "YY3e0XMpYL-V",
        "colab": {}
      },
      "cell_type": "code",
      "source": [
        "raise sure?\n",
        "\n",
        "# def build_realestate_patterns(factory):\n",
        "#   def cp(name, tuples):\n",
        "#     return factory.create_pattern(name, tuples)\n",
        "\n",
        "#   cp('x_realestate_1', ('отчуждению активов общества ( включая', 'недвижимость', '',))\n",
        "\n",
        "#   cp('x_realestate_2', ('судебных споров, цена ',\n",
        "#                        'иска',\n",
        "#                        'по которым превышает'))\n",
        " \n",
        "  \n",
        "  \n",
        "# build_realestate_patterns(GLOBALS__['CharterAnlysingContext'].pattern_factory)\n",
        "# GLOBALS__['CharterAnlysingContext'].pattern_factory.embedd()"
      ],
      "execution_count": 0,
      "outputs": []
    },
    {
      "metadata": {
        "id": "zDgF5nNkLZ88",
        "colab_type": "code",
        "colab": {}
      },
      "cell_type": "code",
      "source": [
        "# def build_incl_patterns(factory):\n",
        "#   def cp(name, tuples):\n",
        "#     return factory.create_pattern(name, tuples)\n",
        "\n",
        "#   cp('x_exclusive_1', ('', 'исключая', 'сделки'))\n",
        "\n",
        "#   cp('x_inclusive_1', ('', 'включая', 'сделки'))\n",
        "  \n",
        "# build_incl_patterns(GLOBALS__['CharterAnlysingContext'].pattern_factory)\n",
        "# GLOBALS__['CharterAnlysingContext'].pattern_factory.embedd()"
      ],
      "execution_count": 0,
      "outputs": []
    },
    {
      "metadata": {
        "id": "EAreL6ew6Nh5",
        "colab_type": "code",
        "colab": {}
      },
      "cell_type": "code",
      "source": [
        "_init_the_code(True)"
      ],
      "execution_count": 0,
      "outputs": []
    },
    {
      "metadata": {
        "id": "T6wc-fUn0aek",
        "colab_type": "code",
        "colab": {}
      },
      "cell_type": "code",
      "source": [
        "from IPython.core.display import display, HTML\n",
        "\n",
        "CH_CTX=GLOBALS__['CharterAnlysingContext']\n",
        "\n",
        "from charter_patterns import find_sentences_by_pattern_prefix\n",
        "\n",
        "a:dict = find_sentences_by_pattern_prefix(  CH_CTX.pattern_factory, CH_CTX._get_head_sections(), 'x_charity_')\n",
        "b:dict = find_sentences_by_pattern_prefix(  CH_CTX.pattern_factory, CH_CTX._get_head_sections(), 'sum__')\n",
        "lawsuits = find_sentences_by_pattern_prefix(  CH_CTX.pattern_factory, CH_CTX._get_head_sections(), 'x_lawsuit_')\n",
        "  \n",
        "def merge_quotes_by_head_type (a, b):\n",
        "  res={}\n",
        "  for head in a:\n",
        "    res[head] = a[head]+b[head]\n",
        "  return res\n",
        "  \n",
        "merged=merge_quotes_by_head_type(a, b)\n",
        "merged=merge_quotes_by_head_type(merged, lawsuits)\n",
        "# soft$.$at_sum__\n",
        "for head in merged:\n",
        "  print(CH_CTX.doc.sections[head].body.distances_per_pattern_dict.keys())\n",
        "  html = GLOBALS__['renderer'].html_charity_constraints_by_head(merged[head] )\n",
        "  display(HTML(html))"
      ],
      "execution_count": 0,
      "outputs": []
    },
    {
      "metadata": {
        "colab_type": "code",
        "id": "S70aM1xD2zLN",
        "colab": {}
      },
      "cell_type": "code",
      "source": [
        "from IPython.core.display import display, HTML\n",
        "_init_the_code(True)\n",
        "CH_CTX=GLOBALS__['CharterAnlysingContext']\n",
        "\n",
        "from charter_patterns import find_sentences_by_pattern_prefix\n",
        "realestates = find_sentences_by_pattern_prefix( CH_CTX.pattern_factory, CH_CTX._get_head_sections(), 'sum__')\n",
        "  \n",
        "\n",
        "for head in lawsuits:\n",
        "  html = GLOBALS__['renderer'].html_charity_constraints_by_head(realestates[head] )\n",
        "  display(HTML(html))"
      ],
      "execution_count": 0,
      "outputs": []
    },
    {
      "metadata": {
        "colab_type": "code",
        "id": "JQWRoJf_OfS7",
        "colab": {}
      },
      "cell_type": "code",
      "source": [
        "from IPython.core.display import display, HTML\n",
        "\n",
        "CH_CTX=GLOBALS__['CharterAnlysingContext']\n",
        "\n",
        "from charter_patterns import find_sentences_by_pattern_prefix\n",
        "lawsuits = find_sentences_by_pattern_prefix( CH_CTX.pattern_factory, CH_CTX._get_head_sections(), 'x_ContractSubject.RealEstate')\n",
        "  \n",
        " \n",
        "  \n",
        "# soft$.$at_sum__\n",
        "for head in lawsuits:\n",
        "  print(CH_CTX.doc.sections[head].body.distances_per_pattern_dict.keys())\n",
        "  html = GLOBALS__['renderer'].html_charity_constraints_by_head(lawsuits[head] )\n",
        "  display(HTML(html))"
      ],
      "execution_count": 0,
      "outputs": []
    },
    {
      "metadata": {
        "id": "6C5LhlUp0Jln",
        "colab_type": "code",
        "colab": {}
      },
      "cell_type": "code",
      "source": [
        "\n",
        "from legal_docs import ConstraintsSearchResult, PatternSearchResult\n",
        "from IPython.core.display import display, HTML\n",
        "from renderer import as_quote, to_multicolor_text\n",
        " \n",
        "\n",
        "CH_CTX=GLOBALS__['CharterAnlysingContext']\n",
        "\n",
        "\n",
        "def estimate_confidence(vector):\n",
        "  sum_ = sum(vector)\n",
        "  _max = np.max( np.nonzero(vector) )\n",
        "  nonzeros_count = len(np.nonzero(vector)[0])\n",
        "  confidence = 0\n",
        "\n",
        "  if nonzeros_count > 0:\n",
        "    confidence = sum_ / nonzeros_count\n",
        "    \n",
        "  return confidence, sum_, nonzeros_count,  _max\n",
        "\n",
        "for constraints in CH_CTX.constraints['head.directors']:\n",
        "  html =GLOBALS__['renderer']._render_sentence(constraints)\n",
        "  display(HTML(html))\n",
        "  context:PatternSearchResult = constraints.subdoc\n",
        "  print(context.confidence)\n",
        "  print(context.pattern_prefix)\n",
        "  print(context.tokens)\n",
        "#   'soft$.$at_x_realestate_'\n",
        "  confidence, sum_, nonzeros_count, _max = estimate_confidence(context.get_attention())\n",
        "  print(f'confidence={confidence:.4f} \\t sum_{sum_} \\t nonzeros_count={nonzeros_count} \\t_max={_max:.4f}')\n",
        "  \n",
        "  GLOBALS__['renderer'].render_color_text(context.tokens, context.get_attention('soft$.$at_x_realestate_'), _range=[0,1])"
      ],
      "execution_count": 0,
      "outputs": []
    },
    {
      "metadata": {
        "id": "XtXmlhVD8uIB",
        "colab_type": "code",
        "colab": {}
      },
      "cell_type": "code",
      "source": [
        ""
      ],
      "execution_count": 0,
      "outputs": []
    },
    {
      "metadata": {
        "id": "2qD6gSJ_1rQH",
        "colab_type": "code",
        "colab": {}
      },
      "cell_type": "code",
      "source": [
        "from legal_docs import calculate_distances_per_pattern\n",
        "from ml_tools import *\n",
        "from patterns import *\n",
        "\n",
        "#XXX: renamed from find_charity_sentences\n",
        "\n",
        "\n",
        "  \n",
        " \n",
        "\n",
        "###-----test\n",
        "CH_CTX=GLOBALS__['CharterAnlysingContext']\n",
        "renderer = GLOBALS__['renderer']\n",
        "charter = CH_CTX.doc\n",
        "section = charter.sections['head.directors'].body\n",
        "\n",
        "\n",
        "slices1, attention_v_name_consent = find_sentences_by_pattern_prefix (section, CH_CTX.pattern_factory, pattern_prefix='d_order_consent')\n",
        "slices2, attention_v_name_charity = find_sentences_by_pattern_prefix (section, CH_CTX.pattern_factory, pattern_prefix='x_charity')\n",
        "slices3, attention_v_name_law = find_sentences_by_pattern_prefix (section, CH_CTX.pattern_factory, pattern_prefix='x_lawsuit_')\n",
        "slices4, attention_v_currency = find_sentences_by_pattern_prefix (section, CH_CTX.pattern_factory, pattern_prefix='currency')\n",
        "\n",
        "\n",
        "attention_incl,_ = make_attention_vector(section, CH_CTX.pattern_factory, 'x_inclusive')\n",
        "attention_excl,_ = make_attention_vector(section, CH_CTX.pattern_factory, 'x_exclusive')\n",
        "\n",
        "attention_excl=momentum(attention_excl, 0.9)\n",
        "\n",
        "colormap = {\n",
        "    'red':(1,0,0),\n",
        "    'red1':(1,0.4,0),\n",
        "    'green':(0,1,0),\n",
        "    'blue':(0,0,1),\n",
        "    'cyan':(0,0.7,1),\n",
        "    'yellow':(0.9,0.8,0)\n",
        "}\n",
        "\n",
        "alltogether={}\n",
        "def merge_slices(slices1):\n",
        "  for _slice in slices1:\n",
        "    alltogether[_slice [0].start] = _slice\n",
        "    ss=section.subdoc_slice( _slice [0] )\n",
        "\n",
        "merge_slices(slices1)\n",
        "merge_slices(slices3)\n",
        "merge_slices(slices2)\n",
        "merge_slices(slices4)\n",
        "\n",
        "ssss=[]\n",
        "for k in alltogether:\n",
        "  _slice=alltogether[k]\n",
        "#   print(_slice)\n",
        "  ss=section.subdoc_slice( _slice [0] )\n",
        "  vectors = {\n",
        "    'red':ss.distances_per_pattern_dict['soft$.'+attention_v_name_law],\n",
        "    'cyan':ss.distances_per_pattern_dict['soft$.'+attention_v_name_charity],\n",
        "#     'green':ss.distances_per_pattern_dict['soft$.'+attention_v_name_consent],\n",
        "    'red1':ss.distances_per_pattern_dict['soft$.'+attention_v_currency],\n",
        "      \n",
        "    'yellow':attention_incl[_slice [0] ],\n",
        "    'green':attention_excl[_slice [0] ],\n",
        "  }\n",
        "  ssss.append(ss)\n",
        "#   print (ss.tokens_cc)\n",
        "  renderer.render_multicolor_text(ss.tokens_cc, vectors, colormap=colormap)\n",
        "#   renderer.render_color_text(ss.tokens, vectors['red'])\n",
        "del ssss\n",
        "# print (slices)\n",
        "# print(section.distances_per_pattern_dict)\n",
        "# vectors['red']\n",
        "from IPython.core.display import display, HTML\n",
        "display(HTML('ddd'))\n",
        "GLOBALS__['renderer'].__dict__"
      ],
      "execution_count": 0,
      "outputs": []
    },
    {
      "metadata": {
        "id": "s0XY6kIFS2X8",
        "colab_type": "code",
        "colab": {}
      },
      "cell_type": "code",
      "source": [
        "# contract value: 5\n",
        "  \n",
        "# directors:{\n",
        "    \n",
        "#     [4, 6]: True\n",
        "#     [6, 20]: False\n",
        "#     [2, inf]: True\n",
        "#     [-inf, 4]: False\n",
        "    \n",
        "# } ==> True | False | True | False ===> True\n",
        "  \n",
        "  \n",
        "  \n",
        "# all:{    \n",
        "#     [6, inf]: False\n",
        "#     [6, 20]: False\n",
        "#     [2, inf]: True\n",
        "#     [-inf, 4]: False\n",
        "    \n",
        "# } ==> True | False | True | False ===> True\n",
        "  \n",
        "  \n",
        "# for level in OrgLevel:\n",
        "#   for constraint in OrgLevel.constraints:\n",
        "#     if contract.value in range(constraint.min, constraint.max) \n",
        "#       if constraint.subj == contract.subj\n",
        "#         raise RedFlag('а чо протокол-то есть?')\n",
        "\n",
        "# if contract.value > max ( every constraint.max)\n",
        "#    raise RedFlag('что-то не так')"
      ],
      "execution_count": 0,
      "outputs": []
    },
    {
      "metadata": {
        "id": "gEM5XvFcA_J-",
        "colab_type": "text"
      },
      "cell_type": "markdown",
      "source": [
        "#### Charitiy finder"
      ]
    },
    {
      "metadata": {
        "id": "PhCbZyLYiBnz",
        "colab_type": "code",
        "colab": {}
      },
      "cell_type": "code",
      "source": [
        "def build_charity_patterns(factory):\n",
        "  def cp(name, tuples):\n",
        "    return factory.create_pattern(name, tuples)\n",
        "\n",
        "  cp('x_charity_1', ('договор',\n",
        "                     'благотворительного',\n",
        "                     'пожертвования'))\n",
        "\n",
        "  cp('x_charity_1.1', ('одобрение внесения Обществом каких-либо вкладов или пожертвований на политические или',\n",
        "                       'благотворительные',\n",
        "                       'цели'))\n",
        "\n",
        "  cp('x_charity_1.2', ('одобрение внесения Обществом каких-либо вкладов или',\n",
        "                       'пожертвований',\n",
        "                       'на политические или благотворительные цели '))\n",
        "\n",
        "  cp('x_charity_2', ('предоставление',\n",
        "                     'безвозмездной',\n",
        "                     'помощи финансовой')),\n",
        "\n",
        "  cp('x_charity_3', ('согласование сделок',\n",
        "                     ' дарения ',\n",
        "                     ' '))\n",
        "\n",
        "\n",
        "from typing import List\n",
        "\n",
        "import numpy as np\n",
        "\n",
        "from legal_docs import calculate_distances_per_pattern\n",
        "from ml_tools import filter_values_by_key_prefix, max_exclusive_pattern, relu\n",
        "from patterns import improve_attention_vector\n",
        "from text_tools import get_sentence_bounds_at_index\n",
        "\n",
        "\n",
        "def find_charity_constraints(doc, factory, head_sections:dict ) -> dict:\n",
        "  charity_quotes_by_head_type = {}\n",
        "  for section_name in head_sections:\n",
        "\n",
        "    # section_name = section_prefix + head\n",
        "    # print(head, '->', section_name)\n",
        "    if section_name in doc.sections:\n",
        "      subdoc = doc.sections[section_name].body\n",
        "      # subdoc.calculate_distances_per_pattern(TFAA)\n",
        "\n",
        "      print(section_name)\n",
        "      bounds = find_charity_sentences(subdoc, factory)\n",
        "      charity_quotes_by_head_type[section_name] = bounds\n",
        "\n",
        "      # print('ok')\n",
        "  return charity_quotes_by_head_type\n",
        "\n",
        "\n",
        "def find_charity_sentences(subdoc, factory) -> List:\n",
        "  \"\"\"\n",
        "    returns list of tuples (slice, confidence, summa-of-attention-)\n",
        "  \"\"\"\n",
        "\n",
        "  calculate_distances_per_pattern(subdoc, factory, merge=True, pattern_prefix='x_charity_')\n",
        "\n",
        "  slices = []\n",
        "  vectors = filter_values_by_key_prefix(subdoc.distances_per_pattern_dict, 'x_charity_')\n",
        "  vectors_i = []\n",
        "  for v in vectors:\n",
        "    if max(v) > 0.6:\n",
        "      vector_i, _ = improve_attention_vector(subdoc.embeddings, v, relu_th=0.6, mix=0.9)\n",
        "      vectors_i.append(vector_i)\n",
        "    else:\n",
        "      vectors_i.append(v)\n",
        "\n",
        "  x = max_exclusive_pattern(vectors_i)\n",
        "  x = relu(x, 0.8)\n",
        "  subdoc.distances_per_pattern_dict['$at_x_charity_'] = x\n",
        "\n",
        "  dups = {}\n",
        "  for i in np.nonzero(x)[0]:\n",
        "    bounds = get_sentence_bounds_at_index(i, subdoc.tokens)\n",
        "\n",
        "    if bounds[0] not in dups:\n",
        "      sl = slice(bounds[0], bounds[1])\n",
        "      sum_ = sum(x[sl])\n",
        "      confidence = 'x'\n",
        "      #       confidence = np.mean( np.nonzero(x[sl]) )\n",
        "      nonzeros_count = len(np.nonzero(x[sl])[0])\n",
        "      print('nonzeros_count=', nonzeros_count)\n",
        "      confidence = 0\n",
        "\n",
        "      if nonzeros_count > 0:\n",
        "        confidence = sum_ / nonzeros_count\n",
        "      print('confidence=', confidence)\n",
        "      if confidence > 0.8:\n",
        "        # GLOBALS__['renderer'].render_color_text(subdoc.tokens_cc[sl],\n",
        "        #                                         subdoc.distances_per_pattern_dict['$at_x_charity_'][sl], _range=(0, 1))\n",
        "        print(i, sum_)\n",
        "\n",
        "        slices.append((sl, confidence, sum_))\n",
        "\n",
        "      dups[bounds[0]] = True\n",
        "\n",
        "  return slices\n",
        "\n",
        "\n",
        "\n",
        "\n",
        "##---test\n",
        "\n",
        "# find_charity_constraints(self.doc, GLOBALS__['CharterAnlysingContext'].pattern_factory, self._get_head_sections())\n",
        "# GLOBALS__['CharterAnlysingContext'].\n",
        "\n",
        "charity_constraints = find_charity_constraints(doc, \n",
        "                                               GLOBALS__['CharterAnlysingContext'].pattern_factory, \n",
        "                                               GLOBALS__['CharterAnlysingContext']._get_head_sections())\n"
      ],
      "execution_count": 0,
      "outputs": []
    },
    {
      "metadata": {
        "id": "QflbPNjUDQJT",
        "colab_type": "text"
      },
      "cell_type": "markdown",
      "source": [
        "#### Render charity constraints"
      ]
    },
    {
      "metadata": {
        "id": "AsbjbSMmDOnN",
        "colab_type": "code",
        "colab": {}
      },
      "cell_type": "code",
      "source": [
        "\n",
        "\n",
        " \n",
        "  \n",
        "\n",
        "\n",
        "\n",
        "#---CharterRenderer\n",
        "_CTX = GLOBALS__['CharterAnlysingContext']\n",
        "_cr = CharterRenderer()\n",
        "_cr.render_charter_parsing_results(_CTX.doc, _CTX.org, _CTX.constraints, _CTX.charity_constraints)\n",
        "# _cr.render_contents(_CTX.doc)\n"
      ],
      "execution_count": 0,
      "outputs": []
    },
    {
      "metadata": {
        "id": "nLEZH3mDiRUm",
        "colab_type": "code",
        "colab": {}
      },
      "cell_type": "code",
      "source": [
        "# # GLOBALS__['renderer'].render_color_text(subdoc.tokens_cc, subdoc.distances_per_pattern_dict['x_charity_1.2'], _range=(0,1))\n",
        "# # x = max_exclusive_pattern_by_prefix(subdoc.distances_per_pattern_dict, 'x_charity_')\n",
        "# import numpy as np\n",
        "# from text_tools import get_sentence_bounds_at_index\n",
        "# from ml_tools import filter_values_by_key_prefix,max_exclusive_pattern, momentum, smooth_safe, smooth, relu\n",
        "# from patterns import improve_attention_vector\n",
        "# vectors = filter_values_by_key_prefix(subdoc.distances_per_pattern_dict, 'x_charity_')\n",
        "# vectors_i=[]\n",
        "# for v in vectors:\n",
        "#   if max(v)>0.6:\n",
        "#     vector_i, _ = improve_attention_vector(subdoc.embeddings, v, relu_th=0.6, mix=0.9)\n",
        "#     vectors_i.append(vector_i)\n",
        "#   else:\n",
        "#     vectors_i.append(v)\n",
        "    \n",
        "# x = max_exclusive_pattern(vectors_i)\n",
        "# x=relu(x, 0.8)\n",
        "# i = np.argmax(x)\n",
        "# sl = slice( i-150, i+150)\n",
        "\n",
        "\n",
        "\n",
        "# dups={}\n",
        "# for i in np.nonzero(x)[0]:\n",
        "#   bounds = get_sentence_bounds_at_index( i, subdoc.tokens)\n",
        "  \n",
        "#   if bounds[0] not in dups:\n",
        "#     sl=slice(bounds[0], bounds[1])\n",
        "#     sum_ = sum(x[sl])\n",
        "\n",
        "#     if sum_ >2:\n",
        "#       GLOBALS__['renderer'].render_color_text(subdoc.tokens_cc[sl], x[sl], _range=(0,1))\n",
        "#       print(i, sum_)\n",
        "# #       yeld (bounds)\n",
        "\n",
        "#     dups[bounds[0]]=True"
      ],
      "execution_count": 0,
      "outputs": []
    },
    {
      "metadata": {
        "id": "oX4OH7NMBNUB",
        "colab_type": "text"
      },
      "cell_type": "markdown",
      "source": [
        "### Miscl\n"
      ]
    },
    {
      "metadata": {
        "id": "8h2m0krc_KM4",
        "colab_type": "code",
        "colab": {}
      },
      "cell_type": "code",
      "source": [
        "if False:\n",
        "  doc.embedd(GLOBALS__['ContractAnlysingContext'].hadlines_factory)\n"
      ],
      "execution_count": 0,
      "outputs": []
    },
    {
      "metadata": {
        "id": "vUnmEKg0HE0I",
        "colab_type": "code",
        "colab": {}
      },
      "cell_type": "code",
      "source": [
        "if False:\n",
        "  # GLOBALS__['ContractAnlysingContext'].hadlines_factory.\n",
        "\n",
        "  doc.calculate_distances_per_pattern(GLOBALS__['CharterAnlysingContext'].hadlines_factory)\n",
        "\n"
      ],
      "execution_count": 0,
      "outputs": []
    },
    {
      "metadata": {
        "id": "jqnUuNcxHlmc",
        "colab_type": "code",
        "colab": {}
      },
      "cell_type": "code",
      "source": [
        "# print(doc.distances_per_pattern_dict.keys())\n",
        "from legal_docs import rectifyed_sum_by_pattern_prefix\n",
        "\n",
        "from ml_tools import max_exclusive_pattern_by_prefix\n",
        "\n",
        "\n",
        "\n",
        "\n",
        "vv = max_exclusive_pattern_by_prefix(doc.distances_per_pattern_dict, 'headline.name.1')\n",
        "print(vv[0:10])\n",
        "\n",
        "\n",
        "\n",
        "# GLOBALS__['renderer'].render_color_text(doc.tokens_cc, vv)\n",
        "\n",
        "for s in doc.sections:\n",
        "  print (s)\n",
        "  \n",
        "if 'head.directors' in doc.sections:\n",
        "  subdoc = doc.sections['head.directors'].body\n",
        "  for ky in subdoc.distances_per_pattern_dict:\n",
        "    print(ky)\n",
        "  GLOBALS__['renderer'].render_color_text(subdoc.tokens_cc, subdoc.distances_per_pattern_dict['deal_attention_vector'])\n",
        "  \n"
      ],
      "execution_count": 0,
      "outputs": []
    },
    {
      "metadata": {
        "id": "7Rv4ja_xLmxW",
        "colab_type": "code",
        "colab": {}
      },
      "cell_type": "code",
      "source": [
        " \n",
        "\n",
        "level_by_line = [ max ( i._possible_levels) for i in doc.structure.structure ]\n",
        " \n",
        "\n",
        "\n",
        "headlines_attention_vector=[]\n",
        "for i in doc.structure.structure:\n",
        "  l = i.span[1]-i.span[0]\n",
        "  headlines_attention_vector+=[level_by_line[ i.line_number ]]*l\n",
        "  \n",
        "# print (pv[0:100])\n",
        "headlines_attention_vector = normalize(headlines_attention_vector)\n",
        "headlines_attention_vector = relu(headlines_attention_vector, 0.4)\n",
        "\n",
        "# headlines_attention_vector = smooth(headlines_attention_vector, 20)\n",
        "\n",
        "av= relu(headlines_attention_vector/2 + vv, 0.6)\n",
        "av = momentum(av, 0.99)\n",
        "\n",
        "GLOBALS__['renderer'].render_color_text(doc.tokens_cc, av)\n",
        "\n",
        "\n"
      ],
      "execution_count": 0,
      "outputs": []
    },
    {
      "metadata": {
        "id": "kT3NPG52fAjK",
        "colab_type": "text"
      },
      "cell_type": "markdown",
      "source": [
        "## Meta-pattern! (Cool!!(!))\n",
        "типа самообучение"
      ]
    },
    {
      "metadata": {
        "id": "xUcxb8lmc1Dq",
        "colab_type": "code",
        "colab": {}
      },
      "cell_type": "code",
      "source": [
        "# ---------\n",
        "from patterns import FuzzyPattern\n",
        "best_id=np.argmax(av)\n",
        "best_embedding_v = doc.embeddings[best_id]\n",
        "\n",
        "meta_pattern=FuzzyPattern('s-meta-na')\n",
        "meta_pattern.embeddings =  np.array([ best_embedding_v ])\n",
        "\n",
        "meta_pattern_attention = 1.0 - meta_pattern._eval_distances(doc.embeddings)\n",
        "meta_pattern_attention = relu(meta_pattern_attention,  0.7)\n",
        "\n",
        "\n",
        "GLOBALS__['renderer'].render_color_text(doc.tokens_cc, meta_pattern_attention, _range=(0,1))"
      ],
      "execution_count": 0,
      "outputs": []
    },
    {
      "metadata": {
        "id": "uFctYf9efjFt",
        "colab_type": "code",
        "colab": {}
      },
      "cell_type": "code",
      "source": [
        "import matplotlib as mpl\n",
        "import matplotlib.pyplot as plt\n",
        "fig = plt.figure(figsize=(20, 6))\n",
        "ax = plt.axes()\n",
        "span=1400\n",
        "ax.plot(meta_pattern_attention[best_id-span:best_id+span], alpha=0.5, color='green', label='meta_pattern_attention');\n",
        "ax.plot(normalize(av[best_id-span:best_id+span]), alpha=0.5, color='red', label='av');\n",
        " "
      ],
      "execution_count": 0,
      "outputs": []
    },
    {
      "metadata": {
        "id": "CsmnVkodzR7h",
        "colab_type": "text"
      },
      "cell_type": "markdown",
      "source": [
        "# step 2. Договор"
      ]
    },
    {
      "metadata": {
        "id": "ysQTF-wAzwtV",
        "colab_type": "code",
        "colab": {
          "resources": {
            "http://localhost:8080/nbextensions/google.colab/files.js": {
              "data": "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",
              "ok": true,
              "headers": [
                [
                  "content-type",
                  "application/javascript"
                ]
              ],
              "status": 200,
              "status_text": ""
            }
          },
          "base_uri": "https://localhost:8080/",
          "height": 1870
        },
        "outputId": "40bec82f-8610-40ee-f9c7-ddccc4c36787"
      },
      "cell_type": "code",
      "source": [
        "_init_the_code(True)\n",
        "\n",
        "uploaded = interactive_upload('Договор в законе')\n",
        "\n",
        "GLOBALS__['ContractAnlysingContext'].analyze_contract(uploaded[0])\n",
        "doc = GLOBALS__['ContractAnlysingContext'].contract\n",
        "\n",
        "GLOBALS__['renderer'].render_subj(doc)\n",
        "GLOBALS__['renderer'].render_contents(doc)\n",
        "\n",
        "\n"
      ],
      "execution_count": 5,
      "outputs": [
        {
          "output_type": "stream",
          "text": [
            "❤️ DONE initializing the code\n",
            "Please select \"Договор в законе\" .docx file:\n"
          ],
          "name": "stdout"
        },
        {
          "output_type": "display_data",
          "data": {
            "text/html": [
              "\n",
              "     <input type=\"file\" id=\"files-c40ef9b0-3519-4218-9b6e-e4a346c03b44\" name=\"files[]\" multiple disabled />\n",
              "     <output id=\"result-c40ef9b0-3519-4218-9b6e-e4a346c03b44\">\n",
              "      Upload widget is only available when the cell has been executed in the\n",
              "      current browser session. Please rerun this cell to enable.\n",
              "      </output>\n",
              "      <script src=\"/nbextensions/google.colab/files.js\"></script> "
            ],
            "text/plain": [
              "<IPython.core.display.HTML object>"
            ]
          },
          "metadata": {
            "tags": []
          }
        },
        {
          "output_type": "stream",
          "text": [
            "Saving договор 7.docx to договор 7 (1).docx\n",
            "User uploaded file \"договор 7.docx\" with length 27340 bytes\n",
            "Символов в оригинальном документе: 8013\n",
            "❤️ ACCOMPLISHED: \t 0.\t parsing document 👞 and detecting document high-level structure\n",
            "🐌 Embedding 1300 words... it takes time (☕️?)..\n",
            "INFO:tensorflow:Saver not created because there are no variables in the graph to restore\n"
          ],
          "name": "stdout"
        },
        {
          "output_type": "stream",
          "text": [
            "I0425 06:28:08.547848 139711276996480 saver.py:1483] Saver not created because there are no variables in the graph to restore\n"
          ],
          "name": "stderr"
        },
        {
          "output_type": "stream",
          "text": [
            "Embedding complete 🐌 ; the shape is (1, 1300, 1024)\n",
            "Function _emb called 1 times. \n",
            "Execution time max: 5.2021, average: 5.2021\n",
            "----------------- LegalDocument legal_doc.pricecond deleted. Ciao bella!\n",
            "❤️ ACCOMPLISHED: \t 1.\t Splitting Document into sections ✂️ 📃 -> 📄📄📄\n",
            "----WARNING!: function rectifyed_sum_by_pattern_prefix is deprecated\n",
            "⚠️ WARNING: - В разделе \"Стоимость услуг и порядок расчетов\" стоимость сделки не найдена!\n"
          ],
          "name": "stdout"
        },
        {
          "output_type": "display_data",
          "data": {
            "text/html": [
              "<h3 style=\"margin:0\">Стоимость услуг и порядок расчетов</h3> <div style=\"margin-left:4em; font-size=90%\"><span title=\"0 0.0000\" style=\"background-color:#aac7fd\">Стоимость </span><span title=\"1 0.0000\" style=\"background-color:#aac7fd\">услуг </span><span title=\"2 0.0000\" style=\"background-color:#aac7fd\">и </span><span title=\"3 0.0000\" style=\"background-color:#aac7fd\">порядок </span><span title=\"4 0.0000\" style=\"background-color:#aac7fd\">расчетов </span><span title=\"5 0.0000\" style=\"background-color:#aac7fd\">\n",
              " </span><br><span title=\"6 0.0000\" style=\"background-color:#aac7fd\">\n",
              " </span><br><span title=\"7 0.0000\" style=\"background-color:#aac7fd\">Стоимость </span><span title=\"8 0.0000\" style=\"background-color:#aac7fd\">услуг </span><span title=\"9 0.0000\" style=\"background-color:#aac7fd\">по </span><span title=\"10 0.0000\" style=\"background-color:#aac7fd\">настоящему </span><span title=\"11 0.0000\" style=\"background-color:#aac7fd\">договору </span><span title=\"12 0.0000\" style=\"background-color:#aac7fd\">определяется </span><span title=\"13 0.0000\" style=\"background-color:#aac7fd\">в </span><span title=\"14 0.0000\" style=\"background-color:#aac7fd\">соответствии </span><span title=\"15 0.0000\" style=\"background-color:#aac7fd\">с </span><span title=\"16 0.0000\" style=\"background-color:#aac7fd\">Тарифами </span><span title=\"17 0.0000\" style=\"background-color:#aac7fd\">на </span><span title=\"18 0.0000\" style=\"background-color:#aac7fd\">оказание </span><span title=\"19 0.0000\" style=\"background-color:#aac7fd\">услуг </span><span title=\"20 0.0000\" style=\"background-color:#aac7fd\">по </span><span title=\"21 0.0000\" style=\"background-color:#aac7fd\">перемещению </span><span title=\"22 0.0000\" style=\"background-color:#aac7fd\">( </span><span title=\"23 0.0000\" style=\"background-color:#aac7fd\">эвакуации </span><span title=\"24 0.0000\" style=\"background-color:#aac7fd\">) </span><span title=\"25 0.0000\" style=\"background-color:#aac7fd\">ТС </span><span title=\"26 0.0000\" style=\"background-color:#aac7fd\">( </span><span title=\"27 0.0000\" style=\"background-color:#aac7fd\">Приложение </span><span title=\"28 0.0000\" style=\"background-color:#aac7fd\">№ </span><span title=\"29 0.5705\" style=\"background-color:#f7a889\">1 </span><span title=\"30 0.4909\" style=\"background-color:#f7b99e\">) </span><span title=\"31 0.4274\" style=\"background-color:#f4c6af\">, </span><span title=\"32 0.3749\" style=\"background-color:#efcebd\">являющимися </span><span title=\"33 0.3171\" style=\"background-color:#e8d6cc\">неотъемлемой </span><span title=\"34 0.2674\" style=\"background-color:#dfdbd9\">частью </span><span title=\"35 0.2400\" style=\"background-color:#dbdcde\">настоящего </span><span title=\"36 0.2353\" style=\"background-color:#dadce0\">договора </span><span title=\"37 0.2260\" style=\"background-color:#d8dce2\">. </span><span title=\"38 0.0000\" style=\"background-color:#aac7fd\">\n",
              " </span><br><span title=\"39 0.0000\" style=\"background-color:#aac7fd\">Основанием </span><span title=\"40 0.0000\" style=\"background-color:#aac7fd\">для </span><span title=\"41 0.0000\" style=\"background-color:#aac7fd\">оплаты </span><span title=\"42 0.0000\" style=\"background-color:#aac7fd\">услуг </span><span title=\"43 0.0000\" style=\"background-color:#aac7fd\">по </span><span title=\"44 0.0000\" style=\"background-color:#aac7fd\">настоящему </span><span title=\"45 0.0000\" style=\"background-color:#aac7fd\">договору </span><span title=\"46 0.0000\" style=\"background-color:#aac7fd\">является </span><span title=\"47 0.0000\" style=\"background-color:#aac7fd\">счет </span><span title=\"48 0.0000\" style=\"background-color:#aac7fd\">на </span><span title=\"49 0.0000\" style=\"background-color:#aac7fd\">оплату </span><span title=\"50 0.0000\" style=\"background-color:#aac7fd\">( </span><span title=\"51 0.0000\" style=\"background-color:#aac7fd\">включающий </span><span title=\"52 0.0000\" style=\"background-color:#aac7fd\">марку </span><span title=\"53 0.0000\" style=\"background-color:#aac7fd\">ТС </span><span title=\"54 0.0000\" style=\"background-color:#aac7fd\">и </span><span title=\"55 0.0000\" style=\"background-color:#aac7fd\">регистрационный </span><span title=\"56 0.0000\" style=\"background-color:#aac7fd\">знак </span><span title=\"57 0.0000\" style=\"background-color:#aac7fd\">) </span><span title=\"58 0.0000\" style=\"background-color:#aac7fd\">, </span><span title=\"59 0.0000\" style=\"background-color:#aac7fd\">составляемый </span><span title=\"60 0.0000\" style=\"background-color:#aac7fd\">исполнителем </span><span title=\"61 0.0000\" style=\"background-color:#aac7fd\">и </span><span title=\"62 0.0000\" style=\"background-color:#aac7fd\">предоставляемый </span><span title=\"63 0.0000\" style=\"background-color:#aac7fd\">Заказчику </span><span title=\"64 0.0000\" style=\"background-color:#aac7fd\">вместе </span><span title=\"65 0.0000\" style=\"background-color:#aac7fd\">с </span><span title=\"66 0.0000\" style=\"background-color:#aac7fd\">Актом </span><span title=\"67 0.0000\" style=\"background-color:#aac7fd\">выполненных </span><span title=\"68 0.0000\" style=\"background-color:#aac7fd\">работ </span><span title=\"69 0.0000\" style=\"background-color:#aac7fd\">. </span><span title=\"70 0.0000\" style=\"background-color:#aac7fd\">\n",
              " </span><br><span title=\"71 0.0000\" style=\"background-color:#aac7fd\">Оплата </span><span title=\"72 0.0000\" style=\"background-color:#aac7fd\">услуг </span><span title=\"73 0.0000\" style=\"background-color:#aac7fd\">по </span><span title=\"74 0.0000\" style=\"background-color:#aac7fd\">настоящему </span><span title=\"75 0.0000\" style=\"background-color:#aac7fd\">договору </span><span title=\"76 0.0000\" style=\"background-color:#aac7fd\">производится </span><span title=\"77 0.0000\" style=\"background-color:#aac7fd\">Заказчиком </span><span title=\"78 0.0000\" style=\"background-color:#aac7fd\">по </span><span title=\"79 0.0000\" style=\"background-color:#aac7fd\">безналичному </span><span title=\"80 0.0000\" style=\"background-color:#aac7fd\">расчету </span><span title=\"81 0.0000\" style=\"background-color:#aac7fd\">на </span><span title=\"82 0.0000\" style=\"background-color:#aac7fd\">расчетный </span><span title=\"83 0.0000\" style=\"background-color:#aac7fd\">счет </span><span title=\"84 0.0000\" style=\"background-color:#aac7fd\">Исполнителя </span><span title=\"85 0.0000\" style=\"background-color:#aac7fd\">по </span><span title=\"86 0.0000\" style=\"background-color:#aac7fd\">реквизитам </span><span title=\"87 0.0000\" style=\"background-color:#aac7fd\">, </span><span title=\"88 0.0000\" style=\"background-color:#aac7fd\">указанным </span><span title=\"89 0.0000\" style=\"background-color:#aac7fd\">в </span><span title=\"90 0.0000\" style=\"background-color:#aac7fd\">счете </span><span title=\"91 0.0000\" style=\"background-color:#aac7fd\">на </span><span title=\"92 0.0000\" style=\"background-color:#aac7fd\">оплату </span><span title=\"93 0.0000\" style=\"background-color:#aac7fd\">. </span><span title=\"94 0.0000\" style=\"background-color:#aac7fd\">\n",
              " </span><br><span title=\"95 0.0000\" style=\"background-color:#aac7fd\">Оплата </span><span title=\"96 0.0000\" style=\"background-color:#aac7fd\">услуг </span><span title=\"97 0.0000\" style=\"background-color:#aac7fd\">по </span><span title=\"98 0.0000\" style=\"background-color:#aac7fd\">настоящему </span><span title=\"99 0.0000\" style=\"background-color:#aac7fd\">договору </span><span title=\"100 0.0000\" style=\"background-color:#aac7fd\">осуществляется </span><span title=\"101 0.0000\" style=\"background-color:#aac7fd\">в </span><span title=\"102 0.0000\" style=\"background-color:#aac7fd\">течение </span><span title=\"103 0.5061\" style=\"background-color:#f7b79b\">10 </span><span title=\"104 0.4725\" style=\"background-color:#f6bea4\">( </span><span title=\"105 0.3812\" style=\"background-color:#f0cdbb\">десяти </span><span title=\"106 0.3096\" style=\"background-color:#e7d7ce\">) </span><span title=\"107 0.2094\" style=\"background-color:#d6dce4\">банковских </span><span title=\"108 0.2147\" style=\"background-color:#d6dce4\">дней </span><span title=\"109 0.2028\" style=\"background-color:#d4dbe6\">с </span><span title=\"110 0.0000\" style=\"background-color:#aac7fd\">момента </span><span title=\"111 0.0000\" style=\"background-color:#aac7fd\">получения </span><span title=\"112 0.0000\" style=\"background-color:#aac7fd\">Заказчиком </span><span title=\"113 0.0000\" style=\"background-color:#aac7fd\">счета </span><span title=\"114 0.0000\" style=\"background-color:#aac7fd\">и </span><span title=\"115 0.0000\" style=\"background-color:#aac7fd\">акта </span><span title=\"116 0.0000\" style=\"background-color:#aac7fd\">выполненных </span><span title=\"117 0.0000\" style=\"background-color:#aac7fd\">работ </span><span title=\"118 0.0000\" style=\"background-color:#aac7fd\">. </span><span title=\"119 0.0000\" style=\"background-color:#aac7fd\">\n",
              " </span><br><span title=\"120 0.0000\" style=\"background-color:#aac7fd\">Обязательство </span><span title=\"121 0.0000\" style=\"background-color:#aac7fd\">по </span><span title=\"122 0.0000\" style=\"background-color:#aac7fd\">оплате </span><span title=\"123 0.0000\" style=\"background-color:#aac7fd\">считается </span><span title=\"124 0.0000\" style=\"background-color:#aac7fd\">исполненным </span><span title=\"125 0.0000\" style=\"background-color:#aac7fd\">Заказчиком </span><span title=\"126 0.0000\" style=\"background-color:#aac7fd\">в </span><span title=\"127 0.0000\" style=\"background-color:#aac7fd\">момент </span><span title=\"128 0.0000\" style=\"background-color:#aac7fd\">зачисления </span><span title=\"129 0.0000\" style=\"background-color:#aac7fd\">денежных </span><span title=\"130 0.0000\" style=\"background-color:#aac7fd\">средств </span><span title=\"131 0.0000\" style=\"background-color:#aac7fd\">на </span><span title=\"132 0.0000\" style=\"background-color:#aac7fd\">расчетный </span><span title=\"133 0.0000\" style=\"background-color:#aac7fd\">счет </span><span title=\"134 0.0000\" style=\"background-color:#aac7fd\">Исполнителя </span><span title=\"135 0.0000\" style=\"background-color:#aac7fd\">. </span><span title=\"136 0.0000\" style=\"background-color:#aac7fd\">\n",
              " </span><br><span title=\"137 0.0000\" style=\"background-color:#aac7fd\">\n",
              " </span><br></div>"
            ],
            "text/plain": [
              "<IPython.core.display.HTML object>"
            ]
          },
          "metadata": {
            "tags": []
          }
        },
        {
          "output_type": "stream",
          "text": [
            "❤️ ACCOMPLISHED: \t 2.\t searching for transaction values in section  \"Стоимость услуг и порядок расчетов\"\n",
            "- Ищем стоимость в разделе Предмет договора\n",
            "alt price section DOC --------------------\n"
          ],
          "name": "stdout"
        },
        {
          "output_type": "display_data",
          "data": {
            "text/html": [
              "<h3 style=\"margin:0\">Предмет договора</h3> <div style=\"margin-left:4em; font-size=90%\"><span title=\"0 0.0000\" style=\"background-color:#aac7fd\">Предмет </span><span title=\"1 0.0000\" style=\"background-color:#aac7fd\">договора </span><span title=\"2 0.0000\" style=\"background-color:#aac7fd\">\n",
              " </span><br><span title=\"3 0.0000\" style=\"background-color:#aac7fd\">1.1 </span><span title=\"4 0.0000\" style=\"background-color:#aac7fd\">. </span><span title=\"5 0.0000\" style=\"background-color:#aac7fd\">Заказчик </span><span title=\"6 0.0000\" style=\"background-color:#aac7fd\">поручает </span><span title=\"7 0.0000\" style=\"background-color:#aac7fd\">, </span><span title=\"8 0.0000\" style=\"background-color:#aac7fd\">а </span><span title=\"9 0.0000\" style=\"background-color:#aac7fd\">Исполнитель </span><span title=\"10 0.0000\" style=\"background-color:#aac7fd\">принимает </span><span title=\"11 0.0000\" style=\"background-color:#aac7fd\">на </span><span title=\"12 0.0000\" style=\"background-color:#aac7fd\">себя </span><span title=\"13 0.0000\" style=\"background-color:#aac7fd\">обязательства </span><span title=\"14 0.0000\" style=\"background-color:#aac7fd\">осуществлять </span><span title=\"15 0.0000\" style=\"background-color:#aac7fd\">комплекс </span><span title=\"16 0.0000\" style=\"background-color:#aac7fd\">услуг </span><span title=\"17 0.0000\" style=\"background-color:#aac7fd\">по </span><span title=\"18 0.0000\" style=\"background-color:#aac7fd\">эвакуации </span><span title=\"19 0.0000\" style=\"background-color:#aac7fd\">транспортных </span><span title=\"20 0.0000\" style=\"background-color:#aac7fd\">средств </span><span title=\"21 0.0000\" style=\"background-color:#aac7fd\">Заказчика </span><span title=\"22 0.0000\" style=\"background-color:#aac7fd\">согласно </span><span title=\"23 0.0000\" style=\"background-color:#aac7fd\">представленному </span><span title=\"24 0.0000\" style=\"background-color:#aac7fd\">списку </span><span title=\"25 -0.0000\" style=\"background-color:#aac7fd\">в </span><span title=\"26 0.0000\" style=\"background-color:#aac7fd\">пределах </span><span title=\"27 0.0000\" style=\"background-color:#aac7fd\">сообщенных </span><span title=\"28 0.0000\" style=\"background-color:#aac7fd\">Заказчиком </span><span title=\"29 0.0000\" style=\"background-color:#aac7fd\">. </span><span title=\"30 -0.0000\" style=\"background-color:#aac7fd\">\n",
              " </span><br><span title=\"31 -0.0000\" style=\"background-color:#aac7fd\">\n",
              " </span><br></div>"
            ],
            "text/plain": [
              "<IPython.core.display.HTML object>"
            ]
          },
          "metadata": {
            "tags": []
          }
        },
        {
          "output_type": "stream",
          "text": [
            "❤️ ACCOMPLISHED: \t 3.\t searching for transaction values in section  \"Предмет договора\"\n",
            "⚠️ WARNING: - В разделе \"Предмет договора\" стоимость сделки не найдена!\n",
            "⚠️ WARNING: - Ищем стоимость во всем документе!\n",
            "ENTIRE DOC --------------------------------------------------------------------------------------------------------------------------------------------\n",
            "❤️ ACCOMPLISHED: \t 4.\t searching for transaction values in the entire document\n",
            "❤️ ACCOMPLISHED: \t 5.\t fetching transaction values\n"
          ],
          "name": "stdout"
        },
        {
          "output_type": "display_data",
          "data": {
            "text/html": [
              "сумма не найдена"
            ],
            "text/plain": [
              "<IPython.core.display.HTML object>"
            ]
          },
          "metadata": {
            "tags": []
          }
        },
        {
          "output_type": "stream",
          "text": [
            "Recent parsing warnings:\n",
            "\t\t ⚠️ WARNING: - В разделе \"Стоимость услуг и порядок расчетов\" стоимость сделки не найдена!\n",
            "\t\t ⚠️ WARNING: - В разделе \"Предмет договора\" стоимость сделки не найдена!\n",
            "\t\t ⚠️ WARNING: - Ищем стоимость во всем документе!\n"
          ],
          "name": "stdout"
        },
        {
          "output_type": "display_data",
          "data": {
            "text/html": [
              "Предмет договора:<h3 style=\"margin:0\">Совершение сделки<sup> ContractSubject.Deal</sup> </h3> confidence:                0.07"
            ],
            "text/plain": [
              "<IPython.core.display.HTML object>"
            ]
          },
          "metadata": {
            "tags": []
          }
        },
        {
          "output_type": "display_data",
          "data": {
            "text/html": [
              "<h3 style=\"margin:0\">Выявленное Содержание документа</h3><ul><li> ДОГОВОР № ___________________ <sup>line 0</sup></li><li> Предмет договора <sup>line 7</sup></li><li> 2. Обязательства сторон <sup>line 10</sup></li><li> Приемка услуг <sup>line 29</sup></li><li> Ответственность сторон <sup>line 41</sup></li><li> 6. Срок действия договора <sup>line 50</sup></li><li> 7. Порядок разрешения споров <sup>line 57</sup></li><li> 8. Прочие положения <sup>line 63</sup></li><li> 9. Реквизиты и подписи сторон <sup>line 73</sup></li><li> БИК 045004725 <sup>line 90</sup></li></ul>"
            ],
            "text/plain": [
              "<IPython.core.display.HTML object>"
            ]
          },
          "metadata": {
            "tags": []
          }
        },
        {
          "output_type": "display_data",
          "data": {
            "image/png": "[encoded data removed]",
            "text/plain": [
              "<Figure size 1440x432 with 1 Axes>"
            ]
          },
          "metadata": {
            "tags": []
          }
        },
        {
          "output_type": "display_data",
          "data": {
            "image/png": "[encoded data removed]",
            "text/plain": [
              "<Figure size 1440x432 with 1 Axes>"
            ]
          },
          "metadata": {
            "tags": []
          }
        }
      ]
    },
    {
      "metadata": {
        "id": "vHF4mlGBAEAh",
        "colab_type": "code",
        "colab": {
          "base_uri": "https://localhost:8080/",
          "height": 252
        },
        "outputId": "d174b8a4-266b-4136-c866-c8e0577c95ad"
      },
      "cell_type": "code",
      "source": [
        "_init_the_code(True)\n",
        "GLOBALS__['renderer'].render_subj(doc)\n",
        "GLOBALS__['renderer'].render_contents(doc)"
      ],
      "execution_count": 6,
      "outputs": [
        {
          "output_type": "stream",
          "text": [
            "❤️ DONE initializing the code\n"
          ],
          "name": "stdout"
        },
        {
          "output_type": "display_data",
          "data": {
            "text/html": [
              "Предмет договора:<h3 style=\"margin:0\">Совершение сделки<sup> ContractSubject.Deal</sup> </h3> confidence:                0.07"
            ],
            "text/plain": [
              "<IPython.core.display.HTML object>"
            ]
          },
          "metadata": {
            "tags": []
          }
        },
        {
          "output_type": "display_data",
          "data": {
            "text/html": [
              "<h3 style=\"margin:0\">Выявленное Содержание документа</h3><ul><li> Договор пожертвования <sup>line 0</sup></li><li> 1. ПРЕДМЕТ ДОГОВОРА. <sup>line 3</sup></li><li> ПРАВА И ОБЯЗАННОСТИ СТОРОН. <sup>line 6</sup></li><li> 3. СРОК ДЕЙСТВИЯ ДОГОВОРА. <sup>line 13</sup></li><li> 5. РАСТОРЖЕНИЕ ДОГОВОРА. <sup>line 18</sup></li><li> 6. ДОПОЛНИТЕЛЬНЫЕ УСЛОВИЯ. <sup>line 20</sup></li><li> 7. РЕКВИЗИТЫ СТОРОН <sup>line 24</sup></li></ul>"
            ],
            "text/plain": [
              "<IPython.core.display.HTML object>"
            ]
          },
          "metadata": {
            "tags": []
          }
        }
      ]
    },
    {
      "metadata": {
        "id": "QGv3HNDn5sFP",
        "colab_type": "text"
      },
      "cell_type": "markdown",
      "source": [
        "### Ext"
      ]
    },
    {
      "metadata": {
        "id": "J1iHjpFi5trH",
        "colab_type": "code",
        "colab": {
          "base_uri": "https://localhost:8080/",
          "height": 66
        },
        "outputId": "c9d97d9f-e37b-4f0c-f0ed-5dd0218383ee"
      },
      "cell_type": "code",
      "source": [
        "[(y.confidence, y.value) for y in sorted(GLOBALS__['ContractAnlysingContext'].contract.subjects, key=lambda x:-x.confidence )]"
      ],
      "execution_count": 7,
      "outputs": [
        {
          "output_type": "execute_result",
          "data": {
            "text/plain": [
              "[(0.07084129452705383, <ContractSubject.Deal: 0>),\n",
              " (0.07051540613174438, <ContractSubject.Charity: 1>),\n",
              " (0.0, <ContractSubject.RealEstate: 4>)]"
            ]
          },
          "metadata": {
            "tags": []
          },
          "execution_count": 7
        }
      ]
    },
    {
      "metadata": {
        "id": "K5oq9UKV6GjV",
        "colab_type": "code",
        "colab": {}
      },
      "cell_type": "code",
      "source": [
        "GLOBALS__['ContractAnlysingContext'].contract.subjects[0].__dict__"
      ],
      "execution_count": 0,
      "outputs": []
    },
    {
      "metadata": {
        "id": "gp_RaSmD6Jkx",
        "colab_type": "code",
        "colab": {}
      },
      "cell_type": "code",
      "source": [
        "GLOBALS__['ContractAnlysingContext'].contract.subjects[1].__dict__"
      ],
      "execution_count": 0,
      "outputs": []
    },
    {
      "metadata": {
        "id": "EvJhXqHE6NuB",
        "colab_type": "code",
        "colab": {}
      },
      "cell_type": "code",
      "source": [
        "GLOBALS__['ContractAnlysingContext'].contract.subjects[2].__dict__"
      ],
      "execution_count": 0,
      "outputs": []
    },
    {
      "metadata": {
        "id": "li0QqB4C7OiN",
        "colab_type": "code",
        "colab": {}
      },
      "cell_type": "code",
      "source": [
        "GLOBALS__['CharterAnlysingContext'].charter.subjects[2].__dict__"
      ],
      "execution_count": 0,
      "outputs": []
    },
    {
      "metadata": {
        "id": "XmvvF--J5wEH",
        "colab_type": "code",
        "colab": {
          "base_uri": "https://localhost:8080/",
          "height": 53
        },
        "outputId": "4d677a48-2959-4e8a-a3d8-cd2ac0fe4767"
      },
      "cell_type": "code",
      "source": [
        "GLOBALS__['ContractAnlysingContext'].contract.sections\n",
        "doc = GLOBALS__['ContractAnlysingContext'].contract\n",
        "\n",
        "' '.join(doc.sections['subj'].body.tokens)"
      ],
      "execution_count": 18,
      "outputs": [
        {
          "output_type": "execute_result",
          "data": {
            "text/plain": [
              "'1 . предмет договора . \\n 1.1 благотворитель оплачивает следующий счет , выставленный на благополучателя : \\n 1.1.1 . счет № 115 на приобретение спортивного оборудования ( теннисный стол , рукоход с перекладинами , шведская стенка ) . стоимость оборудования 80 000,00 ( восемьдесят тысяч рублей рублей 00 копеек ) рублей , ндс не облагается . \\n'"
            ]
          },
          "metadata": {
            "tags": []
          },
          "execution_count": 18
        }
      ]
    },
    {
      "metadata": {
        "id": "luCNXqvl8RPe",
        "colab_type": "code",
        "colab": {
          "base_uri": "https://localhost:8080/",
          "height": 183
        },
        "outputId": "82a58d28-627c-4e9f-8609-21c378fd5983"
      },
      "cell_type": "code",
      "source": [
        "doc.sections\n",
        "\n",
        "from contract_parser import _try_to_fetch_value_from_section\n",
        "from legal_docs import LegalDocument, extract_sum_and_sign_3, _expand_slice\n",
        "from contract_patterns import ContractPatternFactory\n",
        "from ml_tools import *\n",
        "from transaction_values import complete_re\n",
        "import re\n",
        "\n",
        "def extract_all_contraints_from_sr_2(search_result: LegalDocument, attention_vector: List[float]) -> List[ProbableValue]:\n",
        "\n",
        "  def __tokens_before_index(string, index):\n",
        "    return len(string[:index].split(' '))\n",
        "\n",
        "  sentence = ' '.join(search_result.tokens)\n",
        "  print(\"SENT:\",sentence)\n",
        "  all_values = [slice(m.start(0), m.end(0)) for m in re.finditer(complete_re, sentence)]\n",
        "  constraints: List[ProbableValue] = []\n",
        "\n",
        "  for a in all_values:\n",
        "    # print(tokens_before_index(sentence, a.start), 'from', sentence[a])\n",
        "    token_index_s = __tokens_before_index(sentence, a.start) - 1\n",
        "    token_index_e = __tokens_before_index(sentence, a.stop)\n",
        "\n",
        "    region = slice(token_index_s, token_index_e)\n",
        "\n",
        "    print('REG:',' '.join( search_result.tokens[region] ))\n",
        "    \n",
        "    \n",
        "    vc = extract_sum_and_sign_3(search_result, region)\n",
        "    _e = _expand_slice(region, 10)\n",
        "    vc.context = TokensWithAttention(search_result.tokens[_e], attention_vector[_e])\n",
        "    confidence = attention_vector[region.start]\n",
        "    pv = ProbableValue(vc, confidence)\n",
        "\n",
        "    constraints.append(pv)\n",
        "\n",
        "  return constraints\n",
        "\n",
        "\n",
        "def _try_to_fetch_value_from_section_2(value_section: LegalDocument, factory: ContractPatternFactory) -> List[\n",
        "  ProbableValue]:\n",
        "\n",
        "  value_section.calculate_distances_per_pattern(factory)\n",
        "\n",
        "\n",
        "\n",
        "  vectors = factory.make_contract_value_attention_vectors(value_section)\n",
        "\n",
        "  value_section.distances_per_pattern_dict = {**value_section.distances_per_pattern_dict, **vectors}\n",
        "\n",
        "  values: List[ProbableValue] = extract_all_contraints_from_sr_2(value_section,\n",
        "                                                                     value_section.distances_per_pattern_dict[\n",
        "                                                                       'value_attention_vector_tuned'])\n",
        "\n",
        "  return values\n",
        "\n",
        "values =_try_to_fetch_value_from_section_2(doc.sections['subj'].body,  GLOBALS__['ContractAnlysingContext'].pattern_factory)\n",
        "\n",
        "for v in values:\n",
        "  print ('confidence=',v.confidence)\n",
        "  print(v.value.__dict__)\n",
        "  print(' '.join( v.value.context.tokens ))\n",
        "  \n",
        "  \n"
      ],
      "execution_count": 43,
      "outputs": [
        {
          "output_type": "stream",
          "text": [
            "SENT: 1 . предмет договора . \n",
            " 1.1 благотворитель оплачивает следующий счет , выставленный на благополучателя : \n",
            " 1.1.1 . счет № 115 на приобретение спортивного оборудования ( теннисный стол , рукоход с перекладинами , шведская стенка ) . стоимость оборудования 80 000,00 ( восемьдесят тысяч рублей рублей 00 копеек ) рублей , ндс не облагается . \n",
            "\n",
            "REG: 80 000,00 ( восемьдесят тысяч рублей рублей 00 копеек ) рублей ,\n",
            "confidence= 0.5954930591702461\n",
            "{'value': 80000.0, 'currency': 'RUB', 'sign': 0, 'context': <ml_tools.TokensWithAttention object at 0x7f24d6aa9400>}\n",
            "рукоход с перекладинами , шведская стенка ) . стоимость оборудования 80 000,00 ( восемьдесят тысяч рублей рублей 00 копеек ) рублей , ндс не облагается . \n",
            "\n"
          ],
          "name": "stdout"
        }
      ]
    },
    {
      "metadata": {
        "id": "GnyR3dSIzUyE",
        "colab_type": "text"
      },
      "cell_type": "markdown",
      "source": [
        "# step 3. Поиск вреда"
      ]
    },
    {
      "metadata": {
        "id": "3ob6Mmo4z5BZ",
        "colab_type": "code",
        "colab": {}
      },
      "cell_type": "code",
      "source": [
        "find_and_show_violations()"
      ],
      "execution_count": 0,
      "outputs": []
    },
    {
      "metadata": {
        "id": "Qo8nIebSl7rE",
        "colab_type": "text"
      },
      "cell_type": "markdown",
      "source": [
        "### subj correlations"
      ]
    },
    {
      "metadata": {
        "id": "KWXN-Ecjl_GZ",
        "colab_type": "code",
        "colab": {}
      },
      "cell_type": "code",
      "source": [
        "print(GLOBALS__['ContractAnlysingContext'].contract.sections['subj'].body.untokenize_cc())\n",
        "print(\"-\"*20)\n",
        "print(GLOBALS__['CharterAnlysingContext'].constraints['head.directors']['sentences'][1]['subdoc'].untokenize_cc())\n",
        "\n",
        "\n",
        "docA=GLOBALS__['ContractAnlysingContext'].contract.sections['subj'].body\n",
        "docB=GLOBALS__['CharterAnlysingContext'].constraints['head.directors']['sentences'][1]['subdoc']\n",
        "\n",
        "\n",
        "GLOBALS__['CharterAnlysingContext'].constraints['head.directors']['sentences'][1]"
      ],
      "execution_count": 0,
      "outputs": []
    },
    {
      "metadata": {
        "id": "TboOY5t3plhK",
        "colab_type": "code",
        "colab": {}
      },
      "cell_type": "code",
      "source": [
        "# GLOBALS__['CharterAnlysingContext'].doc.constraints\n",
        "_init_the_code(reset=True)\n",
        " "
      ],
      "execution_count": 0,
      "outputs": []
    },
    {
      "metadata": {
        "id": "PGcbxq5poBH5",
        "colab_type": "code",
        "colab": {}
      },
      "cell_type": "code",
      "source": [
        "from patterns import dist_mean_cosine as DF\n",
        "from text_tools import untokenize\n",
        "\n",
        "#\n",
        "# docA.embedd( GLOBALS__['CharterAnlysingContext'].pattern_factory )\n",
        "# docB.embeddings[0:10]\n",
        "# docA.embeddings = None\n",
        "import numpy as np\n",
        "\n",
        "\n",
        "def match_contract_to_charter_constraints(contract, charter, charter_constraints, charity_constraints):\n",
        "  \"\"\"\n",
        "  find best constraint to apply to Contract\n",
        "  \"\"\"\n",
        "\n",
        "  r_quotes = []\n",
        "  r_vector = []\n",
        "\n",
        "  quote_slice = slice(0, 17)\n",
        "\n",
        "  if 'subj' not in contract.sections:\n",
        "    raise ValueError(\"contract has no subject section\")\n",
        "\n",
        "  subj = contract.sections['subj'].body\n",
        "  print(subj.untokenize_cc())\n",
        "  print('------')\n",
        "  if subj.embeddings is None:\n",
        "    print(\"Subj embeddings are gone, restoring...\")\n",
        "    subj.embeddings = contract.embeddings[subj.start:subj.end]\n",
        "    #     subj.tokens = doc.tokens[subj.start:subj.end]\n",
        "    #     subj.tokens_cc = doc.tokens_cc[subj.start:subj.end]\n",
        "    #     subj.embedd( GLOBALS__['CharterAnlysingContext'].pattern_factory )\n",
        "    print('\\t\\t sample:', subj.embeddings[0][1:10])\n",
        "\n",
        "  for head_type in charter_constraints:\n",
        "\n",
        "    ##charity:\n",
        "    if head_type in charity_constraints:\n",
        "      print(f'{head_type} has charity constrinats')\n",
        "      \n",
        "      charity_constraints_by_head = charity_constraints[head_type]\n",
        "      charity_constraints_by_head_new = []\n",
        "      \n",
        "      charity_constraints['new.'+head_type] = charity_constraints_by_head_new\n",
        "      \n",
        "      for i in range(len(charity_constraints_by_head)):\n",
        "        _tuple = charity_constraints_by_head[i] \n",
        "#       for cc in charity_constraints[head_type]:\n",
        "        _slice = _tuple[0]\n",
        "        emb_charter = charter.sections[head_type].body.embeddings[_slice]\n",
        "        \n",
        "        distance = 1 - DF(emb_charter,  subj.embeddings[5:])\n",
        "        \n",
        "#         cc.add['subj_correlation'] = distance\n",
        "        \n",
        "#         detupling\n",
        "        charity_constraints_by_head_new.append ( {\n",
        "            'slice':_slice,\n",
        "            'subj_correlation': distance,\n",
        "            'confidence': _tuple[1],\n",
        "            'sum': _tuple[2]\n",
        "        })\n",
        "  \n",
        "        print('\\t'*4, 'cc=', charity_constraints_by_head_new[i])\n",
        "        \n",
        "        #         print('\\t\\t---CC', cc[0])\n",
        "        \n",
        "\n",
        "    #       GLOBALS__['CharterAnlysingContext'].doc.sections['head.directors'].body.embeddings[_slice]\n",
        "\n",
        "    ##------------------------charity end\n",
        "    print(f'measuring {head_type} constraints...'.upper())\n",
        "    cc = charter_constraints[head_type]\n",
        "    quotes = cc['sentences']\n",
        "    for quote in quotes:\n",
        "      print()\n",
        "      _q = untokenize(quote['subdoc'].tokens_cc[quote_slice])\n",
        "      print(_q)\n",
        "\n",
        "      distance = 1 - DF(quote['subdoc'].embeddings[quote_slice],\n",
        "                        subj.embeddings[5:])\n",
        "\n",
        "      quote['subj_correlation'] = distance\n",
        "\n",
        "      print(f'distance = {distance:.4f}')\n",
        "\n",
        "      r_quotes.append(_q)\n",
        "      r_vector.append(distance)\n",
        "      r_quotes.append('\\n')\n",
        "      r_vector.append(distance)\n",
        "\n",
        "  GLOBALS__['renderer'].render_color_text(r_quotes, r_vector)\n",
        "  print(r_vector)\n",
        "  print(r_quotes)\n",
        "  \n",
        "  \n",
        "match_contract_to_charter_constraints(GLOBALS__['ContractAnlysingContext'].contract,\n",
        "                                      GLOBALS__['CharterAnlysingContext'].doc,\n",
        "                                      GLOBALS__['CharterAnlysingContext'].constraints,\n",
        "                                      GLOBALS__['CharterAnlysingContext'].charity_constraints\n",
        "                                     )"
      ],
      "execution_count": 0,
      "outputs": []
    },
    {
      "metadata": {
        "id": "hiOWiOKX9MEy",
        "colab_type": "code",
        "colab": {}
      },
      "cell_type": "code",
      "source": [
        "from ml_tools import ProbableValue, np, TokensWithAttention\n",
        "from renderer import as_warning, as_offset, as_error_html, as_msg, as_quote, as_currency\n",
        "from text_tools import untokenize\n",
        "from transaction_values import ValueConstraint\n",
        "\n",
        "# //copy\n",
        "class ViolationsFinder:\n",
        "\n",
        "  def find_ranges_by_group(self, charter_constraints, m_convert, verbose=False):\n",
        "    ranges_by_group = {}\n",
        "    for head_group in charter_constraints:\n",
        "      #     print('-' * 20)\n",
        "      group_c = charter_constraints[head_group]\n",
        "      data = self._combine_constraints_in_group(group_c, m_convert, verbose)\n",
        "      ranges_by_group[head_group] = data\n",
        "    return ranges_by_group\n",
        "\n",
        "  @staticmethod\n",
        "  def _combine_constraints_in_group(group_c, m_convert, verbose=False):\n",
        "    # print(group_c)\n",
        "    # print(group_c['section'])\n",
        "\n",
        "    data = {\n",
        "      'name': group_c['section'],\n",
        "      'ranges': {}\n",
        "    }\n",
        "\n",
        "    sentences = group_c['sentences']\n",
        "    #   print (charter_constraints[head_group]['sentences'])\n",
        "    sentence_id = 0\n",
        "    for sentence in sentences:\n",
        "      constraint_low = None\n",
        "      constraint_up = None\n",
        "\n",
        "      sentence_id += 1\n",
        "      #     print (sentence['constraints'])\n",
        "\n",
        "      s_constraints = sentence['constraints']\n",
        "      # большие ищем\n",
        "      maximals = [x for x in s_constraints if x.value.sign > 0]\n",
        "\n",
        "      if len(maximals) > 0:\n",
        "        constraint_low = min(maximals, key=lambda item: m_convert(item.value).value)\n",
        "        # if verbose:\n",
        "        #   print(\"all maximals:\")\n",
        "        #   self.renderer.render_values(maximals)\n",
        "        #   print('\\t\\t\\t constraint_low', constraint_low.value.value)\n",
        "        #   self.renderer.render_values([constraint_low])\n",
        "\n",
        "      minimals = [x for x in s_constraints if x.value.sign <= 0]\n",
        "      if len(minimals) > 0:\n",
        "        constraint_up = min(minimals, key=lambda item: m_convert(item.value).value)\n",
        "        # if verbose:\n",
        "        #   print(\"all: minimals\")\n",
        "        #   self.renderer.render_values(minimals)\n",
        "        #   print('\\t\\t\\t constraint_upper', constraint_up.value.value)\n",
        "        #   self.renderer.render_values([constraint_up])\n",
        "        #   print(\"----X\")\n",
        "\n",
        "      if constraint_low is not None or constraint_up is not None:\n",
        "        data['ranges'][sentence_id] = VConstraint(constraint_low, constraint_up, group_c)\n",
        "\n",
        "    return data\n",
        "    # ==================================================================VIOLATIONS\n",
        "\n",
        "\n",
        "class VConstraint:\n",
        "  def __init__(self, lower, upper, head_group):\n",
        "    _emp = TokensWithAttention([''], [0])\n",
        "    self.lower = ProbableValue(ValueConstraint(0, 'RUB', +1, context=_emp), 0)\n",
        "    self.upper = ProbableValue(ValueConstraint(np.inf, 'RUB', -1, context=_emp), 0)\n",
        "\n",
        "    if lower is not None:\n",
        "      self.lower = lower\n",
        "\n",
        "    if upper is not None:\n",
        "      self.upper = upper\n",
        "\n",
        "    self.head_group = head_group\n",
        "\n",
        "  @staticmethod\n",
        "  def maybe_convert(v: ValueConstraint, convet_m):\n",
        "    html = \"\"\n",
        "    v_converted = v\n",
        "    if v.currency != 'RUB':\n",
        "      v_converted = convet_m(v)\n",
        "      html += as_warning(f\"конвертация валют {as_currency(v)} --> RUB \")\n",
        "      html += as_offset(as_warning(f\"примерно: {as_currency(v)} ~~  {as_currency(v_converted)}  \"))\n",
        "    return v, v_converted, html\n",
        "\n",
        "  def check_contract_value(self, _v: ProbableValue, convet_m, renderer):\n",
        "    greather_lower = False\n",
        "    greather_upper = False\n",
        "\n",
        "    if _v is None:\n",
        "      return as_error_html(\"сумма контракта неизвестна\")\n",
        "    v: ValueConstraint = _v.value\n",
        "\n",
        "    if v is None:\n",
        "      return as_error_html(\"сумма контракта не верна\")\n",
        "\n",
        "    if v.value is None:\n",
        "      return as_error_html(f\"сумма контракта не верна {v.currency}\")\n",
        "    ###----\n",
        "\n",
        "    lower_v = None\n",
        "    upper_v = None\n",
        "    if self.lower is not None:\n",
        "      lower_v: ValueConstraint = self.lower.value\n",
        "    if self.upper is not None:\n",
        "      upper_v: ValueConstraint = self.upper.value\n",
        "\n",
        "    html = as_msg(f\"Диапазон: {as_currency(lower_v)} < ..... < {as_currency(upper_v)}\")\n",
        "\n",
        "    v, v_converted, h = self.maybe_convert(v, convet_m)\n",
        "    html += h\n",
        "\n",
        "    if self.lower is not None:\n",
        "      lower_v: ValueConstraint = self.lower.value\n",
        "      lower_v, lower_converted, h = self.maybe_convert(lower_v, convet_m)\n",
        "      html += h\n",
        "\n",
        "      if v_converted.value >= lower_converted.value:\n",
        "        greather_lower = True\n",
        "        html += as_warning(\"требуется одобрение...\".upper())\n",
        "        html += as_warning(\n",
        "          f\"сумма договора  {as_currency(v_converted)}  БОЛЬШЕ нижней пороговой {as_currency(lower_converted)} \")\n",
        "        html += as_quote(untokenize(lower_v.context.tokens))\n",
        "\n",
        "    if self.upper is not None:\n",
        "\n",
        "      upper_v: ValueConstraint = self.upper.value\n",
        "      upper_v, upper_converted, h = self.maybe_convert(upper_v, convet_m)\n",
        "      html += h\n",
        "\n",
        "      if v_converted.value >= upper_converted.value:\n",
        "\n",
        "        html += as_error_html(\n",
        "          f\"сумма договора  {as_currency(v_converted)} БОЛЬШЕ верхней пороговой {as_currency(upper_converted)} \")\n",
        "\n",
        "      elif greather_lower:\n",
        "        head_name = self.head_group['section']\n",
        "        html += as_error_html(f'требуется одобрение со стороны \"{head_name.upper()}\"')\n",
        "\n",
        "        if lower_v.context is not None:\n",
        "          html += as_quote(renderer.to_color_text(lower_v.context.tokens, lower_v.context.attention, _range=[0, 1]))\n",
        "\n",
        "        if upper_v.context is not None:\n",
        "          html += '<br>'\n",
        "          html += as_quote(renderer.to_color_text(upper_v.context.tokens, upper_v.context.attention, _range=[0, 1]))\n",
        "\n",
        "    return html \n",
        "  \n",
        "  \n",
        "  \n",
        "  # AZ:-FINDING_VIOLATIONS--------------------------------------------------------\n",
        "def find_and_show_violations():\n",
        "  from IPython.core.display import display, HTML\n",
        "\n",
        "  from contract_parser import ContractAnlysingContext\n",
        "  from renderer import as_headline_2, as_error_html\n",
        "\n",
        "  charterAnlysingContext: CharterAnlysingContext = GLOBALS__['CharterAnlysingContext']\n",
        "  contractAnlysingContext: ContractAnlysingContext = GLOBALS__['ContractAnlysingContext']\n",
        "\n",
        "  contract = contractAnlysingContext.contract\n",
        "  charter = charterAnlysingContext.doc\n",
        "  \n",
        "  charter_constraints = charterAnlysingContext.constraints  # XXX: move to doc\n",
        "  charity_constraints = charterAnlysingContext.charity_constraints  # XXX: move to doc\n",
        "\n",
        "  \n",
        "\n",
        "  import copy\n",
        "\n",
        "  def convert(v):\n",
        "    v_converted = copy.copy(v)\n",
        "    if v.currency in currency_converter:\n",
        "      v_converted.value = currency_converter[v.currency] * v.value\n",
        "      v_converted.currency = 'RUB'\n",
        "      return v_converted\n",
        "    else:\n",
        "      display(HTML(as_error_html(\n",
        "        f\"мы не в настроении (пока) конвертировать {v.currency} --> RUB. Это вообще валюта какой страны? Румынии?\")))\n",
        "      return v\n",
        "\n",
        "  best_value = contractAnlysingContext.find_contract_best_value(convert)\n",
        "\n",
        "  # rendering:----------------------------\n",
        "\n",
        "  def _render_violations(ranges_by_group, best_value):\n",
        "    \n",
        "    for group_key in ranges_by_group:\n",
        "      group = ranges_by_group[group_key]\n",
        "      display(HTML(as_headline_2(group['name'])))\n",
        "\n",
        "      for rk in group['ranges']:\n",
        "        r = group['ranges'][rk]\n",
        "        display(HTML(r.check_contract_value(best_value, convert, renderer)))\n",
        "\n",
        "        \n",
        "  renderer = GLOBALS__['renderer']\n",
        "  renderer.render_subj(contract)\n",
        "  \n",
        "  print('---')\n",
        "  print(\"Сумма Договора:\")\n",
        "  renderer.render_values([best_value])\n",
        "  renderer.render_color_text(best_value.value.context.tokens, best_value.value.context.attention, _range=[0, 1])\n",
        "\n",
        "  violations_finder = ViolationsFinder()####//XXXX: remplaced\n",
        "  \n",
        "  \n",
        "  _render_violations(    \n",
        "    violations_finder.find_ranges_by_group(charter_constraints, convert, verbose=False),\n",
        "    best_value)\n",
        "  \n",
        "  \n",
        "  \n",
        "  \n",
        "  \n",
        "  \n",
        "find_and_show_violations()"
      ],
      "execution_count": 0,
      "outputs": []
    },
    {
      "metadata": {
        "id": "1xOiDjj3KQN-",
        "colab_type": "code",
        "colab": {}
      },
      "cell_type": "code",
      "source": [
        "contract= GLOBALS__['ContractAnlysingContext'].contract\n",
        "charter = GLOBALS__['CharterAnlysingContext'].doc\n",
        "# if( GLOBALS__['ContractAnlysingContext'].contract.subject[0] == 'charity'):\n",
        "#   print('charity')\n",
        "\n",
        "charity_constraints =  GLOBALS__['CharterAnlysingContext'].charity_constraints\n",
        "for cc in charity_constraints:\n",
        "  if cc[:4]=='new.':\n",
        "    print(cc[4:].upper() )\n",
        "    constraints = charity_constraints[cc]\n",
        "    for constraint in constraints:\n",
        "#       print(constraint)\n",
        "      if constraint['subj_correlation'] > 0.5:\n",
        "        GLOBALS__['ContractAnlysingContext'].renderer.render_subj(contract)\n",
        "        print(contract.sections['subj'].body.untokenize_cc())\n",
        "#         GLOBALS__['ContractAnlysingContext'].renderer.render_color_text(contract.sections['subj'].tokens, contract.sections['subj'].)\n",
        "\n",
        "        print (f\"\\nКореляция с ограничением устава: {constraint['subj_correlation']:.4f}\\n\\n\"  )\n",
        "        print(constraint['slice'])\n",
        "\n",
        "# contract.sections"
      ],
      "execution_count": 0,
      "outputs": []
    },
    {
      "metadata": {
        "id": "2uZVU4M1osVo",
        "colab_type": "code",
        "colab": {}
      },
      "cell_type": "code",
      "source": [
        "DIST_FUNC(docA.embeddings,  docB.embeddings)"
      ],
      "execution_count": 0,
      "outputs": []
    },
    {
      "metadata": {
        "id": "NQMHGw2NzZU1",
        "colab_type": "text"
      },
      "cell_type": "markdown",
      "source": [
        "# step 4. Протокол\n",
        "\n"
      ]
    },
    {
      "metadata": {
        "id": "85aO_7B1zKFq",
        "colab_type": "code",
        "colab": {
          "resources": {
            "http://localhost:8080/nbextensions/google.colab/files.js": {
              "data": "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",
              "ok": true,
              "headers": [
                [
                  "content-type",
                  "application/javascript"
                ]
              ],
              "status": 200,
              "status_text": ""
            }
          },
          "base_uri": "https://localhost:8080/",
          "height": 890
        },
        "outputId": "1eba7b4e-135a-45d4-c8a9-e391f8a353de"
      },
      "cell_type": "code",
      "source": [
        "uploaded = interactive_upload('Protocol')\n",
        "GLOBALS__['ProtocolAnlysingContext'].process(uploaded[0])\n",
        "GLOBALS__['ProtocolRenderer'].print_results(GLOBALS__['ProtocolAnlysingContext'].protocol)"
      ],
      "execution_count": 58,
      "outputs": [
        {
          "output_type": "stream",
          "text": [
            "Please select \"Protocol\" .docx file:\n"
          ],
          "name": "stdout"
        },
        {
          "output_type": "display_data",
          "data": {
            "text/html": [
              "\n",
              "     <input type=\"file\" id=\"files-82a0e7f7-7575-41e3-a86e-d0d31eeab98b\" name=\"files[]\" multiple disabled />\n",
              "     <output id=\"result-82a0e7f7-7575-41e3-a86e-d0d31eeab98b\">\n",
              "      Upload widget is only available when the cell has been executed in the\n",
              "      current browser session. Please rerun this cell to enable.\n",
              "      </output>\n",
              "      <script src=\"/nbextensions/google.colab/files.js\"></script> "
            ],
            "text/plain": [
              "<IPython.core.display.HTML object>"
            ]
          },
          "metadata": {
            "tags": []
          }
        },
        {
          "output_type": "stream",
          "text": [
            "Saving ГПН 2 Протокол СД (к-п недвиж НПр).docx to ГПН 2 Протокол СД (к-п недвиж НПр) (1).docx\n",
            "User uploaded file \"ГПН 2 Протокол СД (к-п недвиж НПр).docx\" with length 26416 bytes\n",
            "Символов в оригинальном документе: 3671\n",
            "🐌 Embedding 382 words... it takes time (☕️?)..\n",
            "INFO:tensorflow:Saver not created because there are no variables in the graph to restore\n"
          ],
          "name": "stdout"
        },
        {
          "output_type": "stream",
          "text": [
            "I0425 11:30:42.557570 139799184328576 saver.py:1483] Saver not created because there are no variables in the graph to restore\n"
          ],
          "name": "stderr"
        },
        {
          "output_type": "stream",
          "text": [
            "Embedding complete 🐌 ; the shape is (36, 16, 1024)\n",
            "❤️ ACCOMPLISHED: \t 0.\t Pattern factory created, patterns embedded into ELMO space\n",
            "ProtocolDocument text: len(3671)\n",
            "🐌 Embedding 684 words... it takes time (☕️?)..\n",
            "INFO:tensorflow:Saver not created because there are no variables in the graph to restore\n"
          ],
          "name": "stdout"
        },
        {
          "output_type": "stream",
          "text": [
            "I0425 11:30:50.670491 139799184328576 saver.py:1483] Saver not created because there are no variables in the graph to restore\n"
          ],
          "name": "stderr"
        },
        {
          "output_type": "stream",
          "text": [
            "Embedding complete 🐌 ; the shape is (1, 684, 1024)\n",
            "Function _emb called 10 times. \n",
            "Execution time max: 13.6450, average: 7.7092\n",
            "❤️ ACCOMPLISHED: \t 1.\t Document embedded into ELMO space\n"
          ],
          "name": "stdout"
        },
        {
          "output_type": "stream",
          "text": [
            "nlp_tools/patterns.py:190: RuntimeWarning: All-NaN slice encountered\n",
            "  min = np.nanmin(b)\n",
            "nlp_tools/patterns.py:191: RuntimeWarning: All-NaN slice encountered\n",
            "  max = np.nanmax(b)\n",
            "nlp_tools/patterns.py:192: RuntimeWarning: Mean of empty slice\n",
            "  mean = np.nanmean(b)\n",
            "nlp_tools/demo_protocols.py:231: RuntimeWarning: All-NaN slice encountered\n",
            "  dist_per_pat.append(np.nanmin(row))\n"
          ],
          "name": "stderr"
        },
        {
          "output_type": "stream",
          "text": [
            "REG: 50000000 ( пятьдесят миллионов ) рублей \n",
            " сумма\n",
            "REG: 50000000 ( пятьдесят миллионов ) рублей ,\n",
            "❤️ ACCOMPLISHED: \t 2.\t value found\n"
          ],
          "name": "stdout"
        },
        {
          "output_type": "display_data",
          "data": {
            "text/html": [
              "<h3 style=\"margin:0\"><b style=\"color:#333333\"> =  RUB        50,000,000.00<sup>confidence=                0.84</sup></b> </h3><div style=\"margin-left:2em\"><span title=\"0 0.6792\" style=\"background-color:#ff9100\">права </span><span title=\"1 0.6778\" style=\"background-color:#ff9100\">аренды </span><span title=\"2 0.6802\" style=\"background-color:#ff8d00\">земельного </span><span title=\"3 0.6923\" style=\"background-color:#ff7a00\">участка </span><span title=\"4 0.7079\" style=\"background-color:#ff6400\">. </span><span title=\"5 0.6967\" style=\"background-color:#ff7700\">при </span><span title=\"6 0.6954\" style=\"background-color:#ff7700\">этом </span><span title=\"7 0.7347\" style=\"background-color:#ff3f00\">цена </span><span title=\"8 0.7257\" style=\"background-color:#ff4e00\">объекта </span><span title=\"9 0.7507\" style=\"background-color:#ff2900\">составляет </span><span title=\"10 0.8395\" style=\"background-color:#800000\">50000000 </span><span title=\"11 0.7408\" style=\"background-color:#ff3800\">( </span><span title=\"12 0.7829\" style=\"background-color:#df0000\">пятьдесят </span><span title=\"13 0.7592\" style=\"background-color:#ff1e00\">миллионов </span><span title=\"14 0.7465\" style=\"background-color:#ff2d00\">) </span><span title=\"15 0.7347\" style=\"background-color:#ff3f00\">рублей </span><span title=\"16 0.7335\" style=\"background-color:#ff4300\">, </span><span title=\"17 0.7238\" style=\"background-color:#ff4e00\">в </span><span title=\"18 0.7269\" style=\"background-color:#ff4a00\">том </span><span title=\"19 0.7456\" style=\"background-color:#ff3000\">числе </span><span title=\"20 0.7709\" style=\"background-color:#f60b00\">ндс </span><span title=\"21 0.7921\" style=\"background-color:#d10000\">20 </span><span title=\"22 0.7350\" style=\"background-color:#ff3f00\">% </span><span title=\"23 0.7108\" style=\"background-color:#ff6000\">рублей </span><span title=\"24 0.7064\" style=\"background-color:#ff6800\">сумма </span><span title=\"25 0.6868\" style=\"background-color:#ff8600\">договора </span><span title=\"26 0.6972\" style=\"background-color:#ff7700\">вносится </span></div>"
            ],
            "text/plain": [
              "<IPython.core.display.HTML object>"
            ]
          },
          "metadata": {
            "tags": []
          }
        },
        {
          "output_type": "display_data",
          "data": {
            "text/html": [
              "<div style=\"margin-left:2em\"><span style=\"font-size:80%;\"><h3 style=\"margin:0\"><b style=\"color:#333333\"> =  RUB        50,000,000.00<sup>confidence=                0.83</sup></b> </h3><div style=\"margin-left:2em\"><span title=\"0 0.6784\" style=\"background-color:#ff8200\">права </span><span title=\"1 0.6770\" style=\"background-color:#ff8200\">аренды </span><span title=\"2 0.6797\" style=\"background-color:#ff7e00\">земельного </span><span title=\"3 0.6920\" style=\"background-color:#ff6c00\">участка </span><span title=\"4 0.7072\" style=\"background-color:#ff5500\">. </span><span title=\"5 0.6950\" style=\"background-color:#ff6800\">при </span><span title=\"6 0.6954\" style=\"background-color:#ff6800\">этом </span><span title=\"7 0.7331\" style=\"background-color:#ff3000\">цена </span><span title=\"8 0.7272\" style=\"background-color:#ff3b00\">объекта </span><span title=\"9 0.7444\" style=\"background-color:#ff2200\">составляет </span><span title=\"10 0.8273\" style=\"background-color:#800000\">50000000 </span><span title=\"11 0.7359\" style=\"background-color:#ff2d00\">( </span><span title=\"12 0.7799\" style=\"background-color:#d10000\">пятьдесят </span><span title=\"13 0.7561\" style=\"background-color:#fa0f00\">миллионов </span><span title=\"14 0.7291\" style=\"background-color:#ff3800\">) </span><span title=\"15 0.7263\" style=\"background-color:#ff3b00\">рублей </span><span title=\"16 0.7194\" style=\"background-color:#ff4700\">\n",
              " </span><br><span title=\"17 0.7234\" style=\"background-color:#ff3f00\">сумма </span><span title=\"18 0.6978\" style=\"background-color:#ff6400\">договора </span><span title=\"19 0.7008\" style=\"background-color:#ff6000\">вносится </span><span title=\"20 0.7332\" style=\"background-color:#ff3000\">единовременно </span><span title=\"21 0.7200\" style=\"background-color:#ff4300\">, </span><span title=\"22 0.7186\" style=\"background-color:#ff4700\">не </span><span title=\"23 0.6932\" style=\"background-color:#ff6c00\">позднее </span><span title=\"24 0.7211\" style=\"background-color:#ff4300\">10 </span><span title=\"25 0.6729\" style=\"background-color:#ff8900\">( </span><span title=\"26 0.7150\" style=\"background-color:#ff4a00\">десяти </span><span title=\"27 0.6912\" style=\"background-color:#ff6f00\">) </span></div></span></div>"
            ],
            "text/plain": [
              "<IPython.core.display.HTML object>"
            ]
          },
          "metadata": {
            "tags": []
          }
        },
        {
          "output_type": "display_data",
          "data": {
            "text/html": [
              "<h3 style=\"margin:0\">Предмет документа (X):</h3><b style=\"font-size:135%; color:maroon\">7: Сделка</b><div>0: Благотворительность</div><div>1: Организационные решения</div>"
            ],
            "text/plain": [
              "<IPython.core.display.HTML object>"
            ]
          },
          "metadata": {
            "tags": []
          }
        },
        {
          "output_type": "display_data",
          "data": {
            "text/html": [
              "<h3 style=\"margin:0\"><b style=\"color:#333333\"> =  RUB        50,000,000.00<sup>confidence=                0.84</sup></b> </h3><div style=\"margin-left:2em\"><span title=\"0 0.6792\" style=\"background-color:#ff9100\">права </span><span title=\"1 0.6778\" style=\"background-color:#ff9100\">аренды </span><span title=\"2 0.6802\" style=\"background-color:#ff8d00\">земельного </span><span title=\"3 0.6923\" style=\"background-color:#ff7a00\">участка </span><span title=\"4 0.7079\" style=\"background-color:#ff6400\">. </span><span title=\"5 0.6967\" style=\"background-color:#ff7700\">при </span><span title=\"6 0.6954\" style=\"background-color:#ff7700\">этом </span><span title=\"7 0.7347\" style=\"background-color:#ff3f00\">цена </span><span title=\"8 0.7257\" style=\"background-color:#ff4e00\">объекта </span><span title=\"9 0.7507\" style=\"background-color:#ff2900\">составляет </span><span title=\"10 0.8395\" style=\"background-color:#800000\">50000000 </span><span title=\"11 0.7408\" style=\"background-color:#ff3800\">( </span><span title=\"12 0.7829\" style=\"background-color:#df0000\">пятьдесят </span><span title=\"13 0.7592\" style=\"background-color:#ff1e00\">миллионов </span><span title=\"14 0.7465\" style=\"background-color:#ff2d00\">) </span><span title=\"15 0.7347\" style=\"background-color:#ff3f00\">рублей </span><span title=\"16 0.7335\" style=\"background-color:#ff4300\">, </span><span title=\"17 0.7238\" style=\"background-color:#ff4e00\">в </span><span title=\"18 0.7269\" style=\"background-color:#ff4a00\">том </span><span title=\"19 0.7456\" style=\"background-color:#ff3000\">числе </span><span title=\"20 0.7709\" style=\"background-color:#f60b00\">ндс </span><span title=\"21 0.7921\" style=\"background-color:#d10000\">20 </span><span title=\"22 0.7350\" style=\"background-color:#ff3f00\">% </span><span title=\"23 0.7108\" style=\"background-color:#ff6000\">рублей </span><span title=\"24 0.7064\" style=\"background-color:#ff6800\">сумма </span><span title=\"25 0.6868\" style=\"background-color:#ff8600\">договора </span><span title=\"26 0.6972\" style=\"background-color:#ff7700\">вносится </span></div>"
            ],
            "text/plain": [
              "<IPython.core.display.HTML object>"
            ]
          },
          "metadata": {
            "tags": []
          }
        },
        {
          "output_type": "display_data",
          "data": {
            "text/html": [
              "<div style=\"margin-left:2em\"><span style=\"font-size:80%;\"><h3 style=\"margin:0\"><b style=\"color:#333333\"> =  RUB        50,000,000.00<sup>confidence=                0.83</sup></b> </h3><div style=\"margin-left:2em\"><span title=\"0 0.6784\" style=\"background-color:#ff8200\">права </span><span title=\"1 0.6770\" style=\"background-color:#ff8200\">аренды </span><span title=\"2 0.6797\" style=\"background-color:#ff7e00\">земельного </span><span title=\"3 0.6920\" style=\"background-color:#ff6c00\">участка </span><span title=\"4 0.7072\" style=\"background-color:#ff5500\">. </span><span title=\"5 0.6950\" style=\"background-color:#ff6800\">при </span><span title=\"6 0.6954\" style=\"background-color:#ff6800\">этом </span><span title=\"7 0.7331\" style=\"background-color:#ff3000\">цена </span><span title=\"8 0.7272\" style=\"background-color:#ff3b00\">объекта </span><span title=\"9 0.7444\" style=\"background-color:#ff2200\">составляет </span><span title=\"10 0.8273\" style=\"background-color:#800000\">50000000 </span><span title=\"11 0.7359\" style=\"background-color:#ff2d00\">( </span><span title=\"12 0.7799\" style=\"background-color:#d10000\">пятьдесят </span><span title=\"13 0.7561\" style=\"background-color:#fa0f00\">миллионов </span><span title=\"14 0.7291\" style=\"background-color:#ff3800\">) </span><span title=\"15 0.7263\" style=\"background-color:#ff3b00\">рублей </span><span title=\"16 0.7194\" style=\"background-color:#ff4700\">\n",
              " </span><br><span title=\"17 0.7234\" style=\"background-color:#ff3f00\">сумма </span><span title=\"18 0.6978\" style=\"background-color:#ff6400\">договора </span><span title=\"19 0.7008\" style=\"background-color:#ff6000\">вносится </span><span title=\"20 0.7332\" style=\"background-color:#ff3000\">единовременно </span><span title=\"21 0.7200\" style=\"background-color:#ff4300\">, </span><span title=\"22 0.7186\" style=\"background-color:#ff4700\">не </span><span title=\"23 0.6932\" style=\"background-color:#ff6c00\">позднее </span><span title=\"24 0.7211\" style=\"background-color:#ff4300\">10 </span><span title=\"25 0.6729\" style=\"background-color:#ff8900\">( </span><span title=\"26 0.7150\" style=\"background-color:#ff4a00\">десяти </span><span title=\"27 0.6912\" style=\"background-color:#ff6f00\">) </span></div></span></div>"
            ],
            "text/plain": [
              "<IPython.core.display.HTML object>"
            ]
          },
          "metadata": {
            "tags": []
          }
        }
      ]
    },
    {
      "metadata": {
        "id": "yXlLLods6UxY",
        "colab_type": "text"
      },
      "cell_type": "markdown",
      "source": [
        "### Ext"
      ]
    },
    {
      "metadata": {
        "id": "xT4QoeBxEh9A",
        "colab_type": "code",
        "colab": {
          "base_uri": "https://localhost:8080/",
          "height": 400
        },
        "outputId": "cd09b602-8488-49ac-cf62-b188d131450a"
      },
      "cell_type": "code",
      "source": [
        "# GLOBALS__['ProtocolRenderer'].print_results(GLOBALS__['ProtocolAnlysingContext'].protocol)\n",
        "_init_the_code(True)\n",
        "\n",
        "from IPython.core.display import display, HTML\n",
        "from legal_docs import LegalDocument\n",
        "from renderer import as_offset, as_smaller, as_headline_3\n",
        "\n",
        "def render_values(self, values):\n",
        "      if len(values) > 0:\n",
        "        for pv in values:\n",
        "          h = self.probable_value_to_html(pv)\n",
        "          display(HTML(h))\n",
        "      else:\n",
        "        display(HTML('сумма не найдена'))\n",
        "\n",
        "\n",
        "  \n",
        "\n",
        "print_results(GLOBALS__['ProtocolRenderer'], GLOBALS__['ProtocolAnlysingContext'].protocol)  \n",
        "\n",
        "# print (GLOBALS__['ProtocolAnlysingContext'].protocol.found_sum.value.__dict__)"
      ],
      "execution_count": 57,
      "outputs": [
        {
          "output_type": "stream",
          "text": [
            "----------------- LegalDocument legal_doc deleted. Ciao bella!\n",
            "❤️ DONE initializing the code\n"
          ],
          "name": "stdout"
        },
        {
          "output_type": "error",
          "ename": "AttributeError",
          "evalue": "ignored",
          "traceback": [
            "\u001b[0;31m---------------------------------------------------------------------------\u001b[0m",
            "\u001b[0;31mAttributeError\u001b[0m                            Traceback (most recent call last)",
            "\u001b[0;32m<ipython-input-57-09e62d7ac8fa>\u001b[0m in \u001b[0;36m<module>\u001b[0;34m()\u001b[0m\n\u001b[1;32m     16\u001b[0m \u001b[0;34m\u001b[0m\u001b[0m\n\u001b[1;32m     17\u001b[0m \u001b[0;34m\u001b[0m\u001b[0m\n\u001b[0;32m---> 18\u001b[0;31m \u001b[0mprint_results\u001b[0m\u001b[0;34m(\u001b[0m\u001b[0mGLOBALS__\u001b[0m\u001b[0;34m[\u001b[0m\u001b[0;34m'ProtocolRenderer'\u001b[0m\u001b[0;34m]\u001b[0m\u001b[0;34m,\u001b[0m \u001b[0mGLOBALS__\u001b[0m\u001b[0;34m[\u001b[0m\u001b[0;34m'ProtocolAnlysingContext'\u001b[0m\u001b[0;34m]\u001b[0m\u001b[0;34m.\u001b[0m\u001b[0mprotocol\u001b[0m\u001b[0;34m)\u001b[0m\u001b[0;34m\u001b[0m\u001b[0;34m\u001b[0m\u001b[0m\n\u001b[0m\u001b[1;32m     19\u001b[0m \u001b[0;34m\u001b[0m\u001b[0m\n\u001b[1;32m     20\u001b[0m \u001b[0;31m# print (GLOBALS__['ProtocolAnlysingContext'].protocol.found_sum.value.__dict__)\u001b[0m\u001b[0;34m\u001b[0m\u001b[0;34m\u001b[0m\u001b[0;34m\u001b[0m\u001b[0m\n",
            "\u001b[0;32m<ipython-input-38-d03beb984a32>\u001b[0m in \u001b[0;36mprint_results\u001b[0;34m(self, _doc, results)\u001b[0m\n\u001b[1;32m     18\u001b[0m \u001b[0;34m\u001b[0m\u001b[0m\n\u001b[1;32m     19\u001b[0m \u001b[0;34m\u001b[0m\u001b[0m\n\u001b[0;32m---> 20\u001b[0;31m   \u001b[0mvalues\u001b[0m\u001b[0;34m=\u001b[0m \u001b[0msorted\u001b[0m \u001b[0;34m(\u001b[0m\u001b[0m_doc\u001b[0m\u001b[0;34m.\u001b[0m\u001b[0mvalues\u001b[0m\u001b[0;34m,\u001b[0m \u001b[0mkey\u001b[0m\u001b[0;34m=\u001b[0m\u001b[0;32mlambda\u001b[0m \u001b[0mitem\u001b[0m\u001b[0;34m:\u001b[0m \u001b[0mitem\u001b[0m\u001b[0;34m.\u001b[0m\u001b[0mconfidence\u001b[0m\u001b[0;34m)\u001b[0m\u001b[0;34m\u001b[0m\u001b[0;34m\u001b[0m\u001b[0m\n\u001b[0m\u001b[1;32m     21\u001b[0m   \u001b[0mcc\u001b[0m\u001b[0;34m=\u001b[0m\u001b[0;36m0\u001b[0m\u001b[0;34m\u001b[0m\u001b[0;34m\u001b[0m\u001b[0m\n\u001b[1;32m     22\u001b[0m   \u001b[0;32mfor\u001b[0m \u001b[0mvl\u001b[0m \u001b[0;32min\u001b[0m \u001b[0mvalues\u001b[0m\u001b[0;34m:\u001b[0m\u001b[0;34m\u001b[0m\u001b[0;34m\u001b[0m\u001b[0m\n",
            "\u001b[0;31mAttributeError\u001b[0m: 'NoneType' object has no attribute 'values'"
          ]
        }
      ]
    },
    {
      "metadata": {
        "id": "GMmcwgIGOomH",
        "colab_type": "code",
        "colab": {}
      },
      "cell_type": "code",
      "source": [
        "CTX=GLOBALS__['ProtocolAnlysingContext']\n",
        "protocol = GLOBALS__['ProtocolAnlysingContext'].protocol\n",
        "\n"
      ],
      "execution_count": 0,
      "outputs": []
    },
    {
      "metadata": {
        "id": "4Ewq5L6V0HSp",
        "colab_type": "code",
        "colab": {
          "base_uri": "https://localhost:8080/",
          "height": 123
        },
        "outputId": "7b54b6fb-7299-4f64-ab51-2f326950c5a5"
      },
      "cell_type": "code",
      "source": [
        "# for si in protocol.section_indexes:\n",
        "#   print (si)\n",
        "#   for ra"
      ],
      "execution_count": 10,
      "outputs": [
        {
          "output_type": "stream",
          "text": [
            "[2 0]\n",
            "[  0 121]\n",
            "[  3 150]\n",
            "[  4 254]\n",
            "[  1 280]\n",
            "[  5 381]\n"
          ],
          "name": "stdout"
        }
      ]
    },
    {
      "metadata": {
        "id": "lJC87vzK6Mfd",
        "colab_type": "code",
        "colab": {}
      },
      "cell_type": "code",
      "source": [
        "  \n",
        "  \n"
      ],
      "execution_count": 0,
      "outputs": []
    },
    {
      "metadata": {
        "id": "5mwCvHk55yQx",
        "colab_type": "code",
        "colab": {
          "base_uri": "https://localhost:8080/",
          "height": 854
        },
        "outputId": "2507263e-fbbb-4b2b-e01c-ff5542ac5a2a"
      },
      "cell_type": "code",
      "source": [
        "from patterns import make_pattern_attention_vector\n",
        "from legal_docs import LegalDocument\n",
        "from contract_parser import extract_all_contraints_from_sr_2\n",
        "\n",
        "dists = 1.0 - CTX.protocols_factory.sum_pattern._find_patterns( protocol.embeddings)\n",
        "GLOBALS__['renderer'].render_color_text( protocol.tokens, dists )\n",
        "\n",
        "\n",
        "\n",
        "def find_values_2(value_section:LegalDocument):\n",
        "\n",
        "#   dists = make_pattern_attention_vector(pat, doc.embeddings, dist_function)\n",
        "  value_section.distances_per_pattern_dict['value_attention_vector_tuned'] = dists\n",
        "\n",
        "  values: List[ProbableValue] = extract_all_contraints_from_sr_2(value_section,\n",
        "                                                                 value_section.distances_per_pattern_dict[\n",
        "                                                                   'value_attention_vector_tuned'])\n",
        "\n",
        "  return values\n",
        "\n",
        "[ x.value.value for x in find_values_2(protocol)]"
      ],
      "execution_count": 27,
      "outputs": [
        {
          "output_type": "stream",
          "text": [
            "render_color_text\n"
          ],
          "name": "stdout"
        },
        {
          "output_type": "display_data",
          "data": {
            "text/html": [
              "<span title=\"0 0.7048\" style=\"background-color:#e67259\">\n",
              " </span><br><span title=\"1 0.6972\" style=\"background-color:#e9785d\">протокол </span><span title=\"2 0.7166\" style=\"background-color:#e36b54\">. </span><span title=\"3 0.6998\" style=\"background-color:#e8765c\">\n",
              " </span><br><span title=\"4 0.6647\" style=\"background-color:#f18d6f\">заседания </span><span title=\"5 0.6644\" style=\"background-color:#f18d6f\">совета </span><span title=\"6 0.6543\" style=\"background-color:#f39475\">директоров </span><span title=\"7 0.6953\" style=\"background-color:#e97a5f\">\n",
              " </span><br><span title=\"8 0.6839\" style=\"background-color:#ec8165\">акционерное </span><span title=\"9 0.6894\" style=\"background-color:#eb7d62\">общество </span><span title=\"10 0.7131\" style=\"background-color:#e36c55\">« </span><span title=\"11 0.6860\" style=\"background-color:#ec7f63\">мессояханефтегаз </span><span title=\"12 0.7184\" style=\"background-color:#e26952\">» </span><span title=\"13 0.7068\" style=\"background-color:#e57058\">\n",
              " </span><br><span title=\"14 0.6909\" style=\"background-color:#ea7b60\">( </span><span title=\"15 0.6885\" style=\"background-color:#eb7d62\">далее </span><span title=\"16 0.6939\" style=\"background-color:#e97a5f\">– </span><span title=\"17 0.6849\" style=\"background-color:#ec8165\">акционерное </span><span title=\"18 0.6953\" style=\"background-color:#e97a5f\">общество </span><span title=\"19 0.7158\" style=\"background-color:#e36b54\">« </span><span title=\"20 0.6933\" style=\"background-color:#e97a5f\">мессояханефтегаз </span><span title=\"21 0.7212\" style=\"background-color:#e16751\">» </span><span title=\"22 0.7140\" style=\"background-color:#e36c55\">или </span><span title=\"23 0.7258\" style=\"background-color:#df634e\">« </span><span title=\"24 0.7141\" style=\"background-color:#e36c55\">общество </span><span title=\"25 0.7204\" style=\"background-color:#e16751\">» </span><span title=\"26 0.6896\" style=\"background-color:#eb7d62\">) </span><span title=\"27 0.7093\" style=\"background-color:#e57058\">\n",
              " </span><br><span title=\"28 0.6940\" style=\"background-color:#e97a5f\">|место </span><span title=\"29 0.6723\" style=\"background-color:#ef886b\">проведения </span><span title=\"30 0.6600\" style=\"background-color:#f29072\">заседания </span><span title=\"31 0.6715\" style=\"background-color:#f08a6c\">: </span><span title=\"32 0.6820\" style=\"background-color:#ed8366\">| </span><span title=\"33 0.6759\" style=\"background-color:#ee8669\">| </span><span title=\"34 0.7010\" style=\"background-color:#e8765c\">\n",
              " </span><br><span title=\"35 0.6747\" style=\"background-color:#ee8669\">|дата </span><span title=\"36 0.6581\" style=\"background-color:#f29274\">и </span><span title=\"37 0.6509\" style=\"background-color:#f39577\">время </span><span title=\"38 0.6601\" style=\"background-color:#f29072\">проведения </span><span title=\"39 0.6559\" style=\"background-color:#f29274\">заседания </span><span title=\"40 0.6671\" style=\"background-color:#f08b6e\">: </span><span title=\"41 0.6760\" style=\"background-color:#ee8669\">| </span><span title=\"42 0.6735\" style=\"background-color:#ef886b\">| </span><span title=\"43 0.6944\" style=\"background-color:#e97a5f\">\n",
              " </span><br><span title=\"44 0.6692\" style=\"background-color:#f08a6c\">|форма </span><span title=\"45 0.6572\" style=\"background-color:#f29274\">проведения </span><span title=\"46 0.6512\" style=\"background-color:#f39577\">заседания </span><span title=\"47 0.6656\" style=\"background-color:#f18d6f\">: </span><span title=\"48 0.6722\" style=\"background-color:#ef886b\">| </span><span title=\"49 0.6746\" style=\"background-color:#ee8669\">| </span><span title=\"50 0.6971\" style=\"background-color:#e9785d\">\n",
              " </span><br><span title=\"51 0.6882\" style=\"background-color:#eb7d62\">|место </span><span title=\"52 0.6752\" style=\"background-color:#ee8669\">подведения </span><span title=\"53 0.6705\" style=\"background-color:#f08a6c\">итогов </span><span title=\"54 0.6711\" style=\"background-color:#f08a6c\">голосования </span><span title=\"55 0.6697\" style=\"background-color:#f08a6c\">: </span><span title=\"56 0.6719\" style=\"background-color:#ef886b\">| </span><span title=\"57 0.6696\" style=\"background-color:#f08a6c\">| </span><span title=\"58 0.6904\" style=\"background-color:#eb7d62\">\n",
              " </span><br><span title=\"59 0.6577\" style=\"background-color:#f29274\">|председатель </span><span title=\"60 0.6600\" style=\"background-color:#f29072\">совета </span><span title=\"61 0.6487\" style=\"background-color:#f39778\">директоров </span><span title=\"62 0.6699\" style=\"background-color:#f08a6c\">: </span><span title=\"63 0.6723\" style=\"background-color:#ef886b\">| </span><span title=\"64 0.6721\" style=\"background-color:#ef886b\">| </span><span title=\"65 0.6977\" style=\"background-color:#e9785d\">\n",
              " </span><br><span title=\"66 0.6730\" style=\"background-color:#ef886b\">|секретарь </span><span title=\"67 0.6643\" style=\"background-color:#f18d6f\">совета </span><span title=\"68 0.6521\" style=\"background-color:#f39577\">директоров </span><span title=\"69 0.6660\" style=\"background-color:#f18d6f\">: </span><span title=\"70 0.6659\" style=\"background-color:#f18d6f\">| </span><span title=\"71 0.6679\" style=\"background-color:#f08b6e\">| </span><span title=\"72 0.6814\" style=\"background-color:#ed8366\">\n",
              " </span><br><span title=\"73 0.6599\" style=\"background-color:#f29072\">в </span><span title=\"74 0.6494\" style=\"background-color:#f39778\">заочном </span><span title=\"75 0.6651\" style=\"background-color:#f18d6f\">голосовании </span><span title=\"76 0.6571\" style=\"background-color:#f29274\">приняли </span><span title=\"77 0.6453\" style=\"background-color:#f4987a\">участие </span><span title=\"78 0.6569\" style=\"background-color:#f29274\">члены </span><span title=\"79 0.6472\" style=\"background-color:#f4987a\">совета </span><span title=\"80 0.6352\" style=\"background-color:#f59f80\">директоров </span><span title=\"81 0.6531\" style=\"background-color:#f39475\">: </span><span title=\"82 0.6696\" style=\"background-color:#f08a6c\">\n",
              " </span><br><span title=\"83 0.6543\" style=\"background-color:#f39475\">в </span><span title=\"84 0.6416\" style=\"background-color:#f59c7d\">соответствии </span><span title=\"85 0.6390\" style=\"background-color:#f59d7e\">с </span><span title=\"86 0.6643\" style=\"background-color:#f18d6f\">уставом </span><span title=\"87 0.6524\" style=\"background-color:#f39577\">общества </span><span title=\"88 0.6479\" style=\"background-color:#f39778\">в </span><span title=\"89 0.6384\" style=\"background-color:#f59d7e\">совет </span><span title=\"90 0.6453\" style=\"background-color:#f4987a\">директоров </span><span title=\"91 0.6600\" style=\"background-color:#f29072\">избрано </span><span title=\"92 0.7307\" style=\"background-color:#de614d\">5 </span><span title=\"93 0.6769\" style=\"background-color:#ee8669\">человек </span><span title=\"94 0.6933\" style=\"background-color:#e97a5f\">. </span><span title=\"95 0.6923\" style=\"background-color:#ea7b60\">\n",
              " </span><br><span title=\"96 0.6866\" style=\"background-color:#ec7f63\">приняли </span><span title=\"97 0.6650\" style=\"background-color:#f18d6f\">участие </span><span title=\"98 0.6887\" style=\"background-color:#eb7d62\">в </span><span title=\"99 0.6988\" style=\"background-color:#e8765c\">голосовании </span><span title=\"100 0.7546\" style=\"background-color:#d44e41\">–5 </span><span title=\"101 0.6982\" style=\"background-color:#e9785d\">человек </span><span title=\"102 0.7024\" style=\"background-color:#e7745b\">. </span><span title=\"103 0.6964\" style=\"background-color:#e9785d\">\n",
              " </span><br><span title=\"104 0.6804\" style=\"background-color:#ed8366\">все </span><span title=\"105 0.6621\" style=\"background-color:#f18f71\">предоставленные </span><span title=\"106 0.6738\" style=\"background-color:#ef886b\">бюллетени </span><span title=\"107 0.6795\" style=\"background-color:#ee8468\">являются </span><span title=\"108 0.6790\" style=\"background-color:#ee8468\">действительными </span><span title=\"109 0.6939\" style=\"background-color:#e97a5f\">. </span><span title=\"110 0.6940\" style=\"background-color:#e97a5f\">\n",
              " </span><br><span title=\"111 0.6846\" style=\"background-color:#ec8165\">кворум </span><span title=\"112 0.6655\" style=\"background-color:#f18d6f\">для </span><span title=\"113 0.6584\" style=\"background-color:#f29072\">проведения </span><span title=\"114 0.6581\" style=\"background-color:#f29274\">заседания </span><span title=\"115 0.6597\" style=\"background-color:#f29072\">и </span><span title=\"116 0.6493\" style=\"background-color:#f39778\">принятия </span><span title=\"117 0.6578\" style=\"background-color:#f29274\">решений </span><span title=\"118 0.6842\" style=\"background-color:#ec8165\">имеется </span><span title=\"119 0.6958\" style=\"background-color:#e97a5f\">. </span><span title=\"120 0.7116\" style=\"background-color:#e46e56\">\n",
              " </span><br><span title=\"121 0.6996\" style=\"background-color:#e8765c\">\n",
              " </span><br><span title=\"122 0.6829\" style=\"background-color:#ec8165\">повестка </span><span title=\"123 0.6702\" style=\"background-color:#f08a6c\">дня </span><span title=\"124 0.6630\" style=\"background-color:#f18f71\">заседания </span><span title=\"125 0.6770\" style=\"background-color:#ee8669\">: </span><span title=\"126 0.6873\" style=\"background-color:#ec7f63\">\n",
              " </span><br><span title=\"127 0.6657\" style=\"background-color:#f18d6f\">о </span><span title=\"128 0.6688\" style=\"background-color:#f08b6e\">совершении </span><span title=\"129 0.6730\" style=\"background-color:#ef886b\">сделки </span><span title=\"130 0.6898\" style=\"background-color:#eb7d62\">- </span><span title=\"131 0.6839\" style=\"background-color:#ec8165\">заключение </span><span title=\"132 0.6774\" style=\"background-color:#ee8468\">договора </span><span title=\"133 0.6932\" style=\"background-color:#ea7b60\">целевого </span><span title=\"134 0.7038\" style=\"background-color:#e7745b\">пожертвования </span><span title=\"135 0.6612\" style=\"background-color:#f18f71\">между </span><span title=\"136 0.6475\" style=\"background-color:#f4987a\">региональной </span><span title=\"137 0.6288\" style=\"background-color:#f6a283\">общественной </span><span title=\"138 0.6519\" style=\"background-color:#f39577\">организацией </span><span title=\"139 0.6749\" style=\"background-color:#ee8669\">« </span><span title=\"140 0.6582\" style=\"background-color:#f29274\">спортивная </span><span title=\"141 0.6602\" style=\"background-color:#f29072\">смена </span><span title=\"142 0.6904\" style=\"background-color:#eb7d62\">» </span><span title=\"143 0.6706\" style=\"background-color:#f08a6c\">и </span><span title=\"144 0.6871\" style=\"background-color:#ec7f63\">акционерное </span><span title=\"145 0.6943\" style=\"background-color:#e97a5f\">общество </span><span title=\"146 0.7201\" style=\"background-color:#e26952\">« </span><span title=\"147 0.7084\" style=\"background-color:#e57058\">газпромнефть-мнпз </span><span title=\"148 0.7176\" style=\"background-color:#e26952\">» </span><span title=\"149 0.7082\" style=\"background-color:#e57058\">. </span><span title=\"150 0.6963\" style=\"background-color:#e9785d\">\n",
              " </span><br><span title=\"151 0.6744\" style=\"background-color:#ef886b\">вопрос </span><span title=\"152 0.6585\" style=\"background-color:#f29072\">повестки </span><span title=\"153 0.6584\" style=\"background-color:#f29072\">дня </span><span title=\"154 0.6576\" style=\"background-color:#f29274\">заседания </span><span title=\"155 0.6740\" style=\"background-color:#ef886b\">, </span><span title=\"156 0.6653\" style=\"background-color:#f18d6f\">поставленный </span><span title=\"157 0.6726\" style=\"background-color:#ef886b\">на </span><span title=\"158 0.6823\" style=\"background-color:#ed8366\">голосование </span><span title=\"159 0.6754\" style=\"background-color:#ee8669\">: </span><span title=\"160 0.6841\" style=\"background-color:#ec8165\">\n",
              " </span><br><span title=\"161 0.6650\" style=\"background-color:#f18d6f\">о </span><span title=\"162 0.6642\" style=\"background-color:#f18d6f\">совершении </span><span title=\"163 0.6703\" style=\"background-color:#f08a6c\">сделки </span><span title=\"164 0.6860\" style=\"background-color:#ec7f63\">- </span><span title=\"165 0.6813\" style=\"background-color:#ed8366\">заключение </span><span title=\"166 0.6752\" style=\"background-color:#ee8669\">договора </span><span title=\"167 0.6922\" style=\"background-color:#ea7b60\">целевого </span><span title=\"168 0.7012\" style=\"background-color:#e8765c\">пожертвования </span><span title=\"169 0.6608\" style=\"background-color:#f29072\">между </span><span title=\"170 0.6474\" style=\"background-color:#f4987a\">региональной </span><span title=\"171 0.6299\" style=\"background-color:#f6a283\">общественной </span><span title=\"172 0.6515\" style=\"background-color:#f39577\">организацией </span><span title=\"173 0.6743\" style=\"background-color:#ef886b\">« </span><span title=\"174 0.6571\" style=\"background-color:#f29274\">спортивная </span><span title=\"175 0.6589\" style=\"background-color:#f29072\">смена </span><span title=\"176 0.6885\" style=\"background-color:#eb7d62\">» </span><span title=\"177 0.6685\" style=\"background-color:#f08b6e\">и </span><span title=\"178 0.6855\" style=\"background-color:#ec7f63\">акционерное </span><span title=\"179 0.6927\" style=\"background-color:#ea7b60\">общество </span><span title=\"180 0.7156\" style=\"background-color:#e36b54\">« </span><span title=\"181 0.7038\" style=\"background-color:#e7745b\">газпромнефть-мнпз </span><span title=\"182 0.7110\" style=\"background-color:#e46e56\">» </span><span title=\"183 0.7045\" style=\"background-color:#e67259\">. </span><span title=\"184 0.6991\" style=\"background-color:#e8765c\">\n",
              " </span><br><span title=\"185 0.6826\" style=\"background-color:#ec8165\">формулировка </span><span title=\"186 0.6944\" style=\"background-color:#e97a5f\">решения </span><span title=\"187 0.6824\" style=\"background-color:#ed8366\">по </span><span title=\"188 0.6853\" style=\"background-color:#ec7f63\">вопросу </span><span title=\"189 0.6709\" style=\"background-color:#f08a6c\">повестки </span><span title=\"190 0.6691\" style=\"background-color:#f08a6c\">дня </span><span title=\"191 0.6616\" style=\"background-color:#f18f71\">заседания </span><span title=\"192 0.6772\" style=\"background-color:#ee8468\">: </span><span title=\"193 0.6805\" style=\"background-color:#ed8366\">\n",
              " </span><br><span title=\"194 0.6803\" style=\"background-color:#ed8366\">одобрить </span><span title=\"195 0.6772\" style=\"background-color:#ee8468\">сделку </span><span title=\"196 0.6934\" style=\"background-color:#e97a5f\">- </span><span title=\"197 0.6839\" style=\"background-color:#ec8165\">заключение </span><span title=\"198 0.6720\" style=\"background-color:#ef886b\">договора </span><span title=\"199 0.6878\" style=\"background-color:#ec7f63\">целевого </span><span title=\"200 0.6932\" style=\"background-color:#ea7b60\">пожертвования </span><span title=\"201 0.6597\" style=\"background-color:#f29072\">между </span><span title=\"202 0.6523\" style=\"background-color:#f39577\">региональной </span><span title=\"203 0.6339\" style=\"background-color:#f5a081\">общественной </span><span title=\"204 0.6593\" style=\"background-color:#f29072\">организацией </span><span title=\"205 0.6769\" style=\"background-color:#ee8669\">« </span><span title=\"206 0.6609\" style=\"background-color:#f29072\">спортивная </span><span title=\"207 0.6709\" style=\"background-color:#f08a6c\">секция </span><span title=\"208 0.7039\" style=\"background-color:#e7745b\">» </span><span title=\"209 0.6912\" style=\"background-color:#ea7b60\">( </span><span title=\"210 0.7074\" style=\"background-color:#e57058\">получатель </span><span title=\"211 0.6979\" style=\"background-color:#e9785d\">) </span><span title=\"212 0.6748\" style=\"background-color:#ee8669\">и </span><span title=\"213 0.6782\" style=\"background-color:#ee8468\">акционерное </span><span title=\"214 0.6898\" style=\"background-color:#eb7d62\">общество </span><span title=\"215 0.7016\" style=\"background-color:#e7745b\">« </span><span title=\"216 0.6881\" style=\"background-color:#eb7d62\">мессояханефтегаз </span><span title=\"217 0.7030\" style=\"background-color:#e7745b\">» </span><span title=\"218 0.6955\" style=\"background-color:#e97a5f\">( </span><span title=\"219 0.7059\" style=\"background-color:#e67259\">жертвователь </span><span title=\"220 0.7078\" style=\"background-color:#e57058\">) </span><span title=\"221 0.6891\" style=\"background-color:#eb7d62\">на </span><span title=\"222 0.6916\" style=\"background-color:#ea7b60\">следующих </span><span title=\"223 0.6913\" style=\"background-color:#ea7b60\">существенных </span><span title=\"224 0.7047\" style=\"background-color:#e67259\">условиях </span><span title=\"225 0.7023\" style=\"background-color:#e7745b\">: </span><span title=\"226 0.7057\" style=\"background-color:#e67259\">\n",
              " </span><br><span title=\"227 0.7021\" style=\"background-color:#e7745b\">предмет </span><span title=\"228 0.6808\" style=\"background-color:#ed8366\">договора </span><span title=\"229 0.6989\" style=\"background-color:#e8765c\">: </span><span title=\"230 0.6881\" style=\"background-color:#eb7d62\">жертвователь </span><span title=\"231 0.6781\" style=\"background-color:#ee8468\">безвозмездно </span><span title=\"232 0.6744\" style=\"background-color:#ef886b\">передает </span><span title=\"233 0.6852\" style=\"background-color:#ec8165\">, </span><span title=\"234 0.6803\" style=\"background-color:#ed8366\">а </span><span title=\"235 0.6969\" style=\"background-color:#e9785d\">получатель </span><span title=\"236 0.6827\" style=\"background-color:#ec8165\">принимает </span><span title=\"237 0.6928\" style=\"background-color:#ea7b60\">в </span><span title=\"238 0.6849\" style=\"background-color:#ec8165\">качестве </span><span title=\"239 0.7099\" style=\"background-color:#e46e56\">пожертвования </span><span title=\"240 0.7164\" style=\"background-color:#e36b54\">: </span><span title=\"241 0.7241\" style=\"background-color:#e0654f\">\n",
              " </span><br><span title=\"242 0.7222\" style=\"background-color:#e16751\">- </span><span title=\"243 0.7260\" style=\"background-color:#df634e\">денежные </span><span title=\"244 0.7408\" style=\"background-color:#d95847\">средства </span><span title=\"245 0.7361\" style=\"background-color:#dc5d4a\">в </span><span title=\"246 0.7448\" style=\"background-color:#d75445\">размере </span><span title=\"247 0.8169\" style=\"background-color:#b40426\">400000 </span><span title=\"248 0.7062\" style=\"background-color:#e67259\">( </span><span title=\"249 0.7436\" style=\"background-color:#d85646\">триста </span><span title=\"250 0.7295\" style=\"background-color:#de614d\">тысяч </span><span title=\"251 0.7275\" style=\"background-color:#df634e\">) </span><span title=\"252 0.7203\" style=\"background-color:#e16751\">рублей </span><span title=\"253 0.7104\" style=\"background-color:#e46e56\">. </span><span title=\"254 0.6992\" style=\"background-color:#e8765c\">\n",
              " </span><br><span title=\"255 0.6911\" style=\"background-color:#ea7b60\">результаты </span><span title=\"256 0.6903\" style=\"background-color:#eb7d62\">голосования </span><span title=\"257 0.6854\" style=\"background-color:#ec7f63\">: </span><span title=\"258 0.7109\" style=\"background-color:#e46e56\">\n",
              " </span><br><span title=\"259 0.7085\" style=\"background-color:#e57058\">« </span><span title=\"260 0.7055\" style=\"background-color:#e67259\">за </span><span title=\"261 0.7439\" style=\"background-color:#d85646\">» </span><span title=\"262 0.7168\" style=\"background-color:#e36b54\">- </span><span title=\"263 0.7661\" style=\"background-color:#cd423b\">5 </span><span title=\"264 0.7298\" style=\"background-color:#de614d\">\n",
              " </span><br><span title=\"265 0.7185\" style=\"background-color:#e26952\">« </span><span title=\"266 0.7224\" style=\"background-color:#e16751\">против </span><span title=\"267 0.7396\" style=\"background-color:#d95847\">» </span><span title=\"268 0.7328\" style=\"background-color:#dd5f4b\">- </span><span title=\"269 0.7254\" style=\"background-color:#e0654f\">нет </span><span title=\"270 0.7291\" style=\"background-color:#de614d\">\n",
              " </span><br><span title=\"271 0.7329\" style=\"background-color:#dd5f4b\">« </span><span title=\"272 0.7049\" style=\"background-color:#e67259\">воздержался </span><span title=\"273 0.7432\" style=\"background-color:#d85646\">» </span><span title=\"274 0.7225\" style=\"background-color:#e16751\">- </span><span title=\"275 0.7205\" style=\"background-color:#e16751\">нет </span><span title=\"276 0.7125\" style=\"background-color:#e36c55\">\n",
              " </span><br><span title=\"277 0.7084\" style=\"background-color:#e57058\">решение </span><span title=\"278 0.7136\" style=\"background-color:#e36c55\">принято </span><span title=\"279 0.7092\" style=\"background-color:#e57058\">. </span><span title=\"280 0.7081\" style=\"background-color:#e57058\">\n",
              " </span><br><span title=\"281 0.6877\" style=\"background-color:#ec7f63\">решение </span><span title=\"282 0.6803\" style=\"background-color:#ed8366\">, </span><span title=\"283 0.6700\" style=\"background-color:#f08a6c\">принятое </span><span title=\"284 0.6801\" style=\"background-color:#ed8366\">по </span><span title=\"285 0.6745\" style=\"background-color:#ee8669\">вопросу </span><span title=\"286 0.6735\" style=\"background-color:#ef886b\">повестки </span><span title=\"287 0.6674\" style=\"background-color:#f08b6e\">дня </span><span title=\"288 0.6799\" style=\"background-color:#ed8366\">: </span><span title=\"289 0.6846\" style=\"background-color:#ec8165\">\n",
              " </span><br><span title=\"290 0.6823\" style=\"background-color:#ed8366\">одобрить </span><span title=\"291 0.6779\" style=\"background-color:#ee8468\">сделку </span><span title=\"292 0.6962\" style=\"background-color:#e9785d\">- </span><span title=\"293 0.6864\" style=\"background-color:#ec7f63\">заключение </span><span title=\"294 0.6747\" style=\"background-color:#ee8669\">договора </span><span title=\"295 0.6910\" style=\"background-color:#ea7b60\">целевого </span><span title=\"296 0.6953\" style=\"background-color:#e97a5f\">пожертвования </span><span title=\"297 0.6601\" style=\"background-color:#f29072\">между </span><span title=\"298 0.6519\" style=\"background-color:#f39577\">региональной </span><span title=\"299 0.6328\" style=\"background-color:#f5a081\">общественной </span><span title=\"300 0.6580\" style=\"background-color:#f29274\">организацией </span><span title=\"301 0.6754\" style=\"background-color:#ee8669\">« </span><span title=\"302 0.6604\" style=\"background-color:#f29072\">спортивная </span><span title=\"303 0.6707\" style=\"background-color:#f08a6c\">секция </span><span title=\"304 0.7054\" style=\"background-color:#e67259\">» </span><span title=\"305 0.6929\" style=\"background-color:#ea7b60\">( </span><span title=\"306 0.7094\" style=\"background-color:#e46e56\">получатель </span><span title=\"307 0.6996\" style=\"background-color:#e8765c\">) </span><span title=\"308 0.6763\" style=\"background-color:#ee8669\">и </span><span title=\"309 0.6798\" style=\"background-color:#ee8468\">акционерное </span><span title=\"310 0.6912\" style=\"background-color:#ea7b60\">общество </span><span title=\"311 0.7037\" style=\"background-color:#e7745b\">« </span><span title=\"312 0.6903\" style=\"background-color:#eb7d62\">мессояханефтегаз </span><span title=\"313 0.7056\" style=\"background-color:#e67259\">» </span><span title=\"314 0.6979\" style=\"background-color:#e9785d\">( </span><span title=\"315 0.7080\" style=\"background-color:#e57058\">жертвователь </span><span title=\"316 0.7100\" style=\"background-color:#e46e56\">) </span><span title=\"317 0.6905\" style=\"background-color:#eb7d62\">на </span><span title=\"318 0.6918\" style=\"background-color:#ea7b60\">следующих </span><span title=\"319 0.6921\" style=\"background-color:#ea7b60\">существенных </span><span title=\"320 0.7067\" style=\"background-color:#e57058\">условиях </span><span title=\"321 0.7039\" style=\"background-color:#e7745b\">: </span><span title=\"322 0.7079\" style=\"background-color:#e57058\">\n",
              " </span><br><span title=\"323 0.7037\" style=\"background-color:#e7745b\">предмет </span><span title=\"324 0.6825\" style=\"background-color:#ed8366\">договора </span><span title=\"325 0.7006\" style=\"background-color:#e8765c\">: </span><span title=\"326 0.6893\" style=\"background-color:#eb7d62\">жертвователь </span><span title=\"327 0.6789\" style=\"background-color:#ee8468\">безвозмездно </span><span title=\"328 0.6746\" style=\"background-color:#ee8669\">передает </span><span title=\"329 0.6860\" style=\"background-color:#ec7f63\">, </span><span title=\"330 0.6812\" style=\"background-color:#ed8366\">а </span><span title=\"331 0.6983\" style=\"background-color:#e9785d\">получатель </span><span title=\"332 0.6840\" style=\"background-color:#ec8165\">принимает </span><span title=\"333 0.6943\" style=\"background-color:#e97a5f\">в </span><span title=\"334 0.6862\" style=\"background-color:#ec7f63\">качестве </span><span title=\"335 0.7113\" style=\"background-color:#e46e56\">пожертвования </span><span title=\"336 0.7179\" style=\"background-color:#e26952\">: </span><span title=\"337 0.7257\" style=\"background-color:#df634e\">\n",
              " </span><br><span title=\"338 0.7229\" style=\"background-color:#e0654f\">- </span><span title=\"339 0.7271\" style=\"background-color:#df634e\">денежные </span><span title=\"340 0.7418\" style=\"background-color:#d85646\">средства </span><span title=\"341 0.7358\" style=\"background-color:#dc5d4a\">в </span><span title=\"342 0.7454\" style=\"background-color:#d75445\">размере </span><span title=\"343 0.8144\" style=\"background-color:#b40426\">400000 </span><span title=\"344 0.7046\" style=\"background-color:#e67259\">( </span><span title=\"345 0.7417\" style=\"background-color:#d85646\">триста </span><span title=\"346 0.7289\" style=\"background-color:#de614d\">тысяч </span><span title=\"347 0.7287\" style=\"background-color:#de614d\">) </span><span title=\"348 0.7249\" style=\"background-color:#e0654f\">рублей </span><span title=\"349 0.7104\" style=\"background-color:#e46e56\">. </span><span title=\"350 0.7147\" style=\"background-color:#e36c55\">\n",
              " </span><br><span title=\"351 0.6796\" style=\"background-color:#ee8468\">время </span><span title=\"352 0.6799\" style=\"background-color:#ed8366\">подведения </span><span title=\"353 0.6848\" style=\"background-color:#ec8165\">итогов </span><span title=\"354 0.6896\" style=\"background-color:#eb7d62\">голосования </span><span title=\"355 0.7113\" style=\"background-color:#e46e56\">– </span><span title=\"356 0.7523\" style=\"background-color:#d55042\">18 </span><span title=\"357 0.6825\" style=\"background-color:#ec8165\">часов </span><span title=\"358 0.7328\" style=\"background-color:#dd5f4b\">00 </span><span title=\"359 0.6886\" style=\"background-color:#eb7d62\">минут </span><span title=\"360 0.6900\" style=\"background-color:#eb7d62\">. </span><span title=\"361 0.6960\" style=\"background-color:#e9785d\">\n",
              " </span><br><span title=\"362 0.6926\" style=\"background-color:#ea7b60\">подсчет </span><span title=\"363 0.6864\" style=\"background-color:#ec7f63\">голосов </span><span title=\"364 0.6507\" style=\"background-color:#f39577\">осуществил </span><span title=\"365 0.6453\" style=\"background-color:#f4987a\">секретарь </span><span title=\"366 0.6490\" style=\"background-color:#f39778\">совета </span><span title=\"367 0.6514\" style=\"background-color:#f39577\">директоров </span><span title=\"368 0.6941\" style=\"background-color:#e97a5f\">. </span><span title=\"369 0.6963\" style=\"background-color:#e9785d\">\n",
              " </span><br><span title=\"370 0.6941\" style=\"background-color:#e97a5f\">протокол </span><span title=\"371 0.6739\" style=\"background-color:#ef886b\">составлен </span><span title=\"372 0.7467\" style=\"background-color:#d75445\">10 </span><span title=\"373 0.6908\" style=\"background-color:#ea7b60\">октября </span><span title=\"374 0.7059\" style=\"background-color:#e67259\">2018 </span><span title=\"375 0.6817\" style=\"background-color:#ed8366\">года </span><span title=\"376 0.6718\" style=\"background-color:#ef886b\">, </span><span title=\"377 0.6661\" style=\"background-color:#f18d6f\">в </span><span title=\"378 0.6724\" style=\"background-color:#ef886b\">2-х </span><span title=\"379 0.6844\" style=\"background-color:#ec8165\">экземплярах </span><span title=\"380 0.7020\" style=\"background-color:#e7745b\">. </span><span title=\"381 0.6977\" style=\"background-color:#e9785d\">\n",
              " </span><br><span title=\"382 0.6847\" style=\"background-color:#ec8165\">приложения </span><span title=\"383 0.7020\" style=\"background-color:#e7745b\">: </span><span title=\"384 0.7188\" style=\"background-color:#e26952\">\n",
              " </span><br><span title=\"385 0.7596\" style=\"background-color:#d1493f\">1 </span><span title=\"386 0.7038\" style=\"background-color:#e7745b\">. </span><span title=\"387 0.6909\" style=\"background-color:#ea7b60\">проект </span><span title=\"388 0.6826\" style=\"background-color:#ec8165\">договора </span><span title=\"389 0.7038\" style=\"background-color:#e7745b\">целевого </span><span title=\"390 0.7160\" style=\"background-color:#e36b54\">пожертвования </span><span title=\"391 0.7262\" style=\"background-color:#df634e\">. </span><span title=\"392 0.7250\" style=\"background-color:#e0654f\">\n",
              " </span><br><span title=\"393 0.7581\" style=\"background-color:#d1493f\">2 </span><span title=\"394 0.7273\" style=\"background-color:#df634e\">. </span><span title=\"395 0.6918\" style=\"background-color:#ea7b60\">полученные </span><span title=\"396 0.6864\" style=\"background-color:#ec7f63\">до </span><span title=\"397 0.6756\" style=\"background-color:#ee8669\">начала </span><span title=\"398 0.6696\" style=\"background-color:#f08a6c\">заседания </span><span title=\"399 0.6965\" style=\"background-color:#e9785d\">бюллетени </span><span title=\"400 0.6706\" style=\"background-color:#f08a6c\">для </span><span title=\"401 0.6670\" style=\"background-color:#f08b6e\">голосования </span><span title=\"402 0.6382\" style=\"background-color:#f59d7e\">членов </span><span title=\"403 0.6511\" style=\"background-color:#f39577\">совета </span><span title=\"404 0.6553\" style=\"background-color:#f39475\">директоров </span><span title=\"405 0.6685\" style=\"background-color:#f08b6e\">по </span><span title=\"406 0.6598\" style=\"background-color:#f29072\">вопросу </span><span title=\"407 0.6604\" style=\"background-color:#f29072\">повестки </span><span title=\"408 0.6555\" style=\"background-color:#f39475\">дня </span><span title=\"409 0.6578\" style=\"background-color:#f29274\">заседания </span><span title=\"410 0.6582\" style=\"background-color:#f29274\">совета </span><span title=\"411 0.6641\" style=\"background-color:#f18d6f\">директоров </span><span title=\"412 0.6823\" style=\"background-color:#ed8366\">( </span><span title=\"413 0.7243\" style=\"background-color:#e0654f\">всего </span><span title=\"414 0.6690\" style=\"background-color:#f08b6e\">на </span><span title=\"415 0.7228\" style=\"background-color:#e16751\">5 </span><span title=\"416 0.6591\" style=\"background-color:#f29072\">листах </span><span title=\"417 0.7007\" style=\"background-color:#e8765c\">) </span><span title=\"418 0.6945\" style=\"background-color:#e97a5f\">. </span><span title=\"419 0.7052\" style=\"background-color:#e67259\">\n",
              " </span><br><span title=\"420 0.7140\" style=\"background-color:#e36c55\">\n",
              " </span><br>"
            ],
            "text/plain": [
              "<IPython.core.display.HTML object>"
            ]
          },
          "metadata": {
            "tags": []
          }
        },
        {
          "output_type": "stream",
          "text": [
            "REG: 400000 ( триста тысяч ) рублей .\n",
            "REG: 400000 ( триста тысяч ) рублей .\n"
          ],
          "name": "stdout"
        },
        {
          "output_type": "execute_result",
          "data": {
            "text/plain": [
              "[400000.0, 400000.0]"
            ]
          },
          "metadata": {
            "tags": []
          },
          "execution_count": 27
        }
      ]
    },
    {
      "metadata": {
        "id": "h_nS3sP9OslB",
        "colab_type": "code",
        "colab": {
          "base_uri": "https://localhost:8080/",
          "height": 836
        },
        "outputId": "0f8d312b-ba34-48b3-d57b-ecee41f72d17"
      },
      "cell_type": "code",
      "source": [
        "import numpy as np\n",
        "from patterns import DIST_FUNC\n",
        "from ml_tools import *\n",
        "CENTER = np.array([ np.mean(protocol.embeddings, axis=0) ])\n",
        "print (protocol.embeddings.shape)\n",
        "print (CENTER.shape)\n",
        "\n",
        "DIST_FUNC ( CENTER, protocol.embeddings[200:201])\n",
        "\n",
        "\n",
        "def calc_distance_to_center(CENTER, embeddings):\n",
        "  distance_to_center = np.zeros(len(embeddings))\n",
        "  for i in range(len(embeddings)):\n",
        "    d = DIST_FUNC ( CENTER, embeddings[i:i+1])\n",
        "    distance_to_center[i]=d\n",
        "\n",
        "  distance_to_center = 1.0 - distance_to_center\n",
        "  return distance_to_center\n",
        "\n",
        "\n",
        "distance_to_center = calc_distance_to_center(CENTER, protocol.embeddings)\n",
        "distance_to_center =relu(distance_to_center, 0.4)\n",
        "GLOBALS__['renderer'].render_color_text( protocol.tokens, distance_to_center )"
      ],
      "execution_count": 94,
      "outputs": [
        {
          "output_type": "stream",
          "text": [
            "(421, 1024)\n",
            "(1, 1024)\n",
            "render_color_text\n"
          ],
          "name": "stdout"
        },
        {
          "output_type": "display_data",
          "data": {
            "text/html": [
              "<span title=\"0 0.4576\" style=\"background-color:#ee8468\">\n",
              " </span><br><span title=\"1 0.0000\" style=\"background-color:#c5d6f2\">протокол </span><span title=\"2 0.4135\" style=\"background-color:#f39577\">. </span><span title=\"3 0.5600\" style=\"background-color:#da5a49\">\n",
              " </span><br><span title=\"4 0.4480\" style=\"background-color:#ef886b\">заседания </span><span title=\"5 0.0000\" style=\"background-color:#c5d6f2\">совета </span><span title=\"6 0.0000\" style=\"background-color:#c5d6f2\">директоров </span><span title=\"7 0.5054\" style=\"background-color:#e67259\">\n",
              " </span><br><span title=\"8 0.0000\" style=\"background-color:#c5d6f2\">акционерное </span><span title=\"9 0.4177\" style=\"background-color:#f39475\">общество </span><span title=\"10 0.5749\" style=\"background-color:#d75445\">« </span><span title=\"11 0.4753\" style=\"background-color:#eb7d62\">мессояханефтегаз </span><span title=\"12 0.5303\" style=\"background-color:#e26952\">» </span><span title=\"13 0.6022\" style=\"background-color:#d0473d\">\n",
              " </span><br><span title=\"14 0.5673\" style=\"background-color:#d95847\">( </span><span title=\"15 0.4743\" style=\"background-color:#ec7f63\">далее </span><span title=\"16 0.4854\" style=\"background-color:#e97a5f\">– </span><span title=\"17 0.4257\" style=\"background-color:#f29072\">акционерное </span><span title=\"18 0.4805\" style=\"background-color:#ea7b60\">общество </span><span title=\"19 0.5828\" style=\"background-color:#d65244\">« </span><span title=\"20 0.4772\" style=\"background-color:#eb7d62\">мессояханефтегаз </span><span title=\"21 0.5173\" style=\"background-color:#e36c55\">» </span><span title=\"22 0.4728\" style=\"background-color:#ec7f63\">или </span><span title=\"23 0.5772\" style=\"background-color:#d75445\">« </span><span title=\"24 0.4466\" style=\"background-color:#f08a6c\">общество </span><span title=\"25 0.4987\" style=\"background-color:#e7745b\">» </span><span title=\"26 0.5756\" style=\"background-color:#d75445\">) </span><span title=\"27 0.6739\" style=\"background-color:#bb1b2c\">\n",
              " </span><br><span title=\"28 0.5865\" style=\"background-color:#d55042\">|место </span><span title=\"29 0.5500\" style=\"background-color:#de614d\">проведения </span><span title=\"30 0.5941\" style=\"background-color:#d24b40\">заседания </span><span title=\"31 0.6296\" style=\"background-color:#ca3b37\">: </span><span title=\"32 0.6205\" style=\"background-color:#cb3e38\">| </span><span title=\"33 0.6406\" style=\"background-color:#c53334\">| </span><span title=\"34 0.6908\" style=\"background-color:#b50927\">\n",
              " </span><br><span title=\"35 0.6321\" style=\"background-color:#c83836\">|дата </span><span title=\"36 0.5673\" style=\"background-color:#d95847\">и </span><span title=\"37 0.5239\" style=\"background-color:#e36b54\">время </span><span title=\"38 0.5835\" style=\"background-color:#d55042\">проведения </span><span title=\"39 0.6106\" style=\"background-color:#cf453c\">заседания </span><span title=\"40 0.6330\" style=\"background-color:#c83836\">: </span><span title=\"41 0.6197\" style=\"background-color:#cc403a\">| </span><span title=\"42 0.6388\" style=\"background-color:#c73635\">| </span><span title=\"43 0.6938\" style=\"background-color:#b50927\">\n",
              " </span><br><span title=\"44 0.6658\" style=\"background-color:#be242e\">|форма </span><span title=\"45 0.5816\" style=\"background-color:#d65244\">проведения </span><span title=\"46 0.5994\" style=\"background-color:#d1493f\">заседания </span><span title=\"47 0.6481\" style=\"background-color:#c43032\">: </span><span title=\"48 0.6285\" style=\"background-color:#ca3b37\">| </span><span title=\"49 0.6469\" style=\"background-color:#c43032\">| </span><span title=\"50 0.7001\" style=\"background-color:#b40426\">\n",
              " </span><br><span title=\"51 0.6279\" style=\"background-color:#ca3b37\">|место </span><span title=\"52 0.5062\" style=\"background-color:#e67259\">подведения </span><span title=\"53 0.5416\" style=\"background-color:#df634e\">итогов </span><span title=\"54 0.5861\" style=\"background-color:#d55042\">голосования </span><span title=\"55 0.6415\" style=\"background-color:#c53334\">: </span><span title=\"56 0.6111\" style=\"background-color:#cd423b\">| </span><span title=\"57 0.6335\" style=\"background-color:#c83836\">| </span><span title=\"58 0.6796\" style=\"background-color:#ba162b\">\n",
              " </span><br><span title=\"59 0.6105\" style=\"background-color:#cf453c\">|председатель </span><span title=\"60 0.5729\" style=\"background-color:#d85646\">совета </span><span title=\"61 0.5387\" style=\"background-color:#e0654f\">директоров </span><span title=\"62 0.6380\" style=\"background-color:#c73635\">: </span><span title=\"63 0.6239\" style=\"background-color:#cb3e38\">| </span><span title=\"64 0.6329\" style=\"background-color:#c83836\">| </span><span title=\"65 0.6752\" style=\"background-color:#bb1b2c\">\n",
              " </span><br><span title=\"66 0.6249\" style=\"background-color:#cb3e38\">|секретарь </span><span title=\"67 0.5551\" style=\"background-color:#dc5d4a\">совета </span><span title=\"68 0.5245\" style=\"background-color:#e36b54\">директоров </span><span title=\"69 0.5987\" style=\"background-color:#d1493f\">: </span><span title=\"70 0.5958\" style=\"background-color:#d24b40\">| </span><span title=\"71 0.5904\" style=\"background-color:#d44e41\">| </span><span title=\"72 0.5607\" style=\"background-color:#da5a49\">\n",
              " </span><br><span title=\"73 0.4783\" style=\"background-color:#eb7d62\">в </span><span title=\"74 0.0000\" style=\"background-color:#c5d6f2\">заочном </span><span title=\"75 0.4825\" style=\"background-color:#ea7b60\">голосовании </span><span title=\"76 0.4437\" style=\"background-color:#f08a6c\">приняли </span><span title=\"77 0.4398\" style=\"background-color:#f08b6e\">участие </span><span title=\"78 0.4798\" style=\"background-color:#ea7b60\">члены </span><span title=\"79 0.4705\" style=\"background-color:#ec7f63\">совета </span><span title=\"80 0.4488\" style=\"background-color:#ef886b\">директоров </span><span title=\"81 0.4965\" style=\"background-color:#e8765c\">: </span><span title=\"82 0.4955\" style=\"background-color:#e8765c\">\n",
              " </span><br><span title=\"83 0.4161\" style=\"background-color:#f39475\">в </span><span title=\"84 0.0000\" style=\"background-color:#c5d6f2\">соответствии </span><span title=\"85 0.0000\" style=\"background-color:#c5d6f2\">с </span><span title=\"86 0.4325\" style=\"background-color:#f18f71\">уставом </span><span title=\"87 0.4411\" style=\"background-color:#f08b6e\">общества </span><span title=\"88 0.4192\" style=\"background-color:#f29274\">в </span><span title=\"89 0.4285\" style=\"background-color:#f18f71\">совет </span><span title=\"90 0.4279\" style=\"background-color:#f29072\">директоров </span><span title=\"91 0.0000\" style=\"background-color:#c5d6f2\">избрано </span><span title=\"92 0.0000\" style=\"background-color:#c5d6f2\">5 </span><span title=\"93 0.4189\" style=\"background-color:#f29274\">человек </span><span title=\"94 0.4374\" style=\"background-color:#f18d6f\">. </span><span title=\"95 0.4807\" style=\"background-color:#ea7b60\">\n",
              " </span><br><span title=\"96 0.0000\" style=\"background-color:#c5d6f2\">приняли </span><span title=\"97 0.0000\" style=\"background-color:#c5d6f2\">участие </span><span title=\"98 0.0000\" style=\"background-color:#c5d6f2\">в </span><span title=\"99 0.0000\" style=\"background-color:#c5d6f2\">голосовании </span><span title=\"100 0.4284\" style=\"background-color:#f18f71\">–5 </span><span title=\"101 0.0000\" style=\"background-color:#c5d6f2\">человек </span><span title=\"102 0.4202\" style=\"background-color:#f29274\">. </span><span title=\"103 0.4870\" style=\"background-color:#e97a5f\">\n",
              " </span><br><span title=\"104 0.0000\" style=\"background-color:#c5d6f2\">все </span><span title=\"105 0.0000\" style=\"background-color:#c5d6f2\">предоставленные </span><span title=\"106 0.0000\" style=\"background-color:#c5d6f2\">бюллетени </span><span title=\"107 0.0000\" style=\"background-color:#c5d6f2\">являются </span><span title=\"108 0.0000\" style=\"background-color:#c5d6f2\">действительными </span><span title=\"109 0.0000\" style=\"background-color:#c5d6f2\">. </span><span title=\"110 0.4610\" style=\"background-color:#ee8468\">\n",
              " </span><br><span title=\"111 0.0000\" style=\"background-color:#c5d6f2\">кворум </span><span title=\"112 0.0000\" style=\"background-color:#c5d6f2\">для </span><span title=\"113 0.0000\" style=\"background-color:#c5d6f2\">проведения </span><span title=\"114 0.0000\" style=\"background-color:#c5d6f2\">заседания </span><span title=\"115 0.0000\" style=\"background-color:#c5d6f2\">и </span><span title=\"116 0.0000\" style=\"background-color:#c5d6f2\">принятия </span><span title=\"117 0.0000\" style=\"background-color:#c5d6f2\">решений </span><span title=\"118 0.0000\" style=\"background-color:#c5d6f2\">имеется </span><span title=\"119 0.0000\" style=\"background-color:#c5d6f2\">. </span><span title=\"120 0.5422\" style=\"background-color:#df634e\">\n",
              " </span><br><span title=\"121 0.5275\" style=\"background-color:#e26952\">\n",
              " </span><br><span title=\"122 0.0000\" style=\"background-color:#c5d6f2\">повестка </span><span title=\"123 0.0000\" style=\"background-color:#c5d6f2\">дня </span><span title=\"124 0.4584\" style=\"background-color:#ee8468\">заседания </span><span title=\"125 0.5350\" style=\"background-color:#e16751\">: </span><span title=\"126 0.5414\" style=\"background-color:#df634e\">\n",
              " </span><br><span title=\"127 0.4339\" style=\"background-color:#f18d6f\">о </span><span title=\"128 0.0000\" style=\"background-color:#c5d6f2\">совершении </span><span title=\"129 0.4455\" style=\"background-color:#f08a6c\">сделки </span><span title=\"130 0.5379\" style=\"background-color:#e0654f\">- </span><span title=\"131 0.4630\" style=\"background-color:#ed8366\">заключение </span><span title=\"132 0.5011\" style=\"background-color:#e7745b\">договора </span><span title=\"133 0.0000\" style=\"background-color:#c5d6f2\">целевого </span><span title=\"134 0.5018\" style=\"background-color:#e7745b\">пожертвования </span><span title=\"135 0.0000\" style=\"background-color:#c5d6f2\">между </span><span title=\"136 0.0000\" style=\"background-color:#c5d6f2\">региональной </span><span title=\"137 0.0000\" style=\"background-color:#c5d6f2\">общественной </span><span title=\"138 0.0000\" style=\"background-color:#c5d6f2\">организацией </span><span title=\"139 0.5058\" style=\"background-color:#e67259\">« </span><span title=\"140 0.0000\" style=\"background-color:#c5d6f2\">спортивная </span><span title=\"141 0.4430\" style=\"background-color:#f08a6c\">смена </span><span title=\"142 0.5157\" style=\"background-color:#e46e56\">» </span><span title=\"143 0.4675\" style=\"background-color:#ec8165\">и </span><span title=\"144 0.4151\" style=\"background-color:#f39475\">акционерное </span><span title=\"145 0.4685\" style=\"background-color:#ec8165\">общество </span><span title=\"146 0.5894\" style=\"background-color:#d44e41\">« </span><span title=\"147 0.4882\" style=\"background-color:#e97a5f\">газпромнефть-мнпз </span><span title=\"148 0.5072\" style=\"background-color:#e67259\">» </span><span title=\"149 0.4712\" style=\"background-color:#ec7f63\">. </span><span title=\"150 0.6040\" style=\"background-color:#d0473d\">\n",
              " </span><br><span title=\"151 0.4668\" style=\"background-color:#ec8165\">вопрос </span><span title=\"152 0.4221\" style=\"background-color:#f29274\">повестки </span><span title=\"153 0.4884\" style=\"background-color:#e97a5f\">дня </span><span title=\"154 0.5291\" style=\"background-color:#e26952\">заседания </span><span title=\"155 0.5410\" style=\"background-color:#df634e\">, </span><span title=\"156 0.0000\" style=\"background-color:#c5d6f2\">поставленный </span><span title=\"157 0.0000\" style=\"background-color:#c5d6f2\">на </span><span title=\"158 0.5167\" style=\"background-color:#e46e56\">голосование </span><span title=\"159 0.5803\" style=\"background-color:#d65244\">: </span><span title=\"160 0.5852\" style=\"background-color:#d55042\">\n",
              " </span><br><span title=\"161 0.4743\" style=\"background-color:#ec7f63\">о </span><span title=\"162 0.0000\" style=\"background-color:#c5d6f2\">совершении </span><span title=\"163 0.4728\" style=\"background-color:#ec7f63\">сделки </span><span title=\"164 0.5506\" style=\"background-color:#dd5f4b\">- </span><span title=\"165 0.4879\" style=\"background-color:#e97a5f\">заключение </span><span title=\"166 0.5181\" style=\"background-color:#e36c55\">договора </span><span title=\"167 0.0000\" style=\"background-color:#c5d6f2\">целевого </span><span title=\"168 0.5182\" style=\"background-color:#e36c55\">пожертвования </span><span title=\"169 0.4253\" style=\"background-color:#f29072\">между </span><span title=\"170 0.0000\" style=\"background-color:#c5d6f2\">региональной </span><span title=\"171 0.0000\" style=\"background-color:#c5d6f2\">общественной </span><span title=\"172 0.4135\" style=\"background-color:#f39577\">организацией </span><span title=\"173 0.5213\" style=\"background-color:#e36c55\">« </span><span title=\"174 0.0000\" style=\"background-color:#c5d6f2\">спортивная </span><span title=\"175 0.4510\" style=\"background-color:#ef886b\">смена </span><span title=\"176 0.5238\" style=\"background-color:#e36b54\">» </span><span title=\"177 0.4779\" style=\"background-color:#eb7d62\">и </span><span title=\"178 0.4245\" style=\"background-color:#f29072\">акционерное </span><span title=\"179 0.4806\" style=\"background-color:#ea7b60\">общество </span><span title=\"180 0.6011\" style=\"background-color:#d1493f\">« </span><span title=\"181 0.5025\" style=\"background-color:#e7745b\">газпромнефть-мнпз </span><span title=\"182 0.5111\" style=\"background-color:#e57058\">» </span><span title=\"183 0.4857\" style=\"background-color:#e97a5f\">. </span><span title=\"184 0.6081\" style=\"background-color:#cf453c\">\n",
              " </span><br><span title=\"185 0.4650\" style=\"background-color:#ed8366\">формулировка </span><span title=\"186 0.5394\" style=\"background-color:#e0654f\">решения </span><span title=\"187 0.4946\" style=\"background-color:#e8765c\">по </span><span title=\"188 0.4603\" style=\"background-color:#ee8468\">вопросу </span><span title=\"189 0.4711\" style=\"background-color:#ec7f63\">повестки </span><span title=\"190 0.5277\" style=\"background-color:#e26952\">дня </span><span title=\"191 0.5688\" style=\"background-color:#d95847\">заседания </span><span title=\"192 0.6074\" style=\"background-color:#cf453c\">: </span><span title=\"193 0.5842\" style=\"background-color:#d55042\">\n",
              " </span><br><span title=\"194 0.5156\" style=\"background-color:#e46e56\">одобрить </span><span title=\"195 0.4868\" style=\"background-color:#e97a5f\">сделку </span><span title=\"196 0.5814\" style=\"background-color:#d65244\">- </span><span title=\"197 0.5185\" style=\"background-color:#e36c55\">заключение </span><span title=\"198 0.5506\" style=\"background-color:#dd5f4b\">договора </span><span title=\"199 0.0000\" style=\"background-color:#c5d6f2\">целевого </span><span title=\"200 0.5468\" style=\"background-color:#de614d\">пожертвования </span><span title=\"201 0.4699\" style=\"background-color:#ec8165\">между </span><span title=\"202 0.0000\" style=\"background-color:#c5d6f2\">региональной </span><span title=\"203 0.0000\" style=\"background-color:#c5d6f2\">общественной </span><span title=\"204 0.4695\" style=\"background-color:#ec8165\">организацией </span><span title=\"205 0.5856\" style=\"background-color:#d55042\">« </span><span title=\"206 0.4087\" style=\"background-color:#f39778\">спортивная </span><span title=\"207 0.5074\" style=\"background-color:#e67259\">секция </span><span title=\"208 0.5727\" style=\"background-color:#d85646\">» </span><span title=\"209 0.5464\" style=\"background-color:#de614d\">( </span><span title=\"210 0.5292\" style=\"background-color:#e26952\">получатель </span><span title=\"211 0.6250\" style=\"background-color:#cb3e38\">) </span><span title=\"212 0.5668\" style=\"background-color:#d95847\">и </span><span title=\"213 0.4392\" style=\"background-color:#f08b6e\">акционерное </span><span title=\"214 0.5518\" style=\"background-color:#dd5f4b\">общество </span><span title=\"215 0.6667\" style=\"background-color:#be242e\">« </span><span title=\"216 0.5568\" style=\"background-color:#dc5d4a\">мессояханефтегаз </span><span title=\"217 0.5849\" style=\"background-color:#d55042\">» </span><span title=\"218 0.5514\" style=\"background-color:#dd5f4b\">( </span><span title=\"219 0.5228\" style=\"background-color:#e36b54\">жертвователь </span><span title=\"220 0.6287\" style=\"background-color:#ca3b37\">) </span><span title=\"221 0.4914\" style=\"background-color:#e9785d\">на </span><span title=\"222 0.4152\" style=\"background-color:#f39475\">следующих </span><span title=\"223 0.0000\" style=\"background-color:#c5d6f2\">существенных </span><span title=\"224 0.5294\" style=\"background-color:#e26952\">условиях </span><span title=\"225 0.6157\" style=\"background-color:#cc403a\">: </span><span title=\"226 0.6642\" style=\"background-color:#be242e\">\n",
              " </span><br><span title=\"227 0.5173\" style=\"background-color:#e36c55\">предмет </span><span title=\"228 0.5607\" style=\"background-color:#da5a49\">договора </span><span title=\"229 0.5880\" style=\"background-color:#d44e41\">: </span><span title=\"230 0.5497\" style=\"background-color:#de614d\">жертвователь </span><span title=\"231 0.4912\" style=\"background-color:#e9785d\">безвозмездно </span><span title=\"232 0.4577\" style=\"background-color:#ee8468\">передает </span><span title=\"233 0.5303\" style=\"background-color:#e26952\">, </span><span title=\"234 0.4449\" style=\"background-color:#f08a6c\">а </span><span title=\"235 0.5210\" style=\"background-color:#e36c55\">получатель </span><span title=\"236 0.4617\" style=\"background-color:#ed8366\">принимает </span><span title=\"237 0.4498\" style=\"background-color:#ef886b\">в </span><span title=\"238 0.0000\" style=\"background-color:#c5d6f2\">качестве </span><span title=\"239 0.5380\" style=\"background-color:#e0654f\">пожертвования </span><span title=\"240 0.5869\" style=\"background-color:#d55042\">: </span><span title=\"241 0.6053\" style=\"background-color:#d0473d\">\n",
              " </span><br><span title=\"242 0.5460\" style=\"background-color:#de614d\">- </span><span title=\"243 0.0000\" style=\"background-color:#c5d6f2\">денежные </span><span title=\"244 0.4905\" style=\"background-color:#e9785d\">средства </span><span title=\"245 0.4459\" style=\"background-color:#f08a6c\">в </span><span title=\"246 0.0000\" style=\"background-color:#c5d6f2\">размере </span><span title=\"247 0.4466\" style=\"background-color:#f08a6c\">400000 </span><span title=\"248 0.0000\" style=\"background-color:#c5d6f2\">( </span><span title=\"249 0.0000\" style=\"background-color:#c5d6f2\">триста </span><span title=\"250 0.0000\" style=\"background-color:#c5d6f2\">тысяч </span><span title=\"251 0.0000\" style=\"background-color:#c5d6f2\">) </span><span title=\"252 0.4646\" style=\"background-color:#ed8366\">рублей </span><span title=\"253 0.4433\" style=\"background-color:#f08a6c\">. </span><span title=\"254 0.5348\" style=\"background-color:#e16751\">\n",
              " </span><br><span title=\"255 0.0000\" style=\"background-color:#c5d6f2\">результаты </span><span title=\"256 0.4104\" style=\"background-color:#f39577\">голосования </span><span title=\"257 0.4761\" style=\"background-color:#eb7d62\">: </span><span title=\"258 0.5339\" style=\"background-color:#e16751\">\n",
              " </span><br><span title=\"259 0.4805\" style=\"background-color:#ea7b60\">« </span><span title=\"260 0.0000\" style=\"background-color:#c5d6f2\">за </span><span title=\"261 0.4492\" style=\"background-color:#ef886b\">» </span><span title=\"262 0.4141\" style=\"background-color:#f39475\">- </span><span title=\"263 0.4900\" style=\"background-color:#e9785d\">5 </span><span title=\"264 0.5819\" style=\"background-color:#d65244\">\n",
              " </span><br><span title=\"265 0.5236\" style=\"background-color:#e36b54\">« </span><span title=\"266 0.4434\" style=\"background-color:#f08a6c\">против </span><span title=\"267 0.4869\" style=\"background-color:#e97a5f\">» </span><span title=\"268 0.4374\" style=\"background-color:#f18d6f\">- </span><span title=\"269 0.0000\" style=\"background-color:#c5d6f2\">нет </span><span title=\"270 0.5486\" style=\"background-color:#de614d\">\n",
              " </span><br><span title=\"271 0.5211\" style=\"background-color:#e36c55\">« </span><span title=\"272 0.0000\" style=\"background-color:#c5d6f2\">воздержался </span><span title=\"273 0.4714\" style=\"background-color:#ec7f63\">» </span><span title=\"274 0.4060\" style=\"background-color:#f39778\">- </span><span title=\"275 0.0000\" style=\"background-color:#c5d6f2\">нет </span><span title=\"276 0.4787\" style=\"background-color:#eb7d62\">\n",
              " </span><br><span title=\"277 0.4273\" style=\"background-color:#f29072\">решение </span><span title=\"278 0.0000\" style=\"background-color:#c5d6f2\">принято </span><span title=\"279 0.4011\" style=\"background-color:#f4987a\">. </span><span title=\"280 0.5761\" style=\"background-color:#d75445\">\n",
              " </span><br><span title=\"281 0.4645\" style=\"background-color:#ed8366\">решение </span><span title=\"282 0.4985\" style=\"background-color:#e7745b\">, </span><span title=\"283 0.4077\" style=\"background-color:#f39778\">принятое </span><span title=\"284 0.0000\" style=\"background-color:#c5d6f2\">по </span><span title=\"285 0.0000\" style=\"background-color:#c5d6f2\">вопросу </span><span title=\"286 0.0000\" style=\"background-color:#c5d6f2\">повестки </span><span title=\"287 0.4690\" style=\"background-color:#ec8165\">дня </span><span title=\"288 0.5403\" style=\"background-color:#e0654f\">: </span><span title=\"289 0.5441\" style=\"background-color:#df634e\">\n",
              " </span><br><span title=\"290 0.4661\" style=\"background-color:#ec8165\">одобрить </span><span title=\"291 0.4369\" style=\"background-color:#f18d6f\">сделку </span><span title=\"292 0.5297\" style=\"background-color:#e26952\">- </span><span title=\"293 0.4767\" style=\"background-color:#eb7d62\">заключение </span><span title=\"294 0.5140\" style=\"background-color:#e46e56\">договора </span><span title=\"295 0.0000\" style=\"background-color:#c5d6f2\">целевого </span><span title=\"296 0.5204\" style=\"background-color:#e36c55\">пожертвования </span><span title=\"297 0.4388\" style=\"background-color:#f08b6e\">между </span><span title=\"298 0.0000\" style=\"background-color:#c5d6f2\">региональной </span><span title=\"299 0.0000\" style=\"background-color:#c5d6f2\">общественной </span><span title=\"300 0.4489\" style=\"background-color:#ef886b\">организацией </span><span title=\"301 0.5727\" style=\"background-color:#d85646\">« </span><span title=\"302 0.0000\" style=\"background-color:#c5d6f2\">спортивная </span><span title=\"303 0.4908\" style=\"background-color:#e9785d\">секция </span><span title=\"304 0.5631\" style=\"background-color:#da5a49\">» </span><span title=\"305 0.5417\" style=\"background-color:#df634e\">( </span><span title=\"306 0.5224\" style=\"background-color:#e36b54\">получатель </span><span title=\"307 0.6154\" style=\"background-color:#cd423b\">) </span><span title=\"308 0.5571\" style=\"background-color:#dc5d4a\">и </span><span title=\"309 0.4356\" style=\"background-color:#f18d6f\">акционерное </span><span title=\"310 0.5420\" style=\"background-color:#df634e\">общество </span><span title=\"311 0.6634\" style=\"background-color:#be242e\">« </span><span title=\"312 0.5514\" style=\"background-color:#dd5f4b\">мессояханефтегаз </span><span title=\"313 0.5787\" style=\"background-color:#d65244\">» </span><span title=\"314 0.5480\" style=\"background-color:#de614d\">( </span><span title=\"315 0.5180\" style=\"background-color:#e36c55\">жертвователь </span><span title=\"316 0.6209\" style=\"background-color:#cb3e38\">) </span><span title=\"317 0.4879\" style=\"background-color:#e97a5f\">на </span><span title=\"318 0.4096\" style=\"background-color:#f39577\">следующих </span><span title=\"319 0.0000\" style=\"background-color:#c5d6f2\">существенных </span><span title=\"320 0.5260\" style=\"background-color:#e36b54\">условиях </span><span title=\"321 0.6116\" style=\"background-color:#cd423b\">: </span><span title=\"322 0.6595\" style=\"background-color:#c0282f\">\n",
              " </span><br><span title=\"323 0.5121\" style=\"background-color:#e57058\">предмет </span><span title=\"324 0.5564\" style=\"background-color:#dc5d4a\">договора </span><span title=\"325 0.5847\" style=\"background-color:#d55042\">: </span><span title=\"326 0.5452\" style=\"background-color:#df634e\">жертвователь </span><span title=\"327 0.4854\" style=\"background-color:#e97a5f\">безвозмездно </span><span title=\"328 0.4517\" style=\"background-color:#ee8669\">передает </span><span title=\"329 0.5234\" style=\"background-color:#e36b54\">, </span><span title=\"330 0.4391\" style=\"background-color:#f08b6e\">а </span><span title=\"331 0.5168\" style=\"background-color:#e46e56\">получатель </span><span title=\"332 0.4556\" style=\"background-color:#ee8669\">принимает </span><span title=\"333 0.4456\" style=\"background-color:#f08a6c\">в </span><span title=\"334 0.0000\" style=\"background-color:#c5d6f2\">качестве </span><span title=\"335 0.5353\" style=\"background-color:#e16751\">пожертвования </span><span title=\"336 0.5828\" style=\"background-color:#d65244\">: </span><span title=\"337 0.6004\" style=\"background-color:#d1493f\">\n",
              " </span><br><span title=\"338 0.5382\" style=\"background-color:#e0654f\">- </span><span title=\"339 0.0000\" style=\"background-color:#c5d6f2\">денежные </span><span title=\"340 0.4840\" style=\"background-color:#ea7b60\">средства </span><span title=\"341 0.4390\" style=\"background-color:#f08b6e\">в </span><span title=\"342 0.0000\" style=\"background-color:#c5d6f2\">размере </span><span title=\"343 0.4375\" style=\"background-color:#f18d6f\">400000 </span><span title=\"344 0.0000\" style=\"background-color:#c5d6f2\">( </span><span title=\"345 0.0000\" style=\"background-color:#c5d6f2\">триста </span><span title=\"346 0.0000\" style=\"background-color:#c5d6f2\">тысяч </span><span title=\"347 0.0000\" style=\"background-color:#c5d6f2\">) </span><span title=\"348 0.4538\" style=\"background-color:#ee8669\">рублей </span><span title=\"349 0.4314\" style=\"background-color:#f18f71\">. </span><span title=\"350 0.5382\" style=\"background-color:#e0654f\">\n",
              " </span><br><span title=\"351 0.4009\" style=\"background-color:#f4987a\">время </span><span title=\"352 0.0000\" style=\"background-color:#c5d6f2\">подведения </span><span title=\"353 0.4183\" style=\"background-color:#f39475\">итогов </span><span title=\"354 0.4379\" style=\"background-color:#f08b6e\">голосования </span><span title=\"355 0.4368\" style=\"background-color:#f18d6f\">– </span><span title=\"356 0.4009\" style=\"background-color:#f4987a\">18 </span><span title=\"357 0.0000\" style=\"background-color:#c5d6f2\">часов </span><span title=\"358 0.0000\" style=\"background-color:#c5d6f2\">00 </span><span title=\"359 0.0000\" style=\"background-color:#c5d6f2\">минут </span><span title=\"360 0.4392\" style=\"background-color:#f08b6e\">. </span><span title=\"361 0.5071\" style=\"background-color:#e67259\">\n",
              " </span><br><span title=\"362 0.0000\" style=\"background-color:#c5d6f2\">подсчет </span><span title=\"363 0.0000\" style=\"background-color:#c5d6f2\">голосов </span><span title=\"364 0.0000\" style=\"background-color:#c5d6f2\">осуществил </span><span title=\"365 0.0000\" style=\"background-color:#c5d6f2\">секретарь </span><span title=\"366 0.0000\" style=\"background-color:#c5d6f2\">совета </span><span title=\"367 0.0000\" style=\"background-color:#c5d6f2\">директоров </span><span title=\"368 0.0000\" style=\"background-color:#c5d6f2\">. </span><span title=\"369 0.5060\" style=\"background-color:#e67259\">\n",
              " </span><br><span title=\"370 0.4067\" style=\"background-color:#f39778\">протокол </span><span title=\"371 0.0000\" style=\"background-color:#c5d6f2\">составлен </span><span title=\"372 0.0000\" style=\"background-color:#c5d6f2\">10 </span><span title=\"373 0.0000\" style=\"background-color:#c5d6f2\">октября </span><span title=\"374 0.0000\" style=\"background-color:#c5d6f2\">2018 </span><span title=\"375 0.0000\" style=\"background-color:#c5d6f2\">года </span><span title=\"376 0.0000\" style=\"background-color:#c5d6f2\">, </span><span title=\"377 0.0000\" style=\"background-color:#c5d6f2\">в </span><span title=\"378 0.0000\" style=\"background-color:#c5d6f2\">2-х </span><span title=\"379 0.0000\" style=\"background-color:#c5d6f2\">экземплярах </span><span title=\"380 0.0000\" style=\"background-color:#c5d6f2\">. </span><span title=\"381 0.5126\" style=\"background-color:#e46e56\">\n",
              " </span><br><span title=\"382 0.4075\" style=\"background-color:#f39778\">приложения </span><span title=\"383 0.4507\" style=\"background-color:#ef886b\">: </span><span title=\"384 0.4621\" style=\"background-color:#ed8366\">\n",
              " </span><br><span title=\"385 0.4447\" style=\"background-color:#f08a6c\">1 </span><span title=\"386 0.0000\" style=\"background-color:#c5d6f2\">. </span><span title=\"387 0.0000\" style=\"background-color:#c5d6f2\">проект </span><span title=\"388 0.4276\" style=\"background-color:#f29072\">договора </span><span title=\"389 0.0000\" style=\"background-color:#c5d6f2\">целевого </span><span title=\"390 0.4088\" style=\"background-color:#f39778\">пожертвования </span><span title=\"391 0.4219\" style=\"background-color:#f29274\">. </span><span title=\"392 0.5168\" style=\"background-color:#e46e56\">\n",
              " </span><br><span title=\"393 0.4522\" style=\"background-color:#ee8669\">2 </span><span title=\"394 0.4152\" style=\"background-color:#f39475\">. </span><span title=\"395 0.0000\" style=\"background-color:#c5d6f2\">полученные </span><span title=\"396 0.0000\" style=\"background-color:#c5d6f2\">до </span><span title=\"397 0.0000\" style=\"background-color:#c5d6f2\">начала </span><span title=\"398 0.0000\" style=\"background-color:#c5d6f2\">заседания </span><span title=\"399 0.0000\" style=\"background-color:#c5d6f2\">бюллетени </span><span title=\"400 0.4002\" style=\"background-color:#f4987a\">для </span><span title=\"401 0.4487\" style=\"background-color:#ef886b\">голосования </span><span title=\"402 0.4205\" style=\"background-color:#f29274\">членов </span><span title=\"403 0.4360\" style=\"background-color:#f18d6f\">совета </span><span title=\"404 0.4162\" style=\"background-color:#f39475\">директоров </span><span title=\"405 0.0000\" style=\"background-color:#c5d6f2\">по </span><span title=\"406 0.0000\" style=\"background-color:#c5d6f2\">вопросу </span><span title=\"407 0.0000\" style=\"background-color:#c5d6f2\">повестки </span><span title=\"408 0.4533\" style=\"background-color:#ee8669\">дня </span><span title=\"409 0.4982\" style=\"background-color:#e8765c\">заседания </span><span title=\"410 0.4602\" style=\"background-color:#ee8468\">совета </span><span title=\"411 0.4368\" style=\"background-color:#f18d6f\">директоров </span><span title=\"412 0.4155\" style=\"background-color:#f39475\">( </span><span title=\"413 0.0000\" style=\"background-color:#c5d6f2\">всего </span><span title=\"414 0.0000\" style=\"background-color:#c5d6f2\">на </span><span title=\"415 0.0000\" style=\"background-color:#c5d6f2\">5 </span><span title=\"416 0.0000\" style=\"background-color:#c5d6f2\">листах </span><span title=\"417 0.4663\" style=\"background-color:#ec8165\">) </span><span title=\"418 0.0000\" style=\"background-color:#c5d6f2\">. </span><span title=\"419 0.4489\" style=\"background-color:#ef886b\">\n",
              " </span><br><span title=\"420 0.4561\" style=\"background-color:#ee8669\">\n",
              " </span><br>"
            ],
            "text/plain": [
              "<IPython.core.display.HTML object>"
            ]
          },
          "metadata": {
            "tags": []
          }
        }
      ]
    },
    {
      "metadata": {
        "id": "sJ_UCt-bYb_-",
        "colab_type": "text"
      },
      "cell_type": "markdown",
      "source": [
        "### removing outliers and re-estimating center"
      ]
    },
    {
      "metadata": {
        "id": "ZGJp8huGYgl9",
        "colab_type": "code",
        "colab": {
          "base_uri": "https://localhost:8080/",
          "height": 836
        },
        "outputId": "e4aebb01-5908-4a77-a97c-b9ab4f31a990"
      },
      "cell_type": "code",
      "source": [
        "import numpy.ma as ma\n",
        "\n",
        "\n",
        "# distance_to_center = relu(distance_to_center, 0.4)\n",
        "\n",
        "masked = ma.masked_less_equal (distance_to_center, 0.68)\n",
        "outliers_mask = masked.mask\n",
        "\n",
        "embeddings_masked = protocol.embeddings.view(ma.MaskedArray)\n",
        "embeddings_masked.mask=outliers_mask\n",
        "\n",
        "CENTER_2 = np.array([ np.mean(embeddings_masked, axis=0) ])\n",
        "\n",
        "\n",
        "\n",
        "\n",
        "distance_to_center = calc_distance_to_center(CENTER_2, protocol.embeddings)\n",
        "distance_to_center =relu(distance_to_center, 0.3)\n",
        "print( f'\"{protocol.tokens_cc[ np.argmax(distance_to_center) ]}\"', distance_to_center.max())\n",
        "GLOBALS__['renderer'].render_color_text( protocol.tokens, distance_to_center )"
      ],
      "execution_count": 95,
      "outputs": [
        {
          "output_type": "stream",
          "text": [
            "\"\n",
            "\" 0.49477877506212486\n",
            "render_color_text\n"
          ],
          "name": "stdout"
        },
        {
          "output_type": "display_data",
          "data": {
            "text/html": [
              "<span title=\"0 0.3346\" style=\"background-color:#e67259\">\n",
              " </span><br><span title=\"1 0.0000\" style=\"background-color:#dddcdc\">протокол </span><span title=\"2 0.3179\" style=\"background-color:#e97a5f\">. </span><span title=\"3 0.3931\" style=\"background-color:#d75445\">\n",
              " </span><br><span title=\"4 0.0000\" style=\"background-color:#dddcdc\">заседания </span><span title=\"5 0.0000\" style=\"background-color:#dddcdc\">совета </span><span title=\"6 0.0000\" style=\"background-color:#dddcdc\">директоров </span><span title=\"7 0.3554\" style=\"background-color:#e16751\">\n",
              " </span><br><span title=\"8 0.0000\" style=\"background-color:#dddcdc\">акционерное </span><span title=\"9 0.0000\" style=\"background-color:#dddcdc\">общество </span><span title=\"10 0.3800\" style=\"background-color:#da5a49\">« </span><span title=\"11 0.3131\" style=\"background-color:#ea7b60\">мессояханефтегаз </span><span title=\"12 0.3841\" style=\"background-color:#d95847\">» </span><span title=\"13 0.4384\" style=\"background-color:#c83836\">\n",
              " </span><br><span title=\"14 0.3841\" style=\"background-color:#d95847\">( </span><span title=\"15 0.3228\" style=\"background-color:#e9785d\">далее </span><span title=\"16 0.3285\" style=\"background-color:#e7745b\">– </span><span title=\"17 0.0000\" style=\"background-color:#dddcdc\">акционерное </span><span title=\"18 0.3348\" style=\"background-color:#e67259\">общество </span><span title=\"19 0.3892\" style=\"background-color:#d85646\">« </span><span title=\"20 0.3170\" style=\"background-color:#e97a5f\">мессояханефтегаз </span><span title=\"21 0.3791\" style=\"background-color:#da5a49\">» </span><span title=\"22 0.3295\" style=\"background-color:#e7745b\">или </span><span title=\"23 0.3866\" style=\"background-color:#d85646\">« </span><span title=\"24 0.3132\" style=\"background-color:#ea7b60\">общество </span><span title=\"25 0.3745\" style=\"background-color:#dc5d4a\">» </span><span title=\"26 0.3826\" style=\"background-color:#d95847\">) </span><span title=\"27 0.4819\" style=\"background-color:#b8122a\">\n",
              " </span><br><span title=\"28 0.3759\" style=\"background-color:#dc5d4a\">|место </span><span title=\"29 0.3665\" style=\"background-color:#df634e\">проведения </span><span title=\"30 0.3994\" style=\"background-color:#d55042\">заседания </span><span title=\"31 0.4300\" style=\"background-color:#cb3e38\">: </span><span title=\"32 0.4203\" style=\"background-color:#cf453c\">| </span><span title=\"33 0.4316\" style=\"background-color:#cb3e38\">| </span><span title=\"34 0.4948\" style=\"background-color:#b40426\">\n",
              " </span><br><span title=\"35 0.4191\" style=\"background-color:#cf453c\">|дата </span><span title=\"36 0.3792\" style=\"background-color:#da5a49\">и </span><span title=\"37 0.3132\" style=\"background-color:#ea7b60\">время </span><span title=\"38 0.3795\" style=\"background-color:#da5a49\">проведения </span><span title=\"39 0.3965\" style=\"background-color:#d65244\">заседания </span><span title=\"40 0.4172\" style=\"background-color:#cf453c\">: </span><span title=\"41 0.4034\" style=\"background-color:#d44e41\">| </span><span title=\"42 0.4219\" style=\"background-color:#cd423b\">| </span><span title=\"43 0.4814\" style=\"background-color:#b8122a\">\n",
              " </span><br><span title=\"44 0.4209\" style=\"background-color:#cf453c\">|форма </span><span title=\"45 0.3826\" style=\"background-color:#d95847\">проведения </span><span title=\"46 0.3874\" style=\"background-color:#d85646\">заседания </span><span title=\"47 0.4265\" style=\"background-color:#cc403a\">: </span><span title=\"48 0.4107\" style=\"background-color:#d1493f\">| </span><span title=\"49 0.4256\" style=\"background-color:#cc403a\">| </span><span title=\"50 0.4838\" style=\"background-color:#b70d28\">\n",
              " </span><br><span title=\"51 0.4019\" style=\"background-color:#d44e41\">|место </span><span title=\"52 0.3829\" style=\"background-color:#d95847\">подведения </span><span title=\"53 0.3327\" style=\"background-color:#e67259\">итогов </span><span title=\"54 0.3638\" style=\"background-color:#df634e\">голосования </span><span title=\"55 0.4186\" style=\"background-color:#cf453c\">: </span><span title=\"56 0.3991\" style=\"background-color:#d55042\">| </span><span title=\"57 0.4125\" style=\"background-color:#d1493f\">| </span><span title=\"58 0.4729\" style=\"background-color:#bb1b2c\">\n",
              " </span><br><span title=\"59 0.3814\" style=\"background-color:#da5a49\">|председатель </span><span title=\"60 0.4172\" style=\"background-color:#cf453c\">совета </span><span title=\"61 0.3858\" style=\"background-color:#d95847\">директоров </span><span title=\"62 0.4197\" style=\"background-color:#cf453c\">: </span><span title=\"63 0.4069\" style=\"background-color:#d24b40\">| </span><span title=\"64 0.4084\" style=\"background-color:#d24b40\">| </span><span title=\"65 0.4650\" style=\"background-color:#be242e\">\n",
              " </span><br><span title=\"66 0.3983\" style=\"background-color:#d55042\">|секретарь </span><span title=\"67 0.4021\" style=\"background-color:#d44e41\">совета </span><span title=\"68 0.3750\" style=\"background-color:#dc5d4a\">директоров </span><span title=\"69 0.3859\" style=\"background-color:#d95847\">: </span><span title=\"70 0.3844\" style=\"background-color:#d95847\">| </span><span title=\"71 0.3896\" style=\"background-color:#d85646\">| </span><span title=\"72 0.3796\" style=\"background-color:#da5a49\">\n",
              " </span><br><span title=\"73 0.0000\" style=\"background-color:#dddcdc\">в </span><span title=\"74 0.0000\" style=\"background-color:#dddcdc\">заочном </span><span title=\"75 0.3014\" style=\"background-color:#ec8165\">голосовании </span><span title=\"76 0.0000\" style=\"background-color:#dddcdc\">приняли </span><span title=\"77 0.3132\" style=\"background-color:#ea7b60\">участие </span><span title=\"78 0.3407\" style=\"background-color:#e46e56\">члены </span><span title=\"79 0.3395\" style=\"background-color:#e46e56\">совета </span><span title=\"80 0.3148\" style=\"background-color:#ea7b60\">директоров </span><span title=\"81 0.3091\" style=\"background-color:#eb7d62\">: </span><span title=\"82 0.3425\" style=\"background-color:#e46e56\">\n",
              " </span><br><span title=\"83 0.0000\" style=\"background-color:#dddcdc\">в </span><span title=\"84 0.0000\" style=\"background-color:#dddcdc\">соответствии </span><span title=\"85 0.0000\" style=\"background-color:#dddcdc\">с </span><span title=\"86 0.3132\" style=\"background-color:#ea7b60\">уставом </span><span title=\"87 0.3267\" style=\"background-color:#e8765c\">общества </span><span title=\"88 0.0000\" style=\"background-color:#dddcdc\">в </span><span title=\"89 0.3160\" style=\"background-color:#e97a5f\">совет </span><span title=\"90 0.3179\" style=\"background-color:#e97a5f\">директоров </span><span title=\"91 0.0000\" style=\"background-color:#dddcdc\">избрано </span><span title=\"92 0.0000\" style=\"background-color:#dddcdc\">5 </span><span title=\"93 0.3065\" style=\"background-color:#ec7f63\">человек </span><span title=\"94 0.3269\" style=\"background-color:#e8765c\">. </span><span title=\"95 0.3336\" style=\"background-color:#e67259\">\n",
              " </span><br><span title=\"96 0.0000\" style=\"background-color:#dddcdc\">приняли </span><span title=\"97 0.0000\" style=\"background-color:#dddcdc\">участие </span><span title=\"98 0.0000\" style=\"background-color:#dddcdc\">в </span><span title=\"99 0.0000\" style=\"background-color:#dddcdc\">голосовании </span><span title=\"100 0.3202\" style=\"background-color:#e9785d\">–5 </span><span title=\"101 0.0000\" style=\"background-color:#dddcdc\">человек </span><span title=\"102 0.3092\" style=\"background-color:#eb7d62\">. </span><span title=\"103 0.3368\" style=\"background-color:#e57058\">\n",
              " </span><br><span title=\"104 0.0000\" style=\"background-color:#dddcdc\">все </span><span title=\"105 0.0000\" style=\"background-color:#dddcdc\">предоставленные </span><span title=\"106 0.0000\" style=\"background-color:#dddcdc\">бюллетени </span><span title=\"107 0.0000\" style=\"background-color:#dddcdc\">являются </span><span title=\"108 0.0000\" style=\"background-color:#dddcdc\">действительными </span><span title=\"109 0.0000\" style=\"background-color:#dddcdc\">. </span><span title=\"110 0.3211\" style=\"background-color:#e9785d\">\n",
              " </span><br><span title=\"111 0.0000\" style=\"background-color:#dddcdc\">кворум </span><span title=\"112 0.0000\" style=\"background-color:#dddcdc\">для </span><span title=\"113 0.0000\" style=\"background-color:#dddcdc\">проведения </span><span title=\"114 0.0000\" style=\"background-color:#dddcdc\">заседания </span><span title=\"115 0.0000\" style=\"background-color:#dddcdc\">и </span><span title=\"116 0.0000\" style=\"background-color:#dddcdc\">принятия </span><span title=\"117 0.0000\" style=\"background-color:#dddcdc\">решений </span><span title=\"118 0.0000\" style=\"background-color:#dddcdc\">имеется </span><span title=\"119 0.0000\" style=\"background-color:#dddcdc\">. </span><span title=\"120 0.3840\" style=\"background-color:#d95847\">\n",
              " </span><br><span title=\"121 0.3623\" style=\"background-color:#e0654f\">\n",
              " </span><br><span title=\"122 0.0000\" style=\"background-color:#dddcdc\">повестка </span><span title=\"123 0.0000\" style=\"background-color:#dddcdc\">дня </span><span title=\"124 0.0000\" style=\"background-color:#dddcdc\">заседания </span><span title=\"125 0.3341\" style=\"background-color:#e67259\">: </span><span title=\"126 0.3754\" style=\"background-color:#dc5d4a\">\n",
              " </span><br><span title=\"127 0.3100\" style=\"background-color:#eb7d62\">о </span><span title=\"128 0.0000\" style=\"background-color:#dddcdc\">совершении </span><span title=\"129 0.3288\" style=\"background-color:#e7745b\">сделки </span><span title=\"130 0.3722\" style=\"background-color:#dd5f4b\">- </span><span title=\"131 0.3515\" style=\"background-color:#e26952\">заключение </span><span title=\"132 0.3400\" style=\"background-color:#e46e56\">договора </span><span title=\"133 0.0000\" style=\"background-color:#dddcdc\">целевого </span><span title=\"134 0.3491\" style=\"background-color:#e36b54\">пожертвования </span><span title=\"135 0.0000\" style=\"background-color:#dddcdc\">между </span><span title=\"136 0.0000\" style=\"background-color:#dddcdc\">региональной </span><span title=\"137 0.0000\" style=\"background-color:#dddcdc\">общественной </span><span title=\"138 0.0000\" style=\"background-color:#dddcdc\">организацией </span><span title=\"139 0.3245\" style=\"background-color:#e8765c\">« </span><span title=\"140 0.0000\" style=\"background-color:#dddcdc\">спортивная </span><span title=\"141 0.3097\" style=\"background-color:#eb7d62\">смена </span><span title=\"142 0.3769\" style=\"background-color:#dc5d4a\">» </span><span title=\"143 0.3340\" style=\"background-color:#e67259\">и </span><span title=\"144 0.0000\" style=\"background-color:#dddcdc\">акционерное </span><span title=\"145 0.3299\" style=\"background-color:#e7745b\">общество </span><span title=\"146 0.4067\" style=\"background-color:#d24b40\">« </span><span title=\"147 0.3614\" style=\"background-color:#e0654f\">газпромнефть-мнпз </span><span title=\"148 0.3961\" style=\"background-color:#d65244\">» </span><span title=\"149 0.3834\" style=\"background-color:#d95847\">. </span><span title=\"150 0.4291\" style=\"background-color:#cb3e38\">\n",
              " </span><br><span title=\"151 0.3393\" style=\"background-color:#e57058\">вопрос </span><span title=\"152 0.3016\" style=\"background-color:#ec8165\">повестки </span><span title=\"153 0.3136\" style=\"background-color:#ea7b60\">дня </span><span title=\"154 0.3484\" style=\"background-color:#e36b54\">заседания </span><span title=\"155 0.3770\" style=\"background-color:#dc5d4a\">, </span><span title=\"156 0.0000\" style=\"background-color:#dddcdc\">поставленный </span><span title=\"157 0.0000\" style=\"background-color:#dddcdc\">на </span><span title=\"158 0.3134\" style=\"background-color:#ea7b60\">голосование </span><span title=\"159 0.3624\" style=\"background-color:#e0654f\">: </span><span title=\"160 0.4066\" style=\"background-color:#d24b40\">\n",
              " </span><br><span title=\"161 0.3350\" style=\"background-color:#e67259\">о </span><span title=\"162 0.0000\" style=\"background-color:#dddcdc\">совершении </span><span title=\"163 0.3474\" style=\"background-color:#e36b54\">сделки </span><span title=\"164 0.3811\" style=\"background-color:#da5a49\">- </span><span title=\"165 0.3655\" style=\"background-color:#df634e\">заключение </span><span title=\"166 0.3493\" style=\"background-color:#e36b54\">договора </span><span title=\"167 0.0000\" style=\"background-color:#dddcdc\">целевого </span><span title=\"168 0.3564\" style=\"background-color:#e16751\">пожертвования </span><span title=\"169 0.0000\" style=\"background-color:#dddcdc\">между </span><span title=\"170 0.0000\" style=\"background-color:#dddcdc\">региональной </span><span title=\"171 0.0000\" style=\"background-color:#dddcdc\">общественной </span><span title=\"172 0.0000\" style=\"background-color:#dddcdc\">организацией </span><span title=\"173 0.3357\" style=\"background-color:#e57058\">« </span><span title=\"174 0.0000\" style=\"background-color:#dddcdc\">спортивная </span><span title=\"175 0.3152\" style=\"background-color:#ea7b60\">смена </span><span title=\"176 0.3835\" style=\"background-color:#d95847\">» </span><span title=\"177 0.3413\" style=\"background-color:#e46e56\">и </span><span title=\"178 0.0000\" style=\"background-color:#dddcdc\">акционерное </span><span title=\"179 0.3346\" style=\"background-color:#e67259\">общество </span><span title=\"180 0.4089\" style=\"background-color:#d24b40\">« </span><span title=\"181 0.3629\" style=\"background-color:#df634e\">газпромнефть-мнпз </span><span title=\"182 0.3880\" style=\"background-color:#d85646\">» </span><span title=\"183 0.3829\" style=\"background-color:#d95847\">. </span><span title=\"184 0.4235\" style=\"background-color:#cd423b\">\n",
              " </span><br><span title=\"185 0.3423\" style=\"background-color:#e46e56\">формулировка </span><span title=\"186 0.3776\" style=\"background-color:#dc5d4a\">решения </span><span title=\"187 0.3269\" style=\"background-color:#e8765c\">по </span><span title=\"188 0.3014\" style=\"background-color:#ec8165\">вопросу </span><span title=\"189 0.3158\" style=\"background-color:#ea7b60\">повестки </span><span title=\"190 0.3188\" style=\"background-color:#e97a5f\">дня </span><span title=\"191 0.3392\" style=\"background-color:#e57058\">заседания </span><span title=\"192 0.3667\" style=\"background-color:#de614d\">: </span><span title=\"193 0.3969\" style=\"background-color:#d65244\">\n",
              " </span><br><span title=\"194 0.3737\" style=\"background-color:#dd5f4b\">одобрить </span><span title=\"195 0.3435\" style=\"background-color:#e36c55\">сделку </span><span title=\"196 0.3984\" style=\"background-color:#d55042\">- </span><span title=\"197 0.3828\" style=\"background-color:#d95847\">заключение </span><span title=\"198 0.3735\" style=\"background-color:#dd5f4b\">договора </span><span title=\"199 0.0000\" style=\"background-color:#dddcdc\">целевого </span><span title=\"200 0.3773\" style=\"background-color:#dc5d4a\">пожертвования </span><span title=\"201 0.3140\" style=\"background-color:#ea7b60\">между </span><span title=\"202 0.0000\" style=\"background-color:#dddcdc\">региональной </span><span title=\"203 0.0000\" style=\"background-color:#dddcdc\">общественной </span><span title=\"204 0.3242\" style=\"background-color:#e8765c\">организацией </span><span title=\"205 0.3750\" style=\"background-color:#dc5d4a\">« </span><span title=\"206 0.0000\" style=\"background-color:#dddcdc\">спортивная </span><span title=\"207 0.3778\" style=\"background-color:#dc5d4a\">секция </span><span title=\"208 0.4313\" style=\"background-color:#cb3e38\">» </span><span title=\"209 0.3528\" style=\"background-color:#e26952\">( </span><span title=\"210 0.3820\" style=\"background-color:#da5a49\">получатель </span><span title=\"211 0.4368\" style=\"background-color:#c83836\">) </span><span title=\"212 0.3826\" style=\"background-color:#d95847\">и </span><span title=\"213 0.3015\" style=\"background-color:#ec8165\">акционерное </span><span title=\"214 0.3757\" style=\"background-color:#dc5d4a\">общество </span><span title=\"215 0.4337\" style=\"background-color:#ca3b37\">« </span><span title=\"216 0.3660\" style=\"background-color:#df634e\">мессояханефтегаз </span><span title=\"217 0.4295\" style=\"background-color:#cb3e38\">» </span><span title=\"218 0.3757\" style=\"background-color:#dc5d4a\">( </span><span title=\"219 0.3504\" style=\"background-color:#e36b54\">жертвователь </span><span title=\"220 0.4437\" style=\"background-color:#c73635\">) </span><span title=\"221 0.3387\" style=\"background-color:#e57058\">на </span><span title=\"222 0.3004\" style=\"background-color:#ed8366\">следующих </span><span title=\"223 0.0000\" style=\"background-color:#dddcdc\">существенных </span><span title=\"224 0.3477\" style=\"background-color:#e36b54\">условиях </span><span title=\"225 0.4078\" style=\"background-color:#d24b40\">: </span><span title=\"226 0.4663\" style=\"background-color:#be242e\">\n",
              " </span><br><span title=\"227 0.3710\" style=\"background-color:#dd5f4b\">предмет </span><span title=\"228 0.3926\" style=\"background-color:#d75445\">договора </span><span title=\"229 0.4014\" style=\"background-color:#d55042\">: </span><span title=\"230 0.3503\" style=\"background-color:#e36b54\">жертвователь </span><span title=\"231 0.3210\" style=\"background-color:#e9785d\">безвозмездно </span><span title=\"232 0.3267\" style=\"background-color:#e8765c\">передает </span><span title=\"233 0.3644\" style=\"background-color:#df634e\">, </span><span title=\"234 0.0000\" style=\"background-color:#dddcdc\">а </span><span title=\"235 0.3381\" style=\"background-color:#e57058\">получатель </span><span title=\"236 0.3146\" style=\"background-color:#ea7b60\">принимает </span><span title=\"237 0.0000\" style=\"background-color:#dddcdc\">в </span><span title=\"238 0.0000\" style=\"background-color:#dddcdc\">качестве </span><span title=\"239 0.3639\" style=\"background-color:#df634e\">пожертвования </span><span title=\"240 0.3671\" style=\"background-color:#de614d\">: </span><span title=\"241 0.4226\" style=\"background-color:#cd423b\">\n",
              " </span><br><span title=\"242 0.3753\" style=\"background-color:#dc5d4a\">- </span><span title=\"243 0.0000\" style=\"background-color:#dddcdc\">денежные </span><span title=\"244 0.3416\" style=\"background-color:#e46e56\">средства </span><span title=\"245 0.3279\" style=\"background-color:#e7745b\">в </span><span title=\"246 0.0000\" style=\"background-color:#dddcdc\">размере </span><span title=\"247 0.0000\" style=\"background-color:#dddcdc\">400000 </span><span title=\"248 0.0000\" style=\"background-color:#dddcdc\">( </span><span title=\"249 0.0000\" style=\"background-color:#dddcdc\">триста </span><span title=\"250 0.0000\" style=\"background-color:#dddcdc\">тысяч </span><span title=\"251 0.0000\" style=\"background-color:#dddcdc\">) </span><span title=\"252 0.3399\" style=\"background-color:#e46e56\">рублей </span><span title=\"253 0.3516\" style=\"background-color:#e26952\">. </span><span title=\"254 0.3614\" style=\"background-color:#e0654f\">\n",
              " </span><br><span title=\"255 0.0000\" style=\"background-color:#dddcdc\">результаты </span><span title=\"256 0.0000\" style=\"background-color:#dddcdc\">голосования </span><span title=\"257 0.3146\" style=\"background-color:#ea7b60\">: </span><span title=\"258 0.3821\" style=\"background-color:#d95847\">\n",
              " </span><br><span title=\"259 0.3037\" style=\"background-color:#ec8165\">« </span><span title=\"260 0.0000\" style=\"background-color:#dddcdc\">за </span><span title=\"261 0.3426\" style=\"background-color:#e46e56\">» </span><span title=\"262 0.0000\" style=\"background-color:#dddcdc\">- </span><span title=\"263 0.3223\" style=\"background-color:#e9785d\">5 </span><span title=\"264 0.4338\" style=\"background-color:#ca3b37\">\n",
              " </span><br><span title=\"265 0.3532\" style=\"background-color:#e26952\">« </span><span title=\"266 0.3207\" style=\"background-color:#e9785d\">против </span><span title=\"267 0.3668\" style=\"background-color:#de614d\">» </span><span title=\"268 0.3259\" style=\"background-color:#e8765c\">- </span><span title=\"269 0.3026\" style=\"background-color:#ec8165\">нет </span><span title=\"270 0.4040\" style=\"background-color:#d44e41\">\n",
              " </span><br><span title=\"271 0.3443\" style=\"background-color:#e36c55\">« </span><span title=\"272 0.0000\" style=\"background-color:#dddcdc\">воздержался </span><span title=\"273 0.3511\" style=\"background-color:#e26952\">» </span><span title=\"274 0.0000\" style=\"background-color:#dddcdc\">- </span><span title=\"275 0.0000\" style=\"background-color:#dddcdc\">нет </span><span title=\"276 0.3341\" style=\"background-color:#e67259\">\n",
              " </span><br><span title=\"277 0.3165\" style=\"background-color:#e97a5f\">решение </span><span title=\"278 0.0000\" style=\"background-color:#dddcdc\">принято </span><span title=\"279 0.0000\" style=\"background-color:#dddcdc\">. </span><span title=\"280 0.3837\" style=\"background-color:#d95847\">\n",
              " </span><br><span title=\"281 0.3187\" style=\"background-color:#e97a5f\">решение </span><span title=\"282 0.3280\" style=\"background-color:#e7745b\">, </span><span title=\"283 0.0000\" style=\"background-color:#dddcdc\">принятое </span><span title=\"284 0.0000\" style=\"background-color:#dddcdc\">по </span><span title=\"285 0.0000\" style=\"background-color:#dddcdc\">вопросу </span><span title=\"286 0.0000\" style=\"background-color:#dddcdc\">повестки </span><span title=\"287 0.0000\" style=\"background-color:#dddcdc\">дня </span><span title=\"288 0.3277\" style=\"background-color:#e7745b\">: </span><span title=\"289 0.3727\" style=\"background-color:#dd5f4b\">\n",
              " </span><br><span title=\"290 0.3373\" style=\"background-color:#e57058\">одобрить </span><span title=\"291 0.3045\" style=\"background-color:#ec7f63\">сделку </span><span title=\"292 0.3630\" style=\"background-color:#df634e\">- </span><span title=\"293 0.3521\" style=\"background-color:#e26952\">заключение </span><span title=\"294 0.3451\" style=\"background-color:#e36c55\">договора </span><span title=\"295 0.0000\" style=\"background-color:#dddcdc\">целевого </span><span title=\"296 0.3585\" style=\"background-color:#e16751\">пожертвования </span><span title=\"297 0.0000\" style=\"background-color:#dddcdc\">между </span><span title=\"298 0.0000\" style=\"background-color:#dddcdc\">региональной </span><span title=\"299 0.0000\" style=\"background-color:#dddcdc\">общественной </span><span title=\"300 0.3076\" style=\"background-color:#ec7f63\">организацией </span><span title=\"301 0.3618\" style=\"background-color:#e0654f\">« </span><span title=\"302 0.0000\" style=\"background-color:#dddcdc\">спортивная </span><span title=\"303 0.3627\" style=\"background-color:#df634e\">секция </span><span title=\"304 0.4195\" style=\"background-color:#cf453c\">» </span><span title=\"305 0.3456\" style=\"background-color:#e36c55\">( </span><span title=\"306 0.3750\" style=\"background-color:#dc5d4a\">получатель </span><span title=\"307 0.4271\" style=\"background-color:#cc403a\">) </span><span title=\"308 0.3750\" style=\"background-color:#dc5d4a\">и </span><span title=\"309 0.0000\" style=\"background-color:#dddcdc\">акционерное </span><span title=\"310 0.3665\" style=\"background-color:#df634e\">общество </span><span title=\"311 0.4275\" style=\"background-color:#cc403a\">« </span><span title=\"312 0.3593\" style=\"background-color:#e0654f\">мессояханефтегаз </span><span title=\"313 0.4231\" style=\"background-color:#cd423b\">» </span><span title=\"314 0.3701\" style=\"background-color:#de614d\">( </span><span title=\"315 0.3454\" style=\"background-color:#e36c55\">жертвователь </span><span title=\"316 0.4346\" style=\"background-color:#ca3b37\">) </span><span title=\"317 0.3346\" style=\"background-color:#e67259\">на </span><span title=\"318 0.0000\" style=\"background-color:#dddcdc\">следующих </span><span title=\"319 0.0000\" style=\"background-color:#dddcdc\">существенных </span><span title=\"320 0.3445\" style=\"background-color:#e36c55\">условиях </span><span title=\"321 0.4037\" style=\"background-color:#d44e41\">: </span><span title=\"322 0.4618\" style=\"background-color:#c0282f\">\n",
              " </span><br><span title=\"323 0.3674\" style=\"background-color:#de614d\">предмет </span><span title=\"324 0.3879\" style=\"background-color:#d85646\">договора </span><span title=\"325 0.3987\" style=\"background-color:#d55042\">: </span><span title=\"326 0.3454\" style=\"background-color:#e36c55\">жертвователь </span><span title=\"327 0.3151\" style=\"background-color:#ea7b60\">безвозмездно </span><span title=\"328 0.3220\" style=\"background-color:#e9785d\">передает </span><span title=\"329 0.3574\" style=\"background-color:#e16751\">, </span><span title=\"330 0.0000\" style=\"background-color:#dddcdc\">а </span><span title=\"331 0.3334\" style=\"background-color:#e67259\">получатель </span><span title=\"332 0.3104\" style=\"background-color:#eb7d62\">принимает </span><span title=\"333 0.0000\" style=\"background-color:#dddcdc\">в </span><span title=\"334 0.0000\" style=\"background-color:#dddcdc\">качестве </span><span title=\"335 0.3621\" style=\"background-color:#e0654f\">пожертвования </span><span title=\"336 0.3636\" style=\"background-color:#df634e\">: </span><span title=\"337 0.4172\" style=\"background-color:#cf453c\">\n",
              " </span><br><span title=\"338 0.3695\" style=\"background-color:#de614d\">- </span><span title=\"339 0.0000\" style=\"background-color:#dddcdc\">денежные </span><span title=\"340 0.3373\" style=\"background-color:#e57058\">средства </span><span title=\"341 0.3226\" style=\"background-color:#e9785d\">в </span><span title=\"342 0.0000\" style=\"background-color:#dddcdc\">размере </span><span title=\"343 0.0000\" style=\"background-color:#dddcdc\">400000 </span><span title=\"344 0.0000\" style=\"background-color:#dddcdc\">( </span><span title=\"345 0.0000\" style=\"background-color:#dddcdc\">триста </span><span title=\"346 0.0000\" style=\"background-color:#dddcdc\">тысяч </span><span title=\"347 0.0000\" style=\"background-color:#dddcdc\">) </span><span title=\"348 0.3325\" style=\"background-color:#e67259\">рублей </span><span title=\"349 0.3487\" style=\"background-color:#e36b54\">. </span><span title=\"350 0.3773\" style=\"background-color:#dc5d4a\">\n",
              " </span><br><span title=\"351 0.0000\" style=\"background-color:#dddcdc\">время </span><span title=\"352 0.0000\" style=\"background-color:#dddcdc\">подведения </span><span title=\"353 0.0000\" style=\"background-color:#dddcdc\">итогов </span><span title=\"354 0.0000\" style=\"background-color:#dddcdc\">голосования </span><span title=\"355 0.0000\" style=\"background-color:#dddcdc\">– </span><span title=\"356 0.0000\" style=\"background-color:#dddcdc\">18 </span><span title=\"357 0.0000\" style=\"background-color:#dddcdc\">часов </span><span title=\"358 0.0000\" style=\"background-color:#dddcdc\">00 </span><span title=\"359 0.0000\" style=\"background-color:#dddcdc\">минут </span><span title=\"360 0.3194\" style=\"background-color:#e97a5f\">. </span><span title=\"361 0.3397\" style=\"background-color:#e46e56\">\n",
              " </span><br><span title=\"362 0.0000\" style=\"background-color:#dddcdc\">подсчет </span><span title=\"363 0.0000\" style=\"background-color:#dddcdc\">голосов </span><span title=\"364 0.0000\" style=\"background-color:#dddcdc\">осуществил </span><span title=\"365 0.0000\" style=\"background-color:#dddcdc\">секретарь </span><span title=\"366 0.0000\" style=\"background-color:#dddcdc\">совета </span><span title=\"367 0.0000\" style=\"background-color:#dddcdc\">директоров </span><span title=\"368 0.0000\" style=\"background-color:#dddcdc\">. </span><span title=\"369 0.3443\" style=\"background-color:#e36c55\">\n",
              " </span><br><span title=\"370 0.0000\" style=\"background-color:#dddcdc\">протокол </span><span title=\"371 0.0000\" style=\"background-color:#dddcdc\">составлен </span><span title=\"372 0.0000\" style=\"background-color:#dddcdc\">10 </span><span title=\"373 0.0000\" style=\"background-color:#dddcdc\">октября </span><span title=\"374 0.0000\" style=\"background-color:#dddcdc\">2018 </span><span title=\"375 0.0000\" style=\"background-color:#dddcdc\">года </span><span title=\"376 0.0000\" style=\"background-color:#dddcdc\">, </span><span title=\"377 0.0000\" style=\"background-color:#dddcdc\">в </span><span title=\"378 0.0000\" style=\"background-color:#dddcdc\">2-х </span><span title=\"379 0.0000\" style=\"background-color:#dddcdc\">экземплярах </span><span title=\"380 0.0000\" style=\"background-color:#dddcdc\">. </span><span title=\"381 0.3503\" style=\"background-color:#e36b54\">\n",
              " </span><br><span title=\"382 0.0000\" style=\"background-color:#dddcdc\">приложения </span><span title=\"383 0.0000\" style=\"background-color:#dddcdc\">: </span><span title=\"384 0.3316\" style=\"background-color:#e67259\">\n",
              " </span><br><span title=\"385 0.0000\" style=\"background-color:#dddcdc\">1 </span><span title=\"386 0.3080\" style=\"background-color:#ec7f63\">. </span><span title=\"387 0.0000\" style=\"background-color:#dddcdc\">проект </span><span title=\"388 0.3171\" style=\"background-color:#e97a5f\">договора </span><span title=\"389 0.0000\" style=\"background-color:#dddcdc\">целевого </span><span title=\"390 0.3089\" style=\"background-color:#eb7d62\">пожертвования </span><span title=\"391 0.3224\" style=\"background-color:#e9785d\">. </span><span title=\"392 0.3739\" style=\"background-color:#dd5f4b\">\n",
              " </span><br><span title=\"393 0.3105\" style=\"background-color:#eb7d62\">2 </span><span title=\"394 0.3192\" style=\"background-color:#e97a5f\">. </span><span title=\"395 0.0000\" style=\"background-color:#dddcdc\">полученные </span><span title=\"396 0.0000\" style=\"background-color:#dddcdc\">до </span><span title=\"397 0.0000\" style=\"background-color:#dddcdc\">начала </span><span title=\"398 0.0000\" style=\"background-color:#dddcdc\">заседания </span><span title=\"399 0.0000\" style=\"background-color:#dddcdc\">бюллетени </span><span title=\"400 0.0000\" style=\"background-color:#dddcdc\">для </span><span title=\"401 0.0000\" style=\"background-color:#dddcdc\">голосования </span><span title=\"402 0.0000\" style=\"background-color:#dddcdc\">членов </span><span title=\"403 0.3240\" style=\"background-color:#e8765c\">совета </span><span title=\"404 0.3206\" style=\"background-color:#e9785d\">директоров </span><span title=\"405 0.0000\" style=\"background-color:#dddcdc\">по </span><span title=\"406 0.0000\" style=\"background-color:#dddcdc\">вопросу </span><span title=\"407 0.0000\" style=\"background-color:#dddcdc\">повестки </span><span title=\"408 0.0000\" style=\"background-color:#dddcdc\">дня </span><span title=\"409 0.3350\" style=\"background-color:#e67259\">заседания </span><span title=\"410 0.3409\" style=\"background-color:#e46e56\">совета </span><span title=\"411 0.3256\" style=\"background-color:#e8765c\">директоров </span><span title=\"412 0.0000\" style=\"background-color:#dddcdc\">( </span><span title=\"413 0.0000\" style=\"background-color:#dddcdc\">всего </span><span title=\"414 0.0000\" style=\"background-color:#dddcdc\">на </span><span title=\"415 0.0000\" style=\"background-color:#dddcdc\">5 </span><span title=\"416 0.0000\" style=\"background-color:#dddcdc\">листах </span><span title=\"417 0.3278\" style=\"background-color:#e7745b\">) </span><span title=\"418 0.0000\" style=\"background-color:#dddcdc\">. </span><span title=\"419 0.3196\" style=\"background-color:#e97a5f\">\n",
              " </span><br><span title=\"420 0.3231\" style=\"background-color:#e9785d\">\n",
              " </span><br>"
            ],
            "text/plain": [
              "<IPython.core.display.HTML object>"
            ]
          },
          "metadata": {
            "tags": []
          }
        }
      ]
    },
    {
      "metadata": {
        "id": "3_MfMzRsYbO1",
        "colab_type": "code",
        "colab": {}
      },
      "cell_type": "code",
      "source": [
        ""
      ],
      "execution_count": 0,
      "outputs": []
    },
    {
      "metadata": {
        "id": "Mxb8ApOWQrbo",
        "colab_type": "code",
        "colab": {
          "base_uri": "https://localhost:8080/",
          "height": 34
        },
        "outputId": "3b8d839e-d3cd-4990-d504-030c90923d33"
      },
      "cell_type": "code",
      "source": [
        "# print(protocol.distances_per_pattern_dict.keys())\n",
        "\n",
        "import numpy.ma as ma\n",
        "\n",
        "a = np.arange(4)\n",
        "b = np.arange(4)\n",
        "masked = ma.masked_greater_equal(a, 3)\n",
        "mask = masked.mask\n",
        "\n",
        "bm = b.view(ma.MaskedArray)\n",
        "bm.mask = mask\n",
        "\n",
        "\n",
        "print(bm.mean())\n",
        "\n"
      ],
      "execution_count": 70,
      "outputs": [
        {
          "output_type": "stream",
          "text": [
            "1.0\n"
          ],
          "name": "stdout"
        }
      ]
    },
    {
      "metadata": {
        "id": "lpMyH7i9Q54l",
        "colab_type": "code",
        "colab": {
          "base_uri": "https://localhost:8080/",
          "height": 656
        },
        "outputId": "f7039b11-1879-4d1c-bc9d-c57b7c7f3d8c"
      },
      "cell_type": "code",
      "source": [
        "[p.name for p in CTX.protocols_factory.patterns]"
      ],
      "execution_count": 49,
      "outputs": [
        {
          "output_type": "execute_result",
          "data": {
            "text/plain": [
              "['p_agenda_1',\n",
              " 'p_agenda_2',\n",
              " 'p_solution1',\n",
              " 'p_solution2',\n",
              " 'p_head',\n",
              " 'p_question',\n",
              " 'p_votes',\n",
              " 'p_addons',\n",
              " 't_deal_1',\n",
              " 't_deal_2',\n",
              " 't_deal_2',\n",
              " 't_org1',\n",
              " 't_org2',\n",
              " 't_org3',\n",
              " 't_org4',\n",
              " 't_org5',\n",
              " 't_charity_1',\n",
              " 't_charity_2',\n",
              " 't_charity_3',\n",
              " 'tm_charity_1',\n",
              " 'tm_charity_2',\n",
              " 'tm_charity_3',\n",
              " 'sum_max1',\n",
              " 'sum_max2',\n",
              " 'sum_max3',\n",
              " 'sum_max4',\n",
              " 'sum_max5',\n",
              " 'sum_max6',\n",
              " 'sum_max7',\n",
              " 'sum_max8',\n",
              " 'sum_max9',\n",
              " 'sum_max_neg1',\n",
              " 'sum_max_neg2',\n",
              " 'sum_max_neg3',\n",
              " 'sum_max_neg4',\n",
              " 'sum_max_neg5']"
            ]
          },
          "metadata": {
            "tags": []
          },
          "execution_count": 49
        }
      ]
    },
    {
      "metadata": {
        "id": "Z5VwboB4RORX",
        "colab_type": "code",
        "colab": {
          "base_uri": "https://localhost:8080/",
          "height": 911
        },
        "outputId": "eb64ddf0-5bb3-43a0-8924-e1ecfbc49f33"
      },
      "cell_type": "code",
      "source": [
        "_ = protocol.calculate_distances_per_pattern(CTX.protocols_factory, pattern_prefix='p_solution1')\n",
        "summ_attention = protocol.distances_per_pattern_dict['p_solution1']\n",
        "\n",
        "x = summ_attention# - distance_to_center\n",
        "GLOBALS__['renderer'].render_color_text( protocol.tokens_сс, x, _range=(0,1) )\n",
        "\n",
        "\n",
        "\n"
      ],
      "execution_count": 54,
      "outputs": [
        {
          "output_type": "stream",
          "text": [
            "render_color_text\n"
          ],
          "name": "stdout"
        },
        {
          "output_type": "display_data",
          "data": {
            "text/html": [
              "<span title=\"0 0.1499\" style=\"background-color:#cad8ef\">\n",
              " </span><br><span title=\"1 0.3204\" style=\"background-color:#e9d5cb\">протокол </span><span title=\"2 0.2184\" style=\"background-color:#d7dce3\">. </span><span title=\"3 0.2263\" style=\"background-color:#d8dce2\">\n",
              " </span><br><span title=\"4 0.3102\" style=\"background-color:#e7d7ce\">заседания </span><span title=\"5 0.2107\" style=\"background-color:#d6dce4\">совета </span><span title=\"6 0.2223\" style=\"background-color:#d8dce2\">директоров </span><span title=\"7 0.1442\" style=\"background-color:#c9d7f0\">\n",
              " </span><br><span title=\"8 0.1562\" style=\"background-color:#cbd8ee\">акционерное </span><span title=\"9 0.2690\" style=\"background-color:#e0dbd8\">общество </span><span title=\"10 0.1346\" style=\"background-color:#c7d7f0\">« </span><span title=\"11 0.1512\" style=\"background-color:#cbd8ee\">мессояханефтегаз </span><span title=\"12 0.1060\" style=\"background-color:#c1d4f4\">» </span><span title=\"13 0.1374\" style=\"background-color:#c7d7f0\">\n",
              " </span><br><span title=\"14 0.1587\" style=\"background-color:#ccd9ed\">( </span><span title=\"15 0.1304\" style=\"background-color:#c6d6f1\">далее </span><span title=\"16 0.1382\" style=\"background-color:#c7d7f0\">– </span><span title=\"17 0.1637\" style=\"background-color:#cdd9ec\">акционерное </span><span title=\"18 0.2604\" style=\"background-color:#dedcdb\">общество </span><span title=\"19 0.1257\" style=\"background-color:#c5d6f2\">« </span><span title=\"20 0.1211\" style=\"background-color:#c5d6f2\">мессояханефтегаз </span><span title=\"21 0.1013\" style=\"background-color:#c0d4f5\">» </span><span title=\"22 0.0949\" style=\"background-color:#bfd3f6\">или </span><span title=\"23 0.1047\" style=\"background-color:#c1d4f4\">« </span><span title=\"24 0.2319\" style=\"background-color:#d9dce1\">общество </span><span title=\"25 0.1140\" style=\"background-color:#c3d5f4\">» </span><span title=\"26 0.1846\" style=\"background-color:#d1dae9\">) </span><span title=\"27 0.1779\" style=\"background-color:#cfdaea\">\n",
              " </span><br><span title=\"28 0.2015\" style=\"background-color:#d4dbe6\">\n",
              " </span><br><span title=\"29 0.2074\" style=\"background-color:#d5dbe5\">|место </span><span title=\"30 0.2003\" style=\"background-color:#d4dbe6\">проведения </span><span title=\"31 0.2702\" style=\"background-color:#e0dbd8\">заседания </span><span title=\"32 0.1833\" style=\"background-color:#d1dae9\">: </span><span title=\"33 0.1567\" style=\"background-color:#ccd9ed\">| </span><span title=\"34 0.1702\" style=\"background-color:#cedaeb\">| </span><span title=\"35 0.1824\" style=\"background-color:#d1dae9\">\n",
              " </span><br><span title=\"36 0.1463\" style=\"background-color:#cad8ef\">|дата </span><span title=\"37 0.1679\" style=\"background-color:#cdd9ec\">и </span><span title=\"38 0.2823\" style=\"background-color:#e2dad5\">время </span><span title=\"39 0.2116\" style=\"background-color:#d6dce4\">проведения </span><span title=\"40 0.2559\" style=\"background-color:#dedcdb\">заседания </span><span title=\"41 0.1697\" style=\"background-color:#cedaeb\">: </span><span title=\"42 0.1489\" style=\"background-color:#cad8ef\">| </span><span title=\"43 0.1639\" style=\"background-color:#cdd9ec\">| </span><span title=\"44 0.1723\" style=\"background-color:#cedaeb\">\n",
              " </span><br><span title=\"45 0.1854\" style=\"background-color:#d1dae9\">|форма </span><span title=\"46 0.2022\" style=\"background-color:#d4dbe6\">проведения </span><span title=\"47 0.2547\" style=\"background-color:#dddcdc\">заседания </span><span title=\"48 0.1986\" style=\"background-color:#d4dbe6\">: </span><span title=\"49 0.1654\" style=\"background-color:#cdd9ec\">| </span><span title=\"50 0.1742\" style=\"background-color:#cfdaea\">| </span><span title=\"51 0.1944\" style=\"background-color:#d3dbe7\">\n",
              " </span><br><span title=\"52 0.2041\" style=\"background-color:#d5dbe5\">|место </span><span title=\"53 0.2004\" style=\"background-color:#d4dbe6\">подведения </span><span title=\"54 0.2394\" style=\"background-color:#dbdcde\">итогов </span><span title=\"55 0.2021\" style=\"background-color:#d4dbe6\">голосования </span><span title=\"56 0.1562\" style=\"background-color:#cbd8ee\">: </span><span title=\"57 0.1412\" style=\"background-color:#c9d7f0\">| </span><span title=\"58 0.1563\" style=\"background-color:#ccd9ed\">| </span><span title=\"59 0.1673\" style=\"background-color:#cdd9ec\">\n",
              " </span><br><span title=\"60 0.1685\" style=\"background-color:#cedaeb\">|председатель </span><span title=\"61 0.2033\" style=\"background-color:#d5dbe5\">совета </span><span title=\"62 0.1963\" style=\"background-color:#d3dbe7\">директоров </span><span title=\"63 0.1722\" style=\"background-color:#cedaeb\">: </span><span title=\"64 0.1458\" style=\"background-color:#cad8ef\">| </span><span title=\"65 0.1514\" style=\"background-color:#cbd8ee\">| </span><span title=\"66 0.1662\" style=\"background-color:#cdd9ec\">\n",
              " </span><br><span title=\"67 0.1739\" style=\"background-color:#cfdaea\">|секретарь </span><span title=\"68 0.2065\" style=\"background-color:#d5dbe5\">совета </span><span title=\"69 0.1922\" style=\"background-color:#d3dbe7\">директоров </span><span title=\"70 0.1496\" style=\"background-color:#cad8ef\">: </span><span title=\"71 0.1396\" style=\"background-color:#c9d7f0\">| </span><span title=\"72 0.1389\" style=\"background-color:#c9d7f0\">| </span><span title=\"73 0.1106\" style=\"background-color:#c3d5f4\">\n",
              " </span><br><span title=\"74 0.2171\" style=\"background-color:#d7dce3\">в </span><span title=\"75 0.1193\" style=\"background-color:#c4d5f3\">заочном </span><span title=\"76 0.2300\" style=\"background-color:#d9dce1\">голосовании </span><span title=\"77 0.1503\" style=\"background-color:#cad8ef\">приняли </span><span title=\"78 0.2718\" style=\"background-color:#e0dbd8\">участие </span><span title=\"79 0.2139\" style=\"background-color:#d6dce4\">члены </span><span title=\"80 0.1823\" style=\"background-color:#d1dae9\">совета </span><span title=\"81 0.1919\" style=\"background-color:#d3dbe7\">директоров </span><span title=\"82 0.1487\" style=\"background-color:#cad8ef\">: </span><span title=\"83 0.1036\" style=\"background-color:#c1d4f4\">\n",
              " </span><br><span title=\"84 0.1573\" style=\"background-color:#ccd9ed\">в </span><span title=\"85 0.1241\" style=\"background-color:#c5d6f2\">соответствии </span><span title=\"86 0.1274\" style=\"background-color:#c6d6f1\">с </span><span title=\"87 0.2078\" style=\"background-color:#d5dbe5\">уставом </span><span title=\"88 0.1151\" style=\"background-color:#c3d5f4\">общества </span><span title=\"89 0.1635\" style=\"background-color:#cdd9ec\">в </span><span title=\"90 0.2305\" style=\"background-color:#d9dce1\">совет </span><span title=\"91 0.1963\" style=\"background-color:#d3dbe7\">директоров </span><span title=\"92 0.1936\" style=\"background-color:#d3dbe7\">избрано </span><span title=\"93 0.1387\" style=\"background-color:#c9d7f0\">5 </span><span title=\"94 0.1640\" style=\"background-color:#cdd9ec\">человек </span><span title=\"95 0.1861\" style=\"background-color:#d2dbe8\">. </span><span title=\"96 0.1331\" style=\"background-color:#c7d7f0\">\n",
              " </span><br><span title=\"97 0.1895\" style=\"background-color:#d2dbe8\">приняли </span><span title=\"98 0.3222\" style=\"background-color:#e9d5cb\">участие </span><span title=\"99 0.2105\" style=\"background-color:#d6dce4\">в </span><span title=\"100 0.2261\" style=\"background-color:#d8dce2\">голосовании </span><span title=\"101 0.2002\" style=\"background-color:#d4dbe6\">–5 </span><span title=\"102 0.2013\" style=\"background-color:#d4dbe6\">человек </span><span title=\"103 0.1717\" style=\"background-color:#cedaeb\">. </span><span title=\"104 0.1443\" style=\"background-color:#c9d7f0\">\n",
              " </span><br><span title=\"105 0.2052\" style=\"background-color:#d5dbe5\">все </span><span title=\"106 0.1553\" style=\"background-color:#cbd8ee\">предоставленные </span><span title=\"107 0.2262\" style=\"background-color:#d8dce2\">бюллетени </span><span title=\"108 0.1015\" style=\"background-color:#c0d4f5\">являются </span><span title=\"109 0.1359\" style=\"background-color:#c7d7f0\">действительными </span><span title=\"110 0.1632\" style=\"background-color:#cdd9ec\">. </span><span title=\"111 0.1594\" style=\"background-color:#ccd9ed\">\n",
              " </span><br><span title=\"112 0.3156\" style=\"background-color:#e8d6cc\">кворум </span><span title=\"113 0.2020\" style=\"background-color:#d4dbe6\">для </span><span title=\"114 0.1935\" style=\"background-color:#d3dbe7\">проведения </span><span title=\"115 0.2767\" style=\"background-color:#e1dad6\">заседания </span><span title=\"116 0.1608\" style=\"background-color:#ccd9ed\">и </span><span title=\"117 0.2164\" style=\"background-color:#d7dce3\">принятия </span><span title=\"118 0.4292\" style=\"background-color:#f4c6af\">решений </span><span title=\"119 0.1173\" style=\"background-color:#c4d5f3\">имеется </span><span title=\"120 0.1879\" style=\"background-color:#d2dbe8\">. </span><span title=\"121 0.1953\" style=\"background-color:#d3dbe7\">\n",
              " </span><br><span title=\"122 0.2092\" style=\"background-color:#d6dce4\">\n",
              " </span><br><span title=\"123 0.1926\" style=\"background-color:#d3dbe7\">\n",
              " </span><br><span title=\"124 0.3532\" style=\"background-color:#edd2c3\">повестка </span><span title=\"125 0.2660\" style=\"background-color:#dfdbd9\">дня </span><span title=\"126 0.2838\" style=\"background-color:#e2dad5\">заседания </span><span title=\"127 0.1926\" style=\"background-color:#d3dbe7\">: </span><span title=\"128 0.1636\" style=\"background-color:#cdd9ec\">\n",
              " </span><br><span title=\"129 0.1777\" style=\"background-color:#cfdaea\">о </span><span title=\"130 0.2100\" style=\"background-color:#d6dce4\">совершении </span><span title=\"131 0.2343\" style=\"background-color:#dadce0\">сделки </span><span title=\"132 0.2199\" style=\"background-color:#d7dce3\">- </span><span title=\"133 0.3403\" style=\"background-color:#ebd3c6\">заключение </span><span title=\"134 0.1465\" style=\"background-color:#cad8ef\">дополнительного </span><span title=\"135 0.2277\" style=\"background-color:#d9dce1\">соглашения </span><span title=\"136 0.1172\" style=\"background-color:#c4d5f3\">к </span><span title=\"137 0.1776\" style=\"background-color:#cfdaea\">договору </span><span title=\"138 0.0663\" style=\"background-color:#b9d0f9\">№___ </span><span title=\"139 0.1015\" style=\"background-color:#c0d4f5\">от </span><span title=\"140 0.0513\" style=\"background-color:#b6cefa\">__ </span><span title=\"141 0.1357\" style=\"background-color:#c7d7f0\">. </span><span title=\"142 0.0975\" style=\"background-color:#bfd3f6\">____ </span><span title=\"143 0.1525\" style=\"background-color:#cbd8ee\">. </span><span title=\"144 0.0923\" style=\"background-color:#bfd3f6\">201_г </span><span title=\"145 0.1786\" style=\"background-color:#cfdaea\">. </span><span title=\"146 0.0936\" style=\"background-color:#bfd3f6\">между </span><span title=\"147 0.1193\" style=\"background-color:#c4d5f3\">акционерное </span><span title=\"148 0.2085\" style=\"background-color:#d5dbe5\">общество </span><span title=\"149 0.0969\" style=\"background-color:#bfd3f6\">« </span><span title=\"150 0.1051\" style=\"background-color:#c1d4f4\">мессояханефтегаз </span><span title=\"151 0.0641\" style=\"background-color:#b9d0f9\">» </span><span title=\"152 0.1138\" style=\"background-color:#c3d5f4\">и </span><span title=\"153 0.1781\" style=\"background-color:#cfdaea\">общество </span><span title=\"154 0.0798\" style=\"background-color:#bbd1f8\">с </span><span title=\"155 0.0206\" style=\"background-color:#aec9fc\">ограниченной </span><span title=\"156 0.1270\" style=\"background-color:#c6d6f1\">ответственностью </span><span title=\"157 0.0700\" style=\"background-color:#bad0f8\">« </span><span title=\"158 0.2379\" style=\"background-color:#dadce0\">прогресс </span><span title=\"159 0.1137\" style=\"background-color:#c3d5f4\">» </span><span title=\"160 0.1646\" style=\"background-color:#cdd9ec\">. </span><span title=\"161 0.1878\" style=\"background-color:#d2dbe8\">\n",
              " </span><br><span title=\"162 0.3891\" style=\"background-color:#f1cdba\">вопрос </span><span title=\"163 0.2399\" style=\"background-color:#dbdcde\">повестки </span><span title=\"164 0.2749\" style=\"background-color:#e1dad6\">дня </span><span title=\"165 0.2977\" style=\"background-color:#e5d8d1\">заседания </span><span title=\"166 0.2321\" style=\"background-color:#d9dce1\">, </span><span title=\"167 0.2751\" style=\"background-color:#e1dad6\">поставленный </span><span title=\"168 0.2068\" style=\"background-color:#d5dbe5\">на </span><span title=\"169 0.4008\" style=\"background-color:#f2cbb7\">голосование </span><span title=\"170 0.2098\" style=\"background-color:#d6dce4\">: </span><span title=\"171 0.1729\" style=\"background-color:#cedaeb\">\n",
              " </span><br><span title=\"172 0.1670\" style=\"background-color:#cdd9ec\">о </span><span title=\"173 0.2047\" style=\"background-color:#d5dbe5\">совершении </span><span title=\"174 0.2369\" style=\"background-color:#dadce0\">сделки </span><span title=\"175 0.2239\" style=\"background-color:#d8dce2\">- </span><span title=\"176 0.3433\" style=\"background-color:#ebd3c6\">заключение </span><span title=\"177 0.1472\" style=\"background-color:#cad8ef\">дополнительного </span><span title=\"178 0.2302\" style=\"background-color:#d9dce1\">соглашения </span><span title=\"179 0.1124\" style=\"background-color:#c3d5f4\">к </span><span title=\"180 0.1756\" style=\"background-color:#cfdaea\">договору </span><span title=\"181 0.0644\" style=\"background-color:#b9d0f9\">№___ </span><span title=\"182 0.1002\" style=\"background-color:#c0d4f5\">от </span><span title=\"183 0.0506\" style=\"background-color:#b5cdfa\">__ </span><span title=\"184 0.1320\" style=\"background-color:#c6d6f1\">. </span><span title=\"185 0.0983\" style=\"background-color:#c0d4f5\">____ </span><span title=\"186 0.1489\" style=\"background-color:#cad8ef\">. </span><span title=\"187 0.0885\" style=\"background-color:#bed2f6\">201_г </span><span title=\"188 0.1752\" style=\"background-color:#cfdaea\">. </span><span title=\"189 0.0907\" style=\"background-color:#bed2f6\">между </span><span title=\"190 0.1167\" style=\"background-color:#c4d5f3\">акционерное </span><span title=\"191 0.2044\" style=\"background-color:#d5dbe5\">общество </span><span title=\"192 0.0936\" style=\"background-color:#bfd3f6\">« </span><span title=\"193 0.1027\" style=\"background-color:#c0d4f5\">мессояханефтегаз </span><span title=\"194 0.0631\" style=\"background-color:#b9d0f9\">» </span><span title=\"195 0.1133\" style=\"background-color:#c3d5f4\">и </span><span title=\"196 0.1752\" style=\"background-color:#cfdaea\">общество </span><span title=\"197 0.0800\" style=\"background-color:#bbd1f8\">с </span><span title=\"198 0.0212\" style=\"background-color:#aec9fc\">ограниченной </span><span title=\"199 0.1257\" style=\"background-color:#c5d6f2\">ответственностью </span><span title=\"200 0.0710\" style=\"background-color:#bad0f8\">« </span><span title=\"201 0.2248\" style=\"background-color:#d8dce2\">прогресс </span><span title=\"202 0.1058\" style=\"background-color:#c1d4f4\">» </span><span title=\"203 0.1539\" style=\"background-color:#cbd8ee\">. </span><span title=\"204 0.1748\" style=\"background-color:#cfdaea\">\n",
              " </span><br><span title=\"205 0.1824\" style=\"background-color:#d1dae9\">\n",
              " </span><br><span title=\"206 0.1740\" style=\"background-color:#cfdaea\">\n",
              " </span><br><span title=\"207 0.3868\" style=\"background-color:#f1cdba\">формулировка </span><span title=\"208 0.6189\" style=\"background-color:#f59c7d\">решения </span><span title=\"209 0.2571\" style=\"background-color:#dedcdb\">по </span><span title=\"210 0.3165\" style=\"background-color:#e8d6cc\">вопросу </span><span title=\"211 0.2695\" style=\"background-color:#e0dbd8\">повестки </span><span title=\"212 0.2883\" style=\"background-color:#e3d9d3\">дня </span><span title=\"213 0.2946\" style=\"background-color:#e4d9d2\">заседания </span><span title=\"214 0.2142\" style=\"background-color:#d6dce4\">: </span><span title=\"215 0.1711\" style=\"background-color:#cedaeb\">\n",
              " </span><br><span title=\"216 0.2085\" style=\"background-color:#d5dbe5\">одобрить </span><span title=\"217 0.3004\" style=\"background-color:#e5d8d1\">сделку </span><span title=\"218 0.2377\" style=\"background-color:#dadce0\">- </span><span title=\"219 0.3642\" style=\"background-color:#eed0c0\">заключение </span><span title=\"220 0.1425\" style=\"background-color:#c9d7f0\">дополнительного </span><span title=\"221 0.2393\" style=\"background-color:#dbdcde\">соглашения </span><span title=\"222 0.1181\" style=\"background-color:#c4d5f3\">к </span><span title=\"223 0.1710\" style=\"background-color:#cedaeb\">договору </span><span title=\"224 0.1132\" style=\"background-color:#c3d5f4\">№__ </span><span title=\"225 0.1186\" style=\"background-color:#c4d5f3\">от </span><span title=\"226 0.0866\" style=\"background-color:#bed2f6\">__ </span><span title=\"227 0.1674\" style=\"background-color:#cdd9ec\">. </span><span title=\"228 0.0842\" style=\"background-color:#bcd2f7\">__ </span><span title=\"229 0.1703\" style=\"background-color:#cedaeb\">. </span><span title=\"230 0.1683\" style=\"background-color:#cedaeb\">201__ </span><span title=\"231 0.0706\" style=\"background-color:#bad0f8\">г. </span><span title=\"232 0.1042\" style=\"background-color:#c1d4f4\">между </span><span title=\"233 0.1164\" style=\"background-color:#c4d5f3\">акционерное </span><span title=\"234 0.2122\" style=\"background-color:#d6dce4\">общество </span><span title=\"235 0.0931\" style=\"background-color:#bfd3f6\">« </span><span title=\"236 0.1254\" style=\"background-color:#c5d6f2\">мессояханефтегаз </span><span title=\"237 0.0773\" style=\"background-color:#bbd1f8\">» </span><span title=\"238 0.1017\" style=\"background-color:#c0d4f5\">( </span><span title=\"239 0.0983\" style=\"background-color:#c0d4f5\">« </span><span title=\"240 0.1820\" style=\"background-color:#d1dae9\">продавец </span><span title=\"241 0.0875\" style=\"background-color:#bed2f6\">» </span><span title=\"242 0.1283\" style=\"background-color:#c6d6f1\">) </span><span title=\"243 0.1192\" style=\"background-color:#c4d5f3\">и </span><span title=\"244 0.1812\" style=\"background-color:#d1dae9\">общество </span><span title=\"245 0.0714\" style=\"background-color:#bad0f8\">с </span><span title=\"246 0.0141\" style=\"background-color:#adc9fd\">ограниченной </span><span title=\"247 0.1143\" style=\"background-color:#c3d5f4\">ответственностью </span><span title=\"248 0.0716\" style=\"background-color:#bad0f8\">« </span><span title=\"249 0.2235\" style=\"background-color:#d8dce2\">прогресс </span><span title=\"250 0.0839\" style=\"background-color:#bcd2f7\">» </span><span title=\"251 0.0824\" style=\"background-color:#bcd2f7\">( </span><span title=\"252 0.0829\" style=\"background-color:#bcd2f7\">« </span><span title=\"253 0.1781\" style=\"background-color:#cfdaea\">покупатель </span><span title=\"254 0.0760\" style=\"background-color:#bbd1f8\">» </span><span title=\"255 0.1332\" style=\"background-color:#c7d7f0\">) </span><span title=\"256 0.1330\" style=\"background-color:#c7d7f0\">, </span><span title=\"257 0.1309\" style=\"background-color:#c6d6f1\">на </span><span title=\"258 0.1584\" style=\"background-color:#ccd9ed\">следующих </span><span title=\"259 0.1461\" style=\"background-color:#cad8ef\">основных </span><span title=\"260 0.1952\" style=\"background-color:#d3dbe7\">условиях </span><span title=\"261 0.1734\" style=\"background-color:#cedaeb\">: </span><span title=\"262 0.1579\" style=\"background-color:#ccd9ed\">\n",
              " </span><br><span title=\"263 0.2681\" style=\"background-color:#e0dbd8\">предмет </span><span title=\"264 0.1755\" style=\"background-color:#cfdaea\">сделки </span><span title=\"265 0.1544\" style=\"background-color:#cbd8ee\">: </span><span title=\"266 0.0923\" style=\"background-color:#bfd3f6\">« </span><span title=\"267 0.2040\" style=\"background-color:#d5dbe5\">покупатель </span><span title=\"268 0.0950\" style=\"background-color:#bfd3f6\">» </span><span title=\"269 0.0459\" style=\"background-color:#b5cdfa\">и </span><span title=\"270 0.0822\" style=\"background-color:#bcd2f7\">« </span><span title=\"271 0.1569\" style=\"background-color:#ccd9ed\">продавец </span><span title=\"272 0.0942\" style=\"background-color:#bfd3f6\">» </span><span title=\"273 0.2091\" style=\"background-color:#d6dce4\">договорились </span><span title=\"274 0.1173\" style=\"background-color:#c4d5f3\">изменить </span><span title=\"275 0.1699\" style=\"background-color:#cedaeb\">стоимость </span><span title=\"276 0.1211\" style=\"background-color:#c4d5f3\">договора </span><span title=\"277 0.0323\" style=\"background-color:#b1cbfc\">№____ </span><span title=\"278 0.0994\" style=\"background-color:#c0d4f5\">от </span><span title=\"279 0.0459\" style=\"background-color:#b5cdfa\">__ </span><span title=\"280 0.1243\" style=\"background-color:#c5d6f2\">. </span><span title=\"281 0.0984\" style=\"background-color:#c0d4f5\">___ </span><span title=\"282 0.1503\" style=\"background-color:#cad8ef\">. </span><span title=\"283 0.1275\" style=\"background-color:#c6d6f1\">201__ </span><span title=\"284 0.0583\" style=\"background-color:#b7cff9\">г. </span><span title=\"285 0.1401\" style=\"background-color:#c9d7f0\">хххх </span><span title=\"286 0.1764\" style=\"background-color:#cfdaea\">. </span><span title=\"287 0.1620\" style=\"background-color:#ccd9ed\">\n",
              " </span><br><span title=\"288 0.2258\" style=\"background-color:#d8dce2\">стоимость </span><span title=\"289 0.1668\" style=\"background-color:#cdd9ec\">сделки </span><span title=\"290 0.1296\" style=\"background-color:#c6d6f1\">: </span><span title=\"291 0.1336\" style=\"background-color:#c7d7f0\">26 </span><span title=\"292 0.1334\" style=\"background-color:#c7d7f0\">765 </span><span title=\"293 0.1236\" style=\"background-color:#c5d6f2\">123 </span><span title=\"294 0.0482\" style=\"background-color:#b5cdfa\">( </span><span title=\"295 0.0837\" style=\"background-color:#bcd2f7\">двадцать </span><span title=\"296 0.1147\" style=\"background-color:#c3d5f4\">шесть </span><span title=\"297 0.0695\" style=\"background-color:#bad0f8\">миллионов </span><span title=\"298 0.0796\" style=\"background-color:#bbd1f8\">семьсот </span><span title=\"299 0.0689\" style=\"background-color:#bad0f8\">шестьдесят </span><span title=\"300 0.0898\" style=\"background-color:#bed2f6\">пять </span><span title=\"301 0.0677\" style=\"background-color:#b9d0f9\">тысяч </span><span title=\"302 0.0844\" style=\"background-color:#bcd2f7\">сто </span><span title=\"303 0.0982\" style=\"background-color:#c0d4f5\">двадцать </span><span title=\"304 0.1329\" style=\"background-color:#c7d7f0\">три </span><span title=\"305 0.0755\" style=\"background-color:#bbd1f8\">) </span><span title=\"306 0.0617\" style=\"background-color:#b7cff9\">рублей </span><span title=\"307 0.0796\" style=\"background-color:#bbd1f8\">без </span><span title=\"308 0.0656\" style=\"background-color:#b9d0f9\">ндс </span><span title=\"309 0.0623\" style=\"background-color:#b7cff9\">в </span><span title=\"310 0.1245\" style=\"background-color:#c5d6f2\">год </span><span title=\"311 0.1750\" style=\"background-color:#cfdaea\">. </span><span title=\"312 0.1638\" style=\"background-color:#cdd9ec\">\n",
              " </span><br><span title=\"313 0.2142\" style=\"background-color:#d6dce4\">срок </span><span title=\"314 0.1027\" style=\"background-color:#c0d4f5\">: </span><span title=\"315 0.0592\" style=\"background-color:#b7cff9\">начиная </span><span title=\"316 0.0998\" style=\"background-color:#c0d4f5\">с </span><span title=\"317 0.1089\" style=\"background-color:#c1d4f4\">01-01-2019 </span><span title=\"318 0.1692\" style=\"background-color:#cedaeb\">год </span><span title=\"319 0.1984\" style=\"background-color:#d4dbe6\">. </span><span title=\"320 0.1992\" style=\"background-color:#d4dbe6\">\n",
              " </span><br><span title=\"321 0.3375\" style=\"background-color:#ead4c8\">результаты </span><span title=\"322 0.2460\" style=\"background-color:#dcdddd\">голосования </span><span title=\"323 0.1731\" style=\"background-color:#cedaeb\">: </span><span title=\"324 0.1706\" style=\"background-color:#cedaeb\">\n",
              " </span><br><span title=\"325 0.1250\" style=\"background-color:#c5d6f2\">« </span><span title=\"326 0.1325\" style=\"background-color:#c6d6f1\">за </span><span title=\"327 0.1062\" style=\"background-color:#c1d4f4\">» </span><span title=\"328 0.1091\" style=\"background-color:#c1d4f4\">- </span><span title=\"329 0.1455\" style=\"background-color:#cad8ef\">5 </span><span title=\"330 0.1736\" style=\"background-color:#cedaeb\">\n",
              " </span><br><span title=\"331 0.1225\" style=\"background-color:#c5d6f2\">« </span><span title=\"332 0.1755\" style=\"background-color:#cfdaea\">против </span><span title=\"333 0.1114\" style=\"background-color:#c3d5f4\">» </span><span title=\"334 0.1365\" style=\"background-color:#c7d7f0\">- </span><span title=\"335 0.1395\" style=\"background-color:#c9d7f0\">нет </span><span title=\"336 0.1485\" style=\"background-color:#cad8ef\">\n",
              " </span><br><span title=\"337 0.1343\" style=\"background-color:#c7d7f0\">« </span><span title=\"338 0.2219\" style=\"background-color:#d8dce2\">воздержался </span><span title=\"339 0.1063\" style=\"background-color:#c1d4f4\">» </span><span title=\"340 0.1745\" style=\"background-color:#cfdaea\">- </span><span title=\"341 0.1675\" style=\"background-color:#cdd9ec\">нет </span><span title=\"342 0.1594\" style=\"background-color:#ccd9ed\">\n",
              " </span><br><span title=\"343 0.7426\" style=\"background-color:#e8765c\">решение </span><span title=\"344 0.3546\" style=\"background-color:#edd2c3\">принято </span><span title=\"345 0.2126\" style=\"background-color:#d6dce4\">. </span><span title=\"346 0.2543\" style=\"background-color:#dddcdc\">\n",
              " </span><br><span title=\"347 0.8790\" style=\"background-color:#d0473d\">решение </span><span title=\"348 0.3605\" style=\"background-color:#edd1c2\">, </span><span title=\"349 0.4197\" style=\"background-color:#f3c8b2\">принятое </span><span title=\"350 0.2310\" style=\"background-color:#d9dce1\">по </span><span title=\"351 0.3094\" style=\"background-color:#e7d7ce\">вопросу </span><span title=\"352 0.2781\" style=\"background-color:#e1dad6\">повестки </span><span title=\"353 0.2875\" style=\"background-color:#e3d9d3\">дня </span><span title=\"354 0.2485\" style=\"background-color:#dcdddd\">: </span><span title=\"355 0.1707\" style=\"background-color:#cedaeb\">\n",
              " </span><br><span title=\"356 0.2174\" style=\"background-color:#d7dce3\">одобрить </span><span title=\"357 0.2978\" style=\"background-color:#e5d8d1\">сделку </span><span title=\"358 0.2394\" style=\"background-color:#dbdcde\">- </span><span title=\"359 0.3619\" style=\"background-color:#eed0c0\">заключение </span><span title=\"360 0.1384\" style=\"background-color:#c7d7f0\">дополнительного </span><span title=\"361 0.2353\" style=\"background-color:#dadce0\">соглашения </span><span title=\"362 0.1140\" style=\"background-color:#c3d5f4\">к </span><span title=\"363 0.1686\" style=\"background-color:#cedaeb\">договору </span><span title=\"364 0.1120\" style=\"background-color:#c3d5f4\">№__ </span><span title=\"365 0.1164\" style=\"background-color:#c4d5f3\">от </span><span title=\"366 0.0857\" style=\"background-color:#bcd2f7\">__ </span><span title=\"367 0.1665\" style=\"background-color:#cdd9ec\">. </span><span title=\"368 0.0837\" style=\"background-color:#bcd2f7\">__ </span><span title=\"369 0.1638\" style=\"background-color:#cdd9ec\">. </span><span title=\"370 0.1664\" style=\"background-color:#cdd9ec\">201__ </span><span title=\"371 0.0662\" style=\"background-color:#b9d0f9\">г. </span><span title=\"372 0.0992\" style=\"background-color:#c0d4f5\">между </span><span title=\"373 0.1147\" style=\"background-color:#c3d5f4\">акционерное </span><span title=\"374 0.2103\" style=\"background-color:#d6dce4\">общество </span><span title=\"375 0.0905\" style=\"background-color:#bed2f6\">« </span><span title=\"376 0.1229\" style=\"background-color:#c5d6f2\">мессояханефтегаз </span><span title=\"377 0.0757\" style=\"background-color:#bbd1f8\">» </span><span title=\"378 0.1002\" style=\"background-color:#c0d4f5\">( </span><span title=\"379 0.0977\" style=\"background-color:#c0d4f5\">« </span><span title=\"380 0.1800\" style=\"background-color:#d1dae9\">продавец </span><span title=\"381 0.0855\" style=\"background-color:#bcd2f7\">» </span><span title=\"382 0.1290\" style=\"background-color:#c6d6f1\">) </span><span title=\"383 0.1177\" style=\"background-color:#c4d5f3\">и </span><span title=\"384 0.1785\" style=\"background-color:#cfdaea\">общество </span><span title=\"385 0.0694\" style=\"background-color:#bad0f8\">с </span><span title=\"386 0.0141\" style=\"background-color:#adc9fd\">ограниченной </span><span title=\"387 0.1125\" style=\"background-color:#c3d5f4\">ответственностью </span><span title=\"388 0.0693\" style=\"background-color:#bad0f8\">« </span><span title=\"389 0.2207\" style=\"background-color:#d8dce2\">прогресс </span><span title=\"390 0.0819\" style=\"background-color:#bcd2f7\">» </span><span title=\"391 0.0830\" style=\"background-color:#bcd2f7\">( </span><span title=\"392 0.0833\" style=\"background-color:#bcd2f7\">« </span><span title=\"393 0.1780\" style=\"background-color:#cfdaea\">покупатель </span><span title=\"394 0.0755\" style=\"background-color:#bbd1f8\">» </span><span title=\"395 0.1337\" style=\"background-color:#c7d7f0\">) </span><span title=\"396 0.1328\" style=\"background-color:#c6d6f1\">, </span><span title=\"397 0.1320\" style=\"background-color:#c6d6f1\">на </span><span title=\"398 0.1564\" style=\"background-color:#ccd9ed\">следующих </span><span title=\"399 0.1447\" style=\"background-color:#cad8ef\">основных </span><span title=\"400 0.1930\" style=\"background-color:#d3dbe7\">условиях </span><span title=\"401 0.1733\" style=\"background-color:#cedaeb\">: </span><span title=\"402 0.1573\" style=\"background-color:#ccd9ed\">\n",
              " </span><br><span title=\"403 0.2671\" style=\"background-color:#dfdbd9\">предмет </span><span title=\"404 0.1743\" style=\"background-color:#cfdaea\">сделки </span><span title=\"405 0.1524\" style=\"background-color:#cbd8ee\">: </span><span title=\"406 0.0908\" style=\"background-color:#bed2f6\">« </span><span title=\"407 0.2007\" style=\"background-color:#d4dbe6\">покупатель </span><span title=\"408 0.0932\" style=\"background-color:#bfd3f6\">» </span><span title=\"409 0.0454\" style=\"background-color:#b5cdfa\">и </span><span title=\"410 0.0824\" style=\"background-color:#bcd2f7\">« </span><span title=\"411 0.1580\" style=\"background-color:#ccd9ed\">продавец </span><span title=\"412 0.0936\" style=\"background-color:#bfd3f6\">» </span><span title=\"413 0.2083\" style=\"background-color:#d5dbe5\">договорились </span><span title=\"414 0.1168\" style=\"background-color:#c4d5f3\">изменить </span><span title=\"415 0.1684\" style=\"background-color:#cedaeb\">стоимость </span><span title=\"416 0.1206\" style=\"background-color:#c4d5f3\">договора </span><span title=\"417 0.0317\" style=\"background-color:#b1cbfc\">№____ </span><span title=\"418 0.1002\" style=\"background-color:#c0d4f5\">от </span><span title=\"419 0.0448\" style=\"background-color:#b3cdfb\">__ </span><span title=\"420 0.1217\" style=\"background-color:#c5d6f2\">. </span><span title=\"421 0.1006\" style=\"background-color:#c0d4f5\">___ </span><span title=\"422 0.1499\" style=\"background-color:#cad8ef\">. </span><span title=\"423 0.1302\" style=\"background-color:#c6d6f1\">201__ </span><span title=\"424 0.0594\" style=\"background-color:#b7cff9\">г. </span><span title=\"425 0.1427\" style=\"background-color:#c9d7f0\">хххх </span><span title=\"426 0.1772\" style=\"background-color:#cfdaea\">. </span><span title=\"427 0.1640\" style=\"background-color:#cdd9ec\">\n",
              " </span><br><span title=\"428 0.2267\" style=\"background-color:#d9dce1\">стоимость </span><span title=\"429 0.1693\" style=\"background-color:#cedaeb\">сделки </span><span title=\"430 0.1302\" style=\"background-color:#c6d6f1\">: </span><span title=\"431 0.1342\" style=\"background-color:#c7d7f0\">26 </span><span title=\"432 0.1337\" style=\"background-color:#c7d7f0\">765 </span><span title=\"433 0.1252\" style=\"background-color:#c5d6f2\">123 </span><span title=\"434 0.0477\" style=\"background-color:#b5cdfa\">( </span><span title=\"435 0.0841\" style=\"background-color:#bcd2f7\">двадцать </span><span title=\"436 0.1158\" style=\"background-color:#c4d5f3\">шесть </span><span title=\"437 0.0704\" style=\"background-color:#bad0f8\">миллионов </span><span title=\"438 0.0803\" style=\"background-color:#bcd2f7\">семьсот </span><span title=\"439 0.0693\" style=\"background-color:#bad0f8\">шестьдесят </span><span title=\"440 0.0903\" style=\"background-color:#bed2f6\">пять </span><span title=\"441 0.0688\" style=\"background-color:#bad0f8\">тысяч </span><span title=\"442 0.0853\" style=\"background-color:#bcd2f7\">сто </span><span title=\"443 0.0988\" style=\"background-color:#c0d4f5\">двадцать </span><span title=\"444 0.1351\" style=\"background-color:#c7d7f0\">три </span><span title=\"445 0.0763\" style=\"background-color:#bbd1f8\">) </span><span title=\"446 0.0642\" style=\"background-color:#b9d0f9\">рублей </span><span title=\"447 0.0825\" style=\"background-color:#bcd2f7\">без </span><span title=\"448 0.0698\" style=\"background-color:#bad0f8\">ндс </span><span title=\"449 0.0652\" style=\"background-color:#b9d0f9\">в </span><span title=\"450 0.1271\" style=\"background-color:#c6d6f1\">год </span><span title=\"451 0.1754\" style=\"background-color:#cfdaea\">. </span><span title=\"452 0.1616\" style=\"background-color:#ccd9ed\">\n",
              " </span><br><span title=\"453 0.2124\" style=\"background-color:#d6dce4\">срок </span><span title=\"454 0.1027\" style=\"background-color:#c0d4f5\">: </span><span title=\"455 0.0584\" style=\"background-color:#b7cff9\">начиная </span><span title=\"456 0.0929\" style=\"background-color:#bfd3f6\">с </span><span title=\"457 0.1020\" style=\"background-color:#c0d4f5\">01-01-2019 </span><span title=\"458 0.1592\" style=\"background-color:#ccd9ed\">год </span><span title=\"459 0.1864\" style=\"background-color:#d2dbe8\">. </span><span title=\"460 0.2023\" style=\"background-color:#d4dbe6\">\n",
              " </span><br><span title=\"461 0.3135\" style=\"background-color:#e7d7ce\">время </span><span title=\"462 0.2048\" style=\"background-color:#d5dbe5\">подведения </span><span title=\"463 0.2535\" style=\"background-color:#dddcdc\">итогов </span><span title=\"464 0.2348\" style=\"background-color:#dadce0\">голосования </span><span title=\"465 0.1078\" style=\"background-color:#c1d4f4\">– </span><span title=\"466 0.1001\" style=\"background-color:#c0d4f5\">18 </span><span title=\"467 0.0904\" style=\"background-color:#bed2f6\">часов </span><span title=\"468 0.0666\" style=\"background-color:#b9d0f9\">00 </span><span title=\"469 0.1461\" style=\"background-color:#cad8ef\">минут </span><span title=\"470 0.1681\" style=\"background-color:#cedaeb\">. </span><span title=\"471 0.1407\" style=\"background-color:#c9d7f0\">\n",
              " </span><br><span title=\"472 0.2603\" style=\"background-color:#dedcdb\">подсчет </span><span title=\"473 0.1833\" style=\"background-color:#d1dae9\">голосов </span><span title=\"474 0.1370\" style=\"background-color:#c7d7f0\">осуществил </span><span title=\"475 0.2540\" style=\"background-color:#dddcdc\">секретарь </span><span title=\"476 0.1574\" style=\"background-color:#ccd9ed\">совета </span><span title=\"477 0.1776\" style=\"background-color:#cfdaea\">директоров </span><span title=\"478 0.1564\" style=\"background-color:#ccd9ed\">. </span><span title=\"479 0.1618\" style=\"background-color:#ccd9ed\">\n",
              " </span><br><span title=\"480 0.3262\" style=\"background-color:#ead5c9\">протокол </span><span title=\"481 0.1371\" style=\"background-color:#c7d7f0\">составлен </span><span title=\"482 0.1247\" style=\"background-color:#c5d6f2\">11 </span><span title=\"483 0.1780\" style=\"background-color:#cfdaea\">октября </span><span title=\"484 0.1380\" style=\"background-color:#c7d7f0\">2018 </span><span title=\"485 0.1206\" style=\"background-color:#c4d5f3\">года </span><span title=\"486 0.1332\" style=\"background-color:#c7d7f0\">, </span><span title=\"487 0.1019\" style=\"background-color:#c0d4f5\">в </span><span title=\"488 0.0568\" style=\"background-color:#b7cff9\">2-х </span><span title=\"489 0.0903\" style=\"background-color:#bed2f6\">экземплярах </span><span title=\"490 0.1736\" style=\"background-color:#cedaeb\">. </span><span title=\"491 0.1881\" style=\"background-color:#d2dbe8\">\n",
              " </span><br><span title=\"492 0.1630\" style=\"background-color:#cdd9ec\">\n",
              " </span><br><span title=\"493 0.2195\" style=\"background-color:#d7dce3\">приложения </span><span title=\"494 0.1524\" style=\"background-color:#cbd8ee\">: </span><span title=\"495 0.1313\" style=\"background-color:#c6d6f1\">\n",
              " </span><br><span title=\"496 0.1524\" style=\"background-color:#cbd8ee\">1 </span><span title=\"497 0.1947\" style=\"background-color:#d3dbe7\">. </span><span title=\"498 0.2757\" style=\"background-color:#e1dad6\">проект </span><span title=\"499 0.1222\" style=\"background-color:#c5d6f2\">дополнительного </span><span title=\"500 0.2639\" style=\"background-color:#dfdbd9\">соглашения </span><span title=\"501 0.1360\" style=\"background-color:#c7d7f0\">к </span><span title=\"502 0.1887\" style=\"background-color:#d2dbe8\">договору </span><span title=\"503 0.0585\" style=\"background-color:#b7cff9\">№____ </span><span title=\"504 0.1161\" style=\"background-color:#c4d5f3\">от </span><span title=\"505 0.0701\" style=\"background-color:#bad0f8\">__ </span><span title=\"506 0.1521\" style=\"background-color:#cbd8ee\">. </span><span title=\"507 0.1221\" style=\"background-color:#c5d6f2\">___ </span><span title=\"508 0.1803\" style=\"background-color:#d1dae9\">. </span><span title=\"509 0.1399\" style=\"background-color:#c9d7f0\">201__ </span><span title=\"510 0.0947\" style=\"background-color:#bfd3f6\">г </span><span title=\"511 0.1453\" style=\"background-color:#cad8ef\">. </span><span title=\"512 0.1479\" style=\"background-color:#cad8ef\">\n",
              " </span><br><span title=\"513 0.1881\" style=\"background-color:#d2dbe8\">2 </span><span title=\"514 0.2022\" style=\"background-color:#d4dbe6\">. </span><span title=\"515 0.1555\" style=\"background-color:#cbd8ee\">полученные </span><span title=\"516 0.1873\" style=\"background-color:#d2dbe8\">до </span><span title=\"517 0.1590\" style=\"background-color:#ccd9ed\">начала </span><span title=\"518 0.2243\" style=\"background-color:#d8dce2\">заседания </span><span title=\"519 0.2337\" style=\"background-color:#dadce0\">бюллетени </span><span title=\"520 0.1787\" style=\"background-color:#cfdaea\">для </span><span title=\"521 0.2294\" style=\"background-color:#d9dce1\">голосования </span><span title=\"522 0.1945\" style=\"background-color:#d3dbe7\">членов </span><span title=\"523 0.2018\" style=\"background-color:#d4dbe6\">совета </span><span title=\"524 0.2178\" style=\"background-color:#d7dce3\">директоров </span><span title=\"525 0.1446\" style=\"background-color:#cad8ef\">по </span><span title=\"526 0.2232\" style=\"background-color:#d8dce2\">вопросу </span><span title=\"527 0.2155\" style=\"background-color:#d7dce3\">повестки </span><span title=\"528 0.2292\" style=\"background-color:#d9dce1\">дня </span><span title=\"529 0.2794\" style=\"background-color:#e2dad5\">заседания </span><span title=\"530 0.2102\" style=\"background-color:#d6dce4\">совета </span><span title=\"531 0.2159\" style=\"background-color:#d7dce3\">директоров </span><span title=\"532 0.1263\" style=\"background-color:#c5d6f2\">( </span><span title=\"533 0.1353\" style=\"background-color:#c7d7f0\">всего </span><span title=\"534 0.1081\" style=\"background-color:#c1d4f4\">на </span><span title=\"535 0.0841\" style=\"background-color:#bcd2f7\">5 </span><span title=\"536 0.1002\" style=\"background-color:#c0d4f5\">листах </span><span title=\"537 0.1850\" style=\"background-color:#d1dae9\">) </span><span title=\"538 0.1757\" style=\"background-color:#cfdaea\">. </span><span title=\"539 0.1510\" style=\"background-color:#cbd8ee\">\n",
              " </span><br><span title=\"540 0.1556\" style=\"background-color:#cbd8ee\">\n",
              " </span><br><span title=\"541 0.1437\" style=\"background-color:#c9d7f0\">\n",
              " </span><br>"
            ],
            "text/plain": [
              "<IPython.core.display.HTML object>"
            ]
          },
          "metadata": {
            "tags": []
          }
        }
      ]
    },
    {
      "metadata": {
        "id": "RZr1LYWf6WHD",
        "colab_type": "code",
        "colab": {
          "base_uri": "https://localhost:8080/",
          "height": 1398
        },
        "outputId": "bd1a9a6a-cd6c-4627-f3f6-8df2ae4f860c"
      },
      "cell_type": "code",
      "source": [
        "print(GLOBALS__['ProtocolAnlysingContext'].protocol.untokenize_cc())"
      ],
      "execution_count": 8,
      "outputs": [
        {
          "output_type": "stream",
          "text": [
            "ПРОТОКОЛ \n",
            " заседания Совета директоров \n",
            " Акционерное Общество « Газпромнефть-Транспорт » \n",
            " ( далее – Акционерное Общество « Газпромнефть-Транспорт » или « Общество » ) \n",
            " \n",
            " Место проведения заседания: \n",
            " г. Санкт-Петербург, пер. Виленский, дом 14 \n",
            " Дата и время проведения заседания: \n",
            " \n",
            " « 24 » апреля 2018 года, 12 часов 00 минут \n",
            " Форма проведения заседания: \n",
            " совместное присутствие \n",
            " \n",
            " Председатель Совета директоров: \n",
            " И. И. Иванов \n",
            " Секретарь Совета директоров: \n",
            " А. А. Петров \n",
            " \n",
            " Члены Совета директоров Общества, присутствующие на заседании: \n",
            " Иванов И. И., Петров А. А., Сидоров В. В., Иванов И. И., Петров А. А., Сидоров В. В., Иванов И. И., Петров А. А. \n",
            " В соответствии с Уставом Общества в Совет директоров избрано 8 человек. \n",
            " Приняли участие в заседании – 8 человек. \n",
            " Кворум для проведения заседания и принятия решений имеется. \n",
            " \n",
            " Присутствовали приглашенные: \n",
            " Иванов И. И., Петров А. А., Сидоров В. В. \n",
            " \n",
            " Повестка дня: \n",
            " О рассмотрении отчета по поручениям Совета директоров Общества. \n",
            " Об итогах деятельности Общества за 1 квартал 2018 года. \n",
            " \n",
            " Первый вопрос повестки дня заседания, поставленный на голосование: \n",
            " О рассмотрении отчета по поручениям Совета директоров Общества. \n",
            " \n",
            " Слушали: Генерального директора Общества А. С. Пушкина. \n",
            " \n",
            " Формулировка решения по первому вопросу повестки дня заседания: \n",
            " Принять к сведению отчет о результатах выполнения поручений Совета директоров Общества. \n",
            " \n",
            " Итоги голосования: \n",
            " « ЗА »- 8 \n",
            " « ПРОТИВ »- нет \n",
            " « ВОЗДЕРЖАЛСЯ »- нет \n",
            " РЕШЕНИЕ ПРИНЯТО \n",
            " \n",
            " Решение, принятое по первому вопросу повестки дня: \n",
            " Принять к сведению отчет о результатах выполнения поручений Совета директоров Общества. \n",
            " \n",
            " Второй вопрос повестки дня заседания, поставленный на голосование: \n",
            " Об итогах деятельности Общества за 1 квартал 2018 года. \n",
            " \n",
            " Слушали: Генерального директора Общества А. С. Пушкина. \n",
            " \n",
            " Формулировка решения по второму вопросу повестки дня заседания: \n",
            " Принять к сведению отчет об итогах деятельности Общества за 1 квартал 2018 года. \n",
            " \n",
            " Итоги голосования: \n",
            " « ЗА »- 8 \n",
            " « ПРОТИВ »- нет \n",
            " « ВОЗДЕРЖАЛСЯ »- нет \n",
            " РЕШЕНИЕ ПРИНЯТО \n",
            " \n",
            " Решение, принятое по второму вопросу повестки дня заседания: \n",
            " Принять к сведению отчет об итогах деятельности Общества за 1 квартал 2018 года. \n",
            " \n",
            " Приложения: \n",
            " Отчет по поручениям Совета директоров Общества; \n",
            " Презентационный материал « Об итогах деятельности Общества за 1 квартал 2018 года ». \n",
            " \n",
            " Время подведения итогов голосования – 13 часов 00 минут. \n",
            " Подсчет голосов осуществил Секретарь Совета директоров. \n",
            " Протокол составлен « 24 » апреля 2018 года, в 2-х экземплярах. \n",
            " \n",
            " \n",
            " Председатель \n",
            " Совета директоров \n",
            " \n",
            " И. И. Иванов \n",
            " \n",
            " \n",
            " Секретарь \n",
            " Совета директоров \n",
            " \n",
            " \n",
            " А. А. Петров\n"
          ],
          "name": "stdout"
        }
      ]
    },
    {
      "metadata": {
        "id": "TKaWFEoWcK_u",
        "colab_type": "code",
        "colab": {}
      },
      "cell_type": "code",
      "source": [
        "## do preparation here   \n",
        "\n",
        "#1.\n",
        "_init_import_code_from_gh()\n",
        "#2.\n",
        "_init_embedder()\n",
        "#3.\n",
        "_init_the_code()\n",
        "#4. \n",
        "_init_charters()\n",
        "#5. \n",
        "# _init_contracts()"
      ],
      "execution_count": 0,
      "outputs": []
    },
    {
      "metadata": {
        "id": "jzn0JxepKxei",
        "colab_type": "text"
      },
      "cell_type": "markdown",
      "source": [
        "# Sample Charter"
      ]
    },
    {
      "metadata": {
        "id": "BiDo5o2YcRkH",
        "colab_type": "code",
        "colab": {}
      },
      "cell_type": "code",
      "source": [
        ""
      ],
      "execution_count": 0,
      "outputs": []
    },
    {
      "metadata": {
        "id": "Yi0yZHbPsXHg",
        "colab_type": "code",
        "colab": {}
      },
      "cell_type": "code",
      "source": [
        "SAMPLE=\"\"\"\n",
        " \n",
        "\n",
        "Общие положения\n",
        "\n",
        "\n",
        "\n",
        "\n",
        "\n",
        " \n",
        "\n",
        "\n",
        "Уставный капитал\n",
        "\n",
        "\n",
        "xxvii Уставный капитал Общества составляется из номинальной стоимости долей его Участников и составляет  6 734 244 615 (Шесть миллиардов семьсот тридцать четыре миллиона двести сорок четыре тысячи шестьсот пятнадцать) рублей.\n",
        "\n",
        "\n",
        "\n",
        "xxxv Общее собрание участников не вправе принимать решение о распределении прибыли Общества между Участниками Общества:\n",
        "\n",
        "       • до полной оплаты всего уставного капитала Общества;\n",
        "\n",
        "     \n",
        "\n",
        "Органы управления\n",
        "\n",
        "\n",
        "lxxxiv Органами управления Общества являются:\n",
        "\n",
        "\n",
        "       • Общее собрание участников Общества;\n",
        "\n",
        "\n",
        "       • Совет директоров – Коллегиальный орган управления;\n",
        "\n",
        "\n",
        "       • Правление Общества - Коллегиальный исполнительный орган;\n",
        "\n",
        "\n",
        "       • Генеральный директор - Единоличный исполнительный орган.\n",
        "\n",
        "\n",
        "Общее собрание участников Общества\n",
        "\n",
        "\n",
        "lxxxvi Высшим органом управления Общества является Общее собрание участников Общества. Очередное Общее собрание участников Общества  рассматривает и утверждает результаты деятельности Общества за финансовый год и проводится в период с 1 марта по 30 апреля. Проводимые помимо очередного Общие собрания участников Общества являются внеочередными. Внеочередные Общие собрания участников Общества проводятся в случаях, когда этого требуют интересы Общества.\n",
        "\n",
        "\n",
        "lxxxvii К исключительной компетенции Общего собрания участников Общества относятся следующие вопросы:\n",
        "\n",
        "    \n",
        "\n",
        "       12) установление размера, состава, формы и порядка внесения дополнительных вкладов, определение общей стоимости таких дополнительных вкладов, а также иных условий внесения дополнительных вкладов Участниками Общества;\n",
        "       13) принятие решения о согласии на совершение или о последующем одобрении крупных сделок, связанных с приобретением, отчуждением или возможностью отчуждения Обществом прямо или косвенно имущества, цена или балансовая стоимость которого составляет 25 (Двадцать пять) и более процентов балансовой стоимости имущества Общества по данным бухгалтерской отчетности на последнюю отчетную дату;\n",
        "       14) принятие решения о согласии на совершение или о последующем одобрении сделок, в совершении которых имеется заинтересованность, если цена или стоимость имущества, являющегося предметом сделки,  превышает 10 (десять) процентов балансовой процентов  балансовой стоимости имущества Общества по данным бухгалтерской отчетности на последнюю отчетную дату.\n",
        "       15) принятие решения о реорганизации или ликвидации Общества;\n",
        "       26) принятие решения о согласии на совершение или о последующем одобрении сделок мены, дарения, иных сделок, предусматривающих безвозмездное отчуждение имущества Общества либо оплату (встречное предоставление) в неденежной форме,  одобрение договоров спонсорского и благотворительного характера, независимо от суммы сделки, за исключением случаев, когда такие сделки требуют получения согласия органов управления Общества как крупные сделки и сделки с заинтересованностью;\n",
        "       27) решение вопросов, отнесенных к компетенции Совета директоров, в случае, если Совет директоров не избран;\n",
        "       28) решение иных вопросов, отнесенных в соответствии с действующим законодательством к компетенции Общего собрания участников Общества.\n",
        "\n",
        "\n",
        "\n",
        "Совет директоров Общества\n",
        "\n",
        "\n",
        "      1. Совет директоров осуществляет общее руководство деятельностью Общества, а также контроль над исполнением решений Общего собрания участников Общества и иной деятельностью его исполнительного органа.\n",
        "\n",
        "      2. Совет директоров состоит из 4 (Четырех) человек.\n",
        "\n",
        "      3. К компетенции Совета директоров относится:\n",
        "\n",
        "\n",
        "      14) утверждение процедур внутреннего контроля за финансово-хозяйственной деятельностью Общества, в том числе утверждение положения о внутрихозяйственном контроле, документальных проверках и ревизиях;\n",
        "\n",
        "      15) принятие решения о согласии на совершение или о последующем одобрении сделок, связанных с осуществлением денежных выплат и (или) приобретением, отчуждением и возможностью отчуждения, обременением и возможностью обременения Обществом имущества, в рамках которых цена предложения или стоимость отчуждаемого имущества, определенная на момент совершения сделки, превышает в рамках одной сделки или нескольких взаимосвязанных сделок, заключенных в течение 6 (шести) месяцев, в совокупности 50 000 000 (Пятьдесят миллионов) рублей или эквивалент данной суммы в иной валюте, за исключением случаев, когда такие сделки требуют получения согласия органов управления Общества  как крупные сделки и сделки с заинтересованностью, а также для сделок, одобряемых в соответствии с подпунктами 22)-26) пункта 11.2 настоящего Устава, подпунктами 17) –22), 30) пункта 12.3 настоящего Устава;\n",
        "\n",
        "      16) принятие решения о начале/урегулировании любых судебных споров и разбирательств, цена иска по которым превышает 50 000 000 (Пятьдесят миллионов) рублей (или эквивалент в другой валюте) в том числе, подписание мирового соглашения, признание иска, отказ от иска, а также совершение любых других процессуальных действий, кроме судебных споров, принятие решения, в отношении которых отнесено к компетенции Общего собрания участников Общества;\n",
        "\n",
        "\n",
        "Правление Общества\n",
        "\n",
        "\n",
        " 1. Правление является Коллегиальным исполнительным органом Общества. Правление Общества избирается Общим собранием участников Общества в количестве  2 (Двух) человек – членов Правления Общества.\n",
        "\n",
        "\n",
        "12. В случае непринятия Правлением решения по одному и тому же вопросу в ходе 2 (Двух) надлежаще созванных заседаний Правления по любым причинам, включая отсутствие кворума и недостаточность количества голосов для принятия решения, вопрос, по которому не было принято решение, выносится на рассмотрение Совета директоров (включается в повестку дня следующего созываемого Совета директоров). Во избежание сомнений, решение не может рассматриваться как непринятое для целей настоящего пункта, в случае, если решение не принято вследствие того, что против него проголосовали или воздержались от голосования все члены Правления.\n",
        "\n",
        "13. К компетенции Правления Общества относятся:\n",
        "\n",
        "\n",
        "\n",
        "         • согласование кандидатур на должности руководителей структурных подразделений (за исключением филиалов и представительств) Общества, а также условий трудовых договоров с указанными лицами, согласование освобождения от должностей указанных лиц;\n",
        "\n",
        "\n",
        "         • принятие решения о согласии на совершение или о последующем одобрении сделок, связанных с осуществлением денежных выплат и (или) приобретением, отчуждением и возможностью отчуждения, обременением и возможностью обременения Обществом имущества, стоимость которого в рамках одной сделки или нескольких взаимосвязанных сделок в совокупности составляет от 1 000 000 (Одного) миллиона рублей до 50 000 000 (Пятьдесят миллионов) рублей или эквивалент данной суммы в иной валюте, за исключением случаев, когда  такие сделки требуют получения согласия органов управления Общества  в соответствии с Законом и Уставом;\n",
        "\n",
        "\n",
        "         • принятие решения по приемке и оплате Обществом выполненных работ по Агентскому договору на строительство объекта «Южно-Приобский газоперерабатывающий завод (ЮП ГПЗ). Газокомпрессорная станция ЮЛТ Приобского месторождения» №10-875 от 29.09.2010 г., заключенному между Обществом и ООО «Газпромнефть-Хантос».\n",
        "\n",
        "\n",
        "Генеральный директор Общества\n",
        "\n",
        "\n",
        "cvi Руководство текущей деятельностью Общества осуществляется единоличным исполнительным органом Общества - Генеральным директором. Генеральный директор избирается Общим собранием участников Общества сроком на 3 (Три) года, если решением Общего собрания участников не предусмотрен иной срок. Генеральный директор может быть переизбран решением Общего собрания участников Общества неограниченное количество раз. Генеральный директор действует на основании Устава Общества и трудового договора, заключаемого с ним Обществом.\n",
        "\n",
        "\n",
        "       • утверждать внутренние документы, регулирующие текущую (операционную) деятельность Общества, и локальные нормативные акты (за исключением локальных нормативных актов, устанавливающих системы оплаты труда и других документов, утверждение которых отнесено к компетенции иных органов управления Общества);\n",
        "\n",
        "       • вносить вопросы на рассмотрение Общих собраний участников Общества, заседания Совета директоров;\n",
        "\n",
        "       • принимать решения по другим вопросам, относящимся к его компетенции.\n",
        "\n",
        "\n",
        "\n",
        "cxlv Недействительность любого положения настоящего Устава не влечет недействительности остальных его положений. В случае вступления в силу новых нормативных актов, в соответствии с которыми отдельные положения настоящего Устава становятся недействительными, и которые требуют внести изменения в Устав, Участники обязаны принять решения о внесении соответствующих изменений в настоящий Устав.\n",
        "\n",
        "v Полное фирменное наименование Общества на русском языке:\n",
        "\n",
        "      Общество с ограниченной ответственностью «Южно-Приобский газоперерабатывающий завод».\n",
        "\n",
        "      Сокращенное наименование на русском языке:\n",
        "\n",
        "      ООО «Южно-Приобский ГПЗ».\n",
        "\n",
        "\n",
        "      Полное фирменное наименование Общества на английском языке: Yuzhno-Priobsky Gaz Processing Plant Limited Liability Company.\n",
        "\n",
        "\n",
        "      Сокращенное наименование на английском языке:  Yuzhno-Priobsky GPP LLC.\n",
        "\n",
        "\n",
        "\"\"\"\n",
        "\n",
        "GLOBALS__['CharterAnlysingContext'].analyze_charter(SAMPLE)"
      ],
      "execution_count": 0,
      "outputs": []
    },
    {
      "metadata": {
        "id": "_0s47A-ZhVN4",
        "colab_type": "code",
        "colab": {}
      },
      "cell_type": "code",
      "source": [
        "'пииииууу'[::-1]"
      ],
      "execution_count": 0,
      "outputs": []
    },
    {
      "metadata": {
        "id": "XpYNZGtEJRmR",
        "colab_type": "code",
        "colab": {}
      },
      "cell_type": "code",
      "source": [
        "\n",
        "from IPython.core.display import display, HTML\n",
        "doc = GLOBALS__['CharterAnlysingContext'].doc\n",
        "GLOBALS__['renderer'].render_contents(doc)\n",
        "\n",
        " \n",
        "GLOBALS__['renderer'].render_charter_parsing_results(GLOBALS__['CharterAnlysingContext'].org,GLOBALS__['CharterAnlysingContext'].constraints)\n",
        "\n",
        "\n",
        "def render_sections(sections):\n",
        "  html = '<h3>Выявленное секции документа</h4>'\n",
        "  html += \"<ul>\"\n",
        "  for section_type in sections:\n",
        "    section:HeadlineMeta = sections[section_type]\n",
        "    body = section.body.untokenize_cc()[:1000]\n",
        "    headline = section.subdoc.untokenize_cc()[:500]\n",
        "    #     line = doc.structure.structure[i].to_string(doc.tokens_cc)\n",
        "    html += f'<li><h3> {headline} <sup>type: {section_type}</sup> </h3> <p>{body}</p> </li>'\n",
        "  html += \"</ul>\"\n",
        "\n",
        "  display(HTML(html))\n",
        "  \n",
        "def render_contents(doc):\n",
        "  html = '<h3>Выявленное Содержание документа</h4>'\n",
        "  html += \"<ul>\"\n",
        "  for i in doc.structure.headline_indexes:\n",
        "    line = doc.structure.structure[i].to_string(doc.tokens_cc)\n",
        "    html += f'<li> {line} <sup>line {i}</sup></li>'\n",
        "  html += \"</ul>\"\n",
        "\n",
        "  display(HTML(html))\n",
        "  \n",
        "render_sections(doc.sections)"
      ],
      "execution_count": 0,
      "outputs": []
    },
    {
      "metadata": {
        "id": "8tyMy_vPK8GQ",
        "colab_type": "code",
        "colab": {}
      },
      "cell_type": "code",
      "source": [
        ""
      ],
      "execution_count": 0,
      "outputs": []
    },
    {
      "metadata": {
        "id": "6TUp36Q8K8ea",
        "colab_type": "text"
      },
      "cell_type": "markdown",
      "source": [
        "#Upload charter"
      ]
    },
    {
      "metadata": {
        "id": "twCGd5TFcTKI",
        "colab_type": "code",
        "colab": {}
      },
      "cell_type": "code",
      "source": [
        "if False:\n",
        "  uploaded = interactive_upload('Charter')  \n",
        "  org, rz = GLOBALS__['CharterAnlysingContext'] .analyze_charter(uploaded[0])\n",
        "\n",
        "\n"
      ],
      "execution_count": 0,
      "outputs": []
    },
    {
      "metadata": {
        "id": "dGRLbJ5kJuaO",
        "colab_type": "code",
        "colab": {}
      },
      "cell_type": "code",
      "source": [
        "_init_contracts()"
      ],
      "execution_count": 0,
      "outputs": []
    },
    {
      "metadata": {
        "id": "R6c9siQi9k_U",
        "colab_type": "code",
        "colab": {}
      },
      "cell_type": "code",
      "source": [
        "GLOBALS__"
      ],
      "execution_count": 0,
      "outputs": []
    },
    {
      "metadata": {
        "id": "6ZVFmJtpK_fG",
        "colab_type": "text"
      },
      "cell_type": "markdown",
      "source": [
        "#Upload contract"
      ]
    },
    {
      "metadata": {
        "id": "HEyYz8iPJ-4X",
        "colab_type": "code",
        "colab": {}
      },
      "cell_type": "code",
      "source": [
        "uploaded = interactive_upload('Договор')  \n"
      ],
      "execution_count": 0,
      "outputs": []
    },
    {
      "metadata": {
        "id": "xIOjRq7EKQA9",
        "colab_type": "code",
        "colab": {}
      },
      "cell_type": "code",
      "source": [
        "GLOBALS__['ContractAnlysingContext'].verbosity_level=4\n",
        "GLOBALS__['ContractAnlysingContext'].analyze_contract(uploaded[0])"
      ],
      "execution_count": 0,
      "outputs": []
    },
    {
      "metadata": {
        "id": "Eb6EitqjLF3O",
        "colab_type": "text"
      },
      "cell_type": "markdown",
      "source": [
        "# Violations"
      ]
    },
    {
      "metadata": {
        "id": "9YWejFEKKUrc",
        "colab_type": "code",
        "colab": {}
      },
      "cell_type": "code",
      "source": [
        "#@title Настройки { run: \"auto\", display-mode: \"form\" }\n",
        "USD_to_RUB = 64.02 #@param {type:\"number\"}\n",
        "RUB_to_USD = 1.0/USD_to_RUB\n",
        "\n",
        "# print('USD_to_RUB=',USD_to_RUB)\n",
        "# print('RUB_to_USD=',RUB_to_USD)\n",
        "\n",
        "\n",
        "\n",
        "currency_converter = {\n",
        "  'USD': USD_to_RUB,\n",
        "  'RUB': 1.0\n",
        "}\n",
        "\n",
        "print(currency_converter)\n",
        "\n",
        "find_and_show_violations()"
      ],
      "execution_count": 0,
      "outputs": []
    },
    {
      "metadata": {
        "id": "8igUeguItG3s",
        "colab_type": "code",
        "colab": {}
      },
      "cell_type": "code",
      "source": [
        "doc=GLOBALS__['ContractAnlysingContext'].contract\n",
        "GLOBALS__['renderer'].render_contents(doc)\n"
      ],
      "execution_count": 0,
      "outputs": []
    },
    {
      "metadata": {
        "id": "BhF8cq_PKKaK",
        "colab_type": "code",
        "colab": {}
      },
      "cell_type": "code",
      "source": [
        "\n",
        "\n",
        "h = GLOBALS__['renderer'].render_constraint_values(GLOBALS__['CharterAnlysingContext'].constraints)\n",
        "display(HTML(h))\n",
        "\n",
        "\n"
      ],
      "execution_count": 0,
      "outputs": []
    },
    {
      "metadata": {
        "id": "s2HHEc7cCZv-",
        "colab_type": "text"
      },
      "cell_type": "markdown",
      "source": [
        "#violations (move and erase)"
      ]
    },
    {
      "metadata": {
        "id": "ffboeHGOCdcM",
        "colab_type": "code",
        "colab": {}
      },
      "cell_type": "code",
      "source": [
        "from transaction_values import ValueConstraint\n",
        "\n",
        "print('Поиск нарушений')\n",
        "from IPython.core.display import display, HTML\n",
        "\n",
        "contract = GLOBALS__['ContractAnlysingContext'].contract\n",
        "charter = GLOBALS__['CharterAnlysingContext'].doc\n",
        "charter_constraints = GLOBALS__['CharterAnlysingContext'].constraints  # XXX: move to doc\n",
        "\n",
        "#       h = GLOBALS__['renderer'].render_constraint_values(GLOBALS__['CharterAnlysingContext'].constraints)\n",
        "#       display(HTML(h))\n",
        "\n",
        "\n",
        "# def max_constraint_val(constraints):\n",
        "renderer = GLOBALS__['renderer']\n",
        "renderer.render_subj(contract)\n",
        "print()\n",
        "# GLOBALS__['renderer'].render_values(contract.contract_values)\n",
        "\n",
        "print(\"----------\")\n",
        "\n",
        "# GLOBALS__['renderer'].render_values([most_confident_value])\n",
        "# GLOBALS__['renderer'].render_color_text (most_confident_value.value.context[0], most_confident_value.value.context[1], _range=[0,1])\n",
        "\n",
        "# for c in contract.contract_values:\n",
        "#   print(c.confidence)\n",
        "#   print(c.value.value)\n",
        "# #   if c.value.value > best_c.value.value:\n",
        "\n",
        "\n",
        "# #   print(c.value.context)\n",
        "#   GLOBALS__['renderer'].render_color_text (c.value.context[0], c.value.context[1], _range=[0,1])\n",
        "\n",
        "# GLOBALS__['renderer'].render_contents(contract)\n",
        "\n",
        "\n",
        "# -------------------charter\n",
        "\n",
        "charter_constraints = GLOBALS__['CharterAnlysingContext'].constraints  # XXX: move to doc\n",
        "\n",
        "\n",
        "from ml_tools import ProbableValue\n",
        "\n",
        "currency_converter = {\n",
        "  'USD': USD_to_RUB,\n",
        "  'RUB': 1.0\n",
        "\n",
        "}\n",
        "import copy\n",
        "\n",
        "\n",
        "def convert(v, currency_converter=currency_converter):\n",
        "  v_converted = copy.copy(v)\n",
        "  if v.currency in currency_converter:\n",
        "    v_converted.value = currency_converter[v.currency] * v.value\n",
        "    v_converted.currency = 'RUB'\n",
        "    return v_converted\n",
        "  else:\n",
        "    display(HTML(as_error_html(\n",
        "      f\"мы не в настроении (пока) конвертировать {v.currency} --> RUB. Это вообще валюта какой страны? Румынии?\")))\n",
        "    return v\n",
        "\n",
        "\n",
        "from text_tools import untokenize\n",
        "import numpy as np\n",
        "\n",
        "class VConstraint:\n",
        "  def __init__(self, lower, upper, head_group):\n",
        "    self.lower = ProbableValue( ValueConstraint(0, 'RUB', +1), 0 )\n",
        "    self.upper = ProbableValue( ValueConstraint(np.inf, 'RUB', -1), 0 )\n",
        "    \n",
        "    if lower is not None:\n",
        "      self.lower = lower\n",
        "     \n",
        "\n",
        "    if upper is not None:\n",
        "      self.upper = upper\n",
        "     \n",
        "      \n",
        "    self.head_group = head_group\n",
        "\n",
        "  def maybe_convert(self, v: ValueConstraint, currency_converter):\n",
        "    html = \"\"\n",
        "    v_converted = v\n",
        "    if v.currency != 'RUB':\n",
        "      v_converted = convert(v, currency_converter)\n",
        "      html += as_warning(f\"конвертация валют {as_currency(v)} --> RUB \")\n",
        "      html += as_offset(as_warning(f\"примерно: {as_currency(v)} ~~  {as_currency(v_converted)}  \"))\n",
        "    return v, v_converted, html\n",
        "\n",
        "  def check_contract_value(self, _v: ProbableValue, currency_converter):\n",
        "    greather_lower = False\n",
        "    greather_upper = False\n",
        "\n",
        "    if _v is None:\n",
        "      return as_error_html(\"сумма контракта не известна\")\n",
        "    v: ValueConstraint = _v.value\n",
        "\n",
        "    if v is None:\n",
        "      return as_error_html(\"сумма контракта не верна\")\n",
        "\n",
        "    if v.value is None:\n",
        "      return as_error_html(f\"сумма контракта не верна {v.currency}\")\n",
        "    ###----\n",
        "\n",
        "    lower_v = None\n",
        "    upper_v = None\n",
        "    if self.lower is not None:\n",
        "      lower_v: ValueConstraint = self.lower.value\n",
        "    if self.upper is not None:\n",
        "      upper_v: ValueConstraint = self.upper.value\n",
        "\n",
        "    html = as_msg(f\"диапазон: {as_currency(lower_v)} < ..... < {as_currency(upper_v)}\")\n",
        "\n",
        "    v, v_converted, h = self.maybe_convert(v, currency_converter)\n",
        "    html += h\n",
        "\n",
        "    if self.lower is not None:\n",
        "      lower_v: ValueConstraint = self.lower.value\n",
        "      lower_v, lower_converted, h = self.maybe_convert(lower_v, currency_converter)\n",
        "      html += h\n",
        "\n",
        "      if v_converted.value >= lower_converted.value:\n",
        "        greather_lower = True\n",
        "        html += as_warning(\"требуется одобрение...\".upper())\n",
        "        html += as_warning(\n",
        "          f\"сумма договора  {as_currency(v_converted)}  БОЛЬШЕ нижней пороговой {as_currency(lower_converted)} \")\n",
        "        html += as_quote(untokenize(lower_v.context[0]))\n",
        "\n",
        "    if self.upper is not None:\n",
        "\n",
        "      upper_v: ValueConstraint = self.upper.value\n",
        "      upper_v, upper_converted, h = self.maybe_convert(upper_v, currency_converter)\n",
        "      html += h\n",
        "\n",
        "      if v_converted.value >= upper_converted.value:\n",
        "\n",
        "        html += as_error_html(\n",
        "          f\"сумма договора  {as_currency(v_converted)} БОЛЬШЕ верхней пороговой {as_currency(upper_converted)} \")\n",
        "\n",
        "      elif greather_lower:\n",
        "        head_name = self.head_group['section']\n",
        "        html += as_error_html(f'требуется одобрение со стороны \"{head_name.upper()}\"')\n",
        "\n",
        "        if lower_v.context is not None:\n",
        "          html += as_quote(renderer.to_color_text(lower_v.context[0], lower_v.context[1], _range=[0, 1]))\n",
        "        if upper_v.context is not None:\n",
        "          html += '<br>'\n",
        "          html += as_quote(renderer.to_color_text(upper_v.context[0], upper_v.context[1], _range=[0, 1]))\n",
        "\n",
        "    return html\n",
        "\n",
        "\n",
        "# -----------\n",
        "\n",
        "\n",
        "def _combine_constraints_in_group(group_c, verbose=False):\n",
        "  # print(group_c)\n",
        "  # print(group_c['section'])\n",
        "\n",
        "  data = {\n",
        "    'name': group_c['section'],\n",
        "    'ranges': {}\n",
        "  }\n",
        "\n",
        "  sentences = group_c['sentences']\n",
        "  #   print (charter_constraints[head_group]['sentences'])\n",
        "  sentence_id = 0\n",
        "  for sentence in sentences:\n",
        "    constraint_low = None\n",
        "    constraint_up = None\n",
        "\n",
        "    sentence_id += 1\n",
        "    #     print (sentence['constraints'])\n",
        "\n",
        "    s_constraints = sentence['constraints']\n",
        "    # большие ищем\n",
        "    maximals = [x for x in s_constraints if x.value.sign > 0]\n",
        "\n",
        "    if len(maximals) > 0:\n",
        "      constraint_low = min(maximals, key=lambda item: convert(item.value, currency_converter).value)\n",
        "      if verbose:\n",
        "        print(\"all maximals:\")\n",
        "        renderer.render_values(maximals)\n",
        "        print('\\t\\t\\t constraint_low', constraint_low.value.value)\n",
        "        renderer.render_values([constraint_low])\n",
        "\n",
        "    minimals = [x for x in s_constraints if x.value.sign <= 0]\n",
        "    if len(minimals) > 0:\n",
        "      constraint_up = min(minimals, key=lambda item: convert(item.value, currency_converter).value)\n",
        "      if verbose:\n",
        "        print(\"all: minimals\")\n",
        "        renderer.render_values(minimals)\n",
        "        print('\\t\\t\\t constraint_upper', constraint_up.value.value)\n",
        "        renderer.render_values([constraint_up])\n",
        "        print(\"----X\")\n",
        "\n",
        "    if constraint_low is not None or constraint_up is not None:\n",
        "      data['ranges'][sentence_id] = VConstraint(constraint_low, constraint_up, group_c)\n",
        "\n",
        "  return data\n",
        "\n",
        "\n",
        "def find_ranges_by_group(charter_constraints):\n",
        "  ranges_by_group = {}\n",
        "  for head_group in charter_constraints:\n",
        "    #     print('-' * 20)\n",
        "    group_c = charter_constraints[head_group]\n",
        "    data = _combine_constraints_in_group(group_c)\n",
        "    ranges_by_group[head_group] = data\n",
        "  return ranges_by_group\n",
        "\n",
        "\n",
        "def select_most_confident_if_almost_equal(a: ProbableValue, alternative: ProbableValue, equality_range=0):\n",
        "  if abs(convert(a.value).value - convert(alternative.value).value) < equality_range:\n",
        "    if a.confidence > alternative.confidence:\n",
        "      return a\n",
        "    else:\n",
        "      return alternative\n",
        "  return a\n",
        "\n",
        "\n",
        "def find_contract_best_value(contract):\n",
        "  best_value: ProbableValue = max(contract.contract_values,\n",
        "                                  key=lambda item: convert(item.value, currency_converter).value)\n",
        "\n",
        "  most_confident_value = max(contract.contract_values, key=lambda item: item.confidence)\n",
        "  best_value = select_most_confident_if_almost_equal(best_value, most_confident_value, 20)\n",
        "\n",
        "  return best_value\n",
        "\n",
        "\n",
        "best_value = find_contract_best_value(contract)\n",
        "\n",
        "\n",
        "# rendering:----------------------------\n",
        "\n",
        "\n",
        "def _render_violations(ranges_by_group, best_value):\n",
        "  for group_key in ranges_by_group:\n",
        "    group = ranges_by_group[group_key]\n",
        "    #   print(group['name'])\n",
        "    display(HTML(as_headline_2(group['name'])))\n",
        "\n",
        "    for rk in group['ranges']:\n",
        "      r = group['ranges'][rk]\n",
        "      display(HTML(r.check_contract_value(best_value, currency_converter)))\n",
        "\n",
        "\n",
        "print(\"Сумма Договора:\")\n",
        "renderer.render_values([best_value])\n",
        "renderer.render_color_text(best_value.value.context[0], best_value.value.context[1], _range=[0, 1])\n",
        "\n",
        "_render_violations(\n",
        "  find_ranges_by_group(charter_constraints),\n",
        "  best_value)\n",
        "\n",
        "display(HTML(renderer.render_constraint_values(charter_constraints)))\n"
      ],
      "execution_count": 0,
      "outputs": []
    },
    {
      "metadata": {
        "id": "IdYrfpIZCnZp",
        "colab_type": "text"
      },
      "cell_type": "markdown",
      "source": [
        "## чистовик"
      ]
    },
    {
      "metadata": {
        "id": "dvXylOnCCqDN",
        "colab_type": "code",
        "colab": {}
      },
      "cell_type": "code",
      "source": [
        "from transaction_values import ValueConstraint\n",
        "\n",
        "print('Поиск нарушений')\n",
        "from IPython.core.display import display, HTML\n",
        "\n",
        "contract = GLOBALS__['ContractAnlysingContext'].contract\n",
        "charter = GLOBALS__['CharterAnlysingContext'].doc\n",
        "charter_constraints = GLOBALS__['CharterAnlysingContext'].constraints  # XXX: move to doc\n",
        "\n",
        " \n",
        "renderer = GLOBALS__['renderer']\n",
        "renderer.render_subj(contract)\n",
        "  \n",
        "\n",
        "charter_constraints = GLOBALS__['CharterAnlysingContext'].constraints  # XXX: move to doc\n",
        "\n",
        "\n",
        "from ml_tools import ProbableValue\n",
        "from text_tools import untokenize\n",
        "import numpy as np\n",
        "\n",
        "\n",
        "def convert(v):\n",
        "  \n",
        "  v_converted = copy.copy(v)\n",
        "  if v.currency in currency_converter:\n",
        "    v_converted.value = currency_converter[v.currency] * v.value\n",
        "    v_converted.currency = 'RUB'\n",
        "    return v_converted\n",
        "  else:\n",
        "    display(HTML(as_error_html(\n",
        "      f\"мы не в настроении (пока) конвертировать {v.currency} --> RUB. Это вообще валюта какой страны? Румынии?\")))\n",
        "    return v\n",
        "\n",
        "\n",
        " \n",
        "\n",
        "\n",
        "def _combine_constraints_in_group(group_c, verbose=False):\n",
        "  # print(group_c)\n",
        "  # print(group_c['section'])\n",
        "\n",
        "  data = {\n",
        "    'name': group_c['section'],\n",
        "    'ranges': {}\n",
        "  }\n",
        "\n",
        "  sentences = group_c['sentences']\n",
        "  #   print (charter_constraints[head_group]['sentences'])\n",
        "  sentence_id = 0\n",
        "  for sentence in sentences:\n",
        "    constraint_low = None\n",
        "    constraint_up = None\n",
        "\n",
        "    sentence_id += 1\n",
        "    #     print (sentence['constraints'])\n",
        "\n",
        "    s_constraints = sentence['constraints']\n",
        "    # большие ищем\n",
        "    maximals = [x for x in s_constraints if x.value.sign > 0]\n",
        "\n",
        "    if len(maximals) > 0:\n",
        "      constraint_low = min(maximals, key=lambda item: convert(item.value, currency_converter).value)\n",
        "      if verbose:\n",
        "        print(\"all maximals:\")\n",
        "        renderer.render_values(maximals)\n",
        "        print('\\t\\t\\t constraint_low', constraint_low.value.value)\n",
        "        renderer.render_values([constraint_low])\n",
        "\n",
        "    minimals = [x for x in s_constraints if x.value.sign <= 0]\n",
        "    if len(minimals) > 0:\n",
        "      constraint_up = min(minimals, key=lambda item: convert(item.value, currency_converter).value)\n",
        "      if verbose:\n",
        "        print(\"all: minimals\")\n",
        "        renderer.render_values(minimals)\n",
        "        print('\\t\\t\\t constraint_upper', constraint_up.value.value)\n",
        "        renderer.render_values([constraint_up])\n",
        "        print(\"----X\")\n",
        "\n",
        "    if constraint_low is not None or constraint_up is not None:\n",
        "      data['ranges'][sentence_id] = VConstraint(constraint_low, constraint_up, group_c)\n",
        "\n",
        "  return data\n",
        "\n",
        "\n",
        "def find_ranges_by_group(charter_constraints):\n",
        "  ranges_by_group = {}\n",
        "  for head_group in charter_constraints:\n",
        "    #     print('-' * 20)\n",
        "    group_c = charter_constraints[head_group]\n",
        "    data = _combine_constraints_in_group(group_c)\n",
        "    ranges_by_group[head_group] = data\n",
        "  return ranges_by_group\n",
        "\n",
        "\n",
        "def select_most_confident_if_almost_equal(a: ProbableValue, alternative: ProbableValue, equality_range=0):\n",
        "  if abs(convert(a.value).value - convert(alternative.value).value) < equality_range:\n",
        "    if a.confidence > alternative.confidence:\n",
        "      return a\n",
        "    else:\n",
        "      return alternative\n",
        "  return a\n",
        "\n",
        "\n",
        "def find_contract_best_value(contract):\n",
        "  best_value: ProbableValue = max(contract.contract_values,\n",
        "                                  key=lambda item: convert(item.value, currency_converter).value)\n",
        "\n",
        "  most_confident_value = max(contract.contract_values, key=lambda item: item.confidence)\n",
        "  best_value = select_most_confident_if_almost_equal(best_value, most_confident_value, 20)\n",
        "\n",
        "  return best_value\n",
        "\n",
        "\n",
        "best_value = find_contract_best_value(contract)\n",
        "\n",
        "\n",
        "# rendering:----------------------------\n",
        "\n",
        "\n",
        "def _render_violations(ranges_by_group, best_value):\n",
        "  for group_key in ranges_by_group:\n",
        "    group = ranges_by_group[group_key]\n",
        "    #   print(group['name'])\n",
        "    display(HTML(as_headline_2(group['name'])))\n",
        "\n",
        "    for rk in group['ranges']:\n",
        "      r = group['ranges'][rk]\n",
        "      display(HTML(r.check_contract_value(best_value, currency_converter, renderer)))\n",
        "\n",
        "\n",
        "print(\"Сумма Договора:\")\n",
        "renderer.render_values([best_value])\n",
        "renderer.render_color_text(best_value.value.context[0], best_value.value.context[1], _range=[0, 1])\n",
        "\n",
        "_render_violations(\n",
        "  find_ranges_by_group(charter_constraints),\n",
        "  best_value)\n",
        "\n",
        "display(HTML(renderer.render_constraint_values(charter_constraints)))\n"
      ],
      "execution_count": 0,
      "outputs": []
    },
    {
      "metadata": {
        "id": "T1D7Zdk9L5GY",
        "colab_type": "text"
      },
      "cell_type": "markdown",
      "source": [
        "#~~~~ Garbage, to be removed"
      ]
    },
    {
      "metadata": {
        "id": "ItuAG1-lClzz",
        "colab_type": "code",
        "colab": {}
      },
      "cell_type": "code",
      "source": [
        ""
      ],
      "execution_count": 0,
      "outputs": []
    },
    {
      "metadata": {
        "id": "m4fYh_qZL4Kb",
        "colab_type": "code",
        "colab": {}
      },
      "cell_type": "code",
      "source": [
        ""
      ],
      "execution_count": 0,
      "outputs": []
    },
    {
      "metadata": {
        "id": "ijcdJr7MCXgI",
        "colab_type": "code",
        "colab": {}
      },
      "cell_type": "code",
      "source": [
        "# violations "
      ],
      "execution_count": 0,
      "outputs": []
    },
    {
      "metadata": {
        "id": "IiDHL0oNGfOU",
        "colab_type": "code",
        "colab": {}
      },
      "cell_type": "code",
      "source": [
        "\n",
        "from IPython.core.display import display, HTML\n",
        "def render_subj(self, doc):\n",
        "      from demo import subject_types_dict\n",
        "      subj=doc.subject\n",
        "      s_name=subject_types_dict[ subj[0]].upper()\n",
        "      \n",
        "      display(HTML(f'Предмет договора:<h3 style=\"margin:0\">{s_name}<sup> {subj[0]}</sup> </h3> confidence:{subj[1]:20,.2f}'))\n",
        "\n",
        "r=GLOBALS__['renderer']\n",
        "# GLOBALS__['renderer'].render_subj = render_subj \n",
        "\n",
        "import types\n",
        "r.render_subj = types.MethodType( render_subj, r )\n",
        "\n",
        "contract = GLOBALS__['ContractAnlysingContext'].contract\n",
        "GLOBALS__['renderer'].render_subj(contract)\n"
      ],
      "execution_count": 0,
      "outputs": []
    },
    {
      "metadata": {
        "id": "KcCp4a1F-gl0",
        "colab_type": "code",
        "colab": {}
      },
      "cell_type": "code",
      "source": [
        "doc = GLOBALS__['CharterAnlysingContext'].doc\n",
        "from IPython.core.display import display, HTML\n",
        "\n",
        "\n",
        "def render_contents(doc):\n",
        "  html='<h3>Выявленное Содержание документа</h4>'\n",
        "  html+=\"<ul>\"\n",
        "  for i in doc.structure.headline_indexes:\n",
        "    line = doc.structure.structure[i].to_string(doc.tokens_cc)\n",
        "    html+=f'<li> {line} <sup>line {i}</sup></li>'\n",
        "  html+=\"</ul>\"\n",
        " \n",
        "  \n",
        "  display(HTML(html))\n",
        "    \n",
        "render_contents(doc)"
      ],
      "execution_count": 0,
      "outputs": []
    },
    {
      "metadata": {
        "id": "uHc0PpyRMq5r",
        "colab_type": "code",
        "colab": {}
      },
      "cell_type": "code",
      "source": [
        "print(GLOBALS__['ContractAnlysingContext'].contract)\n"
      ],
      "execution_count": 0,
      "outputs": []
    },
    {
      "metadata": {
        "id": "P_2rjssX0KUp",
        "colab_type": "code",
        "colab": {}
      },
      "cell_type": "code",
      "source": [
        "\n",
        "\n",
        "# constraints = GLOBALS__['CharterAnlysingContext'].constraints\n",
        "\n",
        "# GLOBALS__['renderer'].render_values(GLOBALS__['ContractAnlysingContext'].contract_values)\n",
        "# GLOBALS__['renderer'].render_charter_parsing_results(GLOBALS__['CharterAnlysingContext'].org, GLOBALS__['CharterAnlysingContext'].constraints)\n",
        "\n",
        "\n",
        "# # for i in \n",
        "\n",
        "# for headkey in constraints:\n",
        "#   cc = constraints[headkey]\n",
        "#   print (cc)\n",
        "#   print (cc['section'])\n",
        "#   print (cc['caption'])\n",
        "  \n",
        "#   for s in cc['sentences']:\n",
        "#     print ('\\t\\t',s['constraints'])\n",
        "#     c = s['constraints']\n",
        "#     for vc in c:\n",
        "#       print(f'\\t\\t\\t {vc.value} \\t {vc.sign} \\t {vc.currency}')\n",
        "\n"
      ],
      "execution_count": 0,
      "outputs": []
    }
  ]
}