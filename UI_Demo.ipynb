{
  "nbformat": 4,
  "nbformat_minor": 0,
  "metadata": {
    "colab": {
      "name": "UI-Demo.ipynb",
      "version": "0.3.2",
      "provenance": [],
      "collapsed_sections": [],
      "toc_visible": true,
      "include_colab_link": true
    },
    "kernelspec": {
      "name": "python3",
      "display_name": "Python 3"
    },
    "accelerator": "GPU"
  },
  "cells": [
    {
      "cell_type": "markdown",
      "metadata": {
        "id": "view-in-github",
        "colab_type": "text"
      },
      "source": [
        "<a href=\"https://colab.research.google.com/github/compartia/nlp_tools/blob/vadim/UI_Demo.ipynb\" target=\"_parent\"><img src=\"https://colab.research.google.com/assets/colab-badge.svg\" alt=\"Open In Colab\"/></a>"
      ]
    },
    {
      "metadata": {
        "id": "raaJNhjYXuoW",
        "colab_type": "text"
      },
      "cell_type": "markdown",
      "source": [
        "#.init"
      ]
    },
    {
      "metadata": {
        "id": "DmfQVYoSXqf8",
        "colab_type": "text"
      },
      "cell_type": "markdown",
      "source": [
        "##utils"
      ]
    },
    {
      "metadata": {
        "id": "YYCa_a2lXjxP",
        "colab_type": "code",
        "colab": {}
      },
      "cell_type": "code",
      "source": [
        "import IPython\n",
        "import uuid\n",
        "from google.colab import output\n",
        "from google.colab import files\n",
        "\n",
        "from __future__ import print_function\n",
        "\n",
        "from google.colab import widgets\n",
        "from google.colab import output\n",
        "\n",
        "\n",
        "\n",
        "# from google.colab import files\n",
        "\n",
        "def interactive_upload(filetype):\n",
        "  \n",
        "  import docx2txt\n",
        "  \n",
        "  print(f'Please select \"{filetype}\" .docx file:')\n",
        "  uploaded = files.upload()\n",
        "  docs=[]\n",
        "  for fn in uploaded.keys():\n",
        "    print('User uploaded file \"{name}\" with length {length} bytes'.format(\n",
        "        name=fn, length=len(uploaded[fn])))\n",
        "\n",
        "    with open(fn, \"wb\") as df:\n",
        "      df.write(uploaded[fn])\n",
        "      df.close()\n",
        "\n",
        "    # extract text\n",
        "  \n",
        "    text = ''\n",
        "    try:\n",
        "      text = docx2txt.process(fn)\n",
        "    except:\n",
        "      print(\"Unexpected error:\", sys.exc_info())\n",
        "      os.system('antiword -w 0 \"' + fn + '\" > \"' + fn + '.txt\"')\n",
        "      with open(fn + '.txt') as f:\n",
        "        text = f.read()\n",
        "    print(\"Символов в оригинальном документе:\", len(text))\n",
        "    docs.append(text)\n",
        "    return docs\n",
        "  \n",
        "  \n",
        "  \n",
        "  \n",
        "class InvokeButton(object):\n",
        "  def __init__(self, title, callback = None):\n",
        "    self.title = title\n",
        "    self.callback = callback\n",
        "\n",
        "  # def _repr_html_(self):\n",
        "  def render(self):\n",
        "    self.callback_id = 'button-' + str(uuid.uuid4())\n",
        "    if self.callback:\n",
        "      output.register_callback(self.callback_id, self.callback)\n",
        "\n",
        "    template =f'''<button style=\"padding:5px; font-size:16px; margin:15px\"  id=\"{self.callback_id}\">{self.title}</button>\n",
        "        <script>\n",
        "          document.querySelector(\"#{self.callback_id}\").onclick = (e) => {{\n",
        "            google.colab.kernel.invokeFunction(\"{self.callback_id}\", [], {{}})\n",
        "            e.preventDefault();\n",
        "          }};\n",
        "        </script>'''\n",
        "    display(IPython.display.HTML(template))\n",
        "  \n",
        "  \n",
        "  def render_to(self, tb, tab, cleartab = False):\n",
        "    with tb.output_to(tab):\n",
        "      if cleartab:\n",
        "        tb.clear_tab()\n",
        "      self.render()\n",
        "      \n",
        "  def render_to_element(self, id):\n",
        "    with output.redirect_to_element(f'#{id}'):    \n",
        "      self.render()\n",
        "  \n",
        "\n",
        "      \n",
        "\n",
        "def clear_div(elementID):\n",
        "  display(IPython.display.Javascript(f'document.getElementById(\"{elementID}\").innerHTML = \"\";'))\n",
        "\n",
        "def replace_self_elem(elementID, text):\n",
        "  #print(f'Replace: {elementID}')\n",
        "  display(IPython.display.Javascript(f'document.getElementById(\"{elementID}\").parentElement.innerHTML = \"{text}\";'))\n",
        "\n",
        "def toggle_element(elementId):\n",
        "  display(IPython.display.Javascript(f''' \n",
        "    var x = document.getElementById(\"{elementId}\");\n",
        "    if (x.style.display === \"none\")\n",
        "      x.style.display = \"block\";\n",
        "    else\n",
        "      x.style.display = \"none\";\n",
        "    '''))\n",
        "\n",
        "  \n",
        "  \n",
        "GLOBALS__ = {}"
      ],
      "execution_count": 0,
      "outputs": []
    },
    {
      "metadata": {
        "id": "TTYEFnsrX_LL",
        "colab_type": "text"
      },
      "cell_type": "markdown",
      "source": [
        "#Демо"
      ]
    },
    {
      "metadata": {
        "id": "st1uyXGyR1WN",
        "colab_type": "code",
        "outputId": "1c13a287-3862-47ef-cc99-e36fe1df2f53",
        "colab": {
          "base_uri": "https://localhost:8080/",
          "height": 34
        }
      },
      "cell_type": "code",
      "source": [
        "#@title Настройки { run: \"auto\", vertical-output: true, display-mode: \"form\" }\n",
        "USD_to_RUB = 264.02 #@param {type:\"number\"}\n",
        "RUB_to_USD = 1.0/USD_to_RUB\n",
        "\n",
        "# print('USD_to_RUB=',USD_to_RUB)\n",
        "# print('RUB_to_USD=',RUB_to_USD)\n",
        "\n",
        "\n",
        "\n",
        "currency_converter = {\n",
        "  'USD': USD_to_RUB,\n",
        "  'RUB': 1.0\n",
        "}\n",
        "\n",
        "print(currency_converter)"
      ],
      "execution_count": 2,
      "outputs": [
        {
          "output_type": "stream",
          "text": [
            "{'USD': 264.02, 'RUB': 1.0}\n"
          ],
          "name": "stdout"
        }
      ]
    },
    {
      "metadata": {
        "id": "CPxjslnsM6Y2",
        "colab_type": "code",
        "outputId": "157d44e2-364b-4945-c317-2570dc6b895a",
        "colab": {
          "base_uri": "https://localhost:8080/",
          "height": 594
        }
      },
      "cell_type": "code",
      "source": [
        "# @title инициализация подсистем { output-height: 800, form-width: \"300px\", display-mode: \"form\" }\n",
        "\n",
        "\n",
        "import os\n",
        "import sys\n",
        "\n",
        "\n",
        "def interactive_upload(filetype):\n",
        "  from google.colab import files\n",
        "  import docx2txt\n",
        "\n",
        "  print(f'Please select \"{filetype}\" .docx file:')\n",
        "  uploaded = files.upload()\n",
        "  docs = []\n",
        "  for fn in uploaded.keys():\n",
        "    print('User uploaded file \"{name}\" with length {length} bytes'.format(\n",
        "      name=fn, length=len(uploaded[fn])))\n",
        "\n",
        "    with open(fn, \"wb\") as df:\n",
        "      df.write(uploaded[fn])\n",
        "      df.close()\n",
        "\n",
        "    # extract text\n",
        "\n",
        "    text = ''\n",
        "    try:\n",
        "      text = docx2txt.process(fn)\n",
        "    except:\n",
        "      print(\"Unexpected error:\", sys.exc_info())\n",
        "      os.system('antiword -w 0 \"' + fn + '\" > \"' + fn + '.txt\"')\n",
        "      with open(fn + '.txt') as f:\n",
        "        text = f.read()\n",
        "    print(\"Символов в оригинальном документе:\", len(text))\n",
        "    docs.append(text)\n",
        "    return docs\n",
        "\n",
        "\n",
        "# ====================================\n",
        "# ====================================\n",
        "_git_branch = \"vadim\"  # @param {type:\"string\"}\n",
        "# ====================================\n",
        "# ====================================\n",
        "\n",
        "\n",
        "# ''' AZ:-IMPORT CODE GITHUB----------------------------------------------😺------ '''\n",
        "import sys\n",
        "\n",
        "\n",
        "def _init_import_code_from_gh():\n",
        "  if 'GLOBALS__' not in globals():\n",
        "    print('adding global GLOBALS__')\n",
        "    global GLOBALS__\n",
        "    GLOBALS__ = {}\n",
        "\n",
        "  if '_init_import_code_from_gh' in GLOBALS__:\n",
        "    print('👌 code already imported from GitHub!')\n",
        "    return\n",
        "\n",
        "  import subprocess\n",
        "  def exec(x):\n",
        "    r = subprocess.check_output(x, shell=True)\n",
        "    r = r.decode('unicode-escape').encode('latin1').decode('utf8')\n",
        "    print(r)\n",
        "\n",
        "  print(f\"fetching code from GitHub.....{_git_branch}\")\n",
        "  try:\n",
        "    exec('rm -r nlp_tools')\n",
        "  except:\n",
        "    pass\n",
        "  exec(f'git clone --single-branch --branch {_git_branch} https://github.com/compartia/nlp_tools.git nlp_tools')\n",
        "\n",
        "  print('🦊 GIT revision:')\n",
        "  exec('cd nlp_tools\\ngit rev-list --reverse HEAD | awk \"{ print NR }\" | tail -n 1\\ngit branch\\ngit log -3 --pretty=%B')\n",
        "\n",
        "  sys.path.insert(0, 'nlp_tools')\n",
        "\n",
        "  # self-test\n",
        "  from text_tools import untokenize\n",
        "  print(untokenize(['code', 'imported', 'OK 👍']))\n",
        "\n",
        "  print('installing antiword...')\n",
        "  exec('sudo apt-get install antiword')\n",
        "\n",
        "  print('installing docx2txt...')\n",
        "  exec(\"pip install docx2txt\")\n",
        "\n",
        "  GLOBALS__['_init_import_code_from_gh'] = True\n",
        "\n",
        "  ''' AZ:-------------------------------------------------IMPORT CODE GITHUB-😺---'''\n",
        "  print('❤️ DONE importing Code fro GitHub')\n",
        "\n",
        "\n",
        "# AZ:-INIT ELMO-----------------------------------------------------------------------------------\n",
        "\n",
        "import tensorflow as tf\n",
        "import tensorflow_hub as hub\n",
        "\n",
        "\n",
        "def _import_elmo():\n",
        "  \"\"\"\n",
        "  ACHTUNG!! this method is called later by ElmoEmbedder\n",
        "  \"\"\"\n",
        "\n",
        "  elmo = hub.Module('https://storage.googleapis.com/az-nlp/elmo_ru-news_wmt11-16_1.5M_steps.tar.gz',\n",
        "                    trainable=False)  # news\n",
        "  #   elmo = hub.Module('https://storage.googleapis.com/az-nlp/elmo_ru-twitter_2013-01_2018-04_600k_steps.tar.gz',\n",
        "  #                     trainable=False)  # twitter\n",
        "  print('❤️ ❤️ ❤️ DONE (re)importing Tensorflow hub.Module ')\n",
        "  print('Tensorflow version is', tf.__version__)\n",
        "\n",
        "  return elmo\n",
        "\n",
        "\n",
        "# AZ:-INIT EMBEDDER-----------------------------------------------------------------------------------\n",
        "\n",
        "def _init_embedder():\n",
        "  if 'elmo_embedder' in GLOBALS__:\n",
        "    print('👌 Embedder is already created! ')\n",
        "    return\n",
        "\n",
        "  from embedding_tools import ElmoEmbedder\n",
        "  GLOBALS__['elmo_embedder'] = ElmoEmbedder(_import_elmo(), tf, 'elmo', _import_elmo)\n",
        "\n",
        "  print('❤️ DONE creating words embedding model')\n",
        "  return GLOBALS__['elmo_embedder']\n",
        "\n",
        "\n",
        "# AZ:-Init chartes context-----------------------------------------------------------------------------------\n",
        "def _init_charters():\n",
        "  if 'CharterAnlysingContext' in GLOBALS__:\n",
        "    print('👌 Charters-related tools are already inited ')\n",
        "    return\n",
        "\n",
        "  _init_embedder()  # PRECONDITION\n",
        "  from charter_patterns import CharterPatternFactory\n",
        "  from charter_parser import CharterDocumentParser\n",
        "  CPF = CharterPatternFactory(GLOBALS__['elmo_embedder'])\n",
        "  GLOBALS__['CharterAnlysingContext'] = CharterDocumentParser(CPF)\n",
        "  print('❤️ DONE initing Charters-related tools and models ')\n",
        "\n",
        "\n",
        "def _init_contracts():\n",
        "  if 'ContractAnlysingContext' in GLOBALS__:\n",
        "    print('👌 Contracts-related tools are already inited ')\n",
        "    return\n",
        "\n",
        "  from contract_parser import ContractAnlysingContext\n",
        "  GLOBALS__['ContractAnlysingContext'] = ContractAnlysingContext(GLOBALS__['elmo_embedder'], GLOBALS__['renderer'])\n",
        "  print('❤️ DONE initing Contracts-related tools and models ')\n",
        "\n",
        "\n",
        "# AZ:- THE CODE----------------------------------------------------------------------------------\n",
        "from typing import List\n",
        "\n",
        "\n",
        "def _init_the_code(reset=False):\n",
        "  if '_init_the_code' in GLOBALS__ and not reset:\n",
        "    print('👌 Code is alredy imported!')\n",
        "    return\n",
        "\n",
        "  from transaction_values import ValueConstraint\n",
        "\n",
        "  import matplotlib as mpl\n",
        "  from IPython.core.display import display, HTML\n",
        "  import matplotlib.pyplot as plt\n",
        "  \n",
        "  from renderer import AbstractRenderer, HtmlRenderer, head_types_colors\n",
        "  from renderer import to_multicolor_text, as_headline_3, as_offset\n",
        "  from renderer import as_msg, as_quote, as_c_quote\n",
        "  from renderer import as_error_html, known_subjects_dict, v_color_map\n",
        "  from transaction_values import ValueConstraint\n",
        "  from parsing import head_types_dict, head_types\n",
        "  from legal_docs import PatternSearchResults, ConstraintsSearchResult, PatternSearchResult, CharterDocument\n",
        "  \n",
        "  import numpy as np\n",
        "  \n",
        "  from charter_patterns import known_subjects\n",
        "  from patterns import AV_SOFT, AV_PREFIX\n",
        "  from structures import ContractSubject\n",
        "  from contract_parser import ContractDocument3\n",
        "\n",
        "  def _as_smaller(txt):\n",
        "    return f'<div font-size:12px\">{txt}</div>'\n",
        " \n",
        "  \n",
        "      \n",
        "  class DemoRenderer(HtmlRenderer):\n",
        "\n",
        "    def render_color_text(self, tokens, weights, colormap='coolwarm', print_debug=False, _range=None):\n",
        "      print('render_color_text')\n",
        "      html = self.to_color_text(tokens, weights, colormap, print_debug, _range)\n",
        "      display(HTML(html))\n",
        "                \n",
        "\n",
        "    def to_color_text(self, tokens, weights, colormap='coolwarm', print_debug=False, _range=None):\n",
        "      if len(tokens) == 0:\n",
        "        return \" - empty -\"\n",
        "      if len(weights) != len(tokens):\n",
        "        raise ValueError(\"number of weights differs weights={} tokens={}\".format(len(weights), len(tokens)))\n",
        "\n",
        "      #   if()\n",
        "      vmin = min(weights)\n",
        "      vmax = max(weights)\n",
        "\n",
        "      if _range is not None:\n",
        "        vmin = _range[0]\n",
        "        vmax = _range[1]\n",
        "\n",
        "      if print_debug:\n",
        "        print(vmin, vmax)\n",
        "\n",
        "      norm = mpl.colors.Normalize(vmin=vmin - 0.5, vmax=vmax)\n",
        "      html = \"\"\n",
        "      cmap = mpl.cm.get_cmap(colormap)\n",
        "\n",
        "      for d in range(0, len(weights)):\n",
        "        word = tokens[d]\n",
        "        if word == ' ':\n",
        "          word = '&nbsp;_ '\n",
        "\n",
        "        html += '<span title=\"{} {:.4f}\" style=\"background-color:{}\">{} </span>'.format(\n",
        "          d,\n",
        "          weights[d],\n",
        "          mpl.colors.to_hex(cmap(norm(weights[d]))),\n",
        "          word)\n",
        "\n",
        "        #     html+='<span style=\"background-color:' +mpl.colors.to_hex(cmap(norm(weights[d]) ))+ '\">' + str(tokens[d]) + \" </span>\"\n",
        "        if tokens[d] == '\\n':\n",
        "          html += \"<br>\"\n",
        "\n",
        "      return html\n",
        "\n",
        "    ''' AZ:-Rendering CHARITY🔥-----💸------💸-------💸------------------------------'''\n",
        "    def render_multicolor_text(self, tokens, vectors, colormap, min_color=None, _slice=None):\n",
        "      display(HTML(to_multicolor_text(tokens, vectors, colormap, min_color=min_color, _slice=_slice)))\n",
        "\n",
        "    \n",
        "\n",
        "    ''' AZ:------💸------💸-------💸----------------------END--Rendering CHARITY🔥------'''\n",
        "\n",
        "    \n",
        "\n",
        "\n",
        "\n",
        "    def render_subj(self, contract: ContractDocument3):\n",
        "      subjects: List[ProbableValue] = contract.subjects\n",
        "\n",
        "      if len(subjects) > 0:\n",
        "        sorted_ = [y for y in sorted(subjects, key=lambda x: -x.confidence)]\n",
        "        subject_kind = sorted_[0].value\n",
        "        confidence = sorted_[0].confidence\n",
        "      else:\n",
        "        subject_kind = ContractSubject.Other\n",
        "\n",
        "      if subject_kind in known_subjects_dict:\n",
        "        rendering_name = known_subjects_dict[subject_kind]\n",
        "      else:\n",
        "        rendering_name = 'прочее'\n",
        "\n",
        "      display(\n",
        "        HTML(f'Предмет договора:'\n",
        "             f'<h3 style=\"margin:0\">{rendering_name}<sup> {subject_kind}</sup> </h3> '\n",
        "             f'confidence:{confidence:20,.2f}'))\n",
        "\n",
        "\n",
        "\n",
        "    def sign_to_text(self, sign: int):\n",
        "      if sign < 0: return \" &lt; \"\n",
        "      if sign > 0: return \" &gt; \"\n",
        "      return ' = '\n",
        "\n",
        "    def probable_value_to_html(self, pv):\n",
        "      vc = pv.value\n",
        "      color = '#333333'\n",
        "      if vc.sign > 0:\n",
        "        color = '#993300'\n",
        "      elif vc.sign < 0:\n",
        "        color = '#009933'\n",
        "\n",
        "      return f'<b style=\"color:{color}\">{self.sign_to_text(vc.sign)} {vc.currency} {vc.value:20,.2f} confidence={pv.confidence:20,.2f}</b> '\n",
        "\n",
        "    def render_contents(self, doc):\n",
        "      html = as_headline_3('Выявленное Содержание документа')\n",
        "      html += \"<ul>\"\n",
        "      for i in doc.structure.headline_indexes:\n",
        "        line = doc.structure.structure[i].to_string(doc.tokens_cc)\n",
        "        html += f'<li> {line} <sup>line {i}</sup></li>'\n",
        "      html += \"</ul>\"\n",
        "\n",
        "      display(HTML(html))\n",
        "\n",
        "    def render_sections(self, sections):\n",
        "      from legal_docs import HeadlineMeta\n",
        "      html = as_headline_3('Выявленное секции документа')\n",
        "      html += \"<ul>\"\n",
        "      for section_type in sections:\n",
        "        section: HeadlineMeta = sections[section_type]\n",
        "        body = section.body.untokenize_cc()[:1000]\n",
        "        headline = section.subdoc.untokenize_cc()[:500]\n",
        "        #     line = doc.structure.structure[i].to_string(doc.tokens_cc)\n",
        "        html += f'<li><h3> {headline} <sup>type: {section_type}</sup> </h3> <p>{body}</p> </li>'\n",
        "      html += \"</ul>\"\n",
        "\n",
        "      display(HTML(html))\n",
        "\n",
        "    def render_values(self, values):\n",
        "      if len(values) > 0:\n",
        "        for pv in values:\n",
        "          h = self.probable_value_to_html(pv)\n",
        "          display(HTML(h))\n",
        "      else:\n",
        "        display(HTML('сумма не найдена'))\n",
        "\n",
        "    def render_value_section_details(self, value_section_info):\n",
        "      value_section = value_section_info.body\n",
        "      headline_doc = value_section_info.subdoc\n",
        "\n",
        "      headline = headline_doc.untokenize_cc()\n",
        "\n",
        "      v_names = {\n",
        "        'value_attention_vector',\n",
        "        'novalue_attention_vector',\n",
        "\n",
        "        'novalue_attention_vector_local_contrast',\n",
        "        'value_attention_vector_tuned'}\n",
        "\n",
        "      fig = plt.figure(figsize=(20, 6))\n",
        "      ax = plt.axes()\n",
        "      for vector_name in v_names:\n",
        "        ax.plot(value_section.distances_per_pattern_dict[vector_name], label=vector_name, alpha=0.4)\n",
        "\n",
        "      ax.plot(value_section.distances_per_pattern_dict['value_attention_vector_tuned'], label='value_attention result',\n",
        "              alpha=0.9, color='black')\n",
        "      plt.legend(loc='upper right')\n",
        "\n",
        "      text = self.to_color_text(value_section.tokens_cc,\n",
        "                                value_section.distances_per_pattern_dict['value_attention_vector_tuned'], _range=(0, 1))\n",
        "      html = f'{ as_headline_3(headline)} <div style=\"margin-left:4em; font-size=90%\">{text}</div>'\n",
        "      display(HTML(html))\n",
        "\n",
        "     \n",
        "    def render_charter_parsing_results_2(self, charter):\n",
        "      display(HTML(self.charter_parsing_results_to_html(charter)))\n",
        "      \n",
        "    def render_charter_parsing_results(self, doc, org, rz, charity_constraints):\n",
        "      WARN = '\\033[1;31m======== Dear Artem, ACHTUNG! 🔞 '\n",
        "      print (WARN+f\"use {self.render_charter_parsing_results} is deprecated\")\n",
        "      txt_html = self.to_color_text(org['tokens'], org['attention_vector'], _range=[0, 1])\n",
        "\n",
        "      html = '<div style=\"background:#eeeeff; padding:0.5em\"> recognized NE(s): <br><br> org type:<h3 style=\"margin:0\">  {} </h3>org full name:<h2 style=\"margin:0\">  {} </h2> <br>quote: <div style=\"font-size:90%; background:white\">{}</div> </div>'.format(\n",
        "        org['type_name'], org['name'], txt_html)\n",
        "      # html+=txt_html\n",
        "      html += self.render_constraint_values(doc, rz, charity_constraints)\n",
        "\n",
        "      display(HTML(html))\n",
        "\n",
        " \n",
        "\n",
        "     \n",
        "\n",
        "    \n",
        " \n",
        "\n",
        "  GLOBALS__['renderer'] = DemoRenderer()\n",
        "\n",
        "  # AZ:----------PROTOCOLS RENDERER-------------------------\n",
        "\n",
        "  from legal_docs import LegalDocument\n",
        "\n",
        "  import matplotlib as mpl\n",
        "  from IPython.core.display import display, HTML\n",
        "  from renderer import as_headline_3, as_headline_4\n",
        "  \n",
        "  class ProtocolRenderer(DemoRenderer):\n",
        "\n",
        "    def winning_patterns_to_html(self, _tokens, ranges, winning_patterns, _range,\n",
        "                                 colormaps=['Reds', 'Purples', 'Blues', 'Greens', 'Greys']):\n",
        "      vmin = -ranges[1]\n",
        "      vmax = -ranges[0]\n",
        "\n",
        "      #     print(\"winning_patterns_to_html _range\", _range, \"min max=\", ranges)\n",
        "\n",
        "      norm = mpl.colors.Normalize(vmax=vmax, vmin=vmin)\n",
        "\n",
        "      cmaps = []\n",
        "\n",
        "      #     print (colormaps)\n",
        "      for n in colormaps:\n",
        "        cmap = mpl.cm.get_cmap(n)\n",
        "        cmaps.append(cmap)\n",
        "\n",
        "      html = \"\"\n",
        "\n",
        "      for d in _range:\n",
        "        winning_pattern_i = winning_patterns[d][0]\n",
        "        colormap = cmaps[winning_pattern_i % len(colormaps)]\n",
        "        normed = norm(-winning_patterns[d][1])\n",
        "        color = mpl.colors.to_hex(colormap(normed))\n",
        "        html += '<span title=\"' + '{} {:.2f}'.format(d, winning_patterns[d][\n",
        "          1]) + '\" style=\"background-color:' + color + '\">' + str(\n",
        "          _tokens[d]) + \" </span>\"\n",
        "        if _tokens[d] == '\\n':\n",
        "          html += \"<br>\"\n",
        "\n",
        "      return html\n",
        "\n",
        "    def _render_doc_subject_fragments(self, doc):\n",
        "      #     print(doc.per_subject_distances)\n",
        "\n",
        "      _html = \"\"\n",
        "      if doc.per_subject_distances is not None:\n",
        "\n",
        "        type = \"Договор  благотворительного пожертвования\"\n",
        "        if doc.per_subject_distances[0] > doc.per_subject_distances[1]:\n",
        "          type = \"Договор возмездного оказания услуг\"\n",
        "\n",
        "        _html += \"<h3>\" + type + \"</h3>\"\n",
        "\n",
        "        colormaps = ['PuRd'] * 5 + ['Blues'] * 7 + ['Greys']\n",
        "\n",
        "        _html += as_headline_4('Предмет договора')\n",
        "\n",
        "        for region in [doc.subj_range]:\n",
        "          _html += self.winning_patterns_to_html(_tokens=doc.tokens, ranges=doc.subj_ranges,\n",
        "                                                 winning_patterns=doc.winning_subj_patterns, _range=region,\n",
        "                                                 colormaps=colormaps)\n",
        "\n",
        "      return _html\n",
        "\n",
        "    def render_subject(self, counter):\n",
        "      html = as_headline_3('Предмет документа (X):') + self.subject_type_weights_to_html(counter)\n",
        "      display(HTML(html))\n",
        "\n",
        "    def print_results(self, _doc: LegalDocument, results=None):\n",
        "\n",
        "      if results is None:\n",
        "        results = _doc.found_sum\n",
        "\n",
        "      result, (start, end), sentence, meta = results\n",
        "\n",
        "      html = \"<hr>\"\n",
        "\n",
        "      html += self._render_doc_subject_fragments(_doc)\n",
        "\n",
        "      if result is None:\n",
        "        html += '<h2 style=\"color:red\">СУММА НЕ НАЙДЕНА</h2>'\n",
        "      else:\n",
        "        html += '<h2>' + str(result[0]) + ' ' + str(result[1]) + '</h2>'\n",
        "\n",
        "      for key in meta.keys():\n",
        "        html += '<div style=\"font-size:9px\">' + str(key) + \" = \" + str(meta[key]) + \"</div>\"\n",
        "\n",
        "      display(HTML(html))\n",
        "      self.render_color_text(_doc.tokens[start:end], _doc.sums[start:end])\n",
        "\n",
        "    def subject_type_weights_to_html(self, counter):\n",
        "      dict = {\n",
        "        't_dea': 'Сделка',\n",
        "        't_cha': 'Благотворительность',\n",
        "        't_org': 'Организационные решения'\n",
        "      }\n",
        "\n",
        "      maxkey = \"None\"\n",
        "      for key in dict:\n",
        "        if counter[key] > counter[maxkey]:\n",
        "          maxkey = key\n",
        "\n",
        "      html = \"\"\n",
        "      for key in dict:\n",
        "        templ = \"<div>{}: {}</div>\"\n",
        "        if key == maxkey:\n",
        "          templ = '<b style=\"font-size:135%; color:maroon\">{}: {}</b>'\n",
        "        html += templ.format(counter[key], dict[key])\n",
        "\n",
        "      return html\n",
        "\n",
        "  GLOBALS__['ProtocolRenderer'] = ProtocolRenderer()\n",
        "\n",
        "  from demo_protocols import ProtocolAnlysingContext\n",
        "  GLOBALS__['ProtocolAnlysingContext'] = ProtocolAnlysingContext(GLOBALS__['elmo_embedder'], GLOBALS__['ProtocolRenderer'])\n",
        "  GLOBALS__['_init_the_code'] = True\n",
        "\n",
        "  # AZ:-------------------------------------------------Init Protocols context===\n",
        "\n",
        "  # AZ:-------------------------------------------------Init Charters context====\n",
        "\n",
        "  def read_doc(fn):\n",
        "    import docx2txt, sys, os\n",
        "    text = ''\n",
        "    try:\n",
        "      text = docx2txt.process(fn)\n",
        "    except:\n",
        "      print(\"Unexpected error:\", sys.exc_info())\n",
        "      os.system('antiword -w 0 \"' + fn + '\" > \"' + fn + '.txt\"')\n",
        "      with open(fn + '.txt') as f:\n",
        "        text = f.read()\n",
        "\n",
        "    return text\n",
        "\n",
        "  GLOBALS__['read_doc'] = read_doc\n",
        "\n",
        "  print(\"❤️ DONE initializing the code\")\n",
        "\n",
        "\n",
        "# AZ:-FINDING_VIOLATIONS--------------------------------------------------------\n",
        "def find_and_show_violations():\n",
        "  from IPython.core.display import display, HTML\n",
        "\n",
        "  from contract_parser import ContractAnlysingContext\n",
        "  from renderer import as_headline_2, as_error_html\n",
        "\n",
        "  print('Поиск нарушений')\n",
        "\n",
        "  charterAnlysingContext: CharterAnlysingContext = GLOBALS__['CharterAnlysingContext']\n",
        "  contractAnlysingContext: ContractAnlysingContext = GLOBALS__['ContractAnlysingContext']\n",
        "\n",
        "  contract = contractAnlysingContext.contract\n",
        "  charter = charterAnlysingContext.doc\n",
        "  charter_constraints = charterAnlysingContext.constraints  # XXX: move to doc\n",
        "\n",
        "  renderer = GLOBALS__['renderer']\n",
        "  renderer.render_subj(contract)\n",
        "\n",
        "  import copy\n",
        "\n",
        "  def convert(v):\n",
        "    v_converted = copy.copy(v)\n",
        "    if v.currency in currency_converter:\n",
        "      v_converted.value = currency_converter[v.currency] * v.value\n",
        "      v_converted.currency = 'RUB'\n",
        "      return v_converted\n",
        "    else:\n",
        "      display(HTML(as_error_html(\n",
        "        f\"мы не в настроении (пока) конвертировать {v.currency} --> RUB. Это вообще валюта какой страны? Румынии?\")))\n",
        "      return v\n",
        "\n",
        "  best_value = contractAnlysingContext.find_contract_best_value(convert)\n",
        "\n",
        "  # rendering:----------------------------\n",
        "\n",
        "  def _render_violations(ranges_by_group, best_value):\n",
        "    for group_key in ranges_by_group:\n",
        "      group = ranges_by_group[group_key]\n",
        "      display(HTML(as_headline_2(group['name'])))\n",
        "\n",
        "      for rk in group['ranges']:\n",
        "        r = group['ranges'][rk]\n",
        "        display(HTML(r.check_contract_value(best_value, convert, renderer)))\n",
        "\n",
        "  print(\"Сумма Договора:\")\n",
        "  renderer.render_values([best_value])\n",
        "  renderer.render_color_text(best_value.value.context.tokens, best_value.value.context.attention, _range=[0, 1])\n",
        "\n",
        "  _render_violations(\n",
        "    charterAnlysingContext.find_ranges_by_group(charter_constraints, convert, verbose=False),\n",
        "    best_value)\n",
        "\n",
        "#   display(HTML(renderer.render_constraint_values(charter_constraints)))\n",
        "\n",
        "\n",
        "# AZ:--------------------------------------------------------FINDING_VIOLATIONS-\n",
        "\n",
        "# AZ:- ENDO OF THE THE CODE------------------------------------------------XXXXX\n",
        "# AZ:- ENDO OF THE THE CODE------------------------------------------------XXXXX\n",
        "# AZ:- ENDO OF THE THE CODE------------------------------------------------XXXXX\n",
        "# AZ:- ENDO OF THE THE CODE------------------------------------------------XXXX\n",
        "\n",
        "_init_import_code_from_gh()"
      ],
      "execution_count": 3,
      "outputs": [
        {
          "output_type": "stream",
          "text": [
            "WARNING: Logging before flag parsing goes to stderr.\n",
            "W0425 07:46:56.104188 139902913066880 __init__.py:56] Some hub symbols are not available because TensorFlow version is less than 1.14\n"
          ],
          "name": "stderr"
        },
        {
          "output_type": "stream",
          "text": [
            "fetching code from GitHub.....vadim\n",
            "\n",
            "\n",
            "🦊 GIT revision:\n",
            "386\n",
            "* vadim\n",
            "Merge pull request #24 from compartia/contracts-subj\n",
            "\n",
            "Contracts subj\n",
            "Less verbose\n",
            "\n",
            "Fixing 💰 value extraction\n",
            "\n",
            "\n",
            "[nltk_data] Downloading package punkt to /root/nltk_data...\n",
            "[nltk_data]   Package punkt is already up-to-date!\n",
            "code imported OK 👍\n",
            "installing antiword...\n",
            "Reading package lists...\n",
            "Building dependency tree...\n",
            "Reading state information...\n",
            "antiword is already the newest version (0.37-11build1).\n",
            "The following package was automatically installed and is no longer required:\n",
            "  libnvidia-common-410\n",
            "Use 'sudo apt autoremove' to remove it.\n",
            "0 upgraded, 0 newly installed, 0 to remove and 6 not upgraded.\n",
            "\n",
            "installing docx2txt...\n",
            "Requirement already satisfied: docx2txt in /usr/local/lib/python3.6/dist-packages (0.7)\n",
            "\n",
            "❤️ DONE importing Code fro GitHub\n"
          ],
          "name": "stdout"
        }
      ]
    },
    {
      "metadata": {
        "id": "_5plTF-i9gbU",
        "colab_type": "code",
        "colab": {
          "base_uri": "https://localhost:8080/",
          "height": 34
        },
        "cellView": "form",
        "outputId": "ba2c6cc2-259b-4bf6-f496-313f16f4bbaf"
      },
      "cell_type": "code",
      "source": [
        "#@title некоторые внутренние функции\n",
        "#### compare with charter\n",
        "from structures import ContractSubject, OrgStructuralLevel\n",
        "import sys\n",
        "from renderer import as_headline_3\n",
        "\n",
        "def out_headline(str):\n",
        "  display(IPython.display.HTML(as_headline_3(str)))  \n",
        "\n",
        "def f0_compare_with_protocol():\n",
        "  try:     \n",
        "    contract = GLOBALS__['ContractAnlysingContext'].contract\n",
        "    x = max(contract.subjects, key = lambda p: p.confidence)\n",
        "    contract_subj = x.value\n",
        "    cv = max(contract.contract_values, key = lambda k: k.value.value)  \n",
        "    print(f'Сумма контракта: {cv.value.value} {cv.value.currency} вероятность: {cv.confidence}')\n",
        "    contract_sum = cv.value.value\n",
        "\n",
        "    protocol = GLOBALS__['ProtocolAnlysingContext'].protocol\n",
        "    if protocol and protocol.found_sum:\n",
        "      print(f'Полная инфо:{protocol.found_sum}')\n",
        "      sum = protocol.found_sum[0][0]\n",
        "      print(f'Сумма протокола: {sum}')\n",
        "      \n",
        "      if sum<contract_sum:\n",
        "        out_headline('Протокол не соответсвует договору (отличаются суммы)')\n",
        "      else:\n",
        "        out_headline('Одобрение по сделке в протоколе получено')\n",
        "    else:\n",
        "      out_headline('Нет достаточной информации в протоколе')\n",
        "  except:\n",
        "    print(f\"💥\\033[1;31mОшибка:{sys.exc_info()}\\033[1;0m\")\n",
        "    print(traceback.format_exc())\n",
        "\n",
        "  \n",
        "def f0_compare_with_charter():\n",
        "\n",
        "  _CTX = GLOBALS__['CharterAnlysingContext']\n",
        "  # GLOBALS__['renderer'].render_contents(_CTX.doc)\n",
        "  # find_and_show_violations()\n",
        "\n",
        "  contract = GLOBALS__['ContractAnlysingContext'].contract\n",
        "  x = max(contract.subjects, key = lambda p: p.confidence)\n",
        "  print(f'max value: {x.value} {x.value.display_string} prob: {x.confidence} ')\n",
        "  print(f'contract subj: {x.value}')\n",
        "  contract_subj = x.value\n",
        "  #print(f'{contract.contract_values}')\n",
        "  #for cs in contract.contract_values:\n",
        "  #  print(f'value: {cs.value.value} {cs.value.currency} prob: {cs.confidence}')\n",
        "  cv = max(contract.contract_values, key = lambda k: k.value.value)  \n",
        "  print(f'Max contract sum: {cv.value.value} {cv.value.currency} prob: {cv.confidence}')\n",
        "  contract_sum = cv.value.value\n",
        "\n",
        "  print('Устав, я сел:')\n",
        "  ### TEST ###############################\n",
        "  #contract_subj = ContractSubject.Charity\n",
        "  ########################################\n",
        "\n",
        "  ch = GLOBALS__['CharterAnlysingContext'].charter\n",
        "\n",
        "  DEALS = {ContractSubject.Deal, ContractSubject.Other, ContractSubject.RealEstate}\n",
        "\n",
        "  def in_range(r, v):\n",
        "    if r[1]<0:\n",
        "      return v >= r[0]\n",
        "    else:\n",
        "      return r[0]<=v<=r[1]\n",
        "\n",
        "  ccs = []\n",
        "  for c in ch._constraints:\n",
        "    subj = c.subject_mapping['subj']\n",
        "    if subj == ContractSubject.Lawsuit:\n",
        "      continue\n",
        "\n",
        "    if subj == contract_subj or (contract_subj in DEALS and  subj in DEALS):\n",
        "      print(f'\\t{c.org_level.display_string} {c.subject_mapping[\"subj\"].display_string}')\n",
        "      c_max = -1\n",
        "      c_min = sys.float_info.max\n",
        "      for cc in c.constraints:\n",
        "        print(f'\\t\\tconf:{cc.confidence} val:{cc.value.value} {cc.value.sign} {cc.value.currency}')\n",
        "        if cc.value.sign < 0:\n",
        "          c_max = max(c_max, cc.value.value)\n",
        "        else:\n",
        "          c_min = min(c_min, cc.value.value)\n",
        "\n",
        "      ccs.append((c.org_level, (c_min, c_max)))\n",
        "\n",
        "  ccs = sorted(ccs, key = lambda x: x[0].value, reverse = True)\n",
        "  print(ccs)\n",
        "\n",
        "  need_protocol = False\n",
        "  phrase = ''\n",
        "  if contract_subj == ContractSubject.Charity:\n",
        "    if len(ccs)>0:\n",
        "      phrase = 'Требуется одобрение Совета директоров Общества'\n",
        "      need_protocol = True\n",
        "    else:\n",
        "      phrase = 'В Уставе не найдено раздела о благотворительности'\n",
        "  else:  \n",
        "    ###contract_sum = 500000000\n",
        "    last_org_level = -1\n",
        "    for (org_level, r) in ccs:\n",
        "      if in_range(r, contract_sum):\n",
        "        last_org_level = org_level.value\n",
        "\n",
        "    if last_org_level != -1:\n",
        "      print(f'last level: {OrgStructuralLevel(last_org_level).display_string}')\n",
        "\n",
        "    if last_org_level == OrgStructuralLevel.CEO.value or last_org_level == -1:\n",
        "      phrase = 'Одобрение не требуется'\n",
        "    else:\n",
        "      phrase = f'Требуется одобрение: {OrgStructuralLevel(last_org_level).display_string}'\n",
        "      need_protocol = True\n",
        "  \n",
        "  return (phrase, need_protocol)    \n",
        "      \n",
        "#print(f_compare_with_charter())"
      ],
      "execution_count": 4,
      "outputs": [
        {
          "output_type": "stream",
          "text": [
            "<nltk.tokenize.punkt.PunktSentenceTokenizer object at 0x7f3d3ed32b00>\n"
          ],
          "name": "stdout"
        }
      ]
    },
    {
      "metadata": {
        "id": "QDIDCaXmVuB0",
        "colab_type": "code",
        "colab": {
          "resources": {
            "http://localhost:8080/nbextensions/google.colab/tabbar.css": {
              "data": "Lmdvb2ctdGFie3Bvc2l0aW9uOnJlbGF0aXZlO3BhZGRpbmc6NHB4IDhweDtjb2xvcjojMDBjO3RleHQtZGVjb3JhdGlvbjp1bmRlcmxpbmU7Y3Vyc29yOmRlZmF1bHR9Lmdvb2ctdGFiLWJhci10b3AgLmdvb2ctdGFie21hcmdpbjoxcHggNHB4IDAgMDtib3JkZXItYm90dG9tOjA7ZmxvYXQ6bGVmdH0uZ29vZy10YWItYmFyLXRvcDphZnRlciwuZ29vZy10YWItYmFyLWJvdHRvbTphZnRlcntjb250ZW50OiIgIjtkaXNwbGF5OmJsb2NrO2hlaWdodDowO2NsZWFyOmJvdGg7dmlzaWJpbGl0eTpoaWRkZW59Lmdvb2ctdGFiLWJhci1ib3R0b20gLmdvb2ctdGFie21hcmdpbjowIDRweCAxcHggMDtib3JkZXItdG9wOjA7ZmxvYXQ6bGVmdH0uZ29vZy10YWItYmFyLXN0YXJ0IC5nb29nLXRhYnttYXJnaW46MCAwIDRweCAxcHg7Ym9yZGVyLXJpZ2h0OjB9Lmdvb2ctdGFiLWJhci1lbmQgLmdvb2ctdGFie21hcmdpbjowIDFweCA0cHggMDtib3JkZXItbGVmdDowfS5nb29nLXRhYi1ob3ZlcntiYWNrZ3JvdW5kOiNlZWV9Lmdvb2ctdGFiLWRpc2FibGVke2NvbG9yOiM2NjZ9Lmdvb2ctdGFiLXNlbGVjdGVke2NvbG9yOiMwMDA7YmFja2dyb3VuZDojZmZmO3RleHQtZGVjb3JhdGlvbjpub25lO2ZvbnQtd2VpZ2h0OmJvbGQ7Ym9yZGVyOjFweCBzb2xpZCAjNmI5MGRhfS5nb29nLXRhYi1iYXItdG9we3BhZGRpbmctdG9wOjVweCFpbXBvcnRhbnQ7cGFkZGluZy1sZWZ0OjVweCFpbXBvcnRhbnQ7Ym9yZGVyLWJvdHRvbToxcHggc29saWQgIzZiOTBkYSFpbXBvcnRhbnR9Lmdvb2ctdGFiLWJhci10b3AgLmdvb2ctdGFiLXNlbGVjdGVke3RvcDoxcHg7bWFyZ2luLXRvcDowO3BhZGRpbmctYm90dG9tOjVweH0uZ29vZy10YWItYmFyLWJvdHRvbSAuZ29vZy10YWItc2VsZWN0ZWR7dG9wOi0xcHg7bWFyZ2luLWJvdHRvbTowO3BhZGRpbmctdG9wOjVweH0uZ29vZy10YWItYmFyLXN0YXJ0IC5nb29nLXRhYi1zZWxlY3RlZHtsZWZ0OjFweDttYXJnaW4tbGVmdDowO3BhZGRpbmctcmlnaHQ6OXB4fS5nb29nLXRhYi1iYXItZW5kIC5nb29nLXRhYi1zZWxlY3RlZHtsZWZ0Oi0xcHg7bWFyZ2luLXJpZ2h0OjA7cGFkZGluZy1sZWZ0OjlweH0uZ29vZy10YWItYmFye21hcmdpbjowO2JvcmRlcjowO3BhZGRpbmc6MDtsaXN0LXN0eWxlOm5vbmU7Y3Vyc29yOmRlZmF1bHQ7b3V0bGluZTpub25lO2JhY2tncm91bmQ6I2ViZWZmOX0uZ29vZy10YWItYmFyLWNsZWFye2NsZWFyOmJvdGg7aGVpZ2h0OjA7b3ZlcmZsb3c6aGlkZGVufS5nb29nLXRhYi1iYXItc3RhcnR7ZmxvYXQ6bGVmdH0uZ29vZy10YWItYmFyLWVuZHtmbG9hdDpyaWdodH0qIGh0bWwgLmdvb2ctdGFiLWJhci1zdGFydHttYXJnaW4tcmlnaHQ6LTNweH0qIGh0bWwgLmdvb2ctdGFiLWJhci1lbmR7bWFyZ2luLWxlZnQ6LTNweH0=",
              "ok": true,
              "headers": [
                [
                  "content-length",
                  "1394"
                ],
                [
                  "content-type",
                  "text/css"
                ]
              ],
              "status": 200,
              "status_text": ""
            },
            "http://localhost:8080/nbextensions/google.colab/tabbar_main.min.js": {
              "data": "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",
              "ok": true,
              "headers": [
                [
                  "content-type",
                  "application/javascript"
                ]
              ],
              "status": 200,
              "status_text": ""
            },
            "http://localhost:8080/nbextensions/google.colab/files.js": {
              "data": "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",
              "ok": true,
              "headers": [
                [
                  "content-type",
                  "application/javascript"
                ]
              ],
              "status": 200,
              "status_text": ""
            }
          },
          "base_uri": "https://localhost:8080/",
          "height": 987
        },
        "outputId": "3593d2f0-d165-4629-8d0f-273398a10859"
      },
      "cell_type": "code",
      "source": [
        "_#@title Обработка документов { vertical-output: true, output-height: 800, display-mode: \"form\" }\n",
        "\n",
        "# VI: @artifex from here:\n",
        "import traceback\n",
        "\n",
        "def init_all():\n",
        "  ## do preparation here   \n",
        "  # 1.\n",
        "  #_init_import_code_from_gh()\n",
        "  # 2.\n",
        "  _init_embedder()\n",
        "  # 3.\n",
        "  _init_the_code()\n",
        "  # 4.\n",
        "  _init_charters()\n",
        "  # 5.\n",
        "  _init_contracts()\n",
        "\n",
        "\n",
        "def process_charter(tb):\n",
        "  uploaded = interactive_upload('Устав, он лег спать')\n",
        "  try:\n",
        "\n",
        "    _CTX = GLOBALS__['CharterAnlysingContext']\n",
        "    _CTX.verbosity_level=2\n",
        "    _CTX.analyze_charter(uploaded[0], True)\n",
        "\n",
        "    tb.clear_tab()\n",
        "\n",
        "    GLOBALS__['renderer'].render_charter_parsing_results_2(_CTX.charter)\n",
        "    GLOBALS__['renderer'].render_contents(_CTX.doc)\n",
        "  except Exception as e:\n",
        "    print(f\"💥\\033[1;31mОшибка:{e}\\033[1;0m\")\n",
        "    print(traceback.format_exc())\n",
        "\n",
        "def process_contract(tb):\n",
        "  uploaded = interactive_upload('Договор')\n",
        "  tb.clear_tab()\n",
        "\n",
        "  try:\n",
        "    GLOBALS__['ContractAnlysingContext'].analyze_contract(uploaded[0])\n",
        "    doc = GLOBALS__['ContractAnlysingContext'].contract\n",
        "\n",
        "    # tb.clear_tab()\n",
        "\n",
        "    GLOBALS__['renderer'].render_subj(doc)\n",
        "    GLOBALS__['renderer'].render_contents(doc)\n",
        "  except Exception as e:\n",
        "    print(f\"💥\\033[1;31mОшибка:{e}\\033[1;0m\")\n",
        "    print(traceback.format_exc())\n",
        "\n",
        "def compare_with_charter(tb):\n",
        "  tb.clear_tab() \n",
        "  try:\n",
        "    \n",
        "    phrase, need_protocol = f0_compare_with_charter()\n",
        "    out_headline(phrase)\n",
        "    print('-'*30)\n",
        "    \n",
        "    _CTX = GLOBALS__['CharterAnlysingContext']\n",
        "    GLOBALS__['renderer'].render_contents(_CTX.doc)\n",
        "    find_and_show_violations()\n",
        "\n",
        "    return need_protocol\n",
        "  except:\n",
        "    print(f\"💥\\033[1;31mОшибка:{sys.exc_info()}\\033[1;0m\")\n",
        "    print(traceback.format_exc())\n",
        "    return True\n",
        "  \n",
        "  \n",
        "def start_wizard(tb):\n",
        "  def step1():\n",
        "    with tb.output_to(0):\n",
        "      print(f\"\\033[1;32mСм. следующие табы\\u2713\")\n",
        "    \n",
        "    b2.render_to(tb, 1, cleartab=True)\n",
        "\n",
        "  def step2():\n",
        "    with tb.output_to(1):      \n",
        "      tb.clear_tab()\n",
        "      process_charter(tb) \n",
        "      \n",
        "      print(f\"\\033[1;32mУстав: обработано \\u2713\")  \n",
        "      b2.render()\n",
        "    \n",
        "    b3.render_to(tb, 2, cleartab=True)\n",
        "\n",
        "  def step3():    \n",
        "    with tb.output_to(2):\n",
        "      tb.clear_tab()\n",
        "      process_contract(tb)\n",
        "      \n",
        "      print(f\"\\033[1;32mДоговор: обработано \\u2713\")  \n",
        "      b3.render()\n",
        "    \n",
        "    b4.render_to(tb, 3, cleartab=True)\n",
        "\n",
        "  def step4():\n",
        "    with tb.output_to(3):\n",
        "\n",
        "      need_protocol = compare_with_charter(tb)\n",
        "      \n",
        "      print(f\"\\033[1;32mПроверка нарушений: обработано \\u2713\")  \n",
        "      b4.render()\n",
        "    \n",
        "    with tb.output_to(4):\n",
        "      tb.clear_tab()\n",
        "      b5.render()\n",
        "      b6.render()\n",
        "      \n",
        "  def step5():\n",
        "    with tb.output_to(4):\n",
        "      tb.clear_tab()\n",
        "      uploaded = interactive_upload('Протокол')\n",
        "      try:\n",
        "        GLOBALS__['ProtocolAnlysingContext'].process(uploaded[0])        \n",
        "      except:\n",
        "        print(f\"💥\\033[1;31mОшибка:{sys.exc_info()}\\033[1;0m\")\n",
        "        print(traceback.format_exc())\n",
        "        \n",
        "      print(f\"\\033[1;32mПротокол: сделано\\u2713\")  \n",
        "      b5.render()\n",
        "      b6.render()\n",
        "\n",
        "    b7.render_to(tb, 5, cleartab=True)\n",
        "\n",
        "      \n",
        "  def without_protocol_step5():\n",
        "    with tb.output_to(4):\n",
        "      tb.clear_tab()\n",
        "      out_headline(\"Нарушение: Одобрение по сделке в протоколе отсутствует (нет протокола)\")\n",
        "      b5.render()\n",
        "      b6.render()\n",
        "    \n",
        "  def step6():\n",
        "    with tb.output_to(5):\n",
        "      tb.clear_tab()\n",
        "      b7.render()\n",
        "      f0_compare_with_protocol()\n",
        "                                     \n",
        "  b1 = InvokeButton('Начнём', step1)\n",
        "  b2 = InvokeButton('Устав...', step2)\n",
        "  b3 = InvokeButton('Договор...', step3)\n",
        "  b4 = InvokeButton('Сравнить с уставом...', step4)\n",
        "  b5 = InvokeButton('Протокол...', step5)\n",
        "  b6 = InvokeButton('Протокол отсутствует', without_protocol_step5)\n",
        "  \n",
        "  b7 = InvokeButton('Сравнить с протоколом...', step6)\n",
        "  \n",
        "  with tb.output_to(0): \n",
        "    try:     \n",
        "      \n",
        "      init_all()\n",
        "            \n",
        "    except:\n",
        "      print(f\"💥\\033[1;31mОшибка:{sys.exc_info()}\\033[1;0m\")\n",
        "      print(traceback.format_exc())\n",
        "\n",
        "  b2.render_to(tb, 1, cleartab=True)\n",
        "  b3.render_to(tb, 2, cleartab=True)\n",
        "  b4.render_to(tb, 3, cleartab=True)\n",
        "\n",
        "  b1.render_to(tb, 0, cleartab=False)\n",
        "\n",
        "\n",
        "tb2 = widgets.TabBar(['Начало', 'Устав', 'Договор', 'Сравнение с уставом', 'Протокол', 'Сравнение с протоколом'], location='top')    \n",
        "start_wizard(tb2)"
      ],
      "execution_count": 5,
      "outputs": [
        {
          "output_type": "display_data",
          "data": {
            "text/html": [
              "<link rel=stylesheet type=text/css href='/nbextensions/google.colab/tabbar.css'></link>"
            ],
            "text/plain": [
              "<IPython.core.display.HTML object>"
            ]
          },
          "metadata": {
            "tags": [
              "outputarea_id1"
            ]
          }
        },
        {
          "output_type": "display_data",
          "data": {
            "text/html": [
              "<script src='/nbextensions/google.colab/tabbar_main.min.js'></script>"
            ],
            "text/plain": [
              "<IPython.core.display.HTML object>"
            ]
          },
          "metadata": {
            "tags": [
              "outputarea_id1"
            ]
          }
        },
        {
          "output_type": "display_data",
          "data": {
            "text/html": [
              "<div id=\"id1\"></div>"
            ],
            "text/plain": [
              "<IPython.core.display.HTML object>"
            ]
          },
          "metadata": {
            "tags": [
              "outputarea_id1"
            ]
          }
        },
        {
          "output_type": "display_data",
          "data": {
            "application/javascript": [
              "window[\"4fa27af4-672e-11e9-871d-0242ac1c0002\"] = colab_lib.createTabBar({\"location\": \"top\", \"elementId\": \"id1\", \"tabNames\": [\"\\u041d\\u0430\\u0447\\u0430\\u043b\\u043e\", \"\\u0423\\u0441\\u0442\\u0430\\u0432\", \"\\u0414\\u043e\\u0433\\u043e\\u0432\\u043e\\u0440\", \"\\u0421\\u0440\\u0430\\u0432\\u043d\\u0435\\u043d\\u0438\\u0435 \\u0441 \\u0443\\u0441\\u0442\\u0430\\u0432\\u043e\\u043c\", \"\\u041f\\u0440\\u043e\\u0442\\u043e\\u043a\\u043e\\u043b\", \"\\u0421\\u0440\\u0430\\u0432\\u043d\\u0435\\u043d\\u0438\\u0435 \\u0441 \\u043f\\u0440\\u043e\\u0442\\u043e\\u043a\\u043e\\u043b\\u043e\\u043c\"], \"initialSelection\": 0, \"contentBorder\": [\"0px\"], \"contentHeight\": [\"initial\"], \"borderColor\": [\"#a7a7a7\"]});\n",
              "//# sourceURL=js_53214ed45c"
            ],
            "text/plain": [
              "<IPython.core.display.Javascript object>"
            ]
          },
          "metadata": {
            "tags": [
              "outputarea_id1"
            ]
          }
        },
        {
          "output_type": "display_data",
          "data": {
            "application/javascript": [
              "window[\"4fa2d1fc-672e-11e9-871d-0242ac1c0002\"] = window[\"id1\"].setSelectedTabIndex(0);\n",
              "//# sourceURL=js_7ecc01a2a7"
            ],
            "text/plain": [
              "<IPython.core.display.Javascript object>"
            ]
          },
          "metadata": {
            "tags": [
              "outputarea_id1"
            ]
          }
        },
        {
          "output_type": "display_data",
          "data": {
            "application/javascript": [
              "window[\"4fa41b98-672e-11e9-871d-0242ac1c0002\"] = google.colab.output.getActiveOutputArea();\n",
              "//# sourceURL=js_7bf141d039"
            ],
            "text/plain": [
              "<IPython.core.display.Javascript object>"
            ]
          },
          "metadata": {
            "tags": [
              "id1_content_0",
              "outputarea_id1"
            ]
          }
        },
        {
          "output_type": "display_data",
          "data": {
            "application/javascript": [
              "window[\"4fa450a4-672e-11e9-871d-0242ac1c0002\"] = document.querySelector(\"#id1_content_0\");\n",
              "//# sourceURL=js_21da54ce10"
            ],
            "text/plain": [
              "<IPython.core.display.Javascript object>"
            ]
          },
          "metadata": {
            "tags": [
              "id1_content_0",
              "outputarea_id1"
            ]
          }
        },
        {
          "output_type": "display_data",
          "data": {
            "application/javascript": [
              "window[\"4fa49d8e-672e-11e9-871d-0242ac1c0002\"] = google.colab.output.setActiveOutputArea(window[\"4fa450a4-672e-11e9-871d-0242ac1c0002\"]);\n",
              "//# sourceURL=js_abf4b2f79f"
            ],
            "text/plain": [
              "<IPython.core.display.Javascript object>"
            ]
          },
          "metadata": {
            "tags": [
              "id1_content_0",
              "outputarea_id1"
            ]
          }
        },
        {
          "output_type": "display_data",
          "data": {
            "application/javascript": [
              "window[\"4fa4e2ee-672e-11e9-871d-0242ac1c0002\"] = window[\"id1\"].setSelectedTabIndex(0);\n",
              "//# sourceURL=js_29653e3fa5"
            ],
            "text/plain": [
              "<IPython.core.display.Javascript object>"
            ]
          },
          "metadata": {
            "tags": [
              "id1_content_0",
              "outputarea_id1"
            ]
          }
        },
        {
          "output_type": "stream",
          "text": [
            "WARNING:tensorflow:From /usr/local/lib/python3.6/dist-packages/tensorflow/python/ops/control_flow_ops.py:3632: colocate_with (from tensorflow.python.framework.ops) is deprecated and will be removed in a future version.\n",
            "Instructions for updating:\n",
            "Colocations handled automatically by placer.\n"
          ],
          "name": "stdout"
        },
        {
          "output_type": "stream",
          "text": [
            "W0425 07:47:04.039743 139902913066880 deprecation.py:323] From /usr/local/lib/python3.6/dist-packages/tensorflow/python/ops/control_flow_ops.py:3632: colocate_with (from tensorflow.python.framework.ops) is deprecated and will be removed in a future version.\n",
            "Instructions for updating:\n",
            "Colocations handled automatically by placer.\n"
          ],
          "name": "stderr"
        },
        {
          "output_type": "stream",
          "text": [
            "❤️ ❤️ ❤️ DONE (re)importing Tensorflow hub.Module \n",
            "Tensorflow version is 1.13.1\n",
            "❤️ DONE creating words embedding model\n",
            "❤️ DONE initializing the code\n",
            "👌 Embedder is already created! \n",
            "🐌 Embedding 868 words... it takes time (☕️?)..\n",
            "INFO:tensorflow:Saver not created because there are no variables in the graph to restore\n"
          ],
          "name": "stdout"
        },
        {
          "output_type": "stream",
          "text": [
            "I0425 07:47:06.549103 139902913066880 saver.py:1483] Saver not created because there are no variables in the graph to restore\n"
          ],
          "name": "stderr"
        },
        {
          "output_type": "stream",
          "text": [
            "Embedding complete 🐌 ; the shape is (82, 20, 1024)\n",
            "❤️ DONE initing Charters-related tools and models \n",
            "🐌 Embedding 513 words... it takes time (☕️?)..\n",
            "INFO:tensorflow:Saver not created because there are no variables in the graph to restore\n"
          ],
          "name": "stdout"
        },
        {
          "output_type": "stream",
          "text": [
            "I0425 07:47:11.256995 139902913066880 saver.py:1483] Saver not created because there are no variables in the graph to restore\n"
          ],
          "name": "stderr"
        },
        {
          "output_type": "stream",
          "text": [
            "Embedding complete 🐌 ; the shape is (61, 33, 1024)\n",
            "❤️ DONE initing Contracts-related tools and models \n"
          ],
          "name": "stdout"
        },
        {
          "output_type": "display_data",
          "data": {
            "application/javascript": [
              "window[\"5676e888-672e-11e9-871d-0242ac1c0002\"] = google.colab.output.setActiveOutputArea(window[\"4fa41b98-672e-11e9-871d-0242ac1c0002\"]);\n",
              "//# sourceURL=js_ab43afb82d"
            ],
            "text/plain": [
              "<IPython.core.display.Javascript object>"
            ]
          },
          "metadata": {
            "tags": [
              "id1_content_0",
              "outputarea_id1"
            ]
          }
        },
        {
          "output_type": "display_data",
          "data": {
            "application/javascript": [
              "window[\"5679178e-672e-11e9-871d-0242ac1c0002\"] = google.colab.output.getActiveOutputArea();\n",
              "//# sourceURL=js_1c55b1bba5"
            ],
            "text/plain": [
              "<IPython.core.display.Javascript object>"
            ]
          },
          "metadata": {
            "tags": [
              "id1_content_1",
              "outputarea_id1"
            ]
          }
        },
        {
          "output_type": "display_data",
          "data": {
            "application/javascript": [
              "window[\"56796f72-672e-11e9-871d-0242ac1c0002\"] = document.querySelector(\"#id1_content_1\");\n",
              "//# sourceURL=js_ccc0eccefb"
            ],
            "text/plain": [
              "<IPython.core.display.Javascript object>"
            ]
          },
          "metadata": {
            "tags": [
              "id1_content_1",
              "outputarea_id1"
            ]
          }
        },
        {
          "output_type": "display_data",
          "data": {
            "application/javascript": [
              "window[\"5679d3a4-672e-11e9-871d-0242ac1c0002\"] = google.colab.output.setActiveOutputArea(window[\"56796f72-672e-11e9-871d-0242ac1c0002\"]);\n",
              "//# sourceURL=js_d664c75a53"
            ],
            "text/plain": [
              "<IPython.core.display.Javascript object>"
            ]
          },
          "metadata": {
            "tags": [
              "id1_content_1",
              "outputarea_id1"
            ]
          }
        },
        {
          "output_type": "display_data",
          "data": {
            "application/javascript": [
              "window[\"567a12ce-672e-11e9-871d-0242ac1c0002\"] = window[\"id1\"].setSelectedTabIndex(1);\n",
              "//# sourceURL=js_f6f88f949a"
            ],
            "text/plain": [
              "<IPython.core.display.Javascript object>"
            ]
          },
          "metadata": {
            "tags": [
              "id1_content_1",
              "outputarea_id1"
            ]
          }
        },
        {
          "output_type": "display_data",
          "data": {
            "application/javascript": [
              "window[\"567b8384-672e-11e9-871d-0242ac1c0002\"] = google.colab.output.setActiveOutputArea(window[\"5679178e-672e-11e9-871d-0242ac1c0002\"]);\n",
              "//# sourceURL=js_d783584c72"
            ],
            "text/plain": [
              "<IPython.core.display.Javascript object>"
            ]
          },
          "metadata": {
            "tags": [
              "id1_content_1",
              "outputarea_id1"
            ]
          }
        },
        {
          "output_type": "display_data",
          "data": {
            "application/javascript": [
              "window[\"567d37ec-672e-11e9-871d-0242ac1c0002\"] = google.colab.output.getActiveOutputArea();\n",
              "//# sourceURL=js_366249aea6"
            ],
            "text/plain": [
              "<IPython.core.display.Javascript object>"
            ]
          },
          "metadata": {
            "tags": [
              "id1_content_2",
              "outputarea_id1"
            ]
          }
        },
        {
          "output_type": "display_data",
          "data": {
            "application/javascript": [
              "window[\"567d68ac-672e-11e9-871d-0242ac1c0002\"] = document.querySelector(\"#id1_content_2\");\n",
              "//# sourceURL=js_a8f2b0edc9"
            ],
            "text/plain": [
              "<IPython.core.display.Javascript object>"
            ]
          },
          "metadata": {
            "tags": [
              "id1_content_2",
              "outputarea_id1"
            ]
          }
        },
        {
          "output_type": "display_data",
          "data": {
            "application/javascript": [
              "window[\"567db820-672e-11e9-871d-0242ac1c0002\"] = google.colab.output.setActiveOutputArea(window[\"567d68ac-672e-11e9-871d-0242ac1c0002\"]);\n",
              "//# sourceURL=js_28decc1a4a"
            ],
            "text/plain": [
              "<IPython.core.display.Javascript object>"
            ]
          },
          "metadata": {
            "tags": [
              "id1_content_2",
              "outputarea_id1"
            ]
          }
        },
        {
          "output_type": "display_data",
          "data": {
            "application/javascript": [
              "window[\"567df65a-672e-11e9-871d-0242ac1c0002\"] = window[\"id1\"].setSelectedTabIndex(2);\n",
              "//# sourceURL=js_598b22fe4e"
            ],
            "text/plain": [
              "<IPython.core.display.Javascript object>"
            ]
          },
          "metadata": {
            "tags": [
              "id1_content_2",
              "outputarea_id1"
            ]
          }
        },
        {
          "output_type": "display_data",
          "data": {
            "application/javascript": [
              "window[\"567f6b84-672e-11e9-871d-0242ac1c0002\"] = google.colab.output.setActiveOutputArea(window[\"567d37ec-672e-11e9-871d-0242ac1c0002\"]);\n",
              "//# sourceURL=js_07243505f3"
            ],
            "text/plain": [
              "<IPython.core.display.Javascript object>"
            ]
          },
          "metadata": {
            "tags": [
              "id1_content_2",
              "outputarea_id1"
            ]
          }
        },
        {
          "output_type": "display_data",
          "data": {
            "application/javascript": [
              "window[\"568103ea-672e-11e9-871d-0242ac1c0002\"] = google.colab.output.getActiveOutputArea();\n",
              "//# sourceURL=js_f8dce4933f"
            ],
            "text/plain": [
              "<IPython.core.display.Javascript object>"
            ]
          },
          "metadata": {
            "tags": [
              "id1_content_3",
              "outputarea_id1"
            ]
          }
        },
        {
          "output_type": "display_data",
          "data": {
            "application/javascript": [
              "window[\"56815020-672e-11e9-871d-0242ac1c0002\"] = document.querySelector(\"#id1_content_3\");\n",
              "//# sourceURL=js_bd0c49797f"
            ],
            "text/plain": [
              "<IPython.core.display.Javascript object>"
            ]
          },
          "metadata": {
            "tags": [
              "id1_content_3",
              "outputarea_id1"
            ]
          }
        },
        {
          "output_type": "display_data",
          "data": {
            "application/javascript": [
              "window[\"5681ad9a-672e-11e9-871d-0242ac1c0002\"] = google.colab.output.setActiveOutputArea(window[\"56815020-672e-11e9-871d-0242ac1c0002\"]);\n",
              "//# sourceURL=js_e0e09f3bdc"
            ],
            "text/plain": [
              "<IPython.core.display.Javascript object>"
            ]
          },
          "metadata": {
            "tags": [
              "id1_content_3",
              "outputarea_id1"
            ]
          }
        },
        {
          "output_type": "display_data",
          "data": {
            "application/javascript": [
              "window[\"5682051a-672e-11e9-871d-0242ac1c0002\"] = window[\"id1\"].setSelectedTabIndex(3);\n",
              "//# sourceURL=js_4fdb38f697"
            ],
            "text/plain": [
              "<IPython.core.display.Javascript object>"
            ]
          },
          "metadata": {
            "tags": [
              "id1_content_3",
              "outputarea_id1"
            ]
          }
        },
        {
          "output_type": "display_data",
          "data": {
            "application/javascript": [
              "window[\"56839e52-672e-11e9-871d-0242ac1c0002\"] = google.colab.output.setActiveOutputArea(window[\"568103ea-672e-11e9-871d-0242ac1c0002\"]);\n",
              "//# sourceURL=js_e4518904fe"
            ],
            "text/plain": [
              "<IPython.core.display.Javascript object>"
            ]
          },
          "metadata": {
            "tags": [
              "id1_content_3",
              "outputarea_id1"
            ]
          }
        },
        {
          "output_type": "display_data",
          "data": {
            "application/javascript": [
              "window[\"5685902c-672e-11e9-871d-0242ac1c0002\"] = google.colab.output.getActiveOutputArea();\n",
              "//# sourceURL=js_f10d90ca60"
            ],
            "text/plain": [
              "<IPython.core.display.Javascript object>"
            ]
          },
          "metadata": {
            "tags": [
              "id1_content_0",
              "outputarea_id1"
            ]
          }
        },
        {
          "output_type": "display_data",
          "data": {
            "application/javascript": [
              "window[\"5685f134-672e-11e9-871d-0242ac1c0002\"] = document.querySelector(\"#id1_content_0\");\n",
              "//# sourceURL=js_6d3d9b6508"
            ],
            "text/plain": [
              "<IPython.core.display.Javascript object>"
            ]
          },
          "metadata": {
            "tags": [
              "id1_content_0",
              "outputarea_id1"
            ]
          }
        },
        {
          "output_type": "display_data",
          "data": {
            "application/javascript": [
              "window[\"568639dc-672e-11e9-871d-0242ac1c0002\"] = google.colab.output.setActiveOutputArea(window[\"5685f134-672e-11e9-871d-0242ac1c0002\"]);\n",
              "//# sourceURL=js_5fe981d22e"
            ],
            "text/plain": [
              "<IPython.core.display.Javascript object>"
            ]
          },
          "metadata": {
            "tags": [
              "id1_content_0",
              "outputarea_id1"
            ]
          }
        },
        {
          "output_type": "display_data",
          "data": {
            "application/javascript": [
              "window[\"568690e4-672e-11e9-871d-0242ac1c0002\"] = window[\"id1\"].setSelectedTabIndex(0);\n",
              "//# sourceURL=js_8a6dc7169a"
            ],
            "text/plain": [
              "<IPython.core.display.Javascript object>"
            ]
          },
          "metadata": {
            "tags": [
              "id1_content_0",
              "outputarea_id1"
            ]
          }
        },
        {
          "output_type": "display_data",
          "data": {
            "text/html": [
              "<button style=\"padding:5px; font-size:16px; margin:15px\"  id=\"button-2b31ce10-0fc0-4765-ba78-0e2b111b43f7\">Начнём</button>\n",
              "        <script>\n",
              "          document.querySelector(\"#button-2b31ce10-0fc0-4765-ba78-0e2b111b43f7\").onclick = (e) => {\n",
              "            google.colab.kernel.invokeFunction(\"button-2b31ce10-0fc0-4765-ba78-0e2b111b43f7\", [], {})\n",
              "            e.preventDefault();\n",
              "          };\n",
              "        </script>"
            ],
            "text/plain": [
              "<IPython.core.display.HTML object>"
            ]
          },
          "metadata": {
            "tags": [
              "id1_content_0",
              "outputarea_id1",
              "user_output"
            ]
          }
        },
        {
          "output_type": "display_data",
          "data": {
            "application/javascript": [
              "window[\"5687c568-672e-11e9-871d-0242ac1c0002\"] = google.colab.output.setActiveOutputArea(window[\"5685902c-672e-11e9-871d-0242ac1c0002\"]);\n",
              "//# sourceURL=js_15e629ad62"
            ],
            "text/plain": [
              "<IPython.core.display.Javascript object>"
            ]
          },
          "metadata": {
            "tags": [
              "id1_content_0",
              "outputarea_id1"
            ]
          }
        },
        {
          "output_type": "display_data",
          "data": {
            "application/javascript": [
              "window[\"5a6fc284-672e-11e9-871d-0242ac1c0002\"] = google.colab.output.getActiveOutputArea();\n",
              "//# sourceURL=js_11ea1f27c3"
            ],
            "text/plain": [
              "<IPython.core.display.Javascript object>"
            ]
          },
          "metadata": {
            "tags": [
              "id1_content_0",
              "outputarea_id1"
            ]
          }
        },
        {
          "output_type": "display_data",
          "data": {
            "application/javascript": [
              "window[\"5a70451a-672e-11e9-871d-0242ac1c0002\"] = document.querySelector(\"#id1_content_0\");\n",
              "//# sourceURL=js_44b4a770fd"
            ],
            "text/plain": [
              "<IPython.core.display.Javascript object>"
            ]
          },
          "metadata": {
            "tags": [
              "id1_content_0",
              "outputarea_id1"
            ]
          }
        },
        {
          "output_type": "display_data",
          "data": {
            "application/javascript": [
              "window[\"5a7098a8-672e-11e9-871d-0242ac1c0002\"] = google.colab.output.setActiveOutputArea(window[\"5a70451a-672e-11e9-871d-0242ac1c0002\"]);\n",
              "//# sourceURL=js_85ad0df6fc"
            ],
            "text/plain": [
              "<IPython.core.display.Javascript object>"
            ]
          },
          "metadata": {
            "tags": [
              "id1_content_0",
              "outputarea_id1"
            ]
          }
        },
        {
          "output_type": "display_data",
          "data": {
            "application/javascript": [
              "window[\"5a70d624-672e-11e9-871d-0242ac1c0002\"] = window[\"id1\"].setSelectedTabIndex(0);\n",
              "//# sourceURL=js_b38a85c030"
            ],
            "text/plain": [
              "<IPython.core.display.Javascript object>"
            ]
          },
          "metadata": {
            "tags": [
              "id1_content_0",
              "outputarea_id1"
            ]
          }
        },
        {
          "output_type": "stream",
          "text": [
            "\u001b[1;32mСм. следующие табы✓\n"
          ],
          "name": "stdout"
        },
        {
          "output_type": "display_data",
          "data": {
            "application/javascript": [
              "window[\"5a73697a-672e-11e9-871d-0242ac1c0002\"] = google.colab.output.setActiveOutputArea(window[\"5a6fc284-672e-11e9-871d-0242ac1c0002\"]);\n",
              "//# sourceURL=js_5336ed0176"
            ],
            "text/plain": [
              "<IPython.core.display.Javascript object>"
            ]
          },
          "metadata": {
            "tags": [
              "id1_content_0",
              "outputarea_id1"
            ]
          }
        },
        {
          "output_type": "display_data",
          "data": {
            "application/javascript": [
              "window[\"5a749f7a-672e-11e9-871d-0242ac1c0002\"] = google.colab.output.getActiveOutputArea();\n",
              "//# sourceURL=js_0409b486a3"
            ],
            "text/plain": [
              "<IPython.core.display.Javascript object>"
            ]
          },
          "metadata": {
            "tags": [
              "id1_content_1",
              "outputarea_id1"
            ]
          }
        },
        {
          "output_type": "display_data",
          "data": {
            "application/javascript": [
              "window[\"5a74def4-672e-11e9-871d-0242ac1c0002\"] = document.querySelector(\"#id1_content_1\");\n",
              "//# sourceURL=js_6a960210a0"
            ],
            "text/plain": [
              "<IPython.core.display.Javascript object>"
            ]
          },
          "metadata": {
            "tags": [
              "id1_content_1",
              "outputarea_id1"
            ]
          }
        },
        {
          "output_type": "display_data",
          "data": {
            "application/javascript": [
              "window[\"5a751b94-672e-11e9-871d-0242ac1c0002\"] = google.colab.output.setActiveOutputArea(window[\"5a74def4-672e-11e9-871d-0242ac1c0002\"]);\n",
              "//# sourceURL=js_f5a1942ab5"
            ],
            "text/plain": [
              "<IPython.core.display.Javascript object>"
            ]
          },
          "metadata": {
            "tags": [
              "id1_content_1",
              "outputarea_id1"
            ]
          }
        },
        {
          "output_type": "display_data",
          "data": {
            "application/javascript": [
              "window[\"5a755e7e-672e-11e9-871d-0242ac1c0002\"] = window[\"id1\"].setSelectedTabIndex(1);\n",
              "//# sourceURL=js_4f1cb37fc2"
            ],
            "text/plain": [
              "<IPython.core.display.Javascript object>"
            ]
          },
          "metadata": {
            "tags": [
              "id1_content_1",
              "outputarea_id1"
            ]
          }
        },
        {
          "output_type": "display_data",
          "data": {
            "application/javascript": [
              "window[\"5a768bfa-672e-11e9-871d-0242ac1c0002\"] = google.colab.output.setActiveOutputArea(window[\"5a749f7a-672e-11e9-871d-0242ac1c0002\"]);\n",
              "//# sourceURL=js_b121c26e0f"
            ],
            "text/plain": [
              "<IPython.core.display.Javascript object>"
            ]
          },
          "metadata": {
            "tags": [
              "id1_content_1",
              "outputarea_id1"
            ]
          }
        },
        {
          "output_type": "display_data",
          "data": {
            "application/javascript": [
              "window[\"5bfd6b7e-672e-11e9-871d-0242ac1c0002\"] = google.colab.output.getActiveOutputArea();\n",
              "//# sourceURL=js_8802a5b49c"
            ],
            "text/plain": [
              "<IPython.core.display.Javascript object>"
            ]
          },
          "metadata": {
            "tags": [
              "id1_content_1",
              "outputarea_id1"
            ]
          }
        },
        {
          "output_type": "display_data",
          "data": {
            "application/javascript": [
              "window[\"5bfdde92-672e-11e9-871d-0242ac1c0002\"] = document.querySelector(\"#id1_content_1\");\n",
              "//# sourceURL=js_e77e486243"
            ],
            "text/plain": [
              "<IPython.core.display.Javascript object>"
            ]
          },
          "metadata": {
            "tags": [
              "id1_content_1",
              "outputarea_id1"
            ]
          }
        },
        {
          "output_type": "display_data",
          "data": {
            "application/javascript": [
              "window[\"5bfe1c4a-672e-11e9-871d-0242ac1c0002\"] = google.colab.output.setActiveOutputArea(window[\"5bfdde92-672e-11e9-871d-0242ac1c0002\"]);\n",
              "//# sourceURL=js_cbc8f5631f"
            ],
            "text/plain": [
              "<IPython.core.display.Javascript object>"
            ]
          },
          "metadata": {
            "tags": [
              "id1_content_1",
              "outputarea_id1"
            ]
          }
        },
        {
          "output_type": "display_data",
          "data": {
            "application/javascript": [
              "window[\"5bff3c1a-672e-11e9-871d-0242ac1c0002\"] = window[\"id1\"].setSelectedTabIndex(1);\n",
              "//# sourceURL=js_25d996d7a2"
            ],
            "text/plain": [
              "<IPython.core.display.Javascript object>"
            ]
          },
          "metadata": {
            "tags": [
              "id1_content_1",
              "outputarea_id1"
            ]
          }
        },
        {
          "output_type": "display_data",
          "data": {
            "application/javascript": [
              "window[\"83c6275e-672e-11e9-871d-0242ac1c0002\"] = google.colab.output.setActiveOutputArea(window[\"5bfd6b7e-672e-11e9-871d-0242ac1c0002\"]);\n",
              "//# sourceURL=js_494814e1a0"
            ],
            "text/plain": [
              "<IPython.core.display.Javascript object>"
            ]
          },
          "metadata": {
            "tags": [
              "id1_content_1",
              "outputarea_id1"
            ]
          }
        },
        {
          "output_type": "display_data",
          "data": {
            "application/javascript": [
              "window[\"83c8eb24-672e-11e9-871d-0242ac1c0002\"] = google.colab.output.getActiveOutputArea();\n",
              "//# sourceURL=js_5ffb48b341"
            ],
            "text/plain": [
              "<IPython.core.display.Javascript object>"
            ]
          },
          "metadata": {
            "tags": [
              "id1_content_2",
              "outputarea_id1"
            ]
          }
        },
        {
          "output_type": "display_data",
          "data": {
            "application/javascript": [
              "window[\"83c92ada-672e-11e9-871d-0242ac1c0002\"] = document.querySelector(\"#id1_content_2\");\n",
              "//# sourceURL=js_d4d5a3f669"
            ],
            "text/plain": [
              "<IPython.core.display.Javascript object>"
            ]
          },
          "metadata": {
            "tags": [
              "id1_content_2",
              "outputarea_id1"
            ]
          }
        },
        {
          "output_type": "display_data",
          "data": {
            "application/javascript": [
              "window[\"83c96f18-672e-11e9-871d-0242ac1c0002\"] = google.colab.output.setActiveOutputArea(window[\"83c92ada-672e-11e9-871d-0242ac1c0002\"]);\n",
              "//# sourceURL=js_092fe92c4b"
            ],
            "text/plain": [
              "<IPython.core.display.Javascript object>"
            ]
          },
          "metadata": {
            "tags": [
              "id1_content_2",
              "outputarea_id1"
            ]
          }
        },
        {
          "output_type": "display_data",
          "data": {
            "application/javascript": [
              "window[\"83c9b144-672e-11e9-871d-0242ac1c0002\"] = window[\"id1\"].setSelectedTabIndex(2);\n",
              "//# sourceURL=js_3e7993695d"
            ],
            "text/plain": [
              "<IPython.core.display.Javascript object>"
            ]
          },
          "metadata": {
            "tags": [
              "id1_content_2",
              "outputarea_id1"
            ]
          }
        },
        {
          "output_type": "display_data",
          "data": {
            "application/javascript": [
              "window[\"83caebae-672e-11e9-871d-0242ac1c0002\"] = google.colab.output.setActiveOutputArea(window[\"83c8eb24-672e-11e9-871d-0242ac1c0002\"]);\n",
              "//# sourceURL=js_9161e2015a"
            ],
            "text/plain": [
              "<IPython.core.display.Javascript object>"
            ]
          },
          "metadata": {
            "tags": [
              "id1_content_2",
              "outputarea_id1"
            ]
          }
        },
        {
          "output_type": "display_data",
          "data": {
            "application/javascript": [
              "window[\"8fab1cd2-672e-11e9-871d-0242ac1c0002\"] = google.colab.output.getActiveOutputArea();\n",
              "//# sourceURL=js_14473cb66c"
            ],
            "text/plain": [
              "<IPython.core.display.Javascript object>"
            ]
          },
          "metadata": {
            "tags": [
              "id1_content_2",
              "outputarea_id1"
            ]
          }
        },
        {
          "output_type": "display_data",
          "data": {
            "application/javascript": [
              "window[\"8fab824e-672e-11e9-871d-0242ac1c0002\"] = document.querySelector(\"#id1_content_2\");\n",
              "//# sourceURL=js_3bb2937fc8"
            ],
            "text/plain": [
              "<IPython.core.display.Javascript object>"
            ]
          },
          "metadata": {
            "tags": [
              "id1_content_2",
              "outputarea_id1"
            ]
          }
        },
        {
          "output_type": "display_data",
          "data": {
            "application/javascript": [
              "window[\"8fabdf6e-672e-11e9-871d-0242ac1c0002\"] = google.colab.output.setActiveOutputArea(window[\"8fab824e-672e-11e9-871d-0242ac1c0002\"]);\n",
              "//# sourceURL=js_21d68bfb81"
            ],
            "text/plain": [
              "<IPython.core.display.Javascript object>"
            ]
          },
          "metadata": {
            "tags": [
              "id1_content_2",
              "outputarea_id1"
            ]
          }
        },
        {
          "output_type": "display_data",
          "data": {
            "application/javascript": [
              "window[\"8fac69b6-672e-11e9-871d-0242ac1c0002\"] = window[\"id1\"].setSelectedTabIndex(2);\n",
              "//# sourceURL=js_01e3a51a82"
            ],
            "text/plain": [
              "<IPython.core.display.Javascript object>"
            ]
          },
          "metadata": {
            "tags": [
              "id1_content_2",
              "outputarea_id1"
            ]
          }
        },
        {
          "output_type": "display_data",
          "data": {
            "application/javascript": [
              "window[\"a1768672-672e-11e9-871d-0242ac1c0002\"] = google.colab.output.setActiveOutputArea(window[\"8fab1cd2-672e-11e9-871d-0242ac1c0002\"]);\n",
              "//# sourceURL=js_dbc2a45eea"
            ],
            "text/plain": [
              "<IPython.core.display.Javascript object>"
            ]
          },
          "metadata": {
            "tags": [
              "id1_content_2",
              "outputarea_id1"
            ]
          }
        },
        {
          "output_type": "display_data",
          "data": {
            "application/javascript": [
              "window[\"a177b36c-672e-11e9-871d-0242ac1c0002\"] = google.colab.output.getActiveOutputArea();\n",
              "//# sourceURL=js_6ce3e12c75"
            ],
            "text/plain": [
              "<IPython.core.display.Javascript object>"
            ]
          },
          "metadata": {
            "tags": [
              "id1_content_3",
              "outputarea_id1"
            ]
          }
        },
        {
          "output_type": "display_data",
          "data": {
            "application/javascript": [
              "window[\"a1788742-672e-11e9-871d-0242ac1c0002\"] = document.querySelector(\"#id1_content_3\");\n",
              "//# sourceURL=js_eaf49c6860"
            ],
            "text/plain": [
              "<IPython.core.display.Javascript object>"
            ]
          },
          "metadata": {
            "tags": [
              "id1_content_3",
              "outputarea_id1"
            ]
          }
        },
        {
          "output_type": "display_data",
          "data": {
            "application/javascript": [
              "window[\"a179d156-672e-11e9-871d-0242ac1c0002\"] = google.colab.output.setActiveOutputArea(window[\"a1788742-672e-11e9-871d-0242ac1c0002\"]);\n",
              "//# sourceURL=js_14c632124e"
            ],
            "text/plain": [
              "<IPython.core.display.Javascript object>"
            ]
          },
          "metadata": {
            "tags": [
              "id1_content_3",
              "outputarea_id1"
            ]
          }
        },
        {
          "output_type": "display_data",
          "data": {
            "application/javascript": [
              "window[\"a17a02c0-672e-11e9-871d-0242ac1c0002\"] = window[\"id1\"].setSelectedTabIndex(3);\n",
              "//# sourceURL=js_0a68950ec9"
            ],
            "text/plain": [
              "<IPython.core.display.Javascript object>"
            ]
          },
          "metadata": {
            "tags": [
              "id1_content_3",
              "outputarea_id1"
            ]
          }
        },
        {
          "output_type": "display_data",
          "data": {
            "application/javascript": [
              "window[\"a17c9594-672e-11e9-871d-0242ac1c0002\"] = google.colab.output.setActiveOutputArea(window[\"a177b36c-672e-11e9-871d-0242ac1c0002\"]);\n",
              "//# sourceURL=js_0927e16636"
            ],
            "text/plain": [
              "<IPython.core.display.Javascript object>"
            ]
          },
          "metadata": {
            "tags": [
              "id1_content_3",
              "outputarea_id1"
            ]
          }
        },
        {
          "output_type": "display_data",
          "data": {
            "application/javascript": [
              "window[\"ac7d997a-672e-11e9-871d-0242ac1c0002\"] = google.colab.output.getActiveOutputArea();\n",
              "//# sourceURL=js_870a99b1a8"
            ],
            "text/plain": [
              "<IPython.core.display.Javascript object>"
            ]
          },
          "metadata": {
            "tags": [
              "id1_content_3",
              "outputarea_id1"
            ]
          }
        },
        {
          "output_type": "display_data",
          "data": {
            "application/javascript": [
              "window[\"ac7e3f9c-672e-11e9-871d-0242ac1c0002\"] = document.querySelector(\"#id1_content_3\");\n",
              "//# sourceURL=js_d85887c5f0"
            ],
            "text/plain": [
              "<IPython.core.display.Javascript object>"
            ]
          },
          "metadata": {
            "tags": [
              "id1_content_3",
              "outputarea_id1"
            ]
          }
        },
        {
          "output_type": "display_data",
          "data": {
            "application/javascript": [
              "window[\"ac7e6f12-672e-11e9-871d-0242ac1c0002\"] = google.colab.output.setActiveOutputArea(window[\"ac7e3f9c-672e-11e9-871d-0242ac1c0002\"]);\n",
              "//# sourceURL=js_754e5817b3"
            ],
            "text/plain": [
              "<IPython.core.display.Javascript object>"
            ]
          },
          "metadata": {
            "tags": [
              "id1_content_3",
              "outputarea_id1"
            ]
          }
        },
        {
          "output_type": "display_data",
          "data": {
            "application/javascript": [
              "window[\"ac7fa206-672e-11e9-871d-0242ac1c0002\"] = window[\"id1\"].setSelectedTabIndex(3);\n",
              "//# sourceURL=js_9f4b6b61b0"
            ],
            "text/plain": [
              "<IPython.core.display.Javascript object>"
            ]
          },
          "metadata": {
            "tags": [
              "id1_content_3",
              "outputarea_id1"
            ]
          }
        },
        {
          "output_type": "display_data",
          "data": {
            "application/javascript": [
              "window[\"ac8cb5b8-672e-11e9-871d-0242ac1c0002\"] = google.colab.output.setActiveOutputArea(window[\"ac7d997a-672e-11e9-871d-0242ac1c0002\"]);\n",
              "//# sourceURL=js_070ee25055"
            ],
            "text/plain": [
              "<IPython.core.display.Javascript object>"
            ]
          },
          "metadata": {
            "tags": [
              "id1_content_3",
              "outputarea_id1"
            ]
          }
        },
        {
          "output_type": "display_data",
          "data": {
            "application/javascript": [
              "window[\"ac8de780-672e-11e9-871d-0242ac1c0002\"] = google.colab.output.getActiveOutputArea();\n",
              "//# sourceURL=js_d922c45878"
            ],
            "text/plain": [
              "<IPython.core.display.Javascript object>"
            ]
          },
          "metadata": {
            "tags": [
              "id1_content_4",
              "outputarea_id1"
            ]
          }
        },
        {
          "output_type": "display_data",
          "data": {
            "application/javascript": [
              "window[\"ac8e27b8-672e-11e9-871d-0242ac1c0002\"] = document.querySelector(\"#id1_content_4\");\n",
              "//# sourceURL=js_18f20df0e5"
            ],
            "text/plain": [
              "<IPython.core.display.Javascript object>"
            ]
          },
          "metadata": {
            "tags": [
              "id1_content_4",
              "outputarea_id1"
            ]
          }
        },
        {
          "output_type": "display_data",
          "data": {
            "application/javascript": [
              "window[\"ac8e73a8-672e-11e9-871d-0242ac1c0002\"] = google.colab.output.setActiveOutputArea(window[\"ac8e27b8-672e-11e9-871d-0242ac1c0002\"]);\n",
              "//# sourceURL=js_abca40f607"
            ],
            "text/plain": [
              "<IPython.core.display.Javascript object>"
            ]
          },
          "metadata": {
            "tags": [
              "id1_content_4",
              "outputarea_id1"
            ]
          }
        },
        {
          "output_type": "display_data",
          "data": {
            "application/javascript": [
              "window[\"ac8eaecc-672e-11e9-871d-0242ac1c0002\"] = window[\"id1\"].setSelectedTabIndex(4);\n",
              "//# sourceURL=js_be3d76bf21"
            ],
            "text/plain": [
              "<IPython.core.display.Javascript object>"
            ]
          },
          "metadata": {
            "tags": [
              "id1_content_4",
              "outputarea_id1"
            ]
          }
        },
        {
          "output_type": "display_data",
          "data": {
            "application/javascript": [
              "window[\"ac900664-672e-11e9-871d-0242ac1c0002\"] = google.colab.output.setActiveOutputArea(window[\"ac8de780-672e-11e9-871d-0242ac1c0002\"]);\n",
              "//# sourceURL=js_edf13bbec6"
            ],
            "text/plain": [
              "<IPython.core.display.Javascript object>"
            ]
          },
          "metadata": {
            "tags": [
              "id1_content_4",
              "outputarea_id1"
            ]
          }
        },
        {
          "output_type": "display_data",
          "data": {
            "application/javascript": [
              "window[\"db3dd57c-672e-11e9-871d-0242ac1c0002\"] = google.colab.output.getActiveOutputArea();\n",
              "//# sourceURL=js_ffbad599a8"
            ],
            "text/plain": [
              "<IPython.core.display.Javascript object>"
            ]
          },
          "metadata": {
            "tags": [
              "id1_content_4",
              "outputarea_id1"
            ]
          }
        },
        {
          "output_type": "display_data",
          "data": {
            "application/javascript": [
              "window[\"db3e1654-672e-11e9-871d-0242ac1c0002\"] = document.querySelector(\"#id1_content_4\");\n",
              "//# sourceURL=js_8c28f006e5"
            ],
            "text/plain": [
              "<IPython.core.display.Javascript object>"
            ]
          },
          "metadata": {
            "tags": [
              "id1_content_4",
              "outputarea_id1"
            ]
          }
        },
        {
          "output_type": "display_data",
          "data": {
            "application/javascript": [
              "window[\"db3e588a-672e-11e9-871d-0242ac1c0002\"] = google.colab.output.setActiveOutputArea(window[\"db3e1654-672e-11e9-871d-0242ac1c0002\"]);\n",
              "//# sourceURL=js_d1e7267330"
            ],
            "text/plain": [
              "<IPython.core.display.Javascript object>"
            ]
          },
          "metadata": {
            "tags": [
              "id1_content_4",
              "outputarea_id1"
            ]
          }
        },
        {
          "output_type": "display_data",
          "data": {
            "application/javascript": [
              "window[\"db3ea740-672e-11e9-871d-0242ac1c0002\"] = window[\"id1\"].setSelectedTabIndex(4);\n",
              "//# sourceURL=js_f0e289ade8"
            ],
            "text/plain": [
              "<IPython.core.display.Javascript object>"
            ]
          },
          "metadata": {
            "tags": [
              "id1_content_4",
              "outputarea_id1"
            ]
          }
        },
        {
          "output_type": "display_data",
          "data": {
            "application/javascript": [
              "window[\"e69c8fee-672e-11e9-871d-0242ac1c0002\"] = google.colab.output.setActiveOutputArea(window[\"db3dd57c-672e-11e9-871d-0242ac1c0002\"]);\n",
              "//# sourceURL=js_30d8f623c0"
            ],
            "text/plain": [
              "<IPython.core.display.Javascript object>"
            ]
          },
          "metadata": {
            "tags": [
              "id1_content_4",
              "outputarea_id1"
            ]
          }
        },
        {
          "output_type": "display_data",
          "data": {
            "application/javascript": [
              "window[\"e69e14f4-672e-11e9-871d-0242ac1c0002\"] = google.colab.output.getActiveOutputArea();\n",
              "//# sourceURL=js_d7aaffbd8e"
            ],
            "text/plain": [
              "<IPython.core.display.Javascript object>"
            ]
          },
          "metadata": {
            "tags": [
              "id1_content_5",
              "outputarea_id1"
            ]
          }
        },
        {
          "output_type": "display_data",
          "data": {
            "application/javascript": [
              "window[\"e69e563a-672e-11e9-871d-0242ac1c0002\"] = document.querySelector(\"#id1_content_5\");\n",
              "//# sourceURL=js_d5a646c541"
            ],
            "text/plain": [
              "<IPython.core.display.Javascript object>"
            ]
          },
          "metadata": {
            "tags": [
              "id1_content_5",
              "outputarea_id1"
            ]
          }
        },
        {
          "output_type": "display_data",
          "data": {
            "application/javascript": [
              "window[\"e69ea068-672e-11e9-871d-0242ac1c0002\"] = google.colab.output.setActiveOutputArea(window[\"e69e563a-672e-11e9-871d-0242ac1c0002\"]);\n",
              "//# sourceURL=js_dc03ea416a"
            ],
            "text/plain": [
              "<IPython.core.display.Javascript object>"
            ]
          },
          "metadata": {
            "tags": [
              "id1_content_5",
              "outputarea_id1"
            ]
          }
        },
        {
          "output_type": "display_data",
          "data": {
            "application/javascript": [
              "window[\"e69edf1a-672e-11e9-871d-0242ac1c0002\"] = window[\"id1\"].setSelectedTabIndex(5);\n",
              "//# sourceURL=js_c0ea36d0c0"
            ],
            "text/plain": [
              "<IPython.core.display.Javascript object>"
            ]
          },
          "metadata": {
            "tags": [
              "id1_content_5",
              "outputarea_id1"
            ]
          }
        },
        {
          "output_type": "display_data",
          "data": {
            "application/javascript": [
              "window[\"e6a087fc-672e-11e9-871d-0242ac1c0002\"] = google.colab.output.setActiveOutputArea(window[\"e69e14f4-672e-11e9-871d-0242ac1c0002\"]);\n",
              "//# sourceURL=js_c03a2a3bdb"
            ],
            "text/plain": [
              "<IPython.core.display.Javascript object>"
            ]
          },
          "metadata": {
            "tags": [
              "id1_content_5",
              "outputarea_id1"
            ]
          }
        },
        {
          "output_type": "display_data",
          "data": {
            "application/javascript": [
              "window[\"f6d6dee6-672e-11e9-871d-0242ac1c0002\"] = google.colab.output.getActiveOutputArea();\n",
              "//# sourceURL=js_9a26a3e639"
            ],
            "text/plain": [
              "<IPython.core.display.Javascript object>"
            ]
          },
          "metadata": {
            "tags": [
              "id1_content_5",
              "outputarea_id1"
            ]
          }
        },
        {
          "output_type": "display_data",
          "data": {
            "application/javascript": [
              "window[\"f6d7560a-672e-11e9-871d-0242ac1c0002\"] = document.querySelector(\"#id1_content_5\");\n",
              "//# sourceURL=js_ed5c0fad1b"
            ],
            "text/plain": [
              "<IPython.core.display.Javascript object>"
            ]
          },
          "metadata": {
            "tags": [
              "id1_content_5",
              "outputarea_id1"
            ]
          }
        },
        {
          "output_type": "display_data",
          "data": {
            "application/javascript": [
              "window[\"f6d7d116-672e-11e9-871d-0242ac1c0002\"] = google.colab.output.setActiveOutputArea(window[\"f6d7560a-672e-11e9-871d-0242ac1c0002\"]);\n",
              "//# sourceURL=js_18196e5204"
            ],
            "text/plain": [
              "<IPython.core.display.Javascript object>"
            ]
          },
          "metadata": {
            "tags": [
              "id1_content_5",
              "outputarea_id1"
            ]
          }
        },
        {
          "output_type": "display_data",
          "data": {
            "application/javascript": [
              "window[\"f6d815fe-672e-11e9-871d-0242ac1c0002\"] = window[\"id1\"].setSelectedTabIndex(5);\n",
              "//# sourceURL=js_c3ca2134d4"
            ],
            "text/plain": [
              "<IPython.core.display.Javascript object>"
            ]
          },
          "metadata": {
            "tags": [
              "id1_content_5",
              "outputarea_id1"
            ]
          }
        },
        {
          "output_type": "display_data",
          "data": {
            "application/javascript": [
              "window[\"f6dad3de-672e-11e9-871d-0242ac1c0002\"] = google.colab.output.setActiveOutputArea(window[\"f6d6dee6-672e-11e9-871d-0242ac1c0002\"]);\n",
              "//# sourceURL=js_63bbca5959"
            ],
            "text/plain": [
              "<IPython.core.display.Javascript object>"
            ]
          },
          "metadata": {
            "tags": [
              "id1_content_5",
              "outputarea_id1"
            ]
          }
        },
        {
          "output_type": "display_data",
          "data": {
            "application/javascript": [
              "window[\"078ec6ae-672f-11e9-871d-0242ac1c0002\"] = google.colab.output.getActiveOutputArea();\n",
              "//# sourceURL=js_565c4b4d03"
            ],
            "text/plain": [
              "<IPython.core.display.Javascript object>"
            ]
          },
          "metadata": {
            "tags": [
              "id1_content_2",
              "outputarea_id1"
            ]
          }
        },
        {
          "output_type": "display_data",
          "data": {
            "application/javascript": [
              "window[\"078f45a2-672f-11e9-871d-0242ac1c0002\"] = document.querySelector(\"#id1_content_2\");\n",
              "//# sourceURL=js_202ba246a8"
            ],
            "text/plain": [
              "<IPython.core.display.Javascript object>"
            ]
          },
          "metadata": {
            "tags": [
              "id1_content_2",
              "outputarea_id1"
            ]
          }
        },
        {
          "output_type": "display_data",
          "data": {
            "application/javascript": [
              "window[\"078f96ce-672f-11e9-871d-0242ac1c0002\"] = google.colab.output.setActiveOutputArea(window[\"078f45a2-672f-11e9-871d-0242ac1c0002\"]);\n",
              "//# sourceURL=js_6d6f5f3b34"
            ],
            "text/plain": [
              "<IPython.core.display.Javascript object>"
            ]
          },
          "metadata": {
            "tags": [
              "id1_content_2",
              "outputarea_id1"
            ]
          }
        },
        {
          "output_type": "display_data",
          "data": {
            "application/javascript": [
              "window[\"078fdd96-672f-11e9-871d-0242ac1c0002\"] = window[\"id1\"].setSelectedTabIndex(2);\n",
              "//# sourceURL=js_d0f31cc65f"
            ],
            "text/plain": [
              "<IPython.core.display.Javascript object>"
            ]
          },
          "metadata": {
            "tags": [
              "id1_content_2",
              "outputarea_id1"
            ]
          }
        },
        {
          "output_type": "display_data",
          "data": {
            "application/javascript": [
              "window[\"17aa9e8c-672f-11e9-871d-0242ac1c0002\"] = google.colab.output.setActiveOutputArea(window[\"078ec6ae-672f-11e9-871d-0242ac1c0002\"]);\n",
              "//# sourceURL=js_f10a438b47"
            ],
            "text/plain": [
              "<IPython.core.display.Javascript object>"
            ]
          },
          "metadata": {
            "tags": [
              "id1_content_2",
              "outputarea_id1"
            ]
          }
        },
        {
          "output_type": "display_data",
          "data": {
            "application/javascript": [
              "window[\"17abb10a-672f-11e9-871d-0242ac1c0002\"] = google.colab.output.getActiveOutputArea();\n",
              "//# sourceURL=js_d8c6b1ebcf"
            ],
            "text/plain": [
              "<IPython.core.display.Javascript object>"
            ]
          },
          "metadata": {
            "tags": [
              "id1_content_3",
              "outputarea_id1"
            ]
          }
        },
        {
          "output_type": "display_data",
          "data": {
            "application/javascript": [
              "window[\"17ac16ae-672f-11e9-871d-0242ac1c0002\"] = document.querySelector(\"#id1_content_3\");\n",
              "//# sourceURL=js_2a808f9988"
            ],
            "text/plain": [
              "<IPython.core.display.Javascript object>"
            ]
          },
          "metadata": {
            "tags": [
              "id1_content_3",
              "outputarea_id1"
            ]
          }
        },
        {
          "output_type": "display_data",
          "data": {
            "application/javascript": [
              "window[\"17ac4944-672f-11e9-871d-0242ac1c0002\"] = google.colab.output.setActiveOutputArea(window[\"17ac16ae-672f-11e9-871d-0242ac1c0002\"]);\n",
              "//# sourceURL=js_1eb5987da5"
            ],
            "text/plain": [
              "<IPython.core.display.Javascript object>"
            ]
          },
          "metadata": {
            "tags": [
              "id1_content_3",
              "outputarea_id1"
            ]
          }
        },
        {
          "output_type": "display_data",
          "data": {
            "application/javascript": [
              "window[\"17ac7c34-672f-11e9-871d-0242ac1c0002\"] = window[\"id1\"].setSelectedTabIndex(3);\n",
              "//# sourceURL=js_f8c94cb027"
            ],
            "text/plain": [
              "<IPython.core.display.Javascript object>"
            ]
          },
          "metadata": {
            "tags": [
              "id1_content_3",
              "outputarea_id1"
            ]
          }
        },
        {
          "output_type": "display_data",
          "data": {
            "application/javascript": [
              "window[\"17ad6cf2-672f-11e9-871d-0242ac1c0002\"] = google.colab.output.setActiveOutputArea(window[\"17abb10a-672f-11e9-871d-0242ac1c0002\"]);\n",
              "//# sourceURL=js_6628292b84"
            ],
            "text/plain": [
              "<IPython.core.display.Javascript object>"
            ]
          },
          "metadata": {
            "tags": [
              "id1_content_3",
              "outputarea_id1"
            ]
          }
        },
        {
          "output_type": "display_data",
          "data": {
            "application/javascript": [
              "window[\"1ae2ac3e-672f-11e9-871d-0242ac1c0002\"] = google.colab.output.getActiveOutputArea();\n",
              "//# sourceURL=js_afed851486"
            ],
            "text/plain": [
              "<IPython.core.display.Javascript object>"
            ]
          },
          "metadata": {
            "tags": [
              "id1_content_3",
              "outputarea_id1"
            ]
          }
        },
        {
          "output_type": "display_data",
          "data": {
            "application/javascript": [
              "window[\"1ae3049a-672f-11e9-871d-0242ac1c0002\"] = document.querySelector(\"#id1_content_3\");\n",
              "//# sourceURL=js_54fb2a9412"
            ],
            "text/plain": [
              "<IPython.core.display.Javascript object>"
            ]
          },
          "metadata": {
            "tags": [
              "id1_content_3",
              "outputarea_id1"
            ]
          }
        },
        {
          "output_type": "display_data",
          "data": {
            "application/javascript": [
              "window[\"1ae34414-672f-11e9-871d-0242ac1c0002\"] = google.colab.output.setActiveOutputArea(window[\"1ae3049a-672f-11e9-871d-0242ac1c0002\"]);\n",
              "//# sourceURL=js_fb8252320c"
            ],
            "text/plain": [
              "<IPython.core.display.Javascript object>"
            ]
          },
          "metadata": {
            "tags": [
              "id1_content_3",
              "outputarea_id1"
            ]
          }
        },
        {
          "output_type": "display_data",
          "data": {
            "application/javascript": [
              "window[\"1ae398d8-672f-11e9-871d-0242ac1c0002\"] = window[\"id1\"].setSelectedTabIndex(3);\n",
              "//# sourceURL=js_256211b4d2"
            ],
            "text/plain": [
              "<IPython.core.display.Javascript object>"
            ]
          },
          "metadata": {
            "tags": [
              "id1_content_3",
              "outputarea_id1"
            ]
          }
        },
        {
          "output_type": "display_data",
          "data": {
            "application/javascript": [
              "window[\"1aea7eaa-672f-11e9-871d-0242ac1c0002\"] = google.colab.output.setActiveOutputArea(window[\"1ae2ac3e-672f-11e9-871d-0242ac1c0002\"]);\n",
              "//# sourceURL=js_4658e27e2a"
            ],
            "text/plain": [
              "<IPython.core.display.Javascript object>"
            ]
          },
          "metadata": {
            "tags": [
              "id1_content_3",
              "outputarea_id1"
            ]
          }
        },
        {
          "output_type": "display_data",
          "data": {
            "application/javascript": [
              "window[\"1aeca70c-672f-11e9-871d-0242ac1c0002\"] = google.colab.output.getActiveOutputArea();\n",
              "//# sourceURL=js_6cfca2fb50"
            ],
            "text/plain": [
              "<IPython.core.display.Javascript object>"
            ]
          },
          "metadata": {
            "tags": [
              "id1_content_4",
              "outputarea_id1"
            ]
          }
        },
        {
          "output_type": "display_data",
          "data": {
            "application/javascript": [
              "window[\"1aece99c-672f-11e9-871d-0242ac1c0002\"] = document.querySelector(\"#id1_content_4\");\n",
              "//# sourceURL=js_c393640c15"
            ],
            "text/plain": [
              "<IPython.core.display.Javascript object>"
            ]
          },
          "metadata": {
            "tags": [
              "id1_content_4",
              "outputarea_id1"
            ]
          }
        },
        {
          "output_type": "display_data",
          "data": {
            "application/javascript": [
              "window[\"1aed29ac-672f-11e9-871d-0242ac1c0002\"] = google.colab.output.setActiveOutputArea(window[\"1aece99c-672f-11e9-871d-0242ac1c0002\"]);\n",
              "//# sourceURL=js_b6f9a84081"
            ],
            "text/plain": [
              "<IPython.core.display.Javascript object>"
            ]
          },
          "metadata": {
            "tags": [
              "id1_content_4",
              "outputarea_id1"
            ]
          }
        },
        {
          "output_type": "display_data",
          "data": {
            "application/javascript": [
              "window[\"1aed6b7e-672f-11e9-871d-0242ac1c0002\"] = window[\"id1\"].setSelectedTabIndex(4);\n",
              "//# sourceURL=js_d4f892fbd8"
            ],
            "text/plain": [
              "<IPython.core.display.Javascript object>"
            ]
          },
          "metadata": {
            "tags": [
              "id1_content_4",
              "outputarea_id1"
            ]
          }
        },
        {
          "output_type": "display_data",
          "data": {
            "application/javascript": [
              "window[\"1aeed914-672f-11e9-871d-0242ac1c0002\"] = google.colab.output.setActiveOutputArea(window[\"1aeca70c-672f-11e9-871d-0242ac1c0002\"]);\n",
              "//# sourceURL=js_acfc3afc18"
            ],
            "text/plain": [
              "<IPython.core.display.Javascript object>"
            ]
          },
          "metadata": {
            "tags": [
              "id1_content_4",
              "outputarea_id1"
            ]
          }
        },
        {
          "output_type": "display_data",
          "data": {
            "application/javascript": [
              "window[\"51fe98ea-672f-11e9-871d-0242ac1c0002\"] = google.colab.output.getActiveOutputArea();\n",
              "//# sourceURL=js_4f168a53be"
            ],
            "text/plain": [
              "<IPython.core.display.Javascript object>"
            ]
          },
          "metadata": {
            "tags": [
              "id1_content_4",
              "outputarea_id1"
            ]
          }
        },
        {
          "output_type": "display_data",
          "data": {
            "application/javascript": [
              "window[\"51fef6be-672f-11e9-871d-0242ac1c0002\"] = document.querySelector(\"#id1_content_4\");\n",
              "//# sourceURL=js_b2b741f4ce"
            ],
            "text/plain": [
              "<IPython.core.display.Javascript object>"
            ]
          },
          "metadata": {
            "tags": [
              "id1_content_4",
              "outputarea_id1"
            ]
          }
        },
        {
          "output_type": "display_data",
          "data": {
            "application/javascript": [
              "window[\"51ff3cb4-672f-11e9-871d-0242ac1c0002\"] = google.colab.output.setActiveOutputArea(window[\"51fef6be-672f-11e9-871d-0242ac1c0002\"]);\n",
              "//# sourceURL=js_63c7b342fc"
            ],
            "text/plain": [
              "<IPython.core.display.Javascript object>"
            ]
          },
          "metadata": {
            "tags": [
              "id1_content_4",
              "outputarea_id1"
            ]
          }
        },
        {
          "output_type": "display_data",
          "data": {
            "application/javascript": [
              "window[\"51ffa17c-672f-11e9-871d-0242ac1c0002\"] = window[\"id1\"].setSelectedTabIndex(4);\n",
              "//# sourceURL=js_2a86f1d659"
            ],
            "text/plain": [
              "<IPython.core.display.Javascript object>"
            ]
          },
          "metadata": {
            "tags": [
              "id1_content_4",
              "outputarea_id1"
            ]
          }
        },
        {
          "output_type": "display_data",
          "data": {
            "application/javascript": [
              "window[\"5cf567d8-672f-11e9-871d-0242ac1c0002\"] = google.colab.output.setActiveOutputArea(window[\"51fe98ea-672f-11e9-871d-0242ac1c0002\"]);\n",
              "//# sourceURL=js_8ac72482f8"
            ],
            "text/plain": [
              "<IPython.core.display.Javascript object>"
            ]
          },
          "metadata": {
            "tags": [
              "id1_content_4",
              "outputarea_id1"
            ]
          }
        },
        {
          "output_type": "display_data",
          "data": {
            "application/javascript": [
              "window[\"5cf6e3c4-672f-11e9-871d-0242ac1c0002\"] = google.colab.output.getActiveOutputArea();\n",
              "//# sourceURL=js_a981f9641e"
            ],
            "text/plain": [
              "<IPython.core.display.Javascript object>"
            ]
          },
          "metadata": {
            "tags": [
              "id1_content_5",
              "outputarea_id1"
            ]
          }
        },
        {
          "output_type": "display_data",
          "data": {
            "application/javascript": [
              "window[\"5cf71baa-672f-11e9-871d-0242ac1c0002\"] = document.querySelector(\"#id1_content_5\");\n",
              "//# sourceURL=js_61cfe63bd8"
            ],
            "text/plain": [
              "<IPython.core.display.Javascript object>"
            ]
          },
          "metadata": {
            "tags": [
              "id1_content_5",
              "outputarea_id1"
            ]
          }
        },
        {
          "output_type": "display_data",
          "data": {
            "application/javascript": [
              "window[\"5cf755a2-672f-11e9-871d-0242ac1c0002\"] = google.colab.output.setActiveOutputArea(window[\"5cf71baa-672f-11e9-871d-0242ac1c0002\"]);\n",
              "//# sourceURL=js_72966ddff8"
            ],
            "text/plain": [
              "<IPython.core.display.Javascript object>"
            ]
          },
          "metadata": {
            "tags": [
              "id1_content_5",
              "outputarea_id1"
            ]
          }
        },
        {
          "output_type": "display_data",
          "data": {
            "application/javascript": [
              "window[\"5cf7a246-672f-11e9-871d-0242ac1c0002\"] = window[\"id1\"].setSelectedTabIndex(5);\n",
              "//# sourceURL=js_5b7b5f818f"
            ],
            "text/plain": [
              "<IPython.core.display.Javascript object>"
            ]
          },
          "metadata": {
            "tags": [
              "id1_content_5",
              "outputarea_id1"
            ]
          }
        },
        {
          "output_type": "display_data",
          "data": {
            "application/javascript": [
              "window[\"5cf8e8e0-672f-11e9-871d-0242ac1c0002\"] = google.colab.output.setActiveOutputArea(window[\"5cf6e3c4-672f-11e9-871d-0242ac1c0002\"]);\n",
              "//# sourceURL=js_51c4a5e604"
            ],
            "text/plain": [
              "<IPython.core.display.Javascript object>"
            ]
          },
          "metadata": {
            "tags": [
              "id1_content_5",
              "outputarea_id1"
            ]
          }
        },
        {
          "output_type": "display_data",
          "data": {
            "application/javascript": [
              "window[\"673dd22a-672f-11e9-871d-0242ac1c0002\"] = google.colab.output.getActiveOutputArea();\n",
              "//# sourceURL=js_fcfb2c3b0e"
            ],
            "text/plain": [
              "<IPython.core.display.Javascript object>"
            ]
          },
          "metadata": {
            "tags": [
              "id1_content_5",
              "outputarea_id1"
            ]
          }
        },
        {
          "output_type": "display_data",
          "data": {
            "application/javascript": [
              "window[\"673e50f6-672f-11e9-871d-0242ac1c0002\"] = document.querySelector(\"#id1_content_5\");\n",
              "//# sourceURL=js_ba630084b8"
            ],
            "text/plain": [
              "<IPython.core.display.Javascript object>"
            ]
          },
          "metadata": {
            "tags": [
              "id1_content_5",
              "outputarea_id1"
            ]
          }
        },
        {
          "output_type": "display_data",
          "data": {
            "application/javascript": [
              "window[\"673ea196-672f-11e9-871d-0242ac1c0002\"] = google.colab.output.setActiveOutputArea(window[\"673e50f6-672f-11e9-871d-0242ac1c0002\"]);\n",
              "//# sourceURL=js_c89904fd25"
            ],
            "text/plain": [
              "<IPython.core.display.Javascript object>"
            ]
          },
          "metadata": {
            "tags": [
              "id1_content_5",
              "outputarea_id1"
            ]
          }
        },
        {
          "output_type": "display_data",
          "data": {
            "application/javascript": [
              "window[\"673eed4a-672f-11e9-871d-0242ac1c0002\"] = window[\"id1\"].setSelectedTabIndex(5);\n",
              "//# sourceURL=js_b799858211"
            ],
            "text/plain": [
              "<IPython.core.display.Javascript object>"
            ]
          },
          "metadata": {
            "tags": [
              "id1_content_5",
              "outputarea_id1"
            ]
          }
        },
        {
          "output_type": "display_data",
          "data": {
            "application/javascript": [
              "window[\"6740ed7a-672f-11e9-871d-0242ac1c0002\"] = google.colab.output.setActiveOutputArea(window[\"673dd22a-672f-11e9-871d-0242ac1c0002\"]);\n",
              "//# sourceURL=js_20ad23d4db"
            ],
            "text/plain": [
              "<IPython.core.display.Javascript object>"
            ]
          },
          "metadata": {
            "tags": [
              "id1_content_5",
              "outputarea_id1"
            ]
          }
        },
        {
          "output_type": "display_data",
          "data": {
            "application/javascript": [
              "window[\"a10a66bc-672f-11e9-871d-0242ac1c0002\"] = google.colab.output.getActiveOutputArea();\n",
              "//# sourceURL=js_1c5e72a1bb"
            ],
            "text/plain": [
              "<IPython.core.display.Javascript object>"
            ]
          },
          "metadata": {
            "tags": [
              "id1_content_1",
              "outputarea_id1"
            ]
          }
        },
        {
          "output_type": "display_data",
          "data": {
            "application/javascript": [
              "window[\"a10acc06-672f-11e9-871d-0242ac1c0002\"] = document.querySelector(\"#id1_content_1\");\n",
              "//# sourceURL=js_64987a4e37"
            ],
            "text/plain": [
              "<IPython.core.display.Javascript object>"
            ]
          },
          "metadata": {
            "tags": [
              "id1_content_1",
              "outputarea_id1"
            ]
          }
        },
        {
          "output_type": "display_data",
          "data": {
            "application/javascript": [
              "window[\"a10b066c-672f-11e9-871d-0242ac1c0002\"] = google.colab.output.setActiveOutputArea(window[\"a10acc06-672f-11e9-871d-0242ac1c0002\"]);\n",
              "//# sourceURL=js_50c45dc0bf"
            ],
            "text/plain": [
              "<IPython.core.display.Javascript object>"
            ]
          },
          "metadata": {
            "tags": [
              "id1_content_1",
              "outputarea_id1"
            ]
          }
        },
        {
          "output_type": "display_data",
          "data": {
            "application/javascript": [
              "window[\"a10b49f6-672f-11e9-871d-0242ac1c0002\"] = window[\"id1\"].setSelectedTabIndex(1);\n",
              "//# sourceURL=js_dad4a0925b"
            ],
            "text/plain": [
              "<IPython.core.display.Javascript object>"
            ]
          },
          "metadata": {
            "tags": [
              "id1_content_1",
              "outputarea_id1"
            ]
          }
        },
        {
          "output_type": "display_data",
          "data": {
            "text/html": [
              "<div style=\"background:#eeeeff; padding:0.5em\"> recognized NE(s): <br><br> org type:<h3 style=\"margin:0\">Акционерное общество </h3>org full name:<h2 style=\"margin:0\">  « Газпромнефть – Московский НПЗ »</h2> <br>quote: <div style=\"font-size:90%; background:white\"><span title=\"0 0.2221\" style=\"background-color:#d8dce2\">Статья </span><span title=\"1 0.2149\" style=\"background-color:#d7dce3\">1 </span><span title=\"2 0.2237\" style=\"background-color:#d8dce2\">. </span><span title=\"3 0.1784\" style=\"background-color:#cfdaea\">Общие </span><span title=\"4 0.1454\" style=\"background-color:#cad8ef\">положения </span><span title=\"5 0.1911\" style=\"background-color:#d2dbe8\">. </span><span title=\"6 0.1906\" style=\"background-color:#d2dbe8\">\n",
              " </span><br><span title=\"7 0.2100\" style=\"background-color:#d6dce4\">1.1 </span><span title=\"8 0.7199\" style=\"background-color:#eb7d62\">. </span><span title=\"9 0.8462\" style=\"background-color:#d75445\">Акционерное </span><span title=\"10 0.6054\" style=\"background-color:#f59f80\">общество </span><span title=\"11 0.3452\" style=\"background-color:#ecd3c5\">« </span><span title=\"12 0.2967\" style=\"background-color:#e4d9d2\">Газпромнефть </span><span title=\"13 0.2601\" style=\"background-color:#dedcdb\">– </span><span title=\"14 0.2584\" style=\"background-color:#dedcdb\">Московский </span><span title=\"15 0.2292\" style=\"background-color:#d9dce1\">НПЗ </span><span title=\"16 0.2420\" style=\"background-color:#dbdcde\">» </span><span title=\"17 0.3055\" style=\"background-color:#e6d7cf\">, </span><span title=\"18 0.2969\" style=\"background-color:#e5d8d1\">именуемое </span><span title=\"19 0.2881\" style=\"background-color:#e3d9d3\">в </span><span title=\"20 0.3326\" style=\"background-color:#ead4c8\">дальнейшем </span><span title=\"21 0.4957\" style=\"background-color:#f7b99e\">« </span><span title=\"22 0.3954\" style=\"background-color:#f1ccb8\">Общество </span><span title=\"23 0.1958\" style=\"background-color:#d3dbe7\">» </span><span title=\"24 0.2576\" style=\"background-color:#dedcdb\">, </span><span title=\"25 0.2597\" style=\"background-color:#dedcdb\">создано </span><span title=\"26 0.2594\" style=\"background-color:#dedcdb\">26-05-1994 </span><span title=\"27 0.2750\" style=\"background-color:#e1dad6\">год </span><span title=\"28 0.2607\" style=\"background-color:#dedcdb\">с </span><span title=\"29 0.6075\" style=\"background-color:#f59d7e\">наименованием </span><span title=\"30 0.7750\" style=\"background-color:#e36c55\">Акционерное </span><span title=\"31 0.4921\" style=\"background-color:#f7b99e\">общество </span><span title=\"32 0.2504\" style=\"background-color:#dddcdc\">открытого </span><span title=\"33 0.2567\" style=\"background-color:#dedcdb\">типа </span><span title=\"34 0.2621\" style=\"background-color:#dfdbd9\">« </span><span title=\"35 0.2281\" style=\"background-color:#d9dce1\">Московский </span><span title=\"36 0.2566\" style=\"background-color:#dedcdb\">нефтеперерабатывающий </span><span title=\"37 0.2463\" style=\"background-color:#dcdddd\">завод </span><span title=\"38 0.1785\" style=\"background-color:#cfdaea\">» </span><span title=\"39 0.1958\" style=\"background-color:#d3dbe7\">. </span><span title=\"40 0.1785\" style=\"background-color:#cfdaea\">\n",
              " </span><br><span title=\"41 0.1808\" style=\"background-color:#d1dae9\">1.2 </span><span title=\"42 0.1612\" style=\"background-color:#ccd9ed\">. </span><span title=\"43 0.1241\" style=\"background-color:#c5d6f2\">Запись </span><span title=\"44 0.3003\" style=\"background-color:#e5d8d1\">об </span><span title=\"45 0.2850\" style=\"background-color:#e2dad5\">Обществе </span><span title=\"46 0.0925\" style=\"background-color:#bfd3f6\">внесена </span><span title=\"47 0.1343\" style=\"background-color:#c7d7f0\">в </span><span title=\"48 0.1613\" style=\"background-color:#ccd9ed\">Единый </span><span title=\"49 0.2021\" style=\"background-color:#d4dbe6\">государственный </span><span title=\"50 0.2340\" style=\"background-color:#dadce0\">реестр </span><span title=\"51 0.2020\" style=\"background-color:#d4dbe6\">юридических </span><span title=\"52 0.1890\" style=\"background-color:#d2dbe8\">лиц </span><span title=\"53 0.1792\" style=\"background-color:#cfdaea\">05-12-2002 </span><span title=\"54 0.1821\" style=\"background-color:#d1dae9\">год </span><span title=\"55 0.1508\" style=\"background-color:#cbd8ee\">Управлением </span><span title=\"56 0.1151\" style=\"background-color:#c3d5f4\">МНС </span><span title=\"57 0.0931\" style=\"background-color:#bfd3f6\">России </span><span title=\"58 0.0879\" style=\"background-color:#bed2f6\">по </span><span title=\"59 0.1041\" style=\"background-color:#c1d4f4\">г. </span><span title=\"60 0.1092\" style=\"background-color:#c1d4f4\">Москве </span><span title=\"61 0.1062\" style=\"background-color:#c1d4f4\">за </span><span title=\"62 0.1162\" style=\"background-color:#c4d5f3\">основным </span><span title=\"63 0.1499\" style=\"background-color:#cad8ef\">государственным </span><span title=\"64 0.1593\" style=\"background-color:#ccd9ed\">регистрационным </span><span title=\"65 0.1552\" style=\"background-color:#cbd8ee\">номером </span><span title=\"66 0.1724\" style=\"background-color:#cedaeb\">1027700500190 </span><span title=\"67 0.1885\" style=\"background-color:#d2dbe8\">. </span><span title=\"68 0.1815\" style=\"background-color:#d1dae9\">\n",
              " </span><br><span title=\"69 0.1841\" style=\"background-color:#d1dae9\">1.3 </span><span title=\"70 0.2002\" style=\"background-color:#d4dbe6\">. </span><span title=\"71 0.2108\" style=\"background-color:#d6dce4\">05-07-1995 </span><span title=\"72 0.2949\" style=\"background-color:#e4d9d2\">год </span><span title=\"73 0.4052\" style=\"background-color:#f2cab5\">наименование </span><span title=\"74 0.3441\" style=\"background-color:#ecd3c5\">Общества </span><span title=\"75 0.2290\" style=\"background-color:#d9dce1\">изменено </span><span title=\"76 0.3855\" style=\"background-color:#f1cdba\">на </span><span title=\"77 0.6617\" style=\"background-color:#f18f71\">Открытое </span><span title=\"78 0.7691\" style=\"background-color:#e46e56\">акционерное </span><span title=\"79 0.5474\" style=\"background-color:#f7ad90\">общество </span><span title=\"80 0.2793\" style=\"background-color:#e2dad5\">« </span><span title=\"81 0.2250\" style=\"background-color:#d8dce2\">Московский </span><span title=\"82 0.2621\" style=\"background-color:#dfdbd9\">нефтеперерабатывающий </span><span title=\"83 0.2558\" style=\"background-color:#dddcdc\">завод </span><span title=\"84 0.1785\" style=\"background-color:#cfdaea\">» </span><span title=\"85 0.2168\" style=\"background-color:#d7dce3\">. </span><span title=\"86 0.2298\" style=\"background-color:#d9dce1\">\n",
              " </span><br><span title=\"87 0.2265\" style=\"background-color:#d8dce2\">14-10-2011 </span><span title=\"88 0.3000\" style=\"background-color:#e5d8d1\">год </span><span title=\"89 0.4081\" style=\"background-color:#f2cab5\">наименование </span><span title=\"90 0.3555\" style=\"background-color:#edd1c2\">Общества </span><span title=\"91 0.2509\" style=\"background-color:#dddcdc\">изменено </span><span title=\"92 0.4050\" style=\"background-color:#f2cab5\">на </span><span title=\"93 0.6649\" style=\"background-color:#f18f71\">Открытое </span><span title=\"94 0.7675\" style=\"background-color:#e46e56\">акционерное </span><span title=\"95 0.5423\" style=\"background-color:#f7af91\">общество </span><span title=\"96 0.3074\" style=\"background-color:#e6d7cf\">« </span><span title=\"97 0.2548\" style=\"background-color:#dddcdc\">Газпромнефть </span><span title=\"98 0.2109\" style=\"background-color:#d6dce4\">– </span><span title=\"99 0.2049\" style=\"background-color:#d5dbe5\">Московский </span><span title=\"100 0.1944\" style=\"background-color:#d3dbe7\">НПЗ </span><span title=\"101 0.1965\" style=\"background-color:#d3dbe7\">» </span><span title=\"102 0.2380\" style=\"background-color:#dadce0\">. </span><span title=\"103 0.2453\" style=\"background-color:#dcdddd\">\n",
              " </span><br><span title=\"104 0.2405\" style=\"background-color:#dbdcde\">29-06-2015 </span><span title=\"105 0.3072\" style=\"background-color:#e6d7cf\">год </span><span title=\"106 0.4120\" style=\"background-color:#f2c9b4\">наименование </span><span title=\"107 0.3625\" style=\"background-color:#eed0c0\">Общества </span><span title=\"108 0.2589\" style=\"background-color:#dedcdb\">изменено </span><span title=\"109 0.6148\" style=\"background-color:#f59c7d\">на </span><span title=\"110 0.7806\" style=\"background-color:#e36b54\">акционерное </span><span title=\"111 0.5519\" style=\"background-color:#f7ac8e\">общество </span><span title=\"112 0.3130\" style=\"background-color:#e7d7ce\">« </span><span title=\"113 0.2583\" style=\"background-color:#dedcdb\">Газпромнефть </span><span title=\"114 0.2114\" style=\"background-color:#d6dce4\">– </span><span title=\"115 0.2057\" style=\"background-color:#d5dbe5\">Московский </span><span title=\"116 0.1954\" style=\"background-color:#d3dbe7\">НПЗ </span><span title=\"117 0.1946\" style=\"background-color:#d3dbe7\">» </span><span title=\"118 0.2274\" style=\"background-color:#d9dce1\">. </span><span title=\"119 0.2167\" style=\"background-color:#d7dce3\">\n",
              " </span><br><span title=\"120 0.2192\" style=\"background-color:#d7dce3\">1.4 </span><span title=\"121 0.5016\" style=\"background-color:#f7b89c\">. </span><span title=\"122 0.4689\" style=\"background-color:#f6bea4\">Общество </span><span title=\"123 0.2296\" style=\"background-color:#d9dce1\">является </span><span title=\"124 0.2296\" style=\"background-color:#d9dce1\">правопреемником </span><span title=\"125 0.2329\" style=\"background-color:#dadce0\">государственного </span><span title=\"126 0.2060\" style=\"background-color:#d5dbe5\">предприятия </span><span title=\"127 0.1546\" style=\"background-color:#cbd8ee\">- </span><span title=\"128 0.1464\" style=\"background-color:#cad8ef\">Московского </span><span title=\"129 0.1227\" style=\"background-color:#c5d6f2\">ордена </span><span title=\"130 0.0923\" style=\"background-color:#bfd3f6\">Отечественной </span><span title=\"131 0.1242\" style=\"background-color:#c5d6f2\">войны </span><span title=\"132 0.1384\" style=\"background-color:#c7d7f0\">1 </span><span title=\"133 0.1428\" style=\"background-color:#c9d7f0\">степени </span><span title=\"134 0.1629\" style=\"background-color:#cdd9ec\">и </span><span title=\"135 0.1726\" style=\"background-color:#cedaeb\">ордена </span><span title=\"136 0.1465\" style=\"background-color:#cad8ef\">Трудового </span><span title=\"137 0.1332\" style=\"background-color:#c7d7f0\">Красного </span><span title=\"138 0.1467\" style=\"background-color:#cad8ef\">Знамени </span><span title=\"139 0.1480\" style=\"background-color:#cad8ef\">нефтеперерабатывающего </span><span title=\"140 0.2096\" style=\"background-color:#d6dce4\">завода </span><span title=\"141 0.2244\" style=\"background-color:#d8dce2\">Минтопэнерго </span><span title=\"142 0.1652\" style=\"background-color:#cdd9ec\">России </span><span title=\"143 0.1787\" style=\"background-color:#cfdaea\">в </span><span title=\"144 0.1671\" style=\"background-color:#cdd9ec\">отношении </span><span title=\"145 0.1589\" style=\"background-color:#ccd9ed\">всех </span><span title=\"146 0.1437\" style=\"background-color:#c9d7f0\">имущественных </span><span title=\"147 0.0973\" style=\"background-color:#bfd3f6\">и </span><span title=\"148 0.1254\" style=\"background-color:#c5d6f2\">иных </span><span title=\"149 0.1335\" style=\"background-color:#c7d7f0\">прав </span><span title=\"150 0.1170\" style=\"background-color:#c4d5f3\">и </span><span title=\"151 0.1479\" style=\"background-color:#cad8ef\">обязанностей </span><span title=\"152 0.2066\" style=\"background-color:#d5dbe5\">. </span><span title=\"153 0.1846\" style=\"background-color:#d1dae9\">\n",
              " </span><br><span title=\"154 0.2014\" style=\"background-color:#d4dbe6\">1.5 </span><span title=\"155 0.3513\" style=\"background-color:#edd2c3\">. </span><span title=\"156 0.3812\" style=\"background-color:#f0cdbb\">Правовое </span><span title=\"157 0.4275\" style=\"background-color:#f4c6af\">положение </span><span title=\"158 0.3744\" style=\"background-color:#efcebd\">Общества </span><span title=\"159 0.2598\" style=\"background-color:#dedcdb\">, </span><span title=\"160 0.2311\" style=\"background-color:#d9dce1\">права </span><span title=\"161 0.2025\" style=\"background-color:#d4dbe6\">и </span><span title=\"162 0.1714\" style=\"background-color:#cedaeb\">обязанности </span><span title=\"163 0.2396\" style=\"background-color:#dbdcde\">его </span><span title=\"164 0.2716\" style=\"background-color:#e0dbd8\">акционеров </span><span title=\"165 0.2000\" style=\"background-color:#d4dbe6\">определяются </span><span title=\"166 0.2128\" style=\"background-color:#d6dce4\">Гражданским </span><span title=\"167 0.2170\" style=\"background-color:#d7dce3\">кодексом </span><span title=\"168 0.1934\" style=\"background-color:#d3dbe7\">Российской </span><span title=\"169 0.1983\" style=\"background-color:#d4dbe6\">Федерации </span><span title=\"170 0.1599\" style=\"background-color:#ccd9ed\">, </span><span title=\"171 0.1640\" style=\"background-color:#cdd9ec\">Федеральным </span><span title=\"172 0.1497\" style=\"background-color:#cad8ef\">законом </span><span title=\"173 0.1192\" style=\"background-color:#c4d5f3\">от </span><span title=\"174 0.1566\" style=\"background-color:#ccd9ed\">26-12-1995 </span><span title=\"175 0.1884\" style=\"background-color:#d2dbe8\">№208-ФЗ </span><span title=\"176 0.1989\" style=\"background-color:#d4dbe6\">« </span><span title=\"177 0.4206\" style=\"background-color:#f3c7b1\">Об </span><span title=\"178 0.5217\" style=\"background-color:#f7b396\">акционерных </span><span title=\"179 0.3400\" style=\"background-color:#ebd3c6\">обществах </span><span title=\"180 0.1804\" style=\"background-color:#d1dae9\">» </span><span title=\"181 0.1844\" style=\"background-color:#d1dae9\">( </span><span title=\"182 0.1954\" style=\"background-color:#d3dbe7\">далее </span><span title=\"183 0.2054\" style=\"background-color:#d5dbe5\">– </span><span title=\"184 0.2274\" style=\"background-color:#d9dce1\">« </span><span title=\"185 0.1997\" style=\"background-color:#d4dbe6\">Закон </span><span title=\"186 0.1757\" style=\"background-color:#cfdaea\">» </span><span title=\"187 0.1691\" style=\"background-color:#cedaeb\">) </span><span title=\"188 0.1271\" style=\"background-color:#c6d6f1\">, </span><span title=\"189 0.0950\" style=\"background-color:#bfd3f6\">другими </span><span title=\"190 0.1150\" style=\"background-color:#c3d5f4\">правовыми </span><span title=\"191 0.1472\" style=\"background-color:#cad8ef\">актами </span><span title=\"192 0.1796\" style=\"background-color:#cfdaea\">Российской </span><span title=\"193 0.2077\" style=\"background-color:#d5dbe5\">Федерации </span><span title=\"194 0.1835\" style=\"background-color:#d1dae9\">( </span><span title=\"195 0.1935\" style=\"background-color:#d3dbe7\">далее </span><span title=\"196 0.2257\" style=\"background-color:#d8dce2\">– </span><span title=\"197 0.3337\" style=\"background-color:#ead4c8\">« </span><span title=\"198 0.2906\" style=\"background-color:#e3d9d3\">законодательство </span><span title=\"199 0.1701\" style=\"background-color:#cedaeb\">» </span><span title=\"200 0.1466\" style=\"background-color:#cad8ef\">) </span><span title=\"201 0.1573\" style=\"background-color:#ccd9ed\">и </span><span title=\"202 0.2217\" style=\"background-color:#d8dce2\">настоящим </span><span title=\"203 0.2452\" style=\"background-color:#dcdddd\">Уставом </span><span title=\"204 0.2012\" style=\"background-color:#d4dbe6\">. </span><span title=\"205 0.1643\" style=\"background-color:#cdd9ec\">\n",
              " </span><br><span title=\"206 0.1658\" style=\"background-color:#cdd9ec\">1.6 </span><span title=\"207 0.1566\" style=\"background-color:#ccd9ed\">. </span><span title=\"208 0.1256\" style=\"background-color:#c5d6f2\">Срок </span><span title=\"209 0.2447\" style=\"background-color:#dcdddd\">деятельности </span><span title=\"210 0.2437\" style=\"background-color:#dbdcde\">Общества </span><span title=\"211 0.0993\" style=\"background-color:#c0d4f5\">не </span><span title=\"212 0.1437\" style=\"background-color:#c9d7f0\">ограничен </span><span title=\"213 0.2128\" style=\"background-color:#d6dce4\">. </span><span title=\"214 0.1968\" style=\"background-color:#d3dbe7\">\n",
              " </span><br><span title=\"215 0.1829\" style=\"background-color:#d1dae9\">\n",
              " </span><br></div> </div><hr style=\"margin-top: 45px\"><h2 style=\"color:orange; padding:0; margin:0\">Общее собрание участников/акционеров</h2><div style=\"margin-left:2em\"><h3 style=\"margin:0\">Компетенции (и пороговые суммы):</h3><br><div style=\"border-bottom:1px solid #ccc; margin-top:1em\"></div><h4 style=\"margin:0\">Сделки с имуществом <sup>confidence=0.971</h4><b style=\"color:#993300\"> &gt;  RUB    10,000,000,000.00</b> <b style=\"color:#993300\"> &gt;  RUB    10,000,000,000.00</b> <div style=\"margin-left:2em\"><div style=\"margin-top:0.2em; margin-left:2em; font-size:14px\">\"...<span style=\"background:rgb(127,135,185)\">принятие </span><span style=\"background:rgb(155,171,219)\">решений </span><span style=\"background:rgb(117,116,151)\">о </span><span style=\"background:rgb(133,128,179)\">совершении </span><span style=\"background:rgb(164,185,254)\">сделок </span><span style=\"background:rgb(125,127,165)\">( </span><span style=\"background:rgb(137,123,184)\">в </span><span style=\"background:rgb(120,114,160)\">том </span><span style=\"background:rgb(118,121,164)\">числе </span><span style=\"background:rgb(160,144,230)\">нескольких </span><span style=\"background:rgb(172,149,240)\">взаимосвязанных </span><span style=\"background:rgb(255,165,255)\">сделок </span><span style=\"background:rgb(140,159,207)\">) </span><span style=\"background:rgb(115,127,164)\">на </span><span style=\"background:rgb(255,137,232)\">сумму </span><span style=\"background:rgb(127,116,172)\">, </span><span style=\"background:rgb(122,110,165)\">превышающую </span><span style=\"background:rgb(120,130,172)\">10 </span><span style=\"background:rgb(115,117,151)\">000 </span><span style=\"background:rgb(122,123,161)\">000000 </span><span style=\"background:rgb(124,118,155)\">( </span><span style=\"background:rgb(121,122,184)\">десять </span><span style=\"background:rgb(128,125,178)\">миллиардов </span><span style=\"background:rgb(122,125,161)\">) </span><span style=\"background:rgb(140,155,201)\">рублей </span><span style=\"background:rgb(119,119,152)\">( </span><span style=\"background:rgb(121,123,163)\">или </span><span style=\"background:rgb(110,128,175)\">эквивалент </span><span style=\"background:rgb(127,155,190)\">указанной </span><span style=\"background:rgb(138,154,219)\">суммы </span><span style=\"background:rgb(119,121,171)\">в </span><span style=\"background:rgb(105,138,166)\">любой </span><span style=\"background:rgb(103,139,163)\">другой </span><span style=\"background:rgb(114,138,201)\">валюте </span><span style=\"background:rgb(127,147,189)\">) </span><span style=\"background:rgb(126,140,178)\">, </span><span style=\"background:rgb(124,123,161)\">и </span><span style=\"background:rgb(161,175,245)\">сделок </span><span style=\"background:rgb(126,136,176)\">( </span><span style=\"background:rgb(138,127,190)\">в </span><span style=\"background:rgb(115,115,157)\">том </span><span style=\"background:rgb(118,121,167)\">числе </span><span style=\"background:rgb(159,147,233)\">нескольких </span><span style=\"background:rgb(171,154,246)\">взаимосвязанных </span><span style=\"background:rgb(255,171,255)\">сделок </span><span style=\"background:rgb(132,151,199)\">) </span><span style=\"background:rgb(111,132,167)\">с </span><span style=\"background:rgb(224,228,255)\">имуществом </span><span style=\"background:rgb(145,151,224)\">общества </span><span style=\"background:rgb(123,140,186)\">, </span><span style=\"background:rgb(157,126,231)\">стоимость </span><span style=\"background:rgb(171,134,226)\">которого </span><span style=\"background:rgb(123,114,170)\">на </span><span style=\"background:rgb(116,119,164)\">основании </span><span style=\"background:rgb(150,135,211)\">данных </span><span style=\"background:rgb(128,147,171)\">бухгалтерской </span><span style=\"background:rgb(114,124,147)\">( </span><span style=\"background:rgb(127,136,176)\">финансовой </span><span style=\"background:rgb(126,133,167)\">) </span><span style=\"background:rgb(165,140,229)\">отчетности </span><span style=\"background:rgb(158,138,219)\">общества </span><span style=\"background:rgb(122,116,176)\">на </span><span style=\"background:rgb(106,129,168)\">последнюю </span><span style=\"background:rgb(111,135,169)\">отчетную </span><span style=\"background:rgb(132,128,201)\">дату </span><span style=\"background:rgb(135,125,184)\">, </span><span style=\"background:rgb(115,106,155)\">предшествующую </span><span style=\"background:rgb(118,116,163)\">дню </span><span style=\"background:rgb(142,141,192)\">принятия </span><span style=\"background:rgb(161,140,224)\">решения </span><span style=\"background:rgb(116,121,159)\">о </span><span style=\"background:rgb(126,132,180)\">совершении </span><span style=\"background:rgb(159,126,204)\">таких </span><span style=\"background:rgb(176,171,255)\">сделок </span><span style=\"background:rgb(255,140,224)\">, </span><span style=\"background:rgb(255,119,192)\">превышает </span><span style=\"background:rgb(121,129,174)\">10 </span><span style=\"background:rgb(119,122,162)\">000 </span><span style=\"background:rgb(116,121,155)\">000 </span><span style=\"background:rgb(114,118,149)\">000 </span><span style=\"background:rgb(121,116,150)\">( </span><span style=\"background:rgb(119,118,178)\">десять </span><span style=\"background:rgb(129,124,179)\">миллиардов </span><span style=\"background:rgb(118,120,154)\">) </span><span style=\"background:rgb(141,150,202)\">рублей </span><span style=\"background:rgb(120,122,156)\">( </span><span style=\"background:rgb(126,130,173)\">или </span><span style=\"background:rgb(110,128,177)\">эквивалент </span><span style=\"background:rgb(126,155,188)\">указанной </span><span style=\"background:rgb(136,151,218)\">суммы </span><span style=\"background:rgb(116,121,168)\">в </span><span style=\"background:rgb(103,137,163)\">любой </span><span style=\"background:rgb(100,137,159)\">другой </span><span style=\"background:rgb(114,135,198)\">валюте </span><span style=\"background:rgb(127,137,186)\">) </span><span style=\"background:rgb(129,143,190)\">, </span><span style=\"background:rgb(124,117,171)\">за </span><span style=\"background:rgb(112,109,147)\">исключением </span><span style=\"background:rgb(166,178,255)\">сделок </span><span style=\"background:rgb(124,127,172)\">, </span><span style=\"background:rgb(137,137,201)\">совершаемых </span><span style=\"background:rgb(115,125,169)\">в </span><span style=\"background:rgb(125,118,170)\">процессе </span><span style=\"background:rgb(124,167,177)\">обычной </span><span style=\"background:rgb(139,162,192)\">хозяйственной </span><span style=\"background:rgb(142,147,219)\">деятельности </span><span style=\"background:rgb(138,148,209)\">общества </span><span style=\"background:rgb(132,144,199)\">, </span><span style=\"background:rgb(130,129,185)\">а </span><span style=\"background:rgb(125,141,190)\">также </span><span style=\"background:rgb(123,126,179)\">за </span><span style=\"background:rgb(114,119,157)\">исключением </span><span style=\"background:rgb(162,179,255)\">сделок </span><span style=\"background:rgb(113,135,174)\">с </span><span style=\"background:rgb(124,152,200)\">пао </span><span style=\"background:rgb(116,136,179)\">« </span><span style=\"background:rgb(118,137,196)\">газпром </span><span style=\"background:rgb(123,133,229)\">нефть </span><span style=\"background:rgb(124,122,171)\">» </span><span style=\"background:rgb(109,113,149)\">и </span><span style=\"background:rgb(122,130,188)\">обществами </span><span style=\"background:rgb(117,123,167)\">, </span><span style=\"background:rgb(127,125,189)\">входящими </span><span style=\"background:rgb(103,115,149)\">в </span><span style=\"background:rgb(116,129,194)\">группу </span><span style=\"background:rgb(132,142,212)\">лиц </span><span style=\"background:rgb(114,122,166)\">с </span><span style=\"background:rgb(136,132,204)\">ним </span><span style=\"background:rgb(138,146,207)\">, </span><span style=\"background:rgb(133,133,191)\">когда </span><span style=\"background:rgb(122,127,182)\">такая </span><span style=\"background:rgb(154,157,244)\">сделка </span><span style=\"background:rgb(122,130,176)\">или </span><span style=\"background:rgb(139,139,208)\">несколько </span><span style=\"background:rgb(175,155,238)\">взаимосвязанных </span><span style=\"background:rgb(171,180,255)\">сделок </span><span style=\"background:rgb(130,141,195)\">является </span><span style=\"background:rgb(124,126,171)\">( </span><span style=\"background:rgb(122,124,179)\">-ются </span><span style=\"background:rgb(120,123,168)\">) </span><span style=\"background:rgb(140,151,216)\">сделкой </span><span style=\"background:rgb(120,131,168)\">, </span><span style=\"background:rgb(131,116,174)\">в </span><span style=\"background:rgb(129,124,172)\">совершении </span><span style=\"background:rgb(131,125,176)\">которой </span><span style=\"background:rgb(115,120,173)\">имеется </span><span style=\"background:rgb(141,142,238)\">заинтересованность </span><span style=\"background:rgb(124,137,174)\">; </span> ...\"</div></div></div><hr style=\"margin-top: 45px\"><h2 style=\"color:crimson; padding:0; margin:0\">Совет директоров</h2><div style=\"margin-left:2em\"><h3 style=\"margin:0\">Компетенции (и пороговые суммы):</h3><br><div style=\"border-bottom:1px solid #ccc; margin-top:1em\"></div><h4 style=\"margin:0\">Благотворительность <sup>confidence=0.969</h4><div style=\"margin-left:2em\"><div style=\"margin-top:0.2em; margin-left:2em; font-size:14px\">\"...<span style=\"background:rgb(112,120,164)\">25 </span><span style=\"background:rgb(113,112,155)\">) </span><span style=\"background:rgb(130,128,190)\">принятие </span><span style=\"background:rgb(148,167,215)\">решений </span><span style=\"background:rgb(121,125,166)\">о </span><span style=\"background:rgb(140,139,198)\">совершении </span><span style=\"background:rgb(161,185,254)\">сделок </span><span style=\"background:rgb(143,255,255)\">мены </span><span style=\"background:rgb(119,129,161)\">, </span><span style=\"background:rgb(138,255,255)\">дарения </span><span style=\"background:rgb(120,138,175)\">, </span><span style=\"background:rgb(160,140,213)\">иных </span><span style=\"background:rgb(162,226,255)\">сделок </span><span style=\"background:rgb(132,132,183)\">, </span><span style=\"background:rgb(131,138,193)\">предусматривающих </span><span style=\"background:rgb(121,190,210)\">безвозмездное </span><span style=\"background:rgb(137,150,238)\">отчуждение </span><span style=\"background:rgb(152,185,255)\">имущества </span><span style=\"background:rgb(127,148,207)\">общества </span><span style=\"background:rgb(117,136,180)\">либо </span><span style=\"background:rgb(122,152,214)\">оплату </span><span style=\"background:rgb(126,137,185)\">( </span><span style=\"background:rgb(138,125,208)\">встречное </span><span style=\"background:rgb(122,158,208)\">предоставление </span><span style=\"background:rgb(120,145,180)\">) </span><span style=\"background:rgb(111,128,169)\">в </span><span style=\"background:rgb(116,168,183)\">неденежной </span><span style=\"background:rgb(114,151,179)\">форме </span><span style=\"background:rgb(115,138,174)\">, </span><span style=\"background:rgb(105,120,157)\">за </span><span style=\"background:rgb(113,120,161)\">исключением </span><span style=\"background:rgb(157,182,255)\">сделок </span><span style=\"background:rgb(97,131,156)\">с </span><span style=\"background:rgb(99,129,168)\">пао </span><span style=\"background:rgb(109,129,170)\">« </span><span style=\"background:rgb(112,134,190)\">газпром </span><span style=\"background:rgb(107,132,214)\">нефть </span><span style=\"background:rgb(98,114,140)\">» </span><span style=\"background:rgb(96,108,130)\">и </span><span style=\"background:rgb(112,127,176)\">обществами </span><span style=\"background:rgb(102,117,147)\">, </span><span style=\"background:rgb(116,118,175)\">входящими </span><span style=\"background:rgb(97,118,144)\">в </span><span style=\"background:rgb(112,121,188)\">группу </span><span style=\"background:rgb(129,141,204)\">лиц </span><span style=\"background:rgb(96,110,134)\">с </span><span style=\"background:rgb(112,121,170)\">ним </span><span style=\"background:rgb(108,114,142)\">; </span> ...\"</div></div><br><div style=\"border-bottom:1px solid #ccc; margin-top:1em\"></div><h4 style=\"margin:0\">Сделки с имуществом <sup>confidence=0.969</h4><b style=\"color:#993300\"> &gt;  RUB        25,000,000.00</b> <b style=\"color:#009933\"> &lt;  RUB    10,000,000,000.00</b> <b style=\"color:#993300\"> &gt;  RUB        25,000,000.00</b> <b style=\"color:#009933\"> &lt;  RUB    10,000,000,000.00</b> <div style=\"margin-left:2em\"><div style=\"margin-top:0.2em; margin-left:2em; font-size:14px\">\"...<span style=\"background:rgb(112,128,166)\">16 </span><span style=\"background:rgb(112,117,158)\">) </span><span style=\"background:rgb(129,120,181)\">принятие </span><span style=\"background:rgb(139,152,196)\">решений </span><span style=\"background:rgb(121,115,154)\">о </span><span style=\"background:rgb(129,127,177)\">совершении </span><span style=\"background:rgb(147,170,231)\">сделок </span><span style=\"background:rgb(125,129,166)\">( </span><span style=\"background:rgb(124,121,170)\">в </span><span style=\"background:rgb(118,112,157)\">том </span><span style=\"background:rgb(106,120,152)\">числе </span><span style=\"background:rgb(154,142,224)\">нескольких </span><span style=\"background:rgb(167,140,236)\">взаимосвязанных </span><span style=\"background:rgb(151,156,239)\">сделок </span><span style=\"background:rgb(121,140,182)\">) </span><span style=\"background:rgb(97,117,141)\">на </span><span style=\"background:rgb(109,128,182)\">сумму </span><span style=\"background:rgb(101,120,151)\">свыше </span><span style=\"background:rgb(118,121,164)\">25 </span><span style=\"background:rgb(113,123,150)\">000000 </span><span style=\"background:rgb(103,113,134)\">( </span><span style=\"background:rgb(116,122,172)\">двадцати </span><span style=\"background:rgb(122,124,176)\">пяти </span><span style=\"background:rgb(113,121,160)\">миллионов </span><span style=\"background:rgb(112,127,156)\">) </span><span style=\"background:rgb(112,150,172)\">рублей </span><span style=\"background:rgb(106,129,149)\">( </span><span style=\"background:rgb(103,127,146)\">или </span><span style=\"background:rgb(90,126,154)\">эквивалент </span><span style=\"background:rgb(102,157,167)\">указанной </span><span style=\"background:rgb(112,152,190)\">суммы </span><span style=\"background:rgb(102,125,154)\">в </span><span style=\"background:rgb(99,137,157)\">любой </span><span style=\"background:rgb(98,139,159)\">другой </span><span style=\"background:rgb(102,133,183)\">валюте </span><span style=\"background:rgb(255,143,204)\">) </span><span style=\"background:rgb(105,131,157)\">, </span><span style=\"background:rgb(255,123,176)\">но </span><span style=\"background:rgb(103,118,150)\">не </span><span style=\"background:rgb(97,106,139)\">превышающую </span><span style=\"background:rgb(112,124,158)\">10 </span><span style=\"background:rgb(111,114,141)\">000 </span><span style=\"background:rgb(105,114,133)\">000 </span><span style=\"background:rgb(106,115,131)\">000 </span><span style=\"background:rgb(99,109,122)\">( </span><span style=\"background:rgb(116,119,165)\">десяти </span><span style=\"background:rgb(112,119,159)\">миллиардов </span><span style=\"background:rgb(111,118,145)\">) </span><span style=\"background:rgb(114,145,169)\">рублей </span><span style=\"background:rgb(106,121,137)\">( </span><span style=\"background:rgb(101,125,143)\">или </span><span style=\"background:rgb(90,128,152)\">эквивалент </span><span style=\"background:rgb(101,155,161)\">указанной </span><span style=\"background:rgb(112,153,191)\">суммы </span><span style=\"background:rgb(104,124,153)\">в </span><span style=\"background:rgb(102,140,163)\">любой </span><span style=\"background:rgb(100,141,161)\">другой </span><span style=\"background:rgb(108,134,189)\">валюте </span><span style=\"background:rgb(122,145,182)\">) </span><span style=\"background:rgb(113,135,162)\">, </span><span style=\"background:rgb(107,123,145)\">и </span><span style=\"background:rgb(151,174,234)\">сделок </span><span style=\"background:rgb(124,136,174)\">( </span><span style=\"background:rgb(121,127,173)\">в </span><span style=\"background:rgb(116,112,155)\">том </span><span style=\"background:rgb(108,119,155)\">числе </span><span style=\"background:rgb(157,146,229)\">нескольких </span><span style=\"background:rgb(169,142,239)\">взаимосвязанных </span><span style=\"background:rgb(153,168,247)\">сделок </span><span style=\"background:rgb(116,140,176)\">) </span><span style=\"background:rgb(103,126,155)\">с </span><span style=\"background:rgb(199,227,255)\">имуществом </span><span style=\"background:rgb(117,144,191)\">общества </span><span style=\"background:rgb(98,135,157)\">, </span><span style=\"background:rgb(112,119,181)\">стоимость </span><span style=\"background:rgb(113,131,163)\">которого </span><span style=\"background:rgb(99,114,143)\">на </span><span style=\"background:rgb(111,118,156)\">основании </span><span style=\"background:rgb(135,131,191)\">данных </span><span style=\"background:rgb(128,145,169)\">бухгалтерской </span><span style=\"background:rgb(114,123,146)\">( </span><span style=\"background:rgb(126,134,175)\">финансовой </span><span style=\"background:rgb(124,132,164)\">) </span><span style=\"background:rgb(119,138,179)\">отчетности </span><span style=\"background:rgb(115,134,172)\">общества </span><span style=\"background:rgb(96,115,145)\">на </span><span style=\"background:rgb(104,123,159)\">последнюю </span><span style=\"background:rgb(108,132,163)\">отчетную </span><span style=\"background:rgb(102,121,163)\">дату </span><span style=\"background:rgb(110,115,154)\">, </span><span style=\"background:rgb(112,103,150)\">предшествующую </span><span style=\"background:rgb(108,115,150)\">дню </span><span style=\"background:rgb(132,125,173)\">принятия </span><span style=\"background:rgb(122,134,180)\">решения </span><span style=\"background:rgb(114,118,153)\">о </span><span style=\"background:rgb(125,130,176)\">совершении </span><span style=\"background:rgb(155,124,201)\">таких </span><span style=\"background:rgb(143,165,227)\">сделок </span><span style=\"background:rgb(106,130,155)\">, </span><span style=\"background:rgb(255,115,158)\">превышает </span><span style=\"background:rgb(114,114,155)\">25 </span><span style=\"background:rgb(111,110,143)\">000 </span><span style=\"background:rgb(108,111,135)\">000 </span><span style=\"background:rgb(101,106,122)\">( </span><span style=\"background:rgb(102,105,149)\">двадцать </span><span style=\"background:rgb(109,108,157)\">пять </span><span style=\"background:rgb(113,111,153)\">миллионов </span><span style=\"background:rgb(106,116,138)\">) </span><span style=\"background:rgb(109,139,159)\">рублей </span><span style=\"background:rgb(105,125,139)\">( </span><span style=\"background:rgb(101,127,141)\">или </span><span style=\"background:rgb(89,124,148)\">эквивалент </span><span style=\"background:rgb(99,149,155)\">указанной </span><span style=\"background:rgb(110,146,183)\">суммы </span><span style=\"background:rgb(99,117,143)\">в </span><span style=\"background:rgb(96,132,149)\">любой </span><span style=\"background:rgb(95,133,149)\">другой </span><span style=\"background:rgb(104,129,179)\">валюте </span><span style=\"background:rgb(255,135,184)\">) </span><span style=\"background:rgb(105,136,156)\">, </span><span style=\"background:rgb(255,129,179)\">но </span><span style=\"background:rgb(99,125,146)\">не </span><span style=\"background:rgb(255,118,172)\">превышает </span><span style=\"background:rgb(114,125,161)\">10 </span><span style=\"background:rgb(113,119,148)\">000 </span><span style=\"background:rgb(112,124,150)\">000000 </span><span style=\"background:rgb(101,115,131)\">( </span><span style=\"background:rgb(118,128,171)\">десяти </span><span style=\"background:rgb(118,124,168)\">миллиардов </span><span style=\"background:rgb(112,120,147)\">) </span><span style=\"background:rgb(117,146,176)\">рублей </span><span style=\"background:rgb(104,118,137)\">( </span><span style=\"background:rgb(104,127,148)\">или </span><span style=\"background:rgb(93,126,157)\">эквивалент </span><span style=\"background:rgb(101,154,162)\">указанной </span><span style=\"background:rgb(111,149,190)\">суммы </span><span style=\"background:rgb(100,121,149)\">в </span><span style=\"background:rgb(100,137,160)\">любой </span><span style=\"background:rgb(98,138,157)\">другой </span><span style=\"background:rgb(108,131,186)\">валюте </span><span style=\"background:rgb(116,128,168)\">) </span><span style=\"background:rgb(112,135,166)\">, </span><span style=\"background:rgb(105,112,147)\">за </span><span style=\"background:rgb(111,107,145)\">исключением </span><span style=\"background:rgb(156,173,251)\">сделок </span><span style=\"background:rgb(126,124,171)\">, </span><span style=\"background:rgb(136,138,197)\">совершаемых </span><span style=\"background:rgb(116,122,165)\">в </span><span style=\"background:rgb(124,117,168)\">процессе </span><span style=\"background:rgb(122,164,173)\">обычной </span><span style=\"background:rgb(137,159,189)\">хозяйственной </span><span style=\"background:rgb(133,147,211)\">деятельности </span><span style=\"background:rgb(115,144,185)\">общества </span><span style=\"background:rgb(108,139,167)\">, </span><span style=\"background:rgb(153,173,245)\">сделок </span><span style=\"background:rgb(95,125,149)\">с </span><span style=\"background:rgb(100,129,168)\">пао </span><span style=\"background:rgb(108,124,163)\">« </span><span style=\"background:rgb(107,124,174)\">газпром </span><span style=\"background:rgb(101,128,198)\">нефть </span><span style=\"background:rgb(92,109,129)\">» </span><span style=\"background:rgb(94,105,125)\">и </span><span style=\"background:rgb(108,126,167)\">обществами </span><span style=\"background:rgb(104,122,153)\">, </span><span style=\"background:rgb(113,115,172)\">входящими </span><span style=\"background:rgb(97,110,138)\">в </span><span style=\"background:rgb(112,119,182)\">группу </span><span style=\"background:rgb(125,136,197)\">лиц </span><span style=\"background:rgb(99,111,140)\">с </span><span style=\"background:rgb(117,128,181)\">ним </span><span style=\"background:rgb(121,141,183)\">, </span><span style=\"background:rgb(114,118,161)\">а </span><span style=\"background:rgb(110,133,167)\">также </span><span style=\"background:rgb(104,123,154)\">за </span><span style=\"background:rgb(108,108,142)\">исключением </span><span style=\"background:rgb(140,133,187)\">случаев </span><span style=\"background:rgb(123,119,162)\">, </span><span style=\"background:rgb(119,127,169)\">когда </span><span style=\"background:rgb(133,143,198)\">одобрение </span><span style=\"background:rgb(168,133,217)\">указанных </span><span style=\"background:rgb(154,178,238)\">сделок </span><span style=\"background:rgb(122,131,178)\">относится </span><span style=\"background:rgb(113,123,156)\">к </span><span style=\"background:rgb(131,132,183)\">компетенции </span><span style=\"background:rgb(115,126,145)\">общего </span><span style=\"background:rgb(131,129,184)\">собрания </span><span style=\"background:rgb(134,145,208)\">акционеров </span><span style=\"background:rgb(120,140,185)\">общества </span><span style=\"background:rgb(115,136,170)\">, </span><span style=\"background:rgb(119,117,160)\">а </span><span style=\"background:rgb(119,138,175)\">также </span><span style=\"background:rgb(107,124,155)\">за </span><span style=\"background:rgb(115,111,154)\">исключением </span><span style=\"background:rgb(156,167,247)\">сделок </span><span style=\"background:rgb(128,119,165)\">, </span><span style=\"background:rgb(132,127,183)\">указанных </span><span style=\"background:rgb(111,119,144)\">в </span><span style=\"background:rgb(86,103,103)\">подпункте </span><span style=\"background:rgb(97,111,127)\">33 </span><span style=\"background:rgb(92,111,112)\">пункта </span><span style=\"background:rgb(97,115,123)\">17.1 </span><span style=\"background:rgb(101,104,119)\">статьи </span><span style=\"background:rgb(108,111,142)\">17 </span><span style=\"background:rgb(111,128,142)\">настоящего </span><span style=\"background:rgb(108,127,158)\">устава </span><span style=\"background:rgb(106,114,139)\">; </span> ...\"</div></div><br><div style=\"border-bottom:1px solid #ccc; margin-top:1em\"></div><h4 style=\"margin:0\">Судебные споры <sup>confidence=0.969</h4><b style=\"color:#993300\"> &gt;  RUB        50,000,000.00</b> <b style=\"color:#993300\"> &gt;  RUB        50,000,000.00</b> <b style=\"color:#993300\"> &gt;  RUB        50,000,000.00</b> <div style=\"margin-left:2em\"><div style=\"margin-top:0.2em; margin-left:2em; font-size:14px\">\"...<span style=\"background:rgb(98,115,141)\">31 </span><span style=\"background:rgb(110,111,146)\">) </span><span style=\"background:rgb(126,121,178)\">принятие </span><span style=\"background:rgb(126,149,182)\">решения </span><span style=\"background:rgb(113,117,151)\">о </span><span style=\"background:rgb(130,124,175)\">заключении </span><span style=\"background:rgb(126,130,172)\">обществом </span><span style=\"background:rgb(136,149,178)\">мирового </span><span style=\"background:rgb(146,140,202)\">соглашения </span><span style=\"background:rgb(129,117,171)\">по </span><span style=\"background:rgb(203,115,242)\">судебному </span><span style=\"background:rgb(142,129,209)\">делу </span><span style=\"background:rgb(123,123,171)\">с </span><span style=\"background:rgb(119,133,171)\">ценой </span><span style=\"background:rgb(255,159,255)\">иска </span><span style=\"background:rgb(98,118,145)\">на </span><span style=\"background:rgb(110,129,187)\">сумму </span><span style=\"background:rgb(101,123,153)\">свыше </span><span style=\"background:rgb(120,131,177)\">50 </span><span style=\"background:rgb(115,119,153)\">000 </span><span style=\"background:rgb(115,121,150)\">000 </span><span style=\"background:rgb(103,115,135)\">( </span><span style=\"background:rgb(116,125,172)\">пятидесяти </span><span style=\"background:rgb(111,117,159)\">миллионов </span><span style=\"background:rgb(116,120,155)\">) </span><span style=\"background:rgb(120,145,181)\">рублей </span><span style=\"background:rgb(118,127,168)\">без </span><span style=\"background:rgb(127,126,171)\">учета </span><span style=\"background:rgb(119,130,179)\">ндс </span><span style=\"background:rgb(124,126,171)\">или </span><span style=\"background:rgb(106,132,161)\">эквивалента </span><span style=\"background:rgb(110,158,165)\">указанной </span><span style=\"background:rgb(120,153,191)\">суммы </span><span style=\"background:rgb(117,129,173)\">в </span><span style=\"background:rgb(105,139,159)\">любой </span><span style=\"background:rgb(102,143,155)\">другой </span><span style=\"background:rgb(112,140,192)\">валюте </span><span style=\"background:rgb(113,131,165)\">( </span><span style=\"background:rgb(103,125,150)\">либо </span><span style=\"background:rgb(113,115,161)\">предметом </span><span style=\"background:rgb(109,131,161)\">которого </span><span style=\"background:rgb(108,125,167)\">является </span><span style=\"background:rgb(130,166,255)\">имущество </span><span style=\"background:rgb(101,124,157)\">, </span><span style=\"background:rgb(117,121,196)\">стоимость </span><span style=\"background:rgb(120,133,182)\">которого </span><span style=\"background:rgb(255,114,175)\">превышает </span><span style=\"background:rgb(130,139,202)\">50000000 </span><span style=\"background:rgb(113,124,160)\">( </span><span style=\"background:rgb(113,124,182)\">пятьдесят </span><span style=\"background:rgb(113,123,164)\">миллионов </span><span style=\"background:rgb(120,125,167)\">) </span><span style=\"background:rgb(124,152,195)\">рублей </span><span style=\"background:rgb(121,133,178)\">без </span><span style=\"background:rgb(126,129,174)\">учета </span><span style=\"background:rgb(129,130,192)\">ндс </span><span style=\"background:rgb(127,129,178)\">, </span><span style=\"background:rgb(124,126,172)\">и/или </span><span style=\"background:rgb(139,153,189)\">мирового </span><span style=\"background:rgb(140,135,196)\">соглашения </span><span style=\"background:rgb(122,126,172)\">, </span><span style=\"background:rgb(130,129,184)\">предполагающего </span><span style=\"background:rgb(122,142,204)\">выплату </span><span style=\"background:rgb(148,140,206)\">денежных </span><span style=\"background:rgb(135,180,224)\">средств </span><span style=\"background:rgb(126,141,184)\">, </span><span style=\"background:rgb(124,142,215)\">передачу </span><span style=\"background:rgb(150,178,255)\">имущества </span><span style=\"background:rgb(130,149,209)\">общества </span><span style=\"background:rgb(120,139,179)\">либо </span><span style=\"background:rgb(122,150,207)\">уменьшение/зачет </span><span style=\"background:rgb(143,172,225)\">сумм </span><span style=\"background:rgb(119,142,175)\">, </span><span style=\"background:rgb(120,148,186)\">причитающихся </span><span style=\"background:rgb(112,119,162)\">в </span><span style=\"background:rgb(108,126,180)\">пользу </span><span style=\"background:rgb(126,141,194)\">общества </span><span style=\"background:rgb(115,146,186)\">, </span><span style=\"background:rgb(103,122,156)\">на </span><span style=\"background:rgb(113,131,192)\">сумму </span><span style=\"background:rgb(102,127,157)\">свыше </span><span style=\"background:rgb(108,155,166)\">денежной </span><span style=\"background:rgb(118,160,197)\">суммы </span><span style=\"background:rgb(100,125,146)\">, </span><span style=\"background:rgb(97,134,144)\">эквивалентной </span><span style=\"background:rgb(112,134,165)\">50000000 </span><span style=\"background:rgb(100,111,134)\">( </span><span style=\"background:rgb(105,117,156)\">пятидесяти </span><span style=\"background:rgb(102,109,146)\">миллионам </span><span style=\"background:rgb(111,121,156)\">) </span><span style=\"background:rgb(108,120,156)\">без </span><span style=\"background:rgb(125,130,173)\">учета </span><span style=\"background:rgb(124,135,188)\">ндс </span><span style=\"background:rgb(123,150,192)\">рублей </span><span style=\"background:rgb(110,122,154)\">или </span><span style=\"background:rgb(101,135,163)\">эквивалента </span><span style=\"background:rgb(106,159,165)\">указанной </span><span style=\"background:rgb(120,152,193)\">суммы </span><span style=\"background:rgb(114,128,168)\">в </span><span style=\"background:rgb(106,144,164)\">любой </span><span style=\"background:rgb(103,146,160)\">другой </span><span style=\"background:rgb(112,140,192)\">валюте </span><span style=\"background:rgb(107,128,158)\">и/или </span><span style=\"background:rgb(128,153,178)\">мирового </span><span style=\"background:rgb(130,136,187)\">соглашения </span><span style=\"background:rgb(110,128,160)\">, </span><span style=\"background:rgb(111,114,157)\">предметом </span><span style=\"background:rgb(108,127,160)\">которого </span><span style=\"background:rgb(108,126,170)\">является </span><span style=\"background:rgb(131,166,255)\">имущество </span><span style=\"background:rgb(99,123,152)\">, </span><span style=\"background:rgb(116,124,192)\">стоимость </span><span style=\"background:rgb(118,132,175)\">которого </span><span style=\"background:rgb(100,114,149)\">превышает </span><span style=\"background:rgb(125,134,189)\">50000000 </span><span style=\"background:rgb(109,123,155)\">( </span><span style=\"background:rgb(111,125,180)\">пятьдесят </span><span style=\"background:rgb(111,128,165)\">миллионов </span><span style=\"background:rgb(118,122,158)\">) </span><span style=\"background:rgb(119,151,183)\">рублей </span><span style=\"background:rgb(106,116,138)\">; </span> ...\"</div></div><br><div style=\"border-bottom:1px solid #ccc; margin-top:1em\"></div><h4 style=\"margin:0\">Прочее <sup>confidence=0.001</h4><b style=\"color:#993300\"> &gt;  RUB       500,000,000.00</b> <b style=\"color:#009933\"> &lt;  RUB    10,000,000,000.00</b> <div style=\"margin-left:2em\"><div style=\"margin-top:0.2em; margin-left:2em; font-size:14px\">\"...<span style=\"background:rgb(102,122,149)\">33 </span><span style=\"background:rgb(109,109,148)\">) </span><span style=\"background:rgb(130,125,184)\">принятие </span><span style=\"background:rgb(146,160,205)\">решений </span><span style=\"background:rgb(123,123,162)\">о </span><span style=\"background:rgb(134,135,186)\">совершении </span><span style=\"background:rgb(158,176,246)\">сделок </span><span style=\"background:rgb(132,130,175)\">, </span><span style=\"background:rgb(147,143,209)\">заключаемых </span><span style=\"background:rgb(119,137,176)\">обществом </span><span style=\"background:rgb(113,140,175)\">для </span><span style=\"background:rgb(121,142,173)\">целей </span><span style=\"background:rgb(135,152,199)\">реализации </span><span style=\"background:rgb(152,151,227)\">проектов </span><span style=\"background:rgb(100,132,140)\">по </span><span style=\"background:rgb(132,139,193)\">модернизации </span><span style=\"background:rgb(154,109,194)\">производственных </span><span style=\"background:rgb(127,132,201)\">мощностей </span><span style=\"background:rgb(119,137,180)\">общества </span><span style=\"background:rgb(112,124,165)\">в </span><span style=\"background:rgb(113,117,164)\">период </span><span style=\"background:rgb(134,144,195)\">реализации </span><span style=\"background:rgb(135,132,192)\">проекта </span><span style=\"background:rgb(97,122,130)\">по </span><span style=\"background:rgb(125,122,191)\">строительству </span><span style=\"background:rgb(103,153,146)\">комбинированной </span><span style=\"background:rgb(106,117,151)\">установки </span><span style=\"background:rgb(114,114,154)\">переработки </span><span style=\"background:rgb(114,132,191)\">нефти </span><span style=\"background:rgb(102,111,136)\">, </span><span style=\"background:rgb(131,130,179)\">проекта </span><span style=\"background:rgb(100,120,132)\">по </span><span style=\"background:rgb(119,122,181)\">строительству </span><span style=\"background:rgb(117,113,161)\">комплекса </span><span style=\"background:rgb(103,139,142)\">глубокой </span><span style=\"background:rgb(114,115,158)\">переработки </span><span style=\"background:rgb(110,136,189)\">нефти </span><span style=\"background:rgb(88,103,126)\">на </span><span style=\"background:rgb(105,123,172)\">сумму </span><span style=\"background:rgb(100,117,148)\">свыше </span><span style=\"background:rgb(115,123,162)\">500000000 </span><span style=\"background:rgb(107,114,141)\">( </span><span style=\"background:rgb(114,123,168)\">пятисот </span><span style=\"background:rgb(113,117,158)\">миллионов </span><span style=\"background:rgb(114,115,154)\">) </span><span style=\"background:rgb(120,144,182)\">рублей </span><span style=\"background:rgb(109,123,154)\">( </span><span style=\"background:rgb(104,118,144)\">или </span><span style=\"background:rgb(89,122,151)\">эквивалент </span><span style=\"background:rgb(98,151,155)\">указанной </span><span style=\"background:rgb(111,146,185)\">суммы </span><span style=\"background:rgb(100,121,149)\">в </span><span style=\"background:rgb(97,133,149)\">любой </span><span style=\"background:rgb(95,136,150)\">другой </span><span style=\"background:rgb(105,130,183)\">валюте </span><span style=\"background:rgb(255,139,218)\">) </span><span style=\"background:rgb(109,126,165)\">, </span><span style=\"background:rgb(255,118,181)\">но </span><span style=\"background:rgb(103,116,151)\">не </span><span style=\"background:rgb(100,103,142)\">превышающую </span><span style=\"background:rgb(112,124,160)\">10000000000 </span><span style=\"background:rgb(105,114,137)\">( </span><span style=\"background:rgb(114,120,176)\">десять </span><span style=\"background:rgb(117,127,168)\">миллиардов </span><span style=\"background:rgb(120,119,157)\">) </span><span style=\"background:rgb(122,151,184)\">рублей </span><span style=\"background:rgb(111,123,150)\">( </span><span style=\"background:rgb(105,122,148)\">или </span><span style=\"background:rgb(89,128,155)\">эквивалент </span><span style=\"background:rgb(97,159,157)\">указанной </span><span style=\"background:rgb(110,154,195)\">суммы </span><span style=\"background:rgb(102,129,156)\">в </span><span style=\"background:rgb(98,145,159)\">любой </span><span style=\"background:rgb(94,145,155)\">другой </span><span style=\"background:rgb(109,139,196)\">валюте </span><span style=\"background:rgb(116,127,168)\">) </span><span style=\"background:rgb(107,112,136)\">; </span> ...\"</div></div></div><hr style=\"margin-top: 45px\"><h2 style=\"color:blue; padding:0; margin:0\">Генеральный директор</h2><div style=\"margin-left:2em\"><h3 style=\"margin:0\">Компетенции (и пороговые суммы):</h3><div style=\"color:orange\">⚠️ Ограничения и пороговые суммы не обнаружены или не заданы</div></div><hr style=\"margin-top: 45px\"><h2 style=\"color:#0099cc; padding:0; margin:0\">Правление общества</h2><div style=\"margin-left:2em\"><h3 style=\"margin:0\">Компетенции (и пороговые суммы):</h3><div style=\"color:orange\">⚠️ Ограничения и пороговые суммы не обнаружены или не заданы</div></div>"
            ],
            "text/plain": [
              "<IPython.core.display.HTML object>"
            ]
          },
          "metadata": {
            "tags": [
              "id1_content_1",
              "outputarea_id1",
              "user_output"
            ]
          }
        },
        {
          "output_type": "display_data",
          "data": {
            "text/html": [
              "<h3 style=\"margin:0\">Выявленное Содержание документа</h3><ul><li> УТВЕРЖДЕН. <sup>line 0</sup></li><li> У С Т А В. <sup>line 4</sup></li><li> Статья 1. Общие положения. <sup>line 39</sup></li><li> Статья 2. Фирменное наименование и место нахождения Общества. <sup>line 49</sup></li><li> Статья 3. Юридический статус Общества. <sup>line 56</sup></li><li> Статья 4. Ответственность Общества. <sup>line 72</sup></li><li> Статья 5. Филиалы и представительства, дочерние общества. <sup>line 77</sup></li><li> Статья 6. Цель создания и основные виды деятельности Общества. <sup>line 84</sup></li><li> Статья 7. Права и обязанности акционеров Общества. <sup>line 116</sup></li><li> Статья 8. Уставный капитал Общества. Размещенные и объявленные акции. <sup>line 135</sup></li><li> Статья 9. Облигации и иные эмиссионные ценные бумаги Общества. <sup>line 150</sup></li><li> Статья 10. Резервный фонд Общества. <sup>line 155</sup></li><li> Статья 11. Дивиденды Общества. <sup>line 160</sup></li><li> Статья 12. Структура органов управления <sup>line 165</sup></li><li> Статья 13. Общее собрание акционеров Общества. <sup>line 174</sup></li><li> Статья 14. Компетенция Общего собрания акционеров Общества. <sup>line 179</sup></li><li> Статья 15. Решения Общего собрания акционеров Общества. <sup>line 208</sup></li><li> Статья 16. Совет директоров Общества. <sup>line 212</sup></li><li> Статья 17. Компетенция Совета директоров Общества. <sup>line 216</sup></li><li> Статья 18. Председатель Совета директоров Общества. <sup>line 253</sup></li><li> Статья 19. Заседания Совета директоров Общества. <sup>line 259</sup></li><li> Статья 20. Генеральный директор Общества. <sup>line 267</sup></li><li> Статья 21. Порядок одобрения сделок, в совершении которых имеется заинтересованность <sup>line 287</sup></li><li> Статья 22. Ревизионная комиссия Общества. <sup>line 296</sup></li><li> Статья 23. Действие Устава Общества. <sup>line 311</sup></li><li> 15 <sup>line 318</sup></li></ul>"
            ],
            "text/plain": [
              "<IPython.core.display.HTML object>"
            ]
          },
          "metadata": {
            "tags": [
              "id1_content_1",
              "outputarea_id1",
              "user_output"
            ]
          }
        },
        {
          "output_type": "stream",
          "text": [
            "\u001b[1;32mУстав: обработано ✓\n"
          ],
          "name": "stdout"
        },
        {
          "output_type": "display_data",
          "data": {
            "text/html": [
              "<button style=\"padding:5px; font-size:16px; margin:15px\"  id=\"button-807b0e08-3bd4-49fc-8aa9-3113ee125ef4\">Устав...</button>\n",
              "        <script>\n",
              "          document.querySelector(\"#button-807b0e08-3bd4-49fc-8aa9-3113ee125ef4\").onclick = (e) => {\n",
              "            google.colab.kernel.invokeFunction(\"button-807b0e08-3bd4-49fc-8aa9-3113ee125ef4\", [], {})\n",
              "            e.preventDefault();\n",
              "          };\n",
              "        </script>"
            ],
            "text/plain": [
              "<IPython.core.display.HTML object>"
            ]
          },
          "metadata": {
            "tags": [
              "id1_content_1",
              "outputarea_id1",
              "user_output"
            ]
          }
        },
        {
          "output_type": "display_data",
          "data": {
            "application/javascript": [
              "window[\"bf99a4f8-672f-11e9-871d-0242ac1c0002\"] = google.colab.output.setActiveOutputArea(window[\"a10a66bc-672f-11e9-871d-0242ac1c0002\"]);\n",
              "//# sourceURL=js_f011fe3dcf"
            ],
            "text/plain": [
              "<IPython.core.display.Javascript object>"
            ]
          },
          "metadata": {
            "tags": [
              "id1_content_1",
              "outputarea_id1"
            ]
          }
        },
        {
          "output_type": "display_data",
          "data": {
            "application/javascript": [
              "window[\"bf9cb5e4-672f-11e9-871d-0242ac1c0002\"] = google.colab.output.getActiveOutputArea();\n",
              "//# sourceURL=js_0192f58d82"
            ],
            "text/plain": [
              "<IPython.core.display.Javascript object>"
            ]
          },
          "metadata": {
            "tags": [
              "id1_content_2",
              "outputarea_id1"
            ]
          }
        },
        {
          "output_type": "display_data",
          "data": {
            "application/javascript": [
              "window[\"bf9cebd6-672f-11e9-871d-0242ac1c0002\"] = document.querySelector(\"#id1_content_2\");\n",
              "//# sourceURL=js_80202e7686"
            ],
            "text/plain": [
              "<IPython.core.display.Javascript object>"
            ]
          },
          "metadata": {
            "tags": [
              "id1_content_2",
              "outputarea_id1"
            ]
          }
        },
        {
          "output_type": "display_data",
          "data": {
            "application/javascript": [
              "window[\"bf9d21a0-672f-11e9-871d-0242ac1c0002\"] = google.colab.output.setActiveOutputArea(window[\"bf9cebd6-672f-11e9-871d-0242ac1c0002\"]);\n",
              "//# sourceURL=js_6eb0db9c7f"
            ],
            "text/plain": [
              "<IPython.core.display.Javascript object>"
            ]
          },
          "metadata": {
            "tags": [
              "id1_content_2",
              "outputarea_id1"
            ]
          }
        },
        {
          "output_type": "display_data",
          "data": {
            "application/javascript": [
              "window[\"bf9d8c58-672f-11e9-871d-0242ac1c0002\"] = window[\"id1\"].setSelectedTabIndex(2);\n",
              "//# sourceURL=js_a89dbb3ac9"
            ],
            "text/plain": [
              "<IPython.core.display.Javascript object>"
            ]
          },
          "metadata": {
            "tags": [
              "id1_content_2",
              "outputarea_id1"
            ]
          }
        },
        {
          "output_type": "display_data",
          "data": {
            "application/javascript": [
              "window[\"bf9efc28-672f-11e9-871d-0242ac1c0002\"] = google.colab.output.setActiveOutputArea(window[\"bf9cb5e4-672f-11e9-871d-0242ac1c0002\"]);\n",
              "//# sourceURL=js_2d5d8f106c"
            ],
            "text/plain": [
              "<IPython.core.display.Javascript object>"
            ]
          },
          "metadata": {
            "tags": [
              "id1_content_2",
              "outputarea_id1"
            ]
          }
        },
        {
          "output_type": "display_data",
          "data": {
            "application/javascript": [
              "window[\"d00bfcfa-672f-11e9-871d-0242ac1c0002\"] = google.colab.output.getActiveOutputArea();\n",
              "//# sourceURL=js_ba0e8d0d2c"
            ],
            "text/plain": [
              "<IPython.core.display.Javascript object>"
            ]
          },
          "metadata": {
            "tags": [
              "id1_content_2",
              "outputarea_id1"
            ]
          }
        },
        {
          "output_type": "display_data",
          "data": {
            "application/javascript": [
              "window[\"d00c8f3a-672f-11e9-871d-0242ac1c0002\"] = document.querySelector(\"#id1_content_2\");\n",
              "//# sourceURL=js_52442adaed"
            ],
            "text/plain": [
              "<IPython.core.display.Javascript object>"
            ]
          },
          "metadata": {
            "tags": [
              "id1_content_2",
              "outputarea_id1"
            ]
          }
        },
        {
          "output_type": "display_data",
          "data": {
            "application/javascript": [
              "window[\"d00cc7b6-672f-11e9-871d-0242ac1c0002\"] = google.colab.output.setActiveOutputArea(window[\"d00c8f3a-672f-11e9-871d-0242ac1c0002\"]);\n",
              "//# sourceURL=js_4d38e3816e"
            ],
            "text/plain": [
              "<IPython.core.display.Javascript object>"
            ]
          },
          "metadata": {
            "tags": [
              "id1_content_2",
              "outputarea_id1"
            ]
          }
        },
        {
          "output_type": "display_data",
          "data": {
            "application/javascript": [
              "window[\"d00cf920-672f-11e9-871d-0242ac1c0002\"] = window[\"id1\"].setSelectedTabIndex(2);\n",
              "//# sourceURL=js_b3ef670ad0"
            ],
            "text/plain": [
              "<IPython.core.display.Javascript object>"
            ]
          },
          "metadata": {
            "tags": [
              "id1_content_2",
              "outputarea_id1"
            ]
          }
        },
        {
          "output_type": "stream",
          "text": [
            "----------------- LegalDocument legal_doc deleted. Ciao bella!\n",
            "----------------- LegalDocument legal_doc.contract deleted. Ciao bella!\n",
            "----------------- LegalDocument legal_doc.contract deleted. Ciao bella!\n",
            "----------------- LegalDocument legal_doc.subj deleted. Ciao bella!\n",
            "----------------- LegalDocument legal_doc.subj deleted. Ciao bella!\n",
            "----------------- LegalDocument legal_doc.resp deleted. Ciao bella!\n",
            "----------------- LegalDocument legal_doc.resp deleted. Ciao bella!\n",
            "----------------- LegalDocument legal_doc.dates deleted. Ciao bella!\n",
            "----------------- LegalDocument legal_doc.dates deleted. Ciao bella!\n",
            "----------------- LegalDocument legal_doc.addresses deleted. Ciao bella!\n",
            "----------------- LegalDocument legal_doc.addresses deleted. Ciao bella!\n",
            "❤️ ACCOMPLISHED: \t 0.\t parsing document 👞 and detecting document high-level structure\n",
            "🐌 Embedding 716 words... it takes time (☕️?)..\n",
            "INFO:tensorflow:Saver not created because there are no variables in the graph to restore\n"
          ],
          "name": "stdout"
        },
        {
          "output_type": "stream",
          "text": [
            "I0425 07:58:04.865425 139902913066880 saver.py:1483] Saver not created because there are no variables in the graph to restore\n"
          ],
          "name": "stderr"
        },
        {
          "output_type": "stream",
          "text": [
            "Embedding complete 🐌 ; the shape is (1, 716, 1024)\n",
            "Function _emb called 9 times. \n",
            "Execution time max: 20.5951, average: 8.9377\n",
            "Function _embedd_large called 2 times. \n",
            "Execution time max: 26.8958, average: 26.4295\n",
            "Function calculate_distances_per_pattern called 44 times. \n",
            "Execution time max: 2.9495, average: 0.3680\n",
            "❤️ ACCOMPLISHED: \t 1.\t Splitting Document into sections ✂️ 📃 -> 📄📄📄\n",
            "⚠️ WARNING: - Раздел про стоимость сделки не найден!\n",
            "- Ищем стоимость в разделе Предмет Договора\n",
            "REG: 950945,51 ( девятьсот пятьдесят тысяч девятьсот сорок пять ) рублей 51 копеек\n",
            "alt price section DOC --------------------\n"
          ],
          "name": "stdout"
        },
        {
          "output_type": "display_data",
          "data": {
            "text/html": [
              "<h3 style=\"margin:0\">Предмет Договора</h3> <div style=\"margin-left:4em; font-size=90%\"><span title=\"0 0.0000\" style=\"background-color:#aac7fd\">Предмет </span><span title=\"1 0.0000\" style=\"background-color:#aac7fd\">Договора </span><span title=\"2 0.0000\" style=\"background-color:#aac7fd\">\n",
              " </span><br><span title=\"3 0.0000\" style=\"background-color:#aac7fd\">\n",
              " </span><br><span title=\"4 0.0000\" style=\"background-color:#aac7fd\">Благотворитель </span><span title=\"5 0.0000\" style=\"background-color:#aac7fd\">обязуется </span><span title=\"6 0.0000\" style=\"background-color:#aac7fd\">передать </span><span title=\"7 0.0000\" style=\"background-color:#aac7fd\">Благополучателю </span><span title=\"8 0.0000\" style=\"background-color:#aac7fd\">в </span><span title=\"9 0.0000\" style=\"background-color:#aac7fd\">порядке </span><span title=\"10 0.0000\" style=\"background-color:#aac7fd\">добровольного </span><span title=\"11 0.0000\" style=\"background-color:#aac7fd\">пожертвования </span><span title=\"12 0.0000\" style=\"background-color:#aac7fd\">денежные </span><span title=\"13 -0.0000\" style=\"background-color:#aac7fd\">средства </span><span title=\"14 -0.0000\" style=\"background-color:#aac7fd\">в </span><span title=\"15 0.0000\" style=\"background-color:#aac7fd\">сумме </span><span title=\"16 0.4477\" style=\"background-color:#f5c2aa\">950945,51 </span><span title=\"17 0.3833\" style=\"background-color:#f0cdbb\">( </span><span title=\"18 0.3292\" style=\"background-color:#ead5c9\">девятьсот </span><span title=\"19 0.2673\" style=\"background-color:#dfdbd9\">пятьдесят </span><span title=\"20 0.2246\" style=\"background-color:#d8dce2\">тысяч </span><span title=\"21 0.2014\" style=\"background-color:#d4dbe6\">девятьсот </span><span title=\"22 0.0000\" style=\"background-color:#aac7fd\">сорок </span><span title=\"23 0.0000\" style=\"background-color:#aac7fd\">пять </span><span title=\"24 0.0000\" style=\"background-color:#aac7fd\">) </span><span title=\"25 0.0000\" style=\"background-color:#aac7fd\">рублей </span><span title=\"26 0.0000\" style=\"background-color:#aac7fd\">51 </span><span title=\"27 0.0000\" style=\"background-color:#aac7fd\">копеек </span><span title=\"28 0.0000\" style=\"background-color:#aac7fd\">на </span><span title=\"29 0.0000\" style=\"background-color:#aac7fd\">ведение </span><span title=\"30 0.0000\" style=\"background-color:#aac7fd\">уставной </span><span title=\"31 0.0000\" style=\"background-color:#aac7fd\">деятельности </span><span title=\"32 0.0000\" style=\"background-color:#aac7fd\">Фонда </span><span title=\"33 0.0000\" style=\"background-color:#aac7fd\">поддержки </span><span title=\"34 0.0000\" style=\"background-color:#aac7fd\">социальных </span><span title=\"35 0.0000\" style=\"background-color:#aac7fd\">инициатив </span><span title=\"36 -0.0000\" style=\"background-color:#aac7fd\">« </span><span title=\"37 0.0000\" style=\"background-color:#aac7fd\">Родные </span><span title=\"38 0.0000\" style=\"background-color:#aac7fd\">города </span><span title=\"39 0.0000\" style=\"background-color:#aac7fd\">» </span><span title=\"40 0.0000\" style=\"background-color:#aac7fd\">, </span><span title=\"41 0.0000\" style=\"background-color:#aac7fd\">в </span><span title=\"42 0.0000\" style=\"background-color:#aac7fd\">том </span><span title=\"43 0.0000\" style=\"background-color:#aac7fd\">числе </span><span title=\"44 0.0000\" style=\"background-color:#aac7fd\">на </span><span title=\"45 0.0000\" style=\"background-color:#aac7fd\">организацию </span><span title=\"46 0.0000\" style=\"background-color:#aac7fd\">проекта </span><span title=\"47 0.0000\" style=\"background-color:#aac7fd\">социального </span><span title=\"48 0.0000\" style=\"background-color:#aac7fd\">характера </span><span title=\"49 -0.0000\" style=\"background-color:#aac7fd\">« </span><span title=\"50 0.0000\" style=\"background-color:#aac7fd\">Турнир </span><span title=\"51 0.0000\" style=\"background-color:#aac7fd\">по </span><span title=\"52 0.0000\" style=\"background-color:#aac7fd\">нефтегазовой </span><span title=\"53 0.0000\" style=\"background-color:#aac7fd\">тематике </span><span title=\"54 -0.0000\" style=\"background-color:#aac7fd\">« </span><span title=\"55 0.0000\" style=\"background-color:#aac7fd\">Умножая </span><span title=\"56 0.0000\" style=\"background-color:#aac7fd\">таланты </span><span title=\"57 0.0000\" style=\"background-color:#aac7fd\">» </span><span title=\"58 0.0000\" style=\"background-color:#aac7fd\">» </span><span title=\"59 0.0000\" style=\"background-color:#aac7fd\">в </span><span title=\"60 0.0000\" style=\"background-color:#aac7fd\">регионе </span><span title=\"61 0.0000\" style=\"background-color:#aac7fd\">деятельности </span><span title=\"62 0.0000\" style=\"background-color:#aac7fd\">Группы </span><span title=\"63 0.0000\" style=\"background-color:#aac7fd\">компаний </span><span title=\"64 0.0000\" style=\"background-color:#aac7fd\">Газпром </span><span title=\"65 0.0000\" style=\"background-color:#aac7fd\">нефть </span><span title=\"66 0.0000\" style=\"background-color:#aac7fd\">, </span><span title=\"67 0.0000\" style=\"background-color:#aac7fd\">г. </span><span title=\"68 -0.0000\" style=\"background-color:#aac7fd\">Санкт-Петербург </span><span title=\"69 0.0000\" style=\"background-color:#aac7fd\">. </span><span title=\"70 -0.0000\" style=\"background-color:#aac7fd\">\n",
              " </span><br><span title=\"71 -0.0000\" style=\"background-color:#aac7fd\">\n",
              " </span><br></div>"
            ],
            "text/plain": [
              "<IPython.core.display.HTML object>"
            ]
          },
          "metadata": {
            "tags": [
              "id1_content_2",
              "outputarea_id1",
              "user_output"
            ]
          }
        },
        {
          "output_type": "stream",
          "text": [
            "❤️ ACCOMPLISHED: \t 2.\t searching for transaction values in section  \"Предмет Договора\"\n",
            "❤️ ACCOMPLISHED: \t 3.\t fetching transaction values\n"
          ],
          "name": "stdout"
        },
        {
          "output_type": "display_data",
          "data": {
            "text/html": [
              "<b style=\"color:#333333\"> =  RUB           950,945.51 confidence=                0.31</b> "
            ],
            "text/plain": [
              "<IPython.core.display.HTML object>"
            ]
          },
          "metadata": {
            "tags": [
              "id1_content_2",
              "outputarea_id1",
              "user_output"
            ]
          }
        },
        {
          "output_type": "stream",
          "text": [
            "Recent parsing warnings:\n",
            "\t\t ⚠️ WARNING: - Раздел про стоимость сделки не найден!\n"
          ],
          "name": "stdout"
        },
        {
          "output_type": "display_data",
          "data": {
            "text/html": [
              "Предмет договора:<h3 style=\"margin:0\">Благотворительность<sup> ContractSubject.Charity</sup> </h3> confidence:                0.19"
            ],
            "text/plain": [
              "<IPython.core.display.HTML object>"
            ]
          },
          "metadata": {
            "tags": [
              "id1_content_2",
              "outputarea_id1",
              "user_output"
            ]
          }
        },
        {
          "output_type": "display_data",
          "data": {
            "text/html": [
              "<h3 style=\"margin:0\">Выявленное Содержание документа</h3><ul><li> ДОГОВОР. <sup>line 0</sup></li><li> Предмет Договора <sup>line 9</sup></li><li> Права и обязанности Сторон <sup>line 13</sup></li><li> Благополучатель обязан: <sup>line 19</sup></li><li> Ответственность сторон <sup>line 23</sup></li><li> Прочие условия <sup>line 30</sup></li><li> Реквизиты и подписи сторон <sup>line 39</sup></li></ul>"
            ],
            "text/plain": [
              "<IPython.core.display.HTML object>"
            ]
          },
          "metadata": {
            "tags": [
              "id1_content_2",
              "outputarea_id1",
              "user_output"
            ]
          }
        },
        {
          "output_type": "stream",
          "text": [
            "\u001b[1;32mДоговор: обработано ✓\n"
          ],
          "name": "stdout"
        },
        {
          "output_type": "display_data",
          "data": {
            "text/html": [
              "<button style=\"padding:5px; font-size:16px; margin:15px\"  id=\"button-cb32aca2-0cb7-4177-afee-ce3f5cb09b74\">Договор...</button>\n",
              "        <script>\n",
              "          document.querySelector(\"#button-cb32aca2-0cb7-4177-afee-ce3f5cb09b74\").onclick = (e) => {\n",
              "            google.colab.kernel.invokeFunction(\"button-cb32aca2-0cb7-4177-afee-ce3f5cb09b74\", [], {})\n",
              "            e.preventDefault();\n",
              "          };\n",
              "        </script>"
            ],
            "text/plain": [
              "<IPython.core.display.HTML object>"
            ]
          },
          "metadata": {
            "tags": [
              "id1_content_2",
              "outputarea_id1",
              "user_output"
            ]
          }
        },
        {
          "output_type": "display_data",
          "data": {
            "image/png": "[encoded data removed]",
            "text/plain": [
              "<Figure size 1440x432 with 1 Axes>"
            ]
          },
          "metadata": {
            "tags": [
              "id1_content_2",
              "outputarea_id1",
              "user_output"
            ]
          }
        },
        {
          "output_type": "display_data",
          "data": {
            "application/javascript": [
              "window[\"debc1348-672f-11e9-871d-0242ac1c0002\"] = google.colab.output.setActiveOutputArea(window[\"d00bfcfa-672f-11e9-871d-0242ac1c0002\"]);\n",
              "//# sourceURL=js_2446dd143a"
            ],
            "text/plain": [
              "<IPython.core.display.Javascript object>"
            ]
          },
          "metadata": {
            "tags": [
              "id1_content_2",
              "outputarea_id1"
            ]
          }
        },
        {
          "output_type": "display_data",
          "data": {
            "application/javascript": [
              "window[\"debe8e0c-672f-11e9-871d-0242ac1c0002\"] = google.colab.output.getActiveOutputArea();\n",
              "//# sourceURL=js_7a81518082"
            ],
            "text/plain": [
              "<IPython.core.display.Javascript object>"
            ]
          },
          "metadata": {
            "tags": [
              "id1_content_3",
              "outputarea_id1"
            ]
          }
        },
        {
          "output_type": "display_data",
          "data": {
            "application/javascript": [
              "window[\"debec886-672f-11e9-871d-0242ac1c0002\"] = document.querySelector(\"#id1_content_3\");\n",
              "//# sourceURL=js_057ceccc47"
            ],
            "text/plain": [
              "<IPython.core.display.Javascript object>"
            ]
          },
          "metadata": {
            "tags": [
              "id1_content_3",
              "outputarea_id1"
            ]
          }
        },
        {
          "output_type": "display_data",
          "data": {
            "application/javascript": [
              "window[\"debf0030-672f-11e9-871d-0242ac1c0002\"] = google.colab.output.setActiveOutputArea(window[\"debec886-672f-11e9-871d-0242ac1c0002\"]);\n",
              "//# sourceURL=js_60415b383c"
            ],
            "text/plain": [
              "<IPython.core.display.Javascript object>"
            ]
          },
          "metadata": {
            "tags": [
              "id1_content_3",
              "outputarea_id1"
            ]
          }
        },
        {
          "output_type": "display_data",
          "data": {
            "application/javascript": [
              "window[\"debf3a82-672f-11e9-871d-0242ac1c0002\"] = window[\"id1\"].setSelectedTabIndex(3);\n",
              "//# sourceURL=js_2ac2d27ae1"
            ],
            "text/plain": [
              "<IPython.core.display.Javascript object>"
            ]
          },
          "metadata": {
            "tags": [
              "id1_content_3",
              "outputarea_id1"
            ]
          }
        },
        {
          "output_type": "display_data",
          "data": {
            "application/javascript": [
              "window[\"dec04170-672f-11e9-871d-0242ac1c0002\"] = google.colab.output.setActiveOutputArea(window[\"debe8e0c-672f-11e9-871d-0242ac1c0002\"]);\n",
              "//# sourceURL=js_ec28ea5a23"
            ],
            "text/plain": [
              "<IPython.core.display.Javascript object>"
            ]
          },
          "metadata": {
            "tags": [
              "id1_content_3",
              "outputarea_id1"
            ]
          }
        },
        {
          "output_type": "display_data",
          "data": {
            "application/javascript": [
              "window[\"eeed3b5c-672f-11e9-871d-0242ac1c0002\"] = google.colab.output.getActiveOutputArea();\n",
              "//# sourceURL=js_b390bc4faf"
            ],
            "text/plain": [
              "<IPython.core.display.Javascript object>"
            ]
          },
          "metadata": {
            "tags": [
              "id1_content_3",
              "outputarea_id1"
            ]
          }
        },
        {
          "output_type": "display_data",
          "data": {
            "application/javascript": [
              "window[\"eeed8cc4-672f-11e9-871d-0242ac1c0002\"] = document.querySelector(\"#id1_content_3\");\n",
              "//# sourceURL=js_95ebebf799"
            ],
            "text/plain": [
              "<IPython.core.display.Javascript object>"
            ]
          },
          "metadata": {
            "tags": [
              "id1_content_3",
              "outputarea_id1"
            ]
          }
        },
        {
          "output_type": "display_data",
          "data": {
            "application/javascript": [
              "window[\"eeedc20c-672f-11e9-871d-0242ac1c0002\"] = google.colab.output.setActiveOutputArea(window[\"eeed8cc4-672f-11e9-871d-0242ac1c0002\"]);\n",
              "//# sourceURL=js_c4958c991f"
            ],
            "text/plain": [
              "<IPython.core.display.Javascript object>"
            ]
          },
          "metadata": {
            "tags": [
              "id1_content_3",
              "outputarea_id1"
            ]
          }
        },
        {
          "output_type": "display_data",
          "data": {
            "application/javascript": [
              "window[\"eeedfa42-672f-11e9-871d-0242ac1c0002\"] = window[\"id1\"].setSelectedTabIndex(3);\n",
              "//# sourceURL=js_9603825346"
            ],
            "text/plain": [
              "<IPython.core.display.Javascript object>"
            ]
          },
          "metadata": {
            "tags": [
              "id1_content_3",
              "outputarea_id1"
            ]
          }
        },
        {
          "output_type": "stream",
          "text": [
            "max value: ContractSubject.Charity Благотворительность prob: 0.19272934198379515 \n",
            "contract subj: ContractSubject.Charity\n",
            "Max contract sum: 950945.51 RUB prob: 0.31336716963350775\n",
            "Устав, я сел:\n",
            "\tСовет директоров Благотворительность\n",
            "[(<OrgStructuralLevel.BoardOfDirectors: 2>, (1.7976931348623157e+308, -1))]\n"
          ],
          "name": "stdout"
        },
        {
          "output_type": "display_data",
          "data": {
            "text/html": [
              "<h3 style=\"margin:0\">Требуется одобрение Совета директоров Общества</h3>"
            ],
            "text/plain": [
              "<IPython.core.display.HTML object>"
            ]
          },
          "metadata": {
            "tags": [
              "id1_content_3",
              "outputarea_id1",
              "user_output"
            ]
          }
        },
        {
          "output_type": "stream",
          "text": [
            "------------------------------\n"
          ],
          "name": "stdout"
        },
        {
          "output_type": "display_data",
          "data": {
            "text/html": [
              "<h3 style=\"margin:0\">Выявленное Содержание документа</h3><ul><li> УТВЕРЖДЕН. <sup>line 0</sup></li><li> У С Т А В. <sup>line 4</sup></li><li> Статья 1. Общие положения. <sup>line 39</sup></li><li> Статья 2. Фирменное наименование и место нахождения Общества. <sup>line 49</sup></li><li> Статья 3. Юридический статус Общества. <sup>line 56</sup></li><li> Статья 4. Ответственность Общества. <sup>line 72</sup></li><li> Статья 5. Филиалы и представительства, дочерние общества. <sup>line 77</sup></li><li> Статья 6. Цель создания и основные виды деятельности Общества. <sup>line 84</sup></li><li> Статья 7. Права и обязанности акционеров Общества. <sup>line 116</sup></li><li> Статья 8. Уставный капитал Общества. Размещенные и объявленные акции. <sup>line 135</sup></li><li> Статья 9. Облигации и иные эмиссионные ценные бумаги Общества. <sup>line 150</sup></li><li> Статья 10. Резервный фонд Общества. <sup>line 155</sup></li><li> Статья 11. Дивиденды Общества. <sup>line 160</sup></li><li> Статья 12. Структура органов управления <sup>line 165</sup></li><li> Статья 13. Общее собрание акционеров Общества. <sup>line 174</sup></li><li> Статья 14. Компетенция Общего собрания акционеров Общества. <sup>line 179</sup></li><li> Статья 15. Решения Общего собрания акционеров Общества. <sup>line 208</sup></li><li> Статья 16. Совет директоров Общества. <sup>line 212</sup></li><li> Статья 17. Компетенция Совета директоров Общества. <sup>line 216</sup></li><li> Статья 18. Председатель Совета директоров Общества. <sup>line 253</sup></li><li> Статья 19. Заседания Совета директоров Общества. <sup>line 259</sup></li><li> Статья 20. Генеральный директор Общества. <sup>line 267</sup></li><li> Статья 21. Порядок одобрения сделок, в совершении которых имеется заинтересованность <sup>line 287</sup></li><li> Статья 22. Ревизионная комиссия Общества. <sup>line 296</sup></li><li> Статья 23. Действие Устава Общества. <sup>line 311</sup></li><li> 15 <sup>line 318</sup></li></ul>"
            ],
            "text/plain": [
              "<IPython.core.display.HTML object>"
            ]
          },
          "metadata": {
            "tags": [
              "id1_content_3",
              "outputarea_id1",
              "user_output"
            ]
          }
        },
        {
          "output_type": "stream",
          "text": [
            "Поиск нарушений\n",
            "\u001b[1;31mCharterParser.constraints are deprecated ☠️! \n",
            " Use CharterDocument.value_constraints\n"
          ],
          "name": "stdout"
        },
        {
          "output_type": "display_data",
          "data": {
            "text/html": [
              "Предмет договора:<h3 style=\"margin:0\">Благотворительность<sup> ContractSubject.Charity</sup> </h3> confidence:                0.19"
            ],
            "text/plain": [
              "<IPython.core.display.HTML object>"
            ]
          },
          "metadata": {
            "tags": [
              "id1_content_3",
              "outputarea_id1",
              "user_output"
            ]
          }
        },
        {
          "output_type": "stream",
          "text": [
            "Сумма Договора:\n"
          ],
          "name": "stdout"
        },
        {
          "output_type": "display_data",
          "data": {
            "text/html": [
              "<b style=\"color:#333333\"> =  RUB           950,945.51 confidence=                0.31</b> "
            ],
            "text/plain": [
              "<IPython.core.display.HTML object>"
            ]
          },
          "metadata": {
            "tags": [
              "id1_content_3",
              "outputarea_id1",
              "user_output"
            ]
          }
        },
        {
          "output_type": "stream",
          "text": [
            "render_color_text\n"
          ],
          "name": "stdout"
        },
        {
          "output_type": "display_data",
          "data": {
            "text/html": [
              "<span title=\"0 0.0000\" style=\"background-color:#aac7fd\">передать </span><span title=\"1 0.0000\" style=\"background-color:#aac7fd\">благополучателю </span><span title=\"2 0.0000\" style=\"background-color:#aac7fd\">в </span><span title=\"3 0.0000\" style=\"background-color:#aac7fd\">порядке </span><span title=\"4 0.0000\" style=\"background-color:#aac7fd\">добровольного </span><span title=\"5 0.0000\" style=\"background-color:#aac7fd\">пожертвования </span><span title=\"6 0.0000\" style=\"background-color:#aac7fd\">денежные </span><span title=\"7 -0.0000\" style=\"background-color:#aac7fd\">средства </span><span title=\"8 -0.0000\" style=\"background-color:#aac7fd\">в </span><span title=\"9 0.0000\" style=\"background-color:#aac7fd\">сумме </span><span title=\"10 0.4477\" style=\"background-color:#f5c2aa\">950945,51 </span><span title=\"11 0.3833\" style=\"background-color:#f0cdbb\">( </span><span title=\"12 0.3292\" style=\"background-color:#ead5c9\">девятьсот </span><span title=\"13 0.2673\" style=\"background-color:#dfdbd9\">пятьдесят </span><span title=\"14 0.2246\" style=\"background-color:#d8dce2\">тысяч </span><span title=\"15 0.2014\" style=\"background-color:#d4dbe6\">девятьсот </span><span title=\"16 0.0000\" style=\"background-color:#aac7fd\">сорок </span><span title=\"17 0.0000\" style=\"background-color:#aac7fd\">пять </span><span title=\"18 0.0000\" style=\"background-color:#aac7fd\">) </span><span title=\"19 0.0000\" style=\"background-color:#aac7fd\">рублей </span><span title=\"20 0.0000\" style=\"background-color:#aac7fd\">51 </span><span title=\"21 0.0000\" style=\"background-color:#aac7fd\">копеек </span><span title=\"22 0.0000\" style=\"background-color:#aac7fd\">на </span><span title=\"23 0.0000\" style=\"background-color:#aac7fd\">ведение </span><span title=\"24 0.0000\" style=\"background-color:#aac7fd\">уставной </span><span title=\"25 0.0000\" style=\"background-color:#aac7fd\">деятельности </span><span title=\"26 0.0000\" style=\"background-color:#aac7fd\">фонда </span><span title=\"27 0.0000\" style=\"background-color:#aac7fd\">поддержки </span><span title=\"28 0.0000\" style=\"background-color:#aac7fd\">социальных </span><span title=\"29 0.0000\" style=\"background-color:#aac7fd\">инициатив </span><span title=\"30 -0.0000\" style=\"background-color:#aac7fd\">« </span><span title=\"31 0.0000\" style=\"background-color:#aac7fd\">родные </span>"
            ],
            "text/plain": [
              "<IPython.core.display.HTML object>"
            ]
          },
          "metadata": {
            "tags": [
              "id1_content_3",
              "outputarea_id1",
              "user_output"
            ]
          }
        },
        {
          "output_type": "display_data",
          "data": {
            "text/html": [
              "<h2>head.all</h2>"
            ],
            "text/plain": [
              "<IPython.core.display.HTML object>"
            ]
          },
          "metadata": {
            "tags": [
              "id1_content_3",
              "outputarea_id1",
              "user_output"
            ]
          }
        },
        {
          "output_type": "display_data",
          "data": {
            "text/html": [
              "<div>диапазон:       10,000,000,000 RUB  < ..... <                  inf RUB </div>"
            ],
            "text/plain": [
              "<IPython.core.display.HTML object>"
            ]
          },
          "metadata": {
            "tags": [
              "id1_content_3",
              "outputarea_id1",
              "user_output"
            ]
          }
        },
        {
          "output_type": "display_data",
          "data": {
            "text/html": [
              "<h2>head.directors</h2>"
            ],
            "text/plain": [
              "<IPython.core.display.HTML object>"
            ]
          },
          "metadata": {
            "tags": [
              "id1_content_3",
              "outputarea_id1",
              "user_output"
            ]
          }
        },
        {
          "output_type": "display_data",
          "data": {
            "text/html": [
              "<div>диапазон:           25,000,000 RUB  < ..... <       10,000,000,000 RUB </div>"
            ],
            "text/plain": [
              "<IPython.core.display.HTML object>"
            ]
          },
          "metadata": {
            "tags": [
              "id1_content_3",
              "outputarea_id1",
              "user_output"
            ]
          }
        },
        {
          "output_type": "display_data",
          "data": {
            "text/html": [
              "<div>диапазон:           50,000,000 RUB  < ..... <                  inf RUB </div>"
            ],
            "text/plain": [
              "<IPython.core.display.HTML object>"
            ]
          },
          "metadata": {
            "tags": [
              "id1_content_3",
              "outputarea_id1",
              "user_output"
            ]
          }
        },
        {
          "output_type": "display_data",
          "data": {
            "text/html": [
              "<div>диапазон:          500,000,000 RUB  < ..... <       10,000,000,000 RUB </div>"
            ],
            "text/plain": [
              "<IPython.core.display.HTML object>"
            ]
          },
          "metadata": {
            "tags": [
              "id1_content_3",
              "outputarea_id1",
              "user_output"
            ]
          }
        },
        {
          "output_type": "display_data",
          "data": {
            "text/html": [
              "<h2>head.gen</h2>"
            ],
            "text/plain": [
              "<IPython.core.display.HTML object>"
            ]
          },
          "metadata": {
            "tags": [
              "id1_content_3",
              "outputarea_id1",
              "user_output"
            ]
          }
        },
        {
          "output_type": "display_data",
          "data": {
            "text/html": [
              "<h2>head.pravlenie</h2>"
            ],
            "text/plain": [
              "<IPython.core.display.HTML object>"
            ]
          },
          "metadata": {
            "tags": [
              "id1_content_3",
              "outputarea_id1",
              "user_output"
            ]
          }
        },
        {
          "output_type": "stream",
          "text": [
            "\u001b[1;32mПроверка нарушений: обработано ✓\n"
          ],
          "name": "stdout"
        },
        {
          "output_type": "display_data",
          "data": {
            "text/html": [
              "<button style=\"padding:5px; font-size:16px; margin:15px\"  id=\"button-2b7f6e28-c642-426f-8f89-c88e7b8ae82d\">Сравнить с уставом...</button>\n",
              "        <script>\n",
              "          document.querySelector(\"#button-2b7f6e28-c642-426f-8f89-c88e7b8ae82d\").onclick = (e) => {\n",
              "            google.colab.kernel.invokeFunction(\"button-2b7f6e28-c642-426f-8f89-c88e7b8ae82d\", [], {})\n",
              "            e.preventDefault();\n",
              "          };\n",
              "        </script>"
            ],
            "text/plain": [
              "<IPython.core.display.HTML object>"
            ]
          },
          "metadata": {
            "tags": [
              "id1_content_3",
              "outputarea_id1",
              "user_output"
            ]
          }
        },
        {
          "output_type": "display_data",
          "data": {
            "application/javascript": [
              "window[\"eef5436a-672f-11e9-871d-0242ac1c0002\"] = google.colab.output.setActiveOutputArea(window[\"eeed3b5c-672f-11e9-871d-0242ac1c0002\"]);\n",
              "//# sourceURL=js_a7790d5bbe"
            ],
            "text/plain": [
              "<IPython.core.display.Javascript object>"
            ]
          },
          "metadata": {
            "tags": [
              "id1_content_3",
              "outputarea_id1"
            ]
          }
        },
        {
          "output_type": "display_data",
          "data": {
            "application/javascript": [
              "window[\"eef66718-672f-11e9-871d-0242ac1c0002\"] = google.colab.output.getActiveOutputArea();\n",
              "//# sourceURL=js_227b91a5e2"
            ],
            "text/plain": [
              "<IPython.core.display.Javascript object>"
            ]
          },
          "metadata": {
            "tags": [
              "id1_content_4",
              "outputarea_id1"
            ]
          }
        },
        {
          "output_type": "display_data",
          "data": {
            "application/javascript": [
              "window[\"eef69cf6-672f-11e9-871d-0242ac1c0002\"] = document.querySelector(\"#id1_content_4\");\n",
              "//# sourceURL=js_c4fe155c94"
            ],
            "text/plain": [
              "<IPython.core.display.Javascript object>"
            ]
          },
          "metadata": {
            "tags": [
              "id1_content_4",
              "outputarea_id1"
            ]
          }
        },
        {
          "output_type": "display_data",
          "data": {
            "application/javascript": [
              "window[\"eef6df18-672f-11e9-871d-0242ac1c0002\"] = google.colab.output.setActiveOutputArea(window[\"eef69cf6-672f-11e9-871d-0242ac1c0002\"]);\n",
              "//# sourceURL=js_d39c24995a"
            ],
            "text/plain": [
              "<IPython.core.display.Javascript object>"
            ]
          },
          "metadata": {
            "tags": [
              "id1_content_4",
              "outputarea_id1"
            ]
          }
        },
        {
          "output_type": "display_data",
          "data": {
            "application/javascript": [
              "window[\"eef71b5e-672f-11e9-871d-0242ac1c0002\"] = window[\"id1\"].setSelectedTabIndex(4);\n",
              "//# sourceURL=js_8371c3af07"
            ],
            "text/plain": [
              "<IPython.core.display.Javascript object>"
            ]
          },
          "metadata": {
            "tags": [
              "id1_content_4",
              "outputarea_id1"
            ]
          }
        },
        {
          "output_type": "display_data",
          "data": {
            "application/javascript": [
              "window[\"eef86766-672f-11e9-871d-0242ac1c0002\"] = google.colab.output.setActiveOutputArea(window[\"eef66718-672f-11e9-871d-0242ac1c0002\"]);\n",
              "//# sourceURL=js_1823507f3d"
            ],
            "text/plain": [
              "<IPython.core.display.Javascript object>"
            ]
          },
          "metadata": {
            "tags": [
              "id1_content_4",
              "outputarea_id1"
            ]
          }
        },
        {
          "output_type": "display_data",
          "data": {
            "application/javascript": [
              "window[\"0237279a-6730-11e9-871d-0242ac1c0002\"] = google.colab.output.getActiveOutputArea();\n",
              "//# sourceURL=js_ef58543619"
            ],
            "text/plain": [
              "<IPython.core.display.Javascript object>"
            ]
          },
          "metadata": {
            "tags": [
              "id1_content_4",
              "outputarea_id1"
            ]
          }
        },
        {
          "output_type": "display_data",
          "data": {
            "application/javascript": [
              "window[\"02379338-6730-11e9-871d-0242ac1c0002\"] = document.querySelector(\"#id1_content_4\");\n",
              "//# sourceURL=js_84f8fd5bcd"
            ],
            "text/plain": [
              "<IPython.core.display.Javascript object>"
            ]
          },
          "metadata": {
            "tags": [
              "id1_content_4",
              "outputarea_id1"
            ]
          }
        },
        {
          "output_type": "display_data",
          "data": {
            "application/javascript": [
              "window[\"0237e25c-6730-11e9-871d-0242ac1c0002\"] = google.colab.output.setActiveOutputArea(window[\"02379338-6730-11e9-871d-0242ac1c0002\"]);\n",
              "//# sourceURL=js_e6408e451b"
            ],
            "text/plain": [
              "<IPython.core.display.Javascript object>"
            ]
          },
          "metadata": {
            "tags": [
              "id1_content_4",
              "outputarea_id1"
            ]
          }
        },
        {
          "output_type": "display_data",
          "data": {
            "application/javascript": [
              "window[\"0238375c-6730-11e9-871d-0242ac1c0002\"] = window[\"id1\"].setSelectedTabIndex(4);\n",
              "//# sourceURL=js_a134e1931e"
            ],
            "text/plain": [
              "<IPython.core.display.Javascript object>"
            ]
          },
          "metadata": {
            "tags": [
              "id1_content_4",
              "outputarea_id1"
            ]
          }
        },
        {
          "output_type": "display_data",
          "data": {
            "application/javascript": [
              "window[\"023a538e-6730-11e9-871d-0242ac1c0002\"] = google.colab.output.setActiveOutputArea(window[\"0237279a-6730-11e9-871d-0242ac1c0002\"]);\n",
              "//# sourceURL=js_df96c3bc15"
            ],
            "text/plain": [
              "<IPython.core.display.Javascript object>"
            ]
          },
          "metadata": {
            "tags": [
              "id1_content_4",
              "outputarea_id1"
            ]
          }
        },
        {
          "output_type": "display_data",
          "data": {
            "application/javascript": [
              "window[\"05e7ec94-6730-11e9-871d-0242ac1c0002\"] = google.colab.output.getActiveOutputArea();\n",
              "//# sourceURL=js_6f3d172ece"
            ],
            "text/plain": [
              "<IPython.core.display.Javascript object>"
            ]
          },
          "metadata": {
            "tags": [
              "id1_content_4",
              "outputarea_id1"
            ]
          }
        },
        {
          "output_type": "display_data",
          "data": {
            "application/javascript": [
              "window[\"05e86fa2-6730-11e9-871d-0242ac1c0002\"] = document.querySelector(\"#id1_content_4\");\n",
              "//# sourceURL=js_b6573f8735"
            ],
            "text/plain": [
              "<IPython.core.display.Javascript object>"
            ]
          },
          "metadata": {
            "tags": [
              "id1_content_4",
              "outputarea_id1"
            ]
          }
        },
        {
          "output_type": "display_data",
          "data": {
            "application/javascript": [
              "window[\"05e8b656-6730-11e9-871d-0242ac1c0002\"] = google.colab.output.setActiveOutputArea(window[\"05e86fa2-6730-11e9-871d-0242ac1c0002\"]);\n",
              "//# sourceURL=js_751436e817"
            ],
            "text/plain": [
              "<IPython.core.display.Javascript object>"
            ]
          },
          "metadata": {
            "tags": [
              "id1_content_4",
              "outputarea_id1"
            ]
          }
        },
        {
          "output_type": "display_data",
          "data": {
            "application/javascript": [
              "window[\"05e8fa80-6730-11e9-871d-0242ac1c0002\"] = window[\"id1\"].setSelectedTabIndex(4);\n",
              "//# sourceURL=js_afa4f9b3ba"
            ],
            "text/plain": [
              "<IPython.core.display.Javascript object>"
            ]
          },
          "metadata": {
            "tags": [
              "id1_content_4",
              "outputarea_id1"
            ]
          }
        },
        {
          "output_type": "stream",
          "text": [
            "Please select \"Протокол\" .docx file:\n"
          ],
          "name": "stdout"
        },
        {
          "output_type": "display_data",
          "data": {
            "text/html": [
              "\n",
              "     <input type=\"file\" id=\"files-d3ac6770-3a2c-4961-95a0-6c7223104775\" name=\"files[]\" multiple disabled />\n",
              "     <output id=\"result-d3ac6770-3a2c-4961-95a0-6c7223104775\">\n",
              "      Upload widget is only available when the cell has been executed in the\n",
              "      current browser session. Please rerun this cell to enable.\n",
              "      </output>\n",
              "      <script src=\"/nbextensions/google.colab/files.js\"></script> "
            ],
            "text/plain": [
              "<IPython.core.display.HTML object>"
            ]
          },
          "metadata": {
            "tags": [
              "id1_content_4",
              "outputarea_id1",
              "user_output"
            ]
          }
        },
        {
          "output_type": "stream",
          "text": [
            "Saving МНПЗ 1 Протокол_ГПН-МНПЗ благотвор.doc to МНПЗ 1 Протокол_ГПН-МНПЗ благотвор.doc\n",
            "User uploaded file \"МНПЗ 1 Протокол_ГПН-МНПЗ благотвор.doc\" with length 76288 bytes\n",
            "Unexpected error: (<class 'KeyError'>, KeyError(\"There is no item named 'word/document.xml' in the archive\",), <traceback object at 0x7f3ba4bfd308>)\n",
            "Символов в оригинальном документе: 4486\n",
            "ProtocolDocument text: len(4486)\n",
            "----------------- LegalDocument legal_doc deleted. Ciao bella!\n",
            "🐌 Embedding 587 words... it takes time (☕️?)..\n",
            "INFO:tensorflow:Saver not created because there are no variables in the graph to restore\n"
          ],
          "name": "stdout"
        },
        {
          "output_type": "stream",
          "text": [
            "I0425 07:59:31.183966 139902913066880 saver.py:1483] Saver not created because there are no variables in the graph to restore\n"
          ],
          "name": "stderr"
        },
        {
          "output_type": "stream",
          "text": [
            "Embedding complete 🐌 ; the shape is (1, 587, 1024)\n",
            "Function _emb called 10 times. \n",
            "Execution time max: 20.5951, average: 8.6582\n",
            "Function _embedd_large called 2 times. \n",
            "Execution time max: 26.8958, average: 26.4295\n",
            "Function calculate_distances_per_pattern called 57 times. \n",
            "Execution time max: 2.9495, average: 0.3077\n",
            "❤️ ACCOMPLISHED: \t 0.\t Document embedded into ELMO space\n"
          ],
          "name": "stdout"
        },
        {
          "output_type": "stream",
          "text": [
            "nlp_tools/patterns.py:190: RuntimeWarning: All-NaN slice encountered\n",
            "  min = np.nanmin(b)\n",
            "nlp_tools/patterns.py:191: RuntimeWarning: All-NaN slice encountered\n",
            "  max = np.nanmax(b)\n",
            "nlp_tools/patterns.py:192: RuntimeWarning: Mean of empty slice\n",
            "  mean = np.nanmean(b)\n",
            "nlp_tools/demo_protocols.py:303: RuntimeWarning: All-NaN slice encountered\n",
            "  dist_per_pat.append(np.nanmin(row))\n"
          ],
          "name": "stderr"
        },
        {
          "output_type": "stream",
          "text": [
            "❤️ ACCOMPLISHED: \t 1.\t value found\n"
          ],
          "name": "stdout"
        },
        {
          "output_type": "display_data",
          "data": {
            "text/html": [
              "<hr><h2>950945.51 RUB</h2><div style=\"font-size:9px\">tokens = 587</div><div style=\"font-size:9px\">index found = 466</div><div style=\"font-size:9px\">d-range = (0.1946310868630042, 0.37543126225041645)</div><div style=\"font-size:9px\">confidence = 0.20649521190142756</div><div style=\"font-size:9px\">mean = 0.3153928699495347</div><div style=\"font-size:9px\">std = 0.024936729988047343</div><div style=\"font-size:9px\">min = 0.1946310868630042</div>"
            ],
            "text/plain": [
              "<IPython.core.display.HTML object>"
            ]
          },
          "metadata": {
            "tags": [
              "id1_content_4",
              "outputarea_id1",
              "user_output"
            ]
          }
        },
        {
          "output_type": "stream",
          "text": [
            "render_color_text\n"
          ],
          "name": "stdout"
        },
        {
          "output_type": "display_data",
          "data": {
            "text/html": [
              "<span title=\"0 0.3105\" style=\"background-color:#d0473d\">одобрить </span><span title=\"1 0.3228\" style=\"background-color:#ca3b37\">сделку </span><span title=\"2 0.2847\" style=\"background-color:#dc5d4a\">– </span><span title=\"3 0.3147\" style=\"background-color:#cd423b\">заключение </span><span title=\"4 0.3296\" style=\"background-color:#c73635\">договора </span><span title=\"5 0.3276\" style=\"background-color:#c73635\">о </span><span title=\"6 0.3175\" style=\"background-color:#cc403a\">безвозмездной </span><span title=\"7 0.3023\" style=\"background-color:#d44e41\">помощи </span><span title=\"8 0.3243\" style=\"background-color:#ca3b37\">( </span><span title=\"9 0.3004\" style=\"background-color:#d55042\">пожертвование </span><span title=\"10 0.3195\" style=\"background-color:#cc403a\">) </span><span title=\"11 0.3362\" style=\"background-color:#c32e31\">между </span><span title=\"12 0.3367\" style=\"background-color:#c32e31\">акционерное </span><span title=\"13 0.3251\" style=\"background-color:#c83836\">общество </span><span title=\"14 0.3019\" style=\"background-color:#d44e41\">« </span><span title=\"15 0.3199\" style=\"background-color:#cb3e38\">газпромнефть-мнпз </span><span title=\"16 0.3157\" style=\"background-color:#cd423b\">» </span><span title=\"17 0.3363\" style=\"background-color:#c32e31\">и </span><span title=\"18 0.3247\" style=\"background-color:#ca3b37\">фондом </span><span title=\"19 0.3404\" style=\"background-color:#c12b30\">поддержки </span><span title=\"20 0.3464\" style=\"background-color:#bd1f2d\">социальных </span><span title=\"21 0.3547\" style=\"background-color:#b8122a\">инициатив </span><span title=\"22 0.3006\" style=\"background-color:#d55042\">« </span><span title=\"23 0.3335\" style=\"background-color:#c43032\">родные </span><span title=\"24 0.3147\" style=\"background-color:#cd423b\">города </span><span title=\"25 0.3027\" style=\"background-color:#d44e41\">» </span><span title=\"26 0.3071\" style=\"background-color:#d1493f\">на </span><span title=\"27 0.3187\" style=\"background-color:#cc403a\">оказание </span><span title=\"28 0.3083\" style=\"background-color:#d1493f\">благотворительной </span><span title=\"29 0.3265\" style=\"background-color:#c83836\">помощи </span><span title=\"30 0.3396\" style=\"background-color:#c12b30\">фонду </span><span title=\"31 0.3545\" style=\"background-color:#b8122a\">поддержки </span><span title=\"32 0.3509\" style=\"background-color:#bb1b2c\">социальных </span><span title=\"33 0.3640\" style=\"background-color:#b40426\">инициатив </span><span title=\"34 0.3056\" style=\"background-color:#d24b40\">« </span><span title=\"35 0.3360\" style=\"background-color:#c32e31\">родные </span><span title=\"36 0.3130\" style=\"background-color:#cf453c\">города </span><span title=\"37 0.2973\" style=\"background-color:#d65244\">» </span><span title=\"38 0.3116\" style=\"background-color:#d0473d\">, </span><span title=\"39 0.3188\" style=\"background-color:#cc403a\">в </span><span title=\"40 0.3177\" style=\"background-color:#cc403a\">том </span><span title=\"41 0.3313\" style=\"background-color:#c53334\">числе </span><span title=\"42 0.3212\" style=\"background-color:#cb3e38\">на </span><span title=\"43 0.3362\" style=\"background-color:#c32e31\">организацию </span><span title=\"44 0.3399\" style=\"background-color:#c12b30\">проекта </span><span title=\"45 0.3421\" style=\"background-color:#c0282f\">просветительского </span><span title=\"46 0.3537\" style=\"background-color:#b8122a\">характера </span><span title=\"47 0.3116\" style=\"background-color:#d0473d\">– </span><span title=\"48 0.3269\" style=\"background-color:#c83836\">турнира </span><span title=\"49 0.3454\" style=\"background-color:#be242e\">по </span><span title=\"50 0.3367\" style=\"background-color:#c32e31\">нефтегазовой </span><span title=\"51 0.3283\" style=\"background-color:#c73635\">тематике </span><span title=\"52 0.3064\" style=\"background-color:#d24b40\">« </span><span title=\"53 0.3287\" style=\"background-color:#c73635\">умножая </span><span title=\"54 0.3211\" style=\"background-color:#cb3e38\">таланты </span><span title=\"55 0.2909\" style=\"background-color:#d85646\">» </span><span title=\"56 0.2937\" style=\"background-color:#d75445\">, </span><span title=\"57 0.3383\" style=\"background-color:#c12b30\">проводимого </span><span title=\"58 0.3225\" style=\"background-color:#ca3b37\">в </span><span title=\"59 0.3252\" style=\"background-color:#c83836\">регионах </span><span title=\"60 0.3511\" style=\"background-color:#ba162b\">деятельности </span><span title=\"61 0.3346\" style=\"background-color:#c43032\">группы </span><span title=\"62 0.3256\" style=\"background-color:#c83836\">компаний </span><span title=\"63 0.3034\" style=\"background-color:#d44e41\">газпром </span><span title=\"64 0.2946\" style=\"background-color:#d75445\">нефть </span><span title=\"65 0.2946\" style=\"background-color:#d75445\">в </span><span title=\"66 0.2632\" style=\"background-color:#e36c55\">2019 </span><span title=\"67 0.2961\" style=\"background-color:#d65244\">году </span><span title=\"68 0.2851\" style=\"background-color:#dc5d4a\">, </span><span title=\"69 0.2677\" style=\"background-color:#e26952\">в </span><span title=\"70 0.2561\" style=\"background-color:#e67259\">размере </span><span title=\"71 0.1946\" style=\"background-color:#f49a7b\">950945,51 </span><span title=\"72 0.2752\" style=\"background-color:#df634e\">( </span><span title=\"73 0.2579\" style=\"background-color:#e57058\">девятьсот </span><span title=\"74 0.2782\" style=\"background-color:#de614d\">пятьдесят </span><span title=\"75 0.2896\" style=\"background-color:#d95847\">тысяч </span><span title=\"76 0.2889\" style=\"background-color:#d95847\">девятьсот </span><span title=\"77 0.2945\" style=\"background-color:#d75445\">сорок </span><span title=\"78 0.2876\" style=\"background-color:#da5a49\">пять </span><span title=\"79 0.2902\" style=\"background-color:#d95847\">) </span><span title=\"80 0.2886\" style=\"background-color:#d95847\">рублей </span><span title=\"81 0.2543\" style=\"background-color:#e67259\">51 </span><span title=\"82 0.2768\" style=\"background-color:#df634e\">копейка </span><span title=\"83 0.2937\" style=\"background-color:#d75445\">. </span>"
            ],
            "text/plain": [
              "<IPython.core.display.HTML object>"
            ]
          },
          "metadata": {
            "tags": [
              "id1_content_4",
              "outputarea_id1",
              "user_output"
            ]
          }
        },
        {
          "output_type": "display_data",
          "data": {
            "text/html": [
              "<h3 style=\"margin:0\">Предмет документа (X):</h3><div>0: Сделка</div><b style=\"font-size:135%; color:maroon\">7: Благотворительность</b><div>1: Организационные решения</div>"
            ],
            "text/plain": [
              "<IPython.core.display.HTML object>"
            ]
          },
          "metadata": {
            "tags": [
              "id1_content_4",
              "outputarea_id1",
              "user_output"
            ]
          }
        },
        {
          "output_type": "stream",
          "text": [
            "\u001b[1;32mПротокол: сделано✓\n"
          ],
          "name": "stdout"
        },
        {
          "output_type": "display_data",
          "data": {
            "text/html": [
              "<button style=\"padding:5px; font-size:16px; margin:15px\"  id=\"button-7c045c2e-7467-4ad4-9c25-1ca2f9536a01\">Протокол...</button>\n",
              "        <script>\n",
              "          document.querySelector(\"#button-7c045c2e-7467-4ad4-9c25-1ca2f9536a01\").onclick = (e) => {\n",
              "            google.colab.kernel.invokeFunction(\"button-7c045c2e-7467-4ad4-9c25-1ca2f9536a01\", [], {})\n",
              "            e.preventDefault();\n",
              "          };\n",
              "        </script>"
            ],
            "text/plain": [
              "<IPython.core.display.HTML object>"
            ]
          },
          "metadata": {
            "tags": [
              "id1_content_4",
              "outputarea_id1",
              "user_output"
            ]
          }
        },
        {
          "output_type": "display_data",
          "data": {
            "text/html": [
              "<button style=\"padding:5px; font-size:16px; margin:15px\"  id=\"button-f6d7fd45-251f-42e4-968a-f0bfe5499386\">Протокол отсутствует</button>\n",
              "        <script>\n",
              "          document.querySelector(\"#button-f6d7fd45-251f-42e4-968a-f0bfe5499386\").onclick = (e) => {\n",
              "            google.colab.kernel.invokeFunction(\"button-f6d7fd45-251f-42e4-968a-f0bfe5499386\", [], {})\n",
              "            e.preventDefault();\n",
              "          };\n",
              "        </script>"
            ],
            "text/plain": [
              "<IPython.core.display.HTML object>"
            ]
          },
          "metadata": {
            "tags": [
              "id1_content_4",
              "outputarea_id1",
              "user_output"
            ]
          }
        },
        {
          "output_type": "display_data",
          "data": {
            "application/javascript": [
              "window[\"1233575e-6730-11e9-871d-0242ac1c0002\"] = google.colab.output.setActiveOutputArea(window[\"05e7ec94-6730-11e9-871d-0242ac1c0002\"]);\n",
              "//# sourceURL=js_b6a05b1840"
            ],
            "text/plain": [
              "<IPython.core.display.Javascript object>"
            ]
          },
          "metadata": {
            "tags": [
              "id1_content_4",
              "outputarea_id1"
            ]
          }
        },
        {
          "output_type": "display_data",
          "data": {
            "application/javascript": [
              "window[\"1234ff78-6730-11e9-871d-0242ac1c0002\"] = google.colab.output.getActiveOutputArea();\n",
              "//# sourceURL=js_b1fdd339bd"
            ],
            "text/plain": [
              "<IPython.core.display.Javascript object>"
            ]
          },
          "metadata": {
            "tags": [
              "id1_content_5",
              "outputarea_id1"
            ]
          }
        },
        {
          "output_type": "display_data",
          "data": {
            "application/javascript": [
              "window[\"123540aa-6730-11e9-871d-0242ac1c0002\"] = document.querySelector(\"#id1_content_5\");\n",
              "//# sourceURL=js_4ef7907bf6"
            ],
            "text/plain": [
              "<IPython.core.display.Javascript object>"
            ]
          },
          "metadata": {
            "tags": [
              "id1_content_5",
              "outputarea_id1"
            ]
          }
        },
        {
          "output_type": "display_data",
          "data": {
            "application/javascript": [
              "window[\"1235914a-6730-11e9-871d-0242ac1c0002\"] = google.colab.output.setActiveOutputArea(window[\"123540aa-6730-11e9-871d-0242ac1c0002\"]);\n",
              "//# sourceURL=js_14da102cc9"
            ],
            "text/plain": [
              "<IPython.core.display.Javascript object>"
            ]
          },
          "metadata": {
            "tags": [
              "id1_content_5",
              "outputarea_id1"
            ]
          }
        },
        {
          "output_type": "display_data",
          "data": {
            "application/javascript": [
              "window[\"1235ccdc-6730-11e9-871d-0242ac1c0002\"] = window[\"id1\"].setSelectedTabIndex(5);\n",
              "//# sourceURL=js_6c13ceb348"
            ],
            "text/plain": [
              "<IPython.core.display.Javascript object>"
            ]
          },
          "metadata": {
            "tags": [
              "id1_content_5",
              "outputarea_id1"
            ]
          }
        },
        {
          "output_type": "display_data",
          "data": {
            "application/javascript": [
              "window[\"1236faa8-6730-11e9-871d-0242ac1c0002\"] = google.colab.output.setActiveOutputArea(window[\"1234ff78-6730-11e9-871d-0242ac1c0002\"]);\n",
              "//# sourceURL=js_530cc0703b"
            ],
            "text/plain": [
              "<IPython.core.display.Javascript object>"
            ]
          },
          "metadata": {
            "tags": [
              "id1_content_5",
              "outputarea_id1"
            ]
          }
        },
        {
          "output_type": "display_data",
          "data": {
            "application/javascript": [
              "window[\"1b5ebfa8-6730-11e9-871d-0242ac1c0002\"] = google.colab.output.getActiveOutputArea();\n",
              "//# sourceURL=js_98b4fc6d13"
            ],
            "text/plain": [
              "<IPython.core.display.Javascript object>"
            ]
          },
          "metadata": {
            "tags": [
              "id1_content_5",
              "outputarea_id1"
            ]
          }
        },
        {
          "output_type": "display_data",
          "data": {
            "application/javascript": [
              "window[\"1b5f2aec-6730-11e9-871d-0242ac1c0002\"] = document.querySelector(\"#id1_content_5\");\n",
              "//# sourceURL=js_1bd49d4204"
            ],
            "text/plain": [
              "<IPython.core.display.Javascript object>"
            ]
          },
          "metadata": {
            "tags": [
              "id1_content_5",
              "outputarea_id1"
            ]
          }
        },
        {
          "output_type": "display_data",
          "data": {
            "application/javascript": [
              "window[\"1b5f6f48-6730-11e9-871d-0242ac1c0002\"] = google.colab.output.setActiveOutputArea(window[\"1b5f2aec-6730-11e9-871d-0242ac1c0002\"]);\n",
              "//# sourceURL=js_50e14d7c7a"
            ],
            "text/plain": [
              "<IPython.core.display.Javascript object>"
            ]
          },
          "metadata": {
            "tags": [
              "id1_content_5",
              "outputarea_id1"
            ]
          }
        },
        {
          "output_type": "display_data",
          "data": {
            "application/javascript": [
              "window[\"1b5fbd7c-6730-11e9-871d-0242ac1c0002\"] = window[\"id1\"].setSelectedTabIndex(5);\n",
              "//# sourceURL=js_071437e283"
            ],
            "text/plain": [
              "<IPython.core.display.Javascript object>"
            ]
          },
          "metadata": {
            "tags": [
              "id1_content_5",
              "outputarea_id1"
            ]
          }
        },
        {
          "output_type": "display_data",
          "data": {
            "text/html": [
              "<button style=\"padding:5px; font-size:16px; margin:15px\"  id=\"button-33fc7702-bc14-45bc-b755-ee6603f02c27\">Сравнить с протоколом...</button>\n",
              "        <script>\n",
              "          document.querySelector(\"#button-33fc7702-bc14-45bc-b755-ee6603f02c27\").onclick = (e) => {\n",
              "            google.colab.kernel.invokeFunction(\"button-33fc7702-bc14-45bc-b755-ee6603f02c27\", [], {})\n",
              "            e.preventDefault();\n",
              "          };\n",
              "        </script>"
            ],
            "text/plain": [
              "<IPython.core.display.HTML object>"
            ]
          },
          "metadata": {
            "tags": [
              "id1_content_5",
              "outputarea_id1",
              "user_output"
            ]
          }
        },
        {
          "output_type": "stream",
          "text": [
            "Сумма контракта: 950945.51 RUB вероятность: 0.31336716963350775\n",
            "Полная инфо:((950945.51, 'RUB'), (395, 479), 'сделку – заключение договора о безвозмездной помощи ( пожертвование ) между акционерное общество « газпромнефть-мнпз » и фондом поддержки социальных инициатив « родные города » на оказание благотворительной помощи фонду поддержки социальных инициатив « родные города », в том числе на организацию проекта просветительского характера – турнира по нефтегазовой тематике « умножая таланты », проводимого в регионах деятельности группы компаний газпром нефть в 2019 году, в размере 950945,51 ( девятьсот пятьдесят тысяч девятьсот сорок пять ) рублей 51 копейка.', {'tokens': 587, 'index found': 466, 'd-range': (0.1946310868630042, 0.37543126225041645), 'confidence': 0.20649521190142756, 'mean': 0.3153928699495347, 'std': 0.024936729988047343, 'min': 0.1946310868630042})\n",
            "Сумма протокола: 950945.51\n"
          ],
          "name": "stdout"
        },
        {
          "output_type": "display_data",
          "data": {
            "text/html": [
              "<h3 style=\"margin:0\">Одобрение по сделке в протоколе получено</h3>"
            ],
            "text/plain": [
              "<IPython.core.display.HTML object>"
            ]
          },
          "metadata": {
            "tags": [
              "id1_content_5",
              "outputarea_id1",
              "user_output"
            ]
          }
        },
        {
          "output_type": "display_data",
          "data": {
            "application/javascript": [
              "window[\"1b61ed9a-6730-11e9-871d-0242ac1c0002\"] = google.colab.output.setActiveOutputArea(window[\"1b5ebfa8-6730-11e9-871d-0242ac1c0002\"]);\n",
              "//# sourceURL=js_bf39ba2ede"
            ],
            "text/plain": [
              "<IPython.core.display.Javascript object>"
            ]
          },
          "metadata": {
            "tags": [
              "id1_content_5",
              "outputarea_id1"
            ]
          }
        }
      ]
    }
  ]
}